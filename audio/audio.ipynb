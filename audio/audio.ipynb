{
  "nbformat": 4,
  "nbformat_minor": 0,
  "metadata": {
    "colab": {
      "name": "audio.ipynb",
      "provenance": [],
      "collapsed_sections": []
    },
    "kernelspec": {
      "name": "python3",
      "display_name": "Python 3"
    }
  },
  "cells": [
    {
      "cell_type": "code",
      "metadata": {
        "id": "HtMIoO7CwrPW",
        "colab_type": "code",
        "outputId": "cea8ea0e-6164-44d2-c352-ee453567e85d",
        "colab": {
          "base_uri": "https://localhost:8080/",
          "height": 121
        }
      },
      "source": [
        "from google.colab import drive\n",
        "drive.mount('/content/gdrive')"
      ],
      "execution_count": 2,
      "outputs": [
        {
          "output_type": "stream",
          "text": [
            "Go to this URL in a browser: https://accounts.google.com/o/oauth2/auth?client_id=947318989803-6bn6qk8qdgf4n4g3pfee6491hc0brc4i.apps.googleusercontent.com&redirect_uri=urn%3aietf%3awg%3aoauth%3a2.0%3aoob&response_type=code&scope=email%20https%3a%2f%2fwww.googleapis.com%2fauth%2fdocs.test%20https%3a%2f%2fwww.googleapis.com%2fauth%2fdrive%20https%3a%2f%2fwww.googleapis.com%2fauth%2fdrive.photos.readonly%20https%3a%2f%2fwww.googleapis.com%2fauth%2fpeopleapi.readonly\n",
            "\n",
            "Enter your authorization code:\n",
            "··········\n",
            "Mounted at /content/gdrive\n"
          ],
          "name": "stdout"
        }
      ]
    },
    {
      "cell_type": "code",
      "metadata": {
        "id": "6C2i_RzuxKXn",
        "colab_type": "code",
        "outputId": "92d9d5a9-129a-4dc6-e966-daf325bbb8e2",
        "colab": {
          "base_uri": "https://localhost:8080/",
          "height": 84
        }
      },
      "source": [
        "!pip install pydub"
      ],
      "execution_count": 3,
      "outputs": [
        {
          "output_type": "stream",
          "text": [
            "Collecting pydub\n",
            "  Downloading https://files.pythonhosted.org/packages/ba/f9/2cd255898c11179a57415937d601ab1e8a14a7c6a8331ff9c365e97e41f6/pydub-0.24.0-py2.py3-none-any.whl\n",
            "Installing collected packages: pydub\n",
            "Successfully installed pydub-0.24.0\n"
          ],
          "name": "stdout"
        }
      ]
    },
    {
      "cell_type": "code",
      "metadata": {
        "id": "RdjKfwTntt5w",
        "colab_type": "code",
        "colab": {}
      },
      "source": [
        "# Imports \n",
        "from tensorflow.keras.models import load_model\n",
        "from moviepy.video.io.ffmpeg_tools import ffmpeg_extract_audio\n",
        "import os\n",
        "import glob\n",
        "import time\n",
        "import importlib\n",
        "from sklearn.preprocessing import StandardScaler\n",
        "\n",
        "\n",
        "os.chdir('/content/gdrive/My Drive/Machine-Learning-Projects/cs231n/notebooks/audio-new')\n",
        "\n",
        "#from SliceAudio import slice_audio\n",
        "import arffToNp\n",
        "importlib.reload(arffToNp)\n",
        "import subprocess\n"
      ],
      "execution_count": 0,
      "outputs": []
    },
    {
      "cell_type": "code",
      "metadata": {
        "id": "nOSIfnb4PRuT",
        "colab_type": "code",
        "colab": {}
      },
      "source": [
        "\n",
        "# TODO: add option for soft vs hard\n",
        "def predict(mp4_filepath, best_model_filepath):\n",
        "    \"\"\"\n",
        "    Outputs:\n",
        "    - A tuple with predictions for each class (positive, neutral, negative)\n",
        "    \"\"\"\n",
        "\n",
        "    model = fer_model()\n",
        "    model.load_model(best_model_filepath)\n",
        "    return model.predict(mp4_filepath)\n",
        "\n",
        "class audio_model:\n",
        "    def __init__(self):\n",
        "        self.model = ()\n",
        "        return\n",
        "\n",
        "    def predict(self, mp4_filepath):\n",
        "        self.preprocess(mp4_filepath)\n",
        "        X = cv2.imload(\"test/happy.jpg\")\n",
        "        X = cv2.resize(X, (48,48))\n",
        "        X = cv2.cvtColor(X, cv2.COLOR_BGR2GRAY)\n",
        "\n",
        "        return self.model.predict(img)\n",
        "        #return (0.1,0.2,0.7)\n",
        "\n",
        "    def load_model(self, best_model_filepath):\n",
        "        self.model = load_model(best_model_filepath)\n",
        "        return\n",
        "\n",
        "    def train(self, mp4_filepaths):\n",
        "        # train the model\n",
        "        # self.model = ....\n",
        "        return\n",
        "\n",
        "    def preprocess(self, mp4_filepath):\n",
        "\n",
        "        \"\"\"\n",
        "        Outputs:\n",
        "        - A numpy array with dimensions (m,n). \n",
        "          - m is the units in time dependent on the audio splice rate.\n",
        "          - n is the number of features from the openSMILE library.\n",
        "        \"\"\"\n",
        "\n",
        "\n",
        "        output_wav_file = mp4_filepath[-5] + 'extracted_audio.wav'\n",
        "        mp4_filename = os.path.basename(mp4_filepath)\n",
        "        audio_home_dir = os.path.dirname(mp4_filepath)\n",
        "        os.chdir(audio_home_dir)\n",
        "\n",
        "        # Strip the audio from video and store as .wav file\n",
        "        ffmpeg_extract_audio(mp4_filepath, output_wav_file)\n",
        "        !cd '$audio_home_dir' ; mkdir to_zip\n",
        "\n",
        "        # splice the audio files into 2 seconds with 100 ms sliding window.\n",
        "        # 30 kHz sampling rate\n",
        "        !cd '$audio_home_dir' ; ls; python SliceAudio.py -i *.wav -o wav -c 2  -b 2 -s 30000 -w 100 -l 2000\n",
        "      \n",
        "        # Zip and move files from drive to vm\n",
        "        !cd '$audio_home_dir'  ; zip -r -qq to_zip.zip  to_zip ; cd '$audio_home_dir' ; mv 'to_zip.zip' '/content/' \n",
        "\n",
        "        # Remove the old zip folder in vm\n",
        "        !cd '$audio_home_dir' ; cd to_zip ; rm *.wav  ; cd - ; rm -d to_zip\n",
        "\n",
        "        # Inflate the zip folder in vm\n",
        "        !cd '/content/' ; unzip -qq to_zip.zip \n",
        "\n",
        "\n",
        "        # OpenSMILE feature extraction\n",
        "        out_fn = os.path.join(audio_home_dir, mp4_filename + 'openSmile-features.arff')\n",
        "        os.chdir('/content/to_zip/')\n",
        "        aligned_files = glob.glob('*.wav')\n",
        "        os.chdir('/content/')\n",
        "        for in_fn in aligned_files:\n",
        "          in_fn = os.path.join('/content/to_zip/' , in_fn)\n",
        "          name = os.path.basename(in_fn)\n",
        "          !cd 'opensmile-2.3.0' ; inst/bin/SMILExtract -C config/IS13_ComParE.conf -I '$in_fn' -O '$out_fn' -N $name\n",
        "\n",
        "        # Convert .arff to .csv\n",
        "        all_timepoints_feature_array = arffToNp.convert(out_fn)\n",
        "        print(\"The shape of the feature matrix for one \\n video is: \" , all_timepoints_feature_array.shape)\n",
        "\n",
        "        # Clean up            \n",
        "        !cd to_zip ; rm *.wav ; cd - ; rm -d to_zip      \n",
        "        os.remove(out_fn)\n",
        "        !cd '$audio_home_dir' ; rm *.wav\n",
        "        !rm to_zip.zip\n",
        "\n",
        "\n",
        "        # Standardize\n",
        "        scaler = StandardScaler()\n",
        "        all_timepoints_feature_array = scaler.fit_transform(all_timepoints_feature_array)\n",
        "\n",
        "        return all_timepoints_feature_array\n",
        "\n",
        "def installOpenSMILE():\n",
        "    \"\"\"\n",
        "    You must upload your downloaded version of openSMILE from the site to \n",
        "    cloud.\n",
        "\n",
        "    \"\"\"\n",
        "    os.chdir('/content/')\n",
        "    !tar -zxvf 'opensmile-2.3.0.tar.gz'\n",
        "    !sed -i '117s/(char)/(unsigned char)/g' opensmile-2.3.0/src/include/core/vectorTransform.hpp\n",
        "    !sudo apt-get update\n",
        "    !sudo apt-get install autoconf automake libtool m4 gcc\n",
        "    !cd 'opensmile-2.3.0' ; bash buildStandalone.sh\n"
      ],
      "execution_count": 0,
      "outputs": []
    },
    {
      "cell_type": "code",
      "metadata": {
        "id": "BCmJo14bwJPd",
        "colab_type": "code",
        "colab": {}
      },
      "source": [
        "installOpenSMILE()\n"
      ],
      "execution_count": 0,
      "outputs": []
    },
    {
      "cell_type": "code",
      "metadata": {
        "id": "wuQ7ZKNaErLn",
        "colab_type": "code",
        "colab": {}
      },
      "source": [
        "!cd 'opensmile-2.3.0' ; inst/bin/SMILExtract -h"
      ],
      "execution_count": 0,
      "outputs": []
    },
    {
      "cell_type": "code",
      "metadata": {
        "id": "Wz4-Eq7s1b8z",
        "colab_type": "code",
        "colab": {}
      },
      "source": [
        "audio_model_1 = audio_model()\n",
        "output_arr = audio_model_1.preprocess(mp4_filepath='/content/gdrive/My Drive/Machine-Learning-Projects/cs231n/notebooks/audio-new/1_1.mp4')"
      ],
      "execution_count": 0,
      "outputs": []
    },
    {
      "cell_type": "code",
      "metadata": {
        "id": "bpSBR3iwqBCu",
        "colab_type": "code",
        "outputId": "f45f4d0f-5413-436c-a0d9-e7cfb219c546",
        "colab": {
          "base_uri": "https://localhost:8080/",
          "height": 34
        }
      },
      "source": [
        "output_arr.shape"
      ],
      "execution_count": 24,
      "outputs": [
        {
          "output_type": "execute_result",
          "data": {
            "text/plain": [
              "(32, 6373)"
            ]
          },
          "metadata": {
            "tags": []
          },
          "execution_count": 24
        }
      ]
    },
    {
      "cell_type": "code",
      "metadata": {
        "id": "KO6kw5xPczMj",
        "colab_type": "code",
        "outputId": "8095ca28-acd9-43b0-e161-1cdd42c959d7",
        "colab": {
          "base_uri": "https://localhost:8080/",
          "height": 50
        }
      },
      "source": [
        ""
      ],
      "execution_count": 0,
      "outputs": [
        {
          "output_type": "stream",
          "text": [
            "/bin/bash: line 0: cd: to_zip: No such file or directory\n",
            "rm: cannot remove 'to_zip': No such file or directory\n"
          ],
          "name": "stdout"
        }
      ]
    }
  ]
}
