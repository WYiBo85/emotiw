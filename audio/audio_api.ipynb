{
  "nbformat": 4,
  "nbformat_minor": 0,
  "metadata": {
    "colab": {
      "name": "audio-api.ipynb",
      "provenance": [],
      "collapsed_sections": [],
      "machine_shape": "hm",
      "include_colab_link": true
    },
    "kernelspec": {
      "name": "python3",
      "display_name": "Python 3"
    },
    "accelerator": "GPU"
  },
  "cells": [
    {
      "cell_type": "markdown",
      "metadata": {
        "id": "view-in-github",
        "colab_type": "text"
      },
      "source": [
        "<a href=\"https://colab.research.google.com/github/kevincong95/cs231n-emotiw/blob/master/audio/audio_api.ipynb\" target=\"_parent\"><img src=\"https://colab.research.google.com/assets/colab-badge.svg\" alt=\"Open In Colab\"/></a>"
      ]
    },
    {
      "cell_type": "code",
      "metadata": {
        "id": "HtMIoO7CwrPW",
        "colab_type": "code",
        "outputId": "8c1fcdd3-b84d-4681-f1f2-3efeb87ec980",
        "colab": {
          "base_uri": "https://localhost:8080/",
          "height": 121
        }
      },
      "source": [
        "from google.colab import drive\n",
        "drive.mount('/content/gdrive' , force_remount=True)"
      ],
      "execution_count": 0,
      "outputs": [
        {
          "output_type": "stream",
          "text": [
            "Go to this URL in a browser: https://accounts.google.com/o/oauth2/auth?client_id=947318989803-6bn6qk8qdgf4n4g3pfee6491hc0brc4i.apps.googleusercontent.com&redirect_uri=urn%3aietf%3awg%3aoauth%3a2.0%3aoob&response_type=code&scope=email%20https%3a%2f%2fwww.googleapis.com%2fauth%2fdocs.test%20https%3a%2f%2fwww.googleapis.com%2fauth%2fdrive%20https%3a%2f%2fwww.googleapis.com%2fauth%2fdrive.photos.readonly%20https%3a%2f%2fwww.googleapis.com%2fauth%2fpeopleapi.readonly\n",
            "\n",
            "Enter your authorization code:\n",
            "··········\n",
            "Mounted at /content/gdrive\n"
          ],
          "name": "stdout"
        }
      ]
    },
    {
      "cell_type": "code",
      "metadata": {
        "id": "6C2i_RzuxKXn",
        "colab_type": "code",
        "outputId": "4d78112e-f786-4adb-e3f6-f2acf609711a",
        "colab": {
          "base_uri": "https://localhost:8080/",
          "height": 34
        }
      },
      "source": [
        "import os\n",
        "os.system(\"pip install pydub\")\n",
        "os.system(\"pip install vggish-keras\")\n",
        "os.system(\"pip install 'git+https://github.com/beasteers/pumpp@tf_keras')\") #Update the path base.py file\n"
      ],
      "execution_count": 0,
      "outputs": [
        {
          "output_type": "execute_result",
          "data": {
            "text/plain": [
              "512"
            ]
          },
          "metadata": {
            "tags": []
          },
          "execution_count": 2
        }
      ]
    },
    {
      "cell_type": "code",
      "metadata": {
        "id": "RdjKfwTntt5w",
        "colab_type": "code",
        "colab": {}
      },
      "source": [
        "# Imports \n",
        "from tensorflow.keras.models import load_model\n",
        "from moviepy.video.io.ffmpeg_tools import ffmpeg_extract_audio\n",
        "import glob\n",
        "import time\n",
        "import importlib\n",
        "from sklearn.preprocessing import StandardScaler\n",
        "from subprocess import Popen, PIPE, STDOUT\n",
        "import librosa\n",
        "import vggish_keras as vgk\n",
        "importlib.reload(vgk)\n",
        "import os\n",
        "from pydub import AudioSegment\n",
        "import argparse\n",
        "import audioread\n",
        "import time\n",
        "import numpy as np\n",
        "\n",
        "\n",
        "\n",
        "\n",
        "\n",
        "# os.chdir('/content/gdrive/My Drive/cs231n/notebooks/audio-new')\n",
        "\n",
        "#import arffToNp\n",
        "#importlib.reload(arffToNp)\n",
        "import subprocess\n",
        "import numpy as np\n"
      ],
      "execution_count": 0,
      "outputs": []
    },
    {
      "cell_type": "markdown",
      "metadata": {
        "id": "KPKtwAdgQzil",
        "colab_type": "text"
      },
      "source": [
        "# Audio API"
      ]
    },
    {
      "cell_type": "code",
      "metadata": {
        "id": "fvmKxLO5ba44",
        "colab_type": "code",
        "colab": {}
      },
      "source": [
        "\n",
        "\n",
        "# Define VGGish\n",
        "pump = vgk.get_pump()\n",
        "model = vgk.VGGish(pump)\n",
        "\n",
        "\n",
        "#Create time-stamp for folder name\n",
        "TIMESTR = time.strftime(\"%Y%m%d-%H%M%S\")\n",
        "\n"
      ],
      "execution_count": 0,
      "outputs": []
    },
    {
      "cell_type": "code",
      "metadata": {
        "id": "nOSIfnb4PRuT",
        "colab_type": "code",
        "colab": {}
      },
      "source": [
        "from concurrent.futures import ThreadPoolExecutor, ProcessPoolExecutor\n",
        "from keras.layers import Dense, Dropout, Embedding, LSTM, Bidirectional\n",
        "from keras_self_attention import SeqSelfAttention\n",
        "\n",
        "# TODO: add option for soft vs hard\n",
        "def predict(mp4_filepath, best_model_filepath):\n",
        "    \"\"\"\n",
        "    Outputs:\n",
        "    - A tuple with predictions for each class (positive, neutral, negative)\n",
        "    \"\"\"\n",
        "\n",
        "    model = fer_model()\n",
        "    model.load_model(best_model_filepath)\n",
        "    return model.predict(mp4_filepath)\n",
        "\n",
        "class audio_model:\n",
        "    def __init__(self):\n",
        "        self.model = ()\n",
        "        return\n",
        "\n",
        "    def predict(self, mp4_filepath ):\n",
        "        X , y = self.get_feature_batch(mp4_filepath) #Preproccess \n",
        "        X = np.asarray(X) #You may get a bug TODO: trimming \n",
        "\n",
        "        soft_pred = self.model.predict(X)\n",
        "\n",
        "\n",
        "        return soft_pred # (0.1 ,0.2 , 0.7)\n",
        "\n",
        "\n",
        "      \n",
        "\n",
        "    def load_model(self, best_model_filepath):\n",
        "        self.model = load_model(best_model_filepath)\n",
        "        \n",
        "        return  \n",
        "\n",
        "    def train(self, X_train , y_train , epochs=50 , batch_size=32 , X_val=None , Y_val=None , val_split=0.1):\n",
        "\n",
        "        \"\"\"\n",
        "\n",
        "        Train function with the model architecture\n",
        "\n",
        "        - Outputs\n",
        "          1. Trained model\n",
        "\n",
        "        \"\"\"\n",
        "\n",
        "\n",
        "        #TODO: There are some bugs here \n",
        "        # Next Steps:\n",
        "        # 1. Transfer learning\n",
        "        # 2. Try CNN-LSTM approach \n",
        "        # 3. For deep networks, try residual blocks\n",
        "        # 4. Look for other model architecture to use with openSmile/VggISH/mel-spec features \n",
        "\n",
        "    \n",
        "        inputs = keras.Input(shape=[16,512])\n",
        "\n",
        "        recurrent_1 = keras.layers.Bidirectional(keras.layers.LSTM(10, return_sequences=True, input_shape=[None, 512] ,                                                                   dropout=0.2 , activation='selu')) #A sequence of any length with dimensions 512 (i.e. 512 columns\n",
        "        recurrent_2 = keras.layers.Bidirectional(keras.layers.LSTM(5))\n",
        "        dense_1 = keras.layers.Dense(32 , activation='selu')\n",
        "        dropout_1 = keras.layers.Dropout(0.5)\n",
        "        softmax = keras.layers.Dense(3 , activation='softmax')\n",
        "\n",
        "        x = recurrent_1(inputs)\n",
        "        x = recurrent_2(x)\n",
        "        x = dense_1(x)\n",
        "        x = dropout_1(x)\n",
        "        outputs = softmax(x)\n",
        "\n",
        "        rnn_ae = keras.Model(inputs=inputs, outputs=outputs)\n",
        "\n",
        "        lr_schedule = tf.keras.optimizers.schedules.ExponentialDecay(\n",
        "        initial_learning_rate=1e-4,\n",
        "        decay_steps=10000,\n",
        "        decay_rate=0.9)\n",
        "        opt = keras.optimizers.Adam(learning_rate=lr_schedule)\n",
        "\n",
        "        rnn_ae.compile(loss='sparse_categorical_crossentropy' , optimizer=opt , metrics=['accuracy'])\n",
        "\n",
        "        history = None \n",
        "\n",
        "        if X_val.all() != None and Y_val.all() != None:\n",
        "          history = rnn_ae.fit(X_train , y_train , epochs=epochs , batch_size=batch_size,  validation_split=val_split)\n",
        "\n",
        "        else:\n",
        "          history = rnn_ae.fit(X_train , y_train , epochs=epochs , batch_size=batch_size,  validation_data=(X_val, Y_val))\n",
        "\n",
        "        return rnn_ae , history\n",
        "\n",
        "\n",
        "    #Function to slice up the audio.\n",
        "    def slice_audio(self, files, channels, outformat, width, rate, slice_length, slide):\n",
        "        out_files = []\n",
        "        \n",
        "        outformat = outformat.replace('.','').lower()\n",
        "        #Allow the user to see their x-bit selection with this dictionary.\n",
        "        width_translator = {1:'8-bit', 2:'16-bit', 4:'32-bit'}\n",
        "        #For every file in the input list do processing.\n",
        "        for file in files:\n",
        "            print(file)\n",
        "            fileName, fileExtension = os.path.splitext(file)\n",
        "            #Store the file in RAM.\n",
        "            sound = AudioSegment.from_file(file, fileExtension.replace('.','').lower())\n",
        "            #Print the 'x-bit' conversion parameters.\n",
        "            print (width_translator[sound.sample_width]+' to '+width_translator[int(width)]+'.\\n')\n",
        "            #Implement the user-selected or default (if nothing selected) parameters for processing.\n",
        "            sound = sound.set_frame_rate(int(rate))\n",
        "            sound = sound.set_sample_width(int(width))\n",
        "            sound = sound.set_channels(int(channels))\n",
        "            length_sound_ms = len(sound)\n",
        "            length_slice_ms = int(slice_length)\n",
        "            slice_start = 0\n",
        "            #create audiosegment object\n",
        "            notes_reversed = sound[0:1].reverse()\n",
        "            #Begin slicing at the start of the file.\n",
        "            while slice_start + length_slice_ms < length_sound_ms:\n",
        "                sound_slice = sound[slice_start:slice_start+length_slice_ms]\n",
        "                backwards = sound_slice.reverse()\n",
        "                notes_reversed += backwards\n",
        "                sound_slice.export('to_zip/'+ fileName+'.slice'+str(slice_start/1000)+'SecsTo'+str((slice_start+length_slice_ms)/1000)+'Secs.'+outformat, format=outformat)\n",
        "                \n",
        "                out_files.append('to_zip/'+ fileName+'.slice'+str(slice_start/1000)+'SecsTo'+str((slice_start+length_slice_ms)/1000)+'Secs.'+outformat)\n",
        "                \n",
        "                #backwards.export( fileName+'backwards_slice'+str(slice_start/1000)+'SecsTo'+str((slice_start+length_slice_ms)/1000)+'Secs.'+outformat, format=outformat)\n",
        "                slice_start += int(slide)\n",
        "            #When the slice is abutting the end of the file, output that slice too.'\n",
        "            if slice_start + length_slice_ms >= length_sound_ms:\n",
        "                sound_slice = sound[slice_start:length_sound_ms]\n",
        "                backwards = sound_slice.reverse()\n",
        "                notes_reversed += backwards\n",
        "                sound_slice.export('to_zip/'+fileName+'.slice'+str(slice_start/1000)+'SecsToEndFileAt'+str((length_sound_ms)/1000)+'Secs.'+outformat, format=outformat)\n",
        "                \n",
        "                out_files.append('to_zip/'+fileName+'.slice'+str(slice_start/1000)+'SecsToEndFileAt'+str((length_sound_ms)/1000)+'Secs.'+outformat)\n",
        "                \n",
        "                #backwards.export(fileName+'backwards_slice'+str(slice_start/1000)+'SecsToEndFileAt'+str((slice_start+length_slice_ms)/1000)+'Secs.'+outformat, format=outformat)\n",
        "            #Save the sewn together backwards bits to file\n",
        "            #notes_reversed.export(fileName+'notes_reversed_granular.'+outformat, format=outformat)\n",
        "\n",
        "        return out_files\n",
        "\n",
        "    def preprocess(self, mp4_filepath , target_label_path=None , hop_int=2):\n",
        "\n",
        "      \"\"\"\n",
        "      Outputs:\n",
        "      - A numpy array with dimensions (m,n). \n",
        "        - m is the units in time dependent on the audio splice rate.\n",
        "        - n is the number of features from the openSMILE library.\n",
        "      \"\"\"\n",
        "\n",
        "      print(f\"Processing file {mp4_filepath} ...\")\n",
        "\n",
        "\n",
        "      output_wav_file = mp4_filepath.split(\"/\")[-1] + 'extracted_audio.wav'\n",
        "      mp4_filename = os.path.basename(mp4_filepath)\n",
        "      audio_home_dir = os.path.dirname(mp4_filepath)\n",
        "\n",
        "      # Strip the audio from video and store as .wav file\n",
        "      ffmpeg_extract_audio(mp4_filepath, output_wav_file)\n",
        "\n",
        "      files_written = self.slice_audio([output_wav_file], 2, \"wav\", 2, 30000, 2000, 100)\n",
        "\n",
        "      X_arr = []\n",
        "\n",
        "      # VGGish feature extraction\n",
        "      #out_fn = os.path.join('/content/openSmile-features.arff')\n",
        "      counter = 0\n",
        "      for in_fn in files_written:\n",
        "        name = os.path.basename(in_fn)\n",
        "        if counter % hop_int == 0: # Choose every hop_int splice\n",
        "          X = pump.transform(in_fn)[vgk.params.PUMP_INPUT]\n",
        "          X_arr.append(X)        \n",
        "        counter += 1\n",
        "\n",
        "      for in_fn in files_written:\n",
        "        os.remove(in_fn)\n",
        "\n",
        "      # Get the Y values \n",
        "      target = None \n",
        "      if target_label_path is not None:\n",
        "          target_labels = np.genfromtxt(target_label_path , delimiter = ' ' , dtype='str')\n",
        "          target_index = np.where(target_labels[: , 0] == mp4_filename[:-4])[0]\n",
        "          target = int(target_labels[: , 1][target_index])\n",
        "      return X_arr , target\n",
        "\n",
        "\n",
        "      # Read in each video file and add the (m,n) feature matrix to a 3D array\n",
        "\n",
        "    def get_feature_batch(self, input_files_dir , batch_size=3000 , target_label_path=None):\n",
        "        \"\"\"\n",
        "        Inputs: \n",
        "        - Path to the .mp4 files\n",
        "        Outputs:\n",
        "        - An ndarray with dims (s , m , n)\n",
        "          - s is the number of samples\n",
        "          - m is the number of slices for that sample (32)\n",
        "          - n is the number of features (512)\n",
        "        \"\"\"\n",
        "\n",
        "        output_x = []\n",
        "        output_y = None\n",
        "\n",
        "        if target_label_path is not None:\n",
        "          output_y = []\n",
        "\n",
        "\n",
        "        counter = 1\n",
        "\n",
        "        fileList = glob.glob(input_files_dir + '*.mp4')\n",
        "\n",
        "        MAX_WORKERS = 32\n",
        "\n",
        "        futures = []\n",
        "        with ProcessPoolExecutor(max_workers=MAX_WORKERS) as executor:\n",
        "            for file_path in fileList:\n",
        "            \n",
        "                print(f\"Submitting {counter} - {file_path}\")\n",
        "\n",
        "                # one_sample_feat_matrix , y = self.preprocess(file_path , target_label_path=target_label_path)\n",
        "\n",
        "                future = executor.submit(self.preprocess, file_path, target_label_path)\n",
        "                futures.append(future)\n",
        "\n",
        "                if counter >= batch_size:\n",
        "                    break\n",
        "\n",
        "                counter += 1\n",
        "\n",
        "        print(\"***** Submitted all tasks *****\")\n",
        "\n",
        "        k = 0\n",
        "        for future in futures:\n",
        "            X_arr, y = future.result()\n",
        "\n",
        "            Z_arr = []\n",
        "            for X in X_arr:\n",
        "                # np.concatenate([X]*5)\n",
        "                Z = model.predict(X)\n",
        "                Z_arr += [Z]\n",
        "\n",
        "            Z_arr = np.asarray(Z_arr , dtype='float32')\n",
        "            Z_arr = Z_arr.squeeze()\n",
        "\n",
        "            # Standardize\n",
        "            scaler = StandardScaler()\n",
        "            all_timepoints_feature_array = scaler.fit_transform(Z_arr)\n",
        "\n",
        "            print(all_timepoints_feature_array.shape)\n",
        "\n",
        "            print(f\"Finished future {k}\")\n",
        "            output_x.append(all_timepoints_feature_array)\n",
        "            if target_label_path is not None:        \n",
        "              output_y.append(y)\n",
        "            future.result()\n",
        "            k += 1\n",
        "        print(\"***** Completed *****\")\n",
        "\n",
        "        output_y = np.asarray(output_y)\n",
        "        output_y -= 1\n",
        "\n",
        "        return output_x , output_y\n",
        "\n",
        "\n"
      ],
      "execution_count": 0,
      "outputs": []
    },
    {
      "cell_type": "markdown",
      "metadata": {
        "id": "qclXsD0rQurr",
        "colab_type": "text"
      },
      "source": [
        "# Prelim Results\n"
      ]
    },
    {
      "cell_type": "code",
      "metadata": {
        "id": "ATzqbpKTauKz",
        "colab_type": "code",
        "outputId": "51515027-8fc8-4a3a-f8a9-6331524b8759",
        "colab": {
          "base_uri": "https://localhost:8080/",
          "height": 295
        }
      },
      "source": [
        ""
      ],
      "execution_count": 0,
      "outputs": [
        {
          "output_type": "display_data",
          "data": {
            "image/png": "[encoded data removed]",
            "text/plain": [
              "<Figure size 432x288 with 1 Axes>"
            ]
          },
          "metadata": {
            "tags": [],
            "needs_background": "light"
          }
        }
      ]
    },
    {
      "cell_type": "markdown",
      "metadata": {
        "id": "C5lfxK8Nb5A8",
        "colab_type": "text"
      },
      "source": [
        ""
      ]
    }
  ]
}