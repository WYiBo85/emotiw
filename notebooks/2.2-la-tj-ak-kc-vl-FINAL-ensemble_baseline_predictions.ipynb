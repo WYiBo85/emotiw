{
  "nbformat": 4,
  "nbformat_minor": 0,
  "metadata": {
    "colab": {
      "name": "2.1-la-tj-ak-kc-vl-ensemble_baseline_predictions.ipynb",
      "provenance": [],
      "collapsed_sections": [],
      "toc_visible": true,
      "include_colab_link": true
    },
    "kernelspec": {
      "name": "python3",
      "display_name": "Python 3"
    },
    "accelerator": "GPU"
  },
  "cells": [
    {
      "cell_type": "markdown",
      "metadata": {
        "id": "view-in-github",
        "colab_type": "text"
      },
      "source": [
        "<a href=\"https://colab.research.google.com/github/kevincong95/cs231n-emotiw/blob/master/notebooks/2.2-la-tj-ak-kc-vl-FINAL-ensemble_baseline_predictions.ipynb\" target=\"_parent\"><img src=\"https://colab.research.google.com/assets/colab-badge.svg\" alt=\"Open In Colab\"/></a>"
      ]
    },
    {
      "cell_type": "markdown",
      "metadata": {
        "id": "0rWTS99OI8l-",
        "colab_type": "text"
      },
      "source": [
        "## Video Sentiment Analysis in the Wild\n",
        "### Ensembling Notebook | CS231n\n",
        "\n",
        "This notebook preprocesses input videos to extract faces, frames, poses, and audio before running pre-trained models for each modality to predict group sentiment (positive, negative, or neutral). "
      ]
    },
    {
      "cell_type": "code",
      "metadata": {
        "id": "58avLN7UlDDA",
        "colab_type": "code",
        "colab": {}
      },
      "source": [
        "# Clone the code base\n",
        "!git clone 'https://github.com/kevincong95/cs231n-emotiw.git'\n",
        "\n",
        "# Switch to TF 1.x and navigate to the directory\n",
        "%tensorflow_version 1.x\n",
        "!pwd\n",
        "import os\n",
        "os.chdir('cs231n-emotiw')\n",
        "!pwd\n",
        "\n",
        "# Install required packages \n",
        "!pip install -r 'requirements-predictions.txt'\n"
      ],
      "execution_count": 0,
      "outputs": []
    },
    {
      "cell_type": "code",
      "metadata": {
        "id": "yYcuVxPAIJih",
        "colab_type": "code",
        "colab": {}
      },
      "source": [
        "!mv ../*.zip ."
      ],
      "execution_count": 0,
      "outputs": []
    },
    {
      "cell_type": "markdown",
      "metadata": {
        "id": "14TqM3dYQ2wk",
        "colab_type": "text"
      },
      "source": [
        "#### Pose Pre-Requisites\n",
        "\n",
        "**IMPORTANT**: Skip to the \"Copy Pre-Processed Files\" section if you wish to reuse existing pre-processed files\n",
        "\n",
        "Pose extraction uses the [CMU OpenPose library](https://github.com/CMU-Perceptual-Computing-Lab/openpose) to extract body keypoints. We have pre-compiled this library for use in Colab but some system files still need to be installed. \n",
        "\n",
        "#### Retrieve the files\n",
        "\n",
        "The code block below demonstrates how to retrieve the files from GCS. However, feel free to skip this step if the files are already on the local disk or you have Google Drive mounted."
      ]
    },
    {
      "cell_type": "code",
      "metadata": {
        "id": "vpkaHvUGf9Hi",
        "colab_type": "code",
        "colab": {}
      },
      "source": [
        "!ls"
      ],
      "execution_count": 0,
      "outputs": []
    },
    {
      "cell_type": "code",
      "metadata": {
        "id": "9qsmv0bdQJQp",
        "colab_type": "code",
        "colab": {}
      },
      "source": [
        "!apt-get -qq install -y libatlas-base-dev libprotobuf-dev libleveldb-dev libsnappy-dev libhdf5-serial-dev protobuf-compiler libgflags-dev libgoogle-glog-dev liblmdb-dev opencl-headers ocl-icd-opencl-dev libviennacl-dev\n",
        "!wget https://storage.googleapis.com/cs231n-emotiw/openpose/openpose.tar.gz\n",
        "!tar -xzf openpose.tar.gz\n",
        "\n",
        "# The pre-built OpenPose library contains shared library files that need to be manually linked\n",
        "import os\n",
        "orig_lib_path = os.environ['LD_LIBRARY_PATH']\n",
        "os.environ[\"LD_LIBRARY_PATH\"] = f\"{orig_lib_path}:{os.getcwd()}/openpose/build/src/openpose/:{os.getcwd()}/openpose/build/caffe/lib/\"\n",
        "\n",
        "!wget https://storage.googleapis.com/cs231n-emotiw/data/train-full.zip\n",
        "!wget https://storage.googleapis.com/cs231n-emotiw/data/val-full.zip\n",
        "!wget https://storage.googleapis.com/cs231n-emotiw/data/test-tiny.zip\n",
        "!wget https://storage.googleapis.com/cs231n-emotiw/data/Train_labels.txt\n",
        "!wget https://storage.googleapis.com/cs231n-emotiw/data/Val_labels.txt\n"
      ],
      "execution_count": 0,
      "outputs": []
    },
    {
      "cell_type": "markdown",
      "metadata": {
        "id": "GmTc8EMiFFzt",
        "colab_type": "text"
      },
      "source": [
        "#### Preprocess Files\n",
        "\n",
        "\n",
        "Here, we will instantiate each of the preprocessors and process all of the input video files.\n",
        "\n",
        "NOTE: Change the input parameters as needed.\n",
        "\n",
        "WARNING: This may take several hours to complete, depending on the number of files.\n",
        "\n",
        "In general, pre-processing will extract the following:\n",
        "- Video frames\n",
        "- Pose keypoints\n",
        "- Faces from each video frame\n",
        "- Audio waveform and audio features"
      ]
    },
    {
      "cell_type": "code",
      "metadata": {
        "id": "36LTqWyJFHGb",
        "colab_type": "code",
        "colab": {}
      },
      "source": [
        "from src.preprocessors.preprocess_all_modes import preprocess\n",
        "from src.preprocessors.pose_preprocessor import PosePreprocessor\n",
        "\n",
        "print(\"Starting to preprocess train data\")\n",
        "preprocess(video_folder=\"train-final.zip\", label_file=\"Train_labels.txt\", local_base_path=\"train-tiny\")\n",
        "\n",
        "print(\"Starting to preprocess val data\")\n",
        "preprocess(video_folder=\"val-final.zip\", label_file=\"Val_labels.txt\", local_base_path=\"val-tiny\")\n",
        "\n",
        "print(\"Starting to preprocess test data\")\n",
        "preprocess(video_folder=\"test-tiny.zip\", local_base_path=\"test-tiny\")\n"
      ],
      "execution_count": 0,
      "outputs": []
    },
    {
      "cell_type": "code",
      "metadata": {
        "id": "Vc0OOW4vVI7a",
        "colab_type": "code",
        "colab": {}
      },
      "source": [
        "# Remove the openpose folder as it is no longer required\n",
        "!rm -rf openpose/"
      ],
      "execution_count": 0,
      "outputs": []
    },
    {
      "cell_type": "code",
      "metadata": {
        "id": "f141DYtugV0T",
        "colab_type": "code",
        "colab": {}
      },
      "source": [
        "!ls"
      ],
      "execution_count": 0,
      "outputs": []
    },
    {
      "cell_type": "code",
      "metadata": {
        "id": "R1SA_BTamwmW",
        "colab_type": "code",
        "outputId": "feacc58e-11b7-4dd2-ab7b-a6a6f1544c94",
        "colab": {
          "base_uri": "https://localhost:8080/",
          "height": 34
        }
      },
      "source": [
        "from google.colab import drive\n",
        "drive.mount('/content/drive')\n",
        "\n",
        "!cp train-tiny-*.zip \"/content/drive/My Drive/cs231n-project/datasets/emotiw\"\n",
        "!cp val-tiny-*.zip \"/content/drive/My Drive/cs231n-project/datasets/emotiw\"\n",
        "!cp test-tiny-*.zip \"/content/drive/My Drive/cs231n-project/datasets/emotiw\""
      ],
      "execution_count": 0,
      "outputs": [
        {
          "output_type": "stream",
          "text": [
            "Drive already mounted at /content/drive; to attempt to forcibly remount, call drive.mount(\"/content/drive\", force_remount=True).\n"
          ],
          "name": "stdout"
        }
      ]
    },
    {
      "cell_type": "markdown",
      "metadata": {
        "id": "AKBv4jZKrhQ0",
        "colab_type": "text"
      },
      "source": [
        "## Copy Pre-Processed Files\n",
        "**IMPORTANT**: Run ONLY if you have NOT done the preprocessing"
      ]
    },
    {
      "cell_type": "code",
      "metadata": {
        "id": "XQnFc3BdeCVL",
        "colab_type": "code",
        "colab": {}
      },
      "source": [
        "from google.colab import drive\n",
        "drive.mount('/content/drive')\n",
        "# TINY_PATH = 'My Drive/Machine-Learning-Projects/cs231n-project/datasets/emotiw'\n",
        "TINY_PATH = 'My Drive/Machine-Learning-Projects/cs231n-project/datasets/emotiw'\n",
        "!cp /content/drive/'$TINY_PATH'/train-final-* .\n",
        "!cp /content/drive/'$TINY_PATH'/val-final-* .\n",
        "\n",
        "!wget https://storage.googleapis.com/cs231n-emotiw/data/Train_labels.txt\n",
        "!wget https://storage.googleapis.com/cs231n-emotiw/data/Val_labels.txt"
      ],
      "execution_count": 0,
      "outputs": []
    },
    {
      "cell_type": "code",
      "metadata": {
        "id": "wZ_ea7Qs80rN",
        "colab_type": "code",
        "colab": {}
      },
      "source": [
        "!unzip train-final-audio.zip"
      ],
      "execution_count": 0,
      "outputs": []
    },
    {
      "cell_type": "code",
      "metadata": {
        "id": "sqHRPvB5Cm4F",
        "colab_type": "code",
        "colab": {}
      },
      "source": [
        "!unzip val-final-audio\n",
        "!unzip val-final-faces\n",
        "!unzip val-final-frames\n",
        "!unzip val-final-pose\n"
      ],
      "execution_count": 0,
      "outputs": []
    },
    {
      "cell_type": "code",
      "metadata": {
        "id": "4dkcwTEkb82r",
        "colab_type": "code",
        "outputId": "1ed21adc-4fa5-479b-a13d-b17f5844c3dd",
        "colab": {
          "base_uri": "https://localhost:8080/",
          "height": 121
        }
      },
      "source": [
        "!unzip -d val-final-fer val-final-fer.zip\n",
        "!unzip -d train-final-fer train-final-fer.zip"
      ],
      "execution_count": 0,
      "outputs": [
        {
          "output_type": "stream",
          "text": [
            "Archive:  val-final-fer.zip\n",
            "  inflating: val-final-fer/faces-fer-Y.npy  \n",
            "  inflating: val-final-fer/faces-fer-X.npy  \n",
            "Archive:  train-final-fer.zip\n",
            "  inflating: train-final-fer/faces-fer-X.npy  \n",
            "  inflating: train-final-fer/faces-fer-Y.npy  \n"
          ],
          "name": "stdout"
        }
      ]
    },
    {
      "cell_type": "code",
      "metadata": {
        "id": "xiUn5tjGHjts",
        "colab_type": "code",
        "colab": {}
      },
      "source": [
        "!cp /content/drive/'My Drive/Machine-Learning-Projects'/cs231n-project/datasets/emotiw/train-final-audio.zip .\n",
        "!cp /content/drive/'My Drive/Machine-Learning-Projects'/cs231n-project/datasets/emotiw/val-final-audio.zip ."
      ],
      "execution_count": 0,
      "outputs": []
    },
    {
      "cell_type": "code",
      "metadata": {
        "id": "eaoE2sXiK-A2",
        "colab_type": "code",
        "colab": {}
      },
      "source": [
        "!unzip train-final-audio\n",
        "!unzip val-final-audio"
      ],
      "execution_count": 0,
      "outputs": []
    },
    {
      "cell_type": "code",
      "metadata": {
        "id": "gF6Fy4-SLJVP",
        "colab_type": "code",
        "outputId": "6a61a9a8-64a4-46a4-cdf4-d10ee3451509",
        "colab": {
          "base_uri": "https://localhost:8080/",
          "height": 35
        }
      },
      "source": [
        "!ls val-final-audio"
      ],
      "execution_count": 0,
      "outputs": [
        {
          "output_type": "stream",
          "text": [
            "audio-pickle  audio-pickle-all-X-openl3.pkl  audio-pickle-all-Y-openl3.pkl\n"
          ],
          "name": "stdout"
        }
      ]
    },
    {
      "cell_type": "markdown",
      "metadata": {
        "id": "0jEaDQAsS8XQ",
        "colab_type": "text"
      },
      "source": [
        "### Run Classifiers\n",
        "\n",
        "**IMPORTANT**: You must restart the runtime at this point to use TF 2.x"
      ]
    },
    {
      "cell_type": "code",
      "metadata": {
        "id": "w0_gfpBjXP6S",
        "colab_type": "code",
        "outputId": "c92df18f-0410-447a-e5e3-f520ee5fb89f",
        "colab": {
          "base_uri": "https://localhost:8080/",
          "height": 35
        }
      },
      "source": [
        "%tensorflow_version 2.x"
      ],
      "execution_count": 0,
      "outputs": [
        {
          "output_type": "stream",
          "text": [
            "TensorFlow 2.x selected.\n"
          ],
          "name": "stdout"
        }
      ]
    },
    {
      "cell_type": "code",
      "metadata": {
        "id": "dPXBx950Xd8z",
        "colab_type": "code",
        "outputId": "4c1e14cc-7f16-459f-83e0-dca327429002",
        "colab": {
          "base_uri": "https://localhost:8080/",
          "height": 35
        }
      },
      "source": [
        "import tensorflow\n",
        "print(tensorflow.__version__)"
      ],
      "execution_count": 0,
      "outputs": [
        {
          "output_type": "stream",
          "text": [
            "2.2.0\n"
          ],
          "name": "stdout"
        }
      ]
    },
    {
      "cell_type": "code",
      "metadata": {
        "id": "QuMdFr8GT8uW",
        "colab_type": "code",
        "outputId": "b3a45431-d486-40f4-ec05-7934379720d9",
        "colab": {
          "base_uri": "https://localhost:8080/",
          "height": 236
        }
      },
      "source": [
        "!pwd\n",
        "import os\n",
        "os.chdir('cs231n-emotiw')\n",
        "!pwd\n"
      ],
      "execution_count": 0,
      "outputs": [
        {
          "output_type": "stream",
          "text": [
            "/content/cs231n-emotiw\n"
          ],
          "name": "stdout"
        },
        {
          "output_type": "error",
          "ename": "FileNotFoundError",
          "evalue": "ignored",
          "traceback": [
            "\u001b[0;31m---------------------------------------------------------------------------\u001b[0m",
            "\u001b[0;31mFileNotFoundError\u001b[0m                         Traceback (most recent call last)",
            "\u001b[0;32m<ipython-input-11-9313095f00a8>\u001b[0m in \u001b[0;36m<module>\u001b[0;34m()\u001b[0m\n\u001b[1;32m      1\u001b[0m \u001b[0mget_ipython\u001b[0m\u001b[0;34m(\u001b[0m\u001b[0;34m)\u001b[0m\u001b[0;34m.\u001b[0m\u001b[0msystem\u001b[0m\u001b[0;34m(\u001b[0m\u001b[0;34m'pwd'\u001b[0m\u001b[0;34m)\u001b[0m\u001b[0;34m\u001b[0m\u001b[0;34m\u001b[0m\u001b[0m\n\u001b[1;32m      2\u001b[0m \u001b[0;32mimport\u001b[0m \u001b[0mos\u001b[0m\u001b[0;34m\u001b[0m\u001b[0;34m\u001b[0m\u001b[0m\n\u001b[0;32m----> 3\u001b[0;31m \u001b[0mos\u001b[0m\u001b[0;34m.\u001b[0m\u001b[0mchdir\u001b[0m\u001b[0;34m(\u001b[0m\u001b[0;34m'cs231n-emotiw'\u001b[0m\u001b[0;34m)\u001b[0m\u001b[0;34m\u001b[0m\u001b[0;34m\u001b[0m\u001b[0m\n\u001b[0m\u001b[1;32m      4\u001b[0m \u001b[0mget_ipython\u001b[0m\u001b[0;34m(\u001b[0m\u001b[0;34m)\u001b[0m\u001b[0;34m.\u001b[0m\u001b[0msystem\u001b[0m\u001b[0;34m(\u001b[0m\u001b[0;34m'pwd'\u001b[0m\u001b[0;34m)\u001b[0m\u001b[0;34m\u001b[0m\u001b[0;34m\u001b[0m\u001b[0m\n",
            "\u001b[0;31mFileNotFoundError\u001b[0m: [Errno 2] No such file or directory: 'cs231n-emotiw'"
          ]
        }
      ]
    },
    {
      "cell_type": "code",
      "metadata": {
        "id": "338bzmlETsvo",
        "colab_type": "code",
        "colab": {}
      },
      "source": [
        "!git pull"
      ],
      "execution_count": 0,
      "outputs": []
    },
    {
      "cell_type": "code",
      "metadata": {
        "id": "vOIbnIoH_AHV",
        "colab_type": "code",
        "outputId": "30480abd-b3e4-46b3-92a9-1ea8a2902591",
        "colab": {
          "base_uri": "https://localhost:8080/",
          "height": 280
        }
      },
      "source": [
        "from src.classifiers.audio_classifier import AudioClassifier\n",
        "from src.classifiers.frames_classifier import FramesClassifier\n",
        "from src.classifiers.pose_classifier import PoseClassifier\n",
        "from src.classifiers.face_classifier import FaceClassifier\n",
        "\n",
        "from src.classifiers.utils import get_num_samples\n",
        "import numpy as np\n",
        "\n",
        "audio_classifier = AudioClassifier('train-final-audio.zip', model_location='https://storage.googleapis.com/cs231n-emotiw/models/openl3-cnn-lstm-tuned-lr.h5', is_test=False)\n",
        "frames_classifier = FramesClassifier('train-final-frames.zip', model_location='https://storage.googleapis.com/cs231n-emotiw/models/scene-classifier-resnet-lstm-x3.h5', is_test=False)\n",
        "pose_classifier = PoseClassifier('train-final-pose.zip', model_location='https://storage.googleapis.com/cs231n-emotiw/models/pose-classifier-64lstm-0.01reg.h5', is_test=False)\n",
        "face_classifier = FaceClassifier(\"train-final-fer\", model_location=\"/content/drive/My Drive/Machine-Learning-Projects/cs231n-project/models/face-classifier-playground/cp-0001.h5\", is_test=False)\n",
        "classifiers = [audio_classifier, frames_classifier, pose_classifier , face_classifier]\n",
        "\n",
        "sample_to_true_label = {}\n",
        "with open(\"Train_labels.txt\") as f:\n",
        "    l = 0\n",
        "    for line in f:\n",
        "        if l == 0:\n",
        "            # Skip headers\n",
        "            l += 1\n",
        "            continue\n",
        "        line_arr = line.split(\" \")\n",
        "        sample_to_true_label[line_arr[0].strip()] = int(line_arr[1].strip())\n",
        "        l += 1\n",
        "\n"
      ],
      "execution_count": 0,
      "outputs": [
        {
          "output_type": "stream",
          "text": [
            "AudioClassifier created with audio_folder = train-final-audio.zip , is_test = False , model_location = https://storage.googleapis.com/cs231n-emotiw/models/openl3-cnn-lstm-tuned-lr.h5\n",
            "Downloading data from https://storage.googleapis.com/cs231n-emotiw/models/openl3-cnn-lstm-tuned-lr.h5\n",
            "17227776/17223968 [==============================] - 1s 0us/step\n",
            "WARNING:tensorflow:Layer lstm will not use cuDNN kernel since it doesn't meet the cuDNN kernel criteria. It will use generic GPU kernel as fallback when running on GPU\n",
            "WARNING:tensorflow:Layer lstm will not use cuDNN kernel since it doesn't meet the cuDNN kernel criteria. It will use generic GPU kernel as fallback when running on GPU\n",
            "WARNING:tensorflow:Layer lstm will not use cuDNN kernel since it doesn't meet the cuDNN kernel criteria. It will use generic GPU kernel as fallback when running on GPU\n",
            "FramesClassifier created with frames_folder = train-final-frames.zip , is_test = False , model_location = https://storage.googleapis.com/cs231n-emotiw/models/scene-classifier-resnet-lstm-x3.h5\n",
            "Downloading data from https://storage.googleapis.com/cs231n-emotiw/models/scene-classifier-resnet-lstm-x3.h5\n",
            "121389056/121384640 [==============================] - 2s 0us/step\n",
            "PoseClassifier created with pose_folder = train-final-pose.zip , is_test = False , model_location = https://storage.googleapis.com/cs231n-emotiw/models/pose-classifier-64lstm-0.01reg.h5\n",
            "Downloading data from https://storage.googleapis.com/cs231n-emotiw/models/pose-classifier-64lstm-0.01reg.h5\n",
            "614400/612904 [==============================] - 0s 0us/step\n",
            "load data\n",
            "FacesClassifier created with face_folder = train-final-fer , is_test = False , model_location = /content/drive/My Drive/Machine-Learning-Projects/cs231n-project/models/face-classifier-playground/cp-0001.h5\n"
          ],
          "name": "stdout"
        }
      ]
    },
    {
      "cell_type": "code",
      "metadata": {
        "id": "lkWkBoCgaNWB",
        "colab_type": "code",
        "outputId": "22ad037b-6d4b-493f-bd0d-bd80b41d480b",
        "colab": {
          "base_uri": "https://localhost:8080/",
          "height": 780
        }
      },
      "source": [
        "audio_classifier.summary()"
      ],
      "execution_count": 0,
      "outputs": [
        {
          "output_type": "stream",
          "text": [
            "Model: \"model\"\n",
            "_________________________________________________________________\n",
            "Layer (type)                 Output Shape              Param #   \n",
            "=================================================================\n",
            "input_1 (InputLayer)         [(None, None, 6144)]      0         \n",
            "_________________________________________________________________\n",
            "conv1d (Conv1D)              (None, None, 64)          786496    \n",
            "_________________________________________________________________\n",
            "batch_normalization (BatchNo (None, None, 64)          256       \n",
            "_________________________________________________________________\n",
            "max_pooling1d (MaxPooling1D) (None, None, 64)          0         \n",
            "_________________________________________________________________\n",
            "dropout (Dropout)            (None, None, 64)          0         \n",
            "_________________________________________________________________\n",
            "conv1d_1 (Conv1D)            (None, None, 512)         66048     \n",
            "_________________________________________________________________\n",
            "batch_normalization_1 (Batch (None, None, 512)         2048      \n",
            "_________________________________________________________________\n",
            "max_pooling1d_1 (MaxPooling1 (None, None, 512)         0         \n",
            "_________________________________________________________________\n",
            "dropout_1 (Dropout)          (None, None, 512)         0         \n",
            "_________________________________________________________________\n",
            "conv1d_2 (Conv1D)            (None, None, 512)         524800    \n",
            "_________________________________________________________________\n",
            "batch_normalization_2 (Batch (None, None, 512)         2048      \n",
            "_________________________________________________________________\n",
            "max_pooling1d_2 (MaxPooling1 (None, None, 512)         0         \n",
            "_________________________________________________________________\n",
            "dropout_2 (Dropout)          (None, None, 512)         0         \n",
            "_________________________________________________________________\n",
            "bidirectional (Bidirectional (None, None, 20)          41840     \n",
            "_________________________________________________________________\n",
            "bidirectional_1 (Bidirection (None, 10)                1040      \n",
            "_________________________________________________________________\n",
            "dense (Dense)                (None, 32)                352       \n",
            "_________________________________________________________________\n",
            "dropout_3 (Dropout)          (None, 32)                0         \n",
            "_________________________________________________________________\n",
            "dense_1 (Dense)              (None, 3)                 99        \n",
            "=================================================================\n",
            "Total params: 1,425,027\n",
            "Trainable params: 1,422,851\n",
            "Non-trainable params: 2,176\n",
            "_________________________________________________________________\n"
          ],
          "name": "stdout"
        }
      ]
    },
    {
      "cell_type": "code",
      "metadata": {
        "id": "KWrHkaGyb3w_",
        "colab_type": "code",
        "outputId": "016521e1-d336-4c53-b40e-df65b19e0c33",
        "colab": {
          "base_uri": "https://localhost:8080/",
          "height": 537
        }
      },
      "source": [
        "frames_classifier.summary()"
      ],
      "execution_count": 0,
      "outputs": [
        {
          "output_type": "stream",
          "text": [
            "Model: \"model_7\"\n",
            "__________________________________________________________________________________________________\n",
            "Layer (type)                    Output Shape         Param #     Connected to                     \n",
            "==================================================================================================\n",
            "input_15 (InputLayer)           [(None, 12, 320, 480 0                                            \n",
            "__________________________________________________________________________________________________\n",
            "time_distributed_7 (TimeDistrib (None, 12, 10, 15, 2 23587712    input_15[0][0]                   \n",
            "__________________________________________________________________________________________________\n",
            "conv_lst_m2d_18 (ConvLSTM2D)    (None, 12, 10, 15, 1 740920      time_distributed_7[0][0]         \n",
            "__________________________________________________________________________________________________\n",
            "conv_lst_m2d_19 (ConvLSTM2D)    (None, 12, 10, 15, 1 740920      time_distributed_7[0][0]         \n",
            "__________________________________________________________________________________________________\n",
            "conv_lst_m2d_20 (ConvLSTM2D)    (None, 12, 10, 15, 1 740920      time_distributed_7[0][0]         \n",
            "__________________________________________________________________________________________________\n",
            "global_average_pooling3d_18 (Gl (None, 10)           0           conv_lst_m2d_18[0][0]            \n",
            "__________________________________________________________________________________________________\n",
            "global_average_pooling3d_19 (Gl (None, 10)           0           conv_lst_m2d_19[0][0]            \n",
            "__________________________________________________________________________________________________\n",
            "global_average_pooling3d_20 (Gl (None, 10)           0           conv_lst_m2d_20[0][0]            \n",
            "__________________________________________________________________________________________________\n",
            "concatenate_5 (Concatenate)     (None, 30)           0           global_average_pooling3d_18[0][0]\n",
            "                                                                 global_average_pooling3d_19[0][0]\n",
            "                                                                 global_average_pooling3d_20[0][0]\n",
            "__________________________________________________________________________________________________\n",
            "dense_7 (Dense)                 (None, 3)            93          concatenate_5[0][0]              \n",
            "==================================================================================================\n",
            "Total params: 25,810,565\n",
            "Trainable params: 2,222,853\n",
            "Non-trainable params: 23,587,712\n",
            "__________________________________________________________________________________________________\n"
          ],
          "name": "stdout"
        }
      ]
    },
    {
      "cell_type": "code",
      "metadata": {
        "id": "yiN69LZob9G0",
        "colab_type": "code",
        "colab": {}
      },
      "source": [
        "pose_classifier.summary()"
      ],
      "execution_count": 0,
      "outputs": []
    },
    {
      "cell_type": "code",
      "metadata": {
        "id": "cCMpUwMbdrIc",
        "colab_type": "code",
        "colab": {}
      },
      "source": [
        "face_classifier.summary()"
      ],
      "execution_count": 0,
      "outputs": []
    },
    {
      "cell_type": "code",
      "metadata": {
        "id": "9xwIeRF_x40m",
        "colab_type": "code",
        "colab": {}
      },
      "source": [
        "def predict(classifiers, sample_to_true_label=None, mode=\"soft\", complex_fusion=False, weights=[]):\n",
        "    assert mode in [\"soft\" , \"hard\", \"weighted\"]\n",
        "    from collections import Counter\n",
        "\n",
        "    classifier_outputs = []\n",
        "    classifier_samples = []\n",
        "    sample_to_row = {}\n",
        "    num_samples = 0\n",
        "    y_true = []\n",
        "\n",
        "    for c, classifier in enumerate(classifiers):\n",
        "        results, samples = classifier.predict()\n",
        "        classifier_outputs.append(results.tolist())\n",
        "        classifier_samples.append(list(samples))\n",
        "        num_samples = len(list(samples))\n",
        "\n",
        "    print(f\"Number of samples: {num_samples}\")\n",
        "\n",
        "    for i, sample in enumerate(classifier_samples[0]):\n",
        "        sample_to_row[sample] = i\n",
        "        if sample_to_true_label is not None:\n",
        "            y_true.append(sample_to_true_label[sample])\n",
        "\n",
        "    X = np.zeros(shape=(len(classifiers), num_samples, 3))\n",
        "    for c, output in enumerate(classifier_outputs):\n",
        "        samples = classifier_samples[c]\n",
        "        for i, row in enumerate(output):\n",
        "            sample = samples[i]\n",
        "            X[c, sample_to_row[sample], :] += row\n",
        "\n",
        "    print(X[:, 10, :])\n",
        "\n",
        "    if mode == \"weighted\":\n",
        "        for c in range(X.shape[0]):\n",
        "            X[c, :, :] = weights[c] * X[c, :, :]\n",
        "\n",
        "        y_pred = np.sum(X, axis=0)\n",
        "        y_pred = np.argmax(y_pred, axis=1) + 1 # Add 1 because true labels range from 1 to 3\n",
        "        if sample_to_true_label is not None:\n",
        "            y_true = np.array(y_true)\n",
        "\n",
        "        print(\"Predicted y-labels:\")\n",
        "        print(y_pred)\n",
        "\n",
        "        if sample_to_true_label is not None:\n",
        "            print(\"True y-labels:\")\n",
        "            print(y_true)\n",
        "\n",
        "            accuracy = (y_pred == y_true).mean()\n",
        "            print(f\"Accuracy: {accuracy}\")\n",
        "            return y_pred , y_true\n",
        "\n",
        "    if mode == \"soft\":\n",
        "        # Take the average of each \n",
        "        y_pred = np.mean(X, axis=0)\n",
        "        y_pred = np.argmax(y_pred, axis=1) + 1 # Add 1 because true labels range from 1 to 3\n",
        "        if sample_to_true_label is not None:\n",
        "            y_true = np.array(y_true)\n",
        "\n",
        "        print(\"Predicted y-labels:\")\n",
        "        print(y_pred)\n",
        "\n",
        "        if sample_to_true_label is not None:\n",
        "            print(\"True y-labels:\")\n",
        "            print(y_true)\n",
        "\n",
        "            accuracy = (y_pred == y_true).mean()\n",
        "            print(f\"Accuracy: {accuracy}\")\n",
        "            return y_pred , y_true\n",
        "\n",
        "    if mode == \"hard\":\n",
        "        # Take the majority vote of each\n",
        "\n",
        "        y_pred_tmp = np.zeros((len(classifier_outputs) , len(classifier_outputs[0])))\n",
        "\n",
        "        \n",
        "        for i in range(0 , X.shape[0]):\n",
        "          for j in range(0 , X.shape[1]):\n",
        "            y_pred_tmp[i][j] = np.argmax(X[i][j], axis=0) + 1.0\n",
        "            \n",
        "         \n",
        "        y_pred_tmp = y_pred_tmp.T\n",
        "        y_pred_tmp = np.asarray(y_pred_tmp , dtype='int64')\n",
        "        \n",
        "        y_pred = np.zeros((X.shape[1]))\n",
        "\n",
        "        for i in range(0 , len(y_pred_tmp)):\n",
        "          y_pred_tmp[i] = np.asarray(y_pred_tmp[i] , dtype='int64')\n",
        "          counts = np.bincount(y_pred_tmp[i])\n",
        "          y_pred[i] = np.argmax(counts)\n",
        "\n",
        "        \n",
        "      \n",
        "   # Add 1 because true labels range from 1 to 3\n",
        "        if sample_to_true_label is not None:\n",
        "            y_true = np.array(y_true)\n",
        "\n",
        "        print(\"Predicted y-labels:\")\n",
        "        print(y_pred)\n",
        "\n",
        "        if sample_to_true_label is not None:\n",
        "            print(\"True y-labels:\")\n",
        "            print(y_true)\n",
        "\n",
        "            accuracy = (y_pred == y_true).mean()\n",
        "            print(f\"Accuracy: {accuracy}\")\n",
        "            return y_pred , y_true\n",
        "    else:\n",
        "        print(\"Not implemented yet\")\n",
        "\n",
        "    \n"
      ],
      "execution_count": 0,
      "outputs": []
    },
    {
      "cell_type": "code",
      "metadata": {
        "id": "iT05BCnKiPFU",
        "colab_type": "code",
        "colab": {}
      },
      "source": [
        "face_classifier = FaceClassifier(\"val-final-fer\", model_location=\"/content/drive/My Drive/Machine-Learning-Projects/cs231n-project/models/face-classifier-final-v1/cp-0383.h5\", is_test=False)"
      ],
      "execution_count": 0,
      "outputs": []
    },
    {
      "cell_type": "code",
      "metadata": {
        "id": "1VGA1fl2pNvE",
        "colab_type": "code",
        "colab": {}
      },
      "source": [
        "from src.classifiers.audio_classifier import AudioClassifier\n",
        "from src.classifiers.frames_classifier import FramesClassifier\n",
        "from src.classifiers.pose_classifier import PoseClassifier\n",
        "from src.classifiers.utils import get_num_samples\n",
        "import numpy as np\n",
        "\n",
        "audio_classifier = AudioClassifier('val-final-audio', model_location='https://storage.googleapis.com/cs231n-emotiw/models/openl3-cnn-lstm-tuned-lr.h5', is_test=False)\n",
        "frames_classifier = FramesClassifier('val-final-frames', model_location='https://storage.googleapis.com/cs231n-emotiw/models/scene-classifier-resnet-lstm-x3.h5', is_test=False)\n",
        "pose_classifier = PoseClassifier('val-final-pose', model_location='https://storage.googleapis.com/cs231n-emotiw/models/pose-classifier-64lstm-0.01reg.h5', is_test=False)\n",
        "face_classifier = FaceClassifier(\"val-final-fer\", model_location=\"/content/drive/My Drive/Machine-Learning-Projects/cs231n-project/models/face-classifier-playground/cp-0001.h5\", is_test=False)\n",
        "classifiers = [audio_classifier, frames_classifier, pose_classifier, face_classifier] \n",
        "#classifiers = [face_classifier] \n",
        "#classifiers = [audio_classifier, frames_classifier, pose_classifier] \n",
        "# Audio Classifier = 0.57\n",
        "# Frames classifier = 0.56\n",
        "# Pose classifier = 0.48\n",
        "\n",
        "sample_to_true_label = {}\n",
        "with open(\"Val_labels.txt\") as f:\n",
        "    l = 0\n",
        "    for line in f:\n",
        "        if l == 0:\n",
        "            # Skip headers\n",
        "            l += 1\n",
        "            continue\n",
        "        line_arr = line.split(\" \")\n",
        "        sample_to_true_label[line_arr[0].strip()] = int(line_arr[1].strip())\n",
        "        l += 1\n",
        "print(sample_to_true_label)\n"
      ],
      "execution_count": 0,
      "outputs": []
    },
    {
      "cell_type": "markdown",
      "metadata": {
        "id": "xGS2rrUIZ_YX",
        "colab_type": "text"
      },
      "source": [
        "## Weighted Voting Results"
      ]
    },
    {
      "cell_type": "code",
      "metadata": {
        "id": "eZONQbr_aBpo",
        "colab_type": "code",
        "colab": {}
      },
      "source": [
        "y_pred_weighted , y_true = predict(classifiers, sample_to_true_label, mode=\"weighted\", weights=[0.4 , 0.5 , 0.07 , 0.03]) #0.4, 0.5, 0.07 , 0.03\n"
      ],
      "execution_count": 0,
      "outputs": []
    },
    {
      "cell_type": "code",
      "metadata": {
        "id": "f0l1U3y5psEq",
        "colab_type": "code",
        "colab": {}
      },
      "source": [
        "from sklearn.metrics import classification_report\n",
        "target_names = [\"Positive\" , \"Neutral\" , \"Negative\"]"
      ],
      "execution_count": 0,
      "outputs": []
    },
    {
      "cell_type": "markdown",
      "metadata": {
        "id": "1lvR693fqzk3",
        "colab_type": "text"
      },
      "source": [
        "## Classification Report -- Weighted Voting"
      ]
    },
    {
      "cell_type": "code",
      "metadata": {
        "id": "kGf8Un1epxFC",
        "colab_type": "code",
        "outputId": "5b44d296-cca6-4ab9-8cd2-a5f7b574de1c",
        "colab": {
          "base_uri": "https://localhost:8080/",
          "height": 191
        }
      },
      "source": [
        "print(classification_report(y_true, y_pred_weighted, target_names=target_names , digits=3))"
      ],
      "execution_count": 0,
      "outputs": [
        {
          "output_type": "stream",
          "text": [
            "              precision    recall  f1-score   support\n",
            "\n",
            "    Positive      0.728     0.417     0.531       302\n",
            "     Neutral      0.541     0.771     0.636       280\n",
            "    Negative      0.613     0.647     0.630       184\n",
            "\n",
            "    accuracy                          0.602       766\n",
            "   macro avg      0.628     0.612     0.599       766\n",
            "weighted avg      0.632     0.602     0.593       766\n",
            "\n"
          ],
          "name": "stdout"
        }
      ]
    },
    {
      "cell_type": "code",
      "metadata": {
        "id": "kA6qg-Q81YuR",
        "colab_type": "code",
        "outputId": "98cb69a8-1783-4a5b-b621-f621dba0c600",
        "colab": {
          "base_uri": "https://localhost:8080/",
          "height": 648
        }
      },
      "source": [
        "from sklearn import metrics \n",
        "import pandas as pd\n",
        "import seaborn as sn\n",
        "import matplotlib.pyplot as plt\n",
        "import tensorflow as tf\n",
        "classes=['Pos' , 'Neu' , 'Neg'] \n",
        "con_mat = tf.math.confusion_matrix(labels=y_true-1, predictions=y_pred_weighted-1).numpy()\n",
        "con_mat_norm = np.around(con_mat.astype('float') / con_mat.sum(axis=1)[:, np.newaxis], decimals=2)\n",
        "con_mat_df = pd.DataFrame(con_mat_norm,\n",
        "                  index = classes, \n",
        "                  columns = classes)\n",
        "figure = plt.figure(figsize=(11, 9))\n",
        "plt.tick_params(labelsize=24)\n",
        "plt.title(\"Weighted Model Confusion Matrix\", fontsize=24)\n",
        "sn.set(font_scale=3.0)\n",
        "sn.heatmap(con_mat_df, annot=True,cmap=plt.cm.Blues , vmin=0 , vmax=0.8)"
      ],
      "execution_count": 0,
      "outputs": [
        {
          "output_type": "stream",
          "text": [
            "/usr/local/lib/python3.6/dist-packages/statsmodels/tools/_testing.py:19: FutureWarning: pandas.util.testing is deprecated. Use the functions in the public API at pandas.testing instead.\n",
            "  import pandas.util.testing as tm\n"
          ],
          "name": "stderr"
        },
        {
          "output_type": "execute_result",
          "data": {
            "text/plain": [
              "<matplotlib.axes._subplots.AxesSubplot at 0x7f5fa1064080>"
            ]
          },
          "metadata": {
            "tags": []
          },
          "execution_count": 24
        },
        {
          "output_type": "display_data",
          "data": {
            "image/png": "[encoded data removed]",
            "text/plain": [
              "<Figure size 792x648 with 2 Axes>"
            ]
          },
          "metadata": {
            "tags": [],
            "needs_background": "light"
          }
        }
      ]
    },
    {
      "cell_type": "markdown",
      "metadata": {
        "id": "ltPqItAaNNZK",
        "colab_type": "text"
      },
      "source": [
        "## Soft Voting Results"
      ]
    },
    {
      "cell_type": "code",
      "metadata": {
        "id": "NczcqJnWpbjy",
        "colab_type": "code",
        "outputId": "7f6cf015-ef3c-4e77-ebb1-257237b02d20",
        "colab": {
          "base_uri": "https://localhost:8080/",
          "height": 1000
        }
      },
      "source": [
        "y_pred_soft , y_true = predict(classifiers, sample_to_true_label)"
      ],
      "execution_count": 0,
      "outputs": [
        {
          "output_type": "stream",
          "text": [
            "Skipping unzipping files as input is a folder\n",
            "Skipping unzipping files as input is a folder\n",
            "Found 766 frames belonging to 766 videos belonging to 3 classes.\n",
            "Min frames determined to be 7\n",
            "Skipping unzipping files as input is a folder\n",
            "['2', '1', '3']\n",
            "Found 766 frames belonging to 766 videos belonging to 3 classes.\n",
            "Min frames determined to be 7\n"
          ],
          "name": "stdout"
        },
        {
          "output_type": "stream",
          "text": [
            "/content/cs231n-emotiw/src/generators/pose_generator.py:135: RuntimeWarning: invalid value encountered in double_scalars\n",
            "  x_new.append((lx[i] - origin_x) / len_x)\n",
            "/content/cs231n-emotiw/src/generators/pose_generator.py:136: RuntimeWarning: invalid value encountered in double_scalars\n",
            "  x_new.append((ly[i] - origin_y) / len_y)\n"
          ],
          "name": "stderr"
        },
        {
          "output_type": "stream",
          "text": [
            "Number of samples: 766\n",
            "[[0.08749045 0.20644732 0.7060622 ]\n",
            " [0.04470335 0.03653668 0.91875994]\n",
            " [0.17676936 0.17970438 0.64352626]\n",
            " [0.25732085 0.34432521 0.3983539 ]]\n",
            "Predicted y-labels:\n",
            "[3 2 2 3 2 3 3 3 3 3 3 3 3 3 3 3 2 2 2 2 2 2 2 2 2 2 2 2 2 2 2 2 2 2 1 2 2\n",
            " 2 3 1 2 1 1 2 2 1 3 3 1 1 1 1 2 2 3 3 2 3 3 3 3 3 3 3 3 3 3 3 2 2 2 2 2 2\n",
            " 2 2 2 2 2 2 2 2 2 2 2 2 2 2 1 2 1 1 1 1 1 1 1 3 1 1 3 3 3 3 2 3 3 2 2 2 2\n",
            " 3 2 2 2 2 3 3 3 3 3 3 3 3 3 3 3 3 3 3 3 3 1 1 1 1 1 1 1 1 1 1 1 1 2 2 1 1\n",
            " 3 3 1 1 2 1 3 1 2 1 1 1 2 1 1 1 1 1 1 1 1 1 1 2 3 3 3 3 2 2 2 2 2 3 2 2 1\n",
            " 2 3 2 3 1 3 2 2 2 2 2 2 2 2 2 2 2 2 2 2 2 2 2 2 2 2 2 2 2 2 2 2 2 2 2 3 2\n",
            " 2 2 2 3 3 3 3 3 2 3 3 2 2 3 3 3 3 3 2 2 2 3 1 1 3 2 3 3 3 3 2 3 3 2 2 2 2\n",
            " 2 1 2 2 3 1 2 3 2 2 2 3 3 2 2 2 2 2 1 2 2 1 2 1 2 2 2 2 2 2 2 2 2 2 2 2 2\n",
            " 1 2 1 1 3 2 1 2 2 2 2 2 2 2 2 1 2 2 2 2 2 2 2 2 2 2 2 1 2 2 2 2 2 2 2 2 2\n",
            " 2 2 2 2 2 2 2 2 2 2 2 2 2 2 2 2 2 2 2 2 2 2 2 2 2 2 2 2 2 2 2 2 2 2 2 2 2\n",
            " 2 2 2 2 2 2 2 2 2 2 2 2 2 2 2 2 2 2 2 2 2 2 2 1 1 1 3 3 3 3 3 3 3 3 3 3 3\n",
            " 3 3 3 3 3 3 3 3 3 3 2 2 2 2 2 2 2 2 2 2 2 2 2 2 1 1 1 1 1 1 1 3 3 2 2 2 3\n",
            " 2 3 3 3 2 3 3 3 3 3 3 3 3 3 3 3 2 3 3 3 3 3 3 3 3 3 3 3 3 3 3 3 3 3 2 2 2\n",
            " 2 3 2 2 2 2 2 3 3 2 2 3 3 2 2 2 2 2 2 3 3 3 2 3 3 2 2 2 2 2 3 2 3 3 3 3 3\n",
            " 3 3 3 3 3 3 1 1 2 2 2 2 2 1 1 1 3 3 1 1 1 1 3 1 1 1 1 1 1 1 1 1 1 1 1 1 1\n",
            " 1 1 1 1 1 1 1 1 1 2 2 2 2 2 2 2 2 2 2 2 2 2 2 2 2 2 2 2 2 2 2 2 2 2 2 2 2\n",
            " 2 2 2 2 2 2 2 2 2 2 2 2 2 2 2 2 2 2 2 2 2 2 2 2 2 2 2 2 2 2 2 2 2 2 2 2 2\n",
            " 2 2 2 2 2 2 2 2 2 2 2 2 2 2 2 2 2 2 2 2 2 2 2 1 1 1 1 1 1 1 1 1 1 3 1 1 1\n",
            " 1 1 1 1 1 2 2 2 2 2 2 2 2 2 2 2 2 2 2 2 2 2 2 2 2 2 2 2 3 2 1 1 3 1 1 3 3\n",
            " 1 1 3 3 2 1 3 1 3 1 1 1 3 1 3 3 3 3 1 3 3 3 3 1 1 3 3 1 1 1 1 3 3 1 3 3 3\n",
            " 3 1 3 3 1 1 1 1 3 1 1 1 1 1 3 3 1 1 3 3 3 2 2 2 3 3]\n",
            "True y-labels:\n",
            "[3 3 3 2 2 3 3 3 3 3 3 3 3 3 3 3 2 1 1 1 2 1 1 1 1 1 1 1 1 1 1 1 1 2 1 1 1\n",
            " 2 3 3 1 1 2 1 2 1 2 1 1 1 1 1 3 3 3 3 3 2 3 3 2 2 3 3 3 3 3 3 3 2 2 2 3 2\n",
            " 2 2 2 2 2 2 2 2 2 2 1 2 3 3 3 3 1 1 1 1 1 1 1 1 2 2 3 2 1 3 3 2 3 3 3 3 2\n",
            " 3 3 3 3 3 3 3 3 3 3 3 3 3 3 3 3 3 3 3 3 3 1 1 1 1 1 1 1 1 1 1 1 1 2 2 1 1\n",
            " 1 1 1 1 2 1 1 1 2 2 2 2 2 1 1 2 1 1 1 1 2 2 2 2 1 1 3 1 2 2 2 2 2 2 2 2 2\n",
            " 2 2 2 2 2 2 1 2 2 2 2 1 1 1 2 2 1 1 2 1 2 2 2 2 2 2 1 2 1 1 1 1 2 1 2 1 1\n",
            " 3 1 2 1 1 1 1 1 1 1 2 2 1 1 1 1 1 1 1 1 1 1 1 1 1 1 1 1 1 1 1 1 1 1 1 1 1\n",
            " 1 1 2 1 1 1 1 1 1 1 2 1 1 1 1 1 1 1 1 1 2 1 2 2 2 1 1 1 1 2 2 2 2 2 2 2 2\n",
            " 2 1 2 2 2 2 2 2 2 2 2 1 2 1 2 2 2 2 2 1 2 2 2 2 1 2 2 1 1 1 1 1 2 1 2 2 2\n",
            " 2 1 1 1 1 2 2 2 2 2 2 2 2 2 2 2 2 2 2 2 2 2 2 2 2 2 2 2 2 2 2 2 2 2 2 2 2\n",
            " 2 1 2 2 2 2 2 2 2 2 2 2 2 2 2 2 2 2 2 2 2 2 2 1 1 1 3 3 3 3 3 3 3 3 3 3 3\n",
            " 3 3 3 3 3 3 3 3 3 3 2 1 2 2 2 1 2 2 2 1 2 2 2 2 1 1 1 1 1 1 1 2 3 3 2 3 2\n",
            " 3 3 3 3 3 2 3 3 3 3 1 1 3 3 3 3 3 3 3 3 3 3 3 3 3 3 3 3 3 3 3 3 3 3 3 2 3\n",
            " 3 2 3 2 2 3 3 3 3 3 3 3 3 3 3 3 3 3 3 3 3 2 2 3 3 3 3 3 2 3 3 2 3 3 3 3 3\n",
            " 3 1 3 2 3 3 2 2 2 2 2 1 2 1 2 1 3 3 1 2 1 1 1 2 1 1 1 1 1 1 1 1 1 1 1 1 1\n",
            " 1 1 1 1 1 1 1 1 1 1 1 1 1 1 2 3 1 1 1 2 1 2 1 1 1 1 1 1 1 1 1 1 2 2 1 2 2\n",
            " 2 2 2 2 2 1 2 1 1 2 2 1 1 1 1 1 2 1 1 1 1 1 2 2 1 1 2 2 2 1 2 1 2 1 2 2 1\n",
            " 1 1 2 2 2 2 2 2 2 1 2 2 2 2 2 2 2 2 2 2 2 2 2 1 1 1 1 1 1 1 1 1 1 1 1 1 1\n",
            " 1 1 1 1 1 2 1 1 1 2 1 2 2 2 2 2 2 2 1 1 1 1 2 1 1 1 1 1 1 2 2 2 2 2 2 2 2\n",
            " 2 2 2 2 1 2 2 2 2 1 1 1 1 1 1 3 3 3 1 3 3 3 3 1 3 3 3 1 3 1 3 2 3 1 3 3 3\n",
            " 3 1 1 1 1 1 1 1 3 3 1 1 1 1 1 1 1 1 1 3 3 3 3 2 3 3]\n",
            "Accuracy: 0.6201044386422977\n"
          ],
          "name": "stdout"
        }
      ]
    },
    {
      "cell_type": "markdown",
      "metadata": {
        "id": "NaB6nRK144XE",
        "colab_type": "text"
      },
      "source": [
        "## Classification Report -- Soft Voting\n"
      ]
    },
    {
      "cell_type": "code",
      "metadata": {
        "id": "beA6fPJl47nB",
        "colab_type": "code",
        "outputId": "fc1b39a8-c269-4528-dcca-7ceff105da11",
        "colab": {
          "base_uri": "https://localhost:8080/",
          "height": 191
        }
      },
      "source": [
        "print(classification_report(y_true, y_pred_soft, target_names=target_names, digits=3))"
      ],
      "execution_count": 0,
      "outputs": [
        {
          "output_type": "stream",
          "text": [
            "              precision    recall  f1-score   support\n",
            "\n",
            "    Positive      0.764     0.397     0.523       302\n",
            "     Neutral      0.551     0.793     0.650       280\n",
            "    Negative      0.646     0.723     0.682       184\n",
            "\n",
            "    accuracy                          0.620       766\n",
            "   macro avg      0.654     0.638     0.618       766\n",
            "weighted avg      0.658     0.620     0.608       766\n",
            "\n"
          ],
          "name": "stdout"
        }
      ]
    },
    {
      "cell_type": "markdown",
      "metadata": {
        "id": "Fbo_4AnU40U1",
        "colab_type": "text"
      },
      "source": [
        "## Confusion Matrix -- Soft Voting"
      ]
    },
    {
      "cell_type": "code",
      "metadata": {
        "id": "5awF-TCP4zdr",
        "colab_type": "code",
        "outputId": "177cd1fa-9f51-44cf-e6ef-7e8880c25b9a",
        "colab": {
          "base_uri": "https://localhost:8080/",
          "height": 571
        }
      },
      "source": [
        "from sklearn import metrics \n",
        "import pandas as pd\n",
        "import seaborn as sn\n",
        "cm=metrics.confusion_matrix(y_true,y_pred_soft)\n",
        "import matplotlib.pyplot as plt\n",
        "import tensorflow\n",
        "\n",
        "\n",
        "classes=['Pos' , 'Neu' , 'Neg'] \n",
        "\n",
        "y_pred_final , y_true_final = y_pred_soft - 1 , y_true - 1\n",
        "con_mat = tensorflow.math.confusion_matrix(labels=y_true_final, predictions=y_pred_final).numpy()\n",
        "\n",
        "con_mat_norm = np.around(con_mat.astype('float') / con_mat.sum(axis=1)[:, np.newaxis], decimals=2)\n",
        "\n",
        "con_mat_df = pd.DataFrame(con_mat_norm,\n",
        "                  index = classes, \n",
        "                  columns = classes)\n",
        "\n",
        "\n",
        "figure = plt.figure(figsize=(11, 9))\n",
        "plt.title(\"Soft Voting Confusion Matrix with Scene & Audio\")\n",
        "sn.heatmap(con_mat_df, annot=True,cmap=plt.cm.Blues)"
      ],
      "execution_count": 0,
      "outputs": [
        {
          "output_type": "execute_result",
          "data": {
            "text/plain": [
              "<matplotlib.axes._subplots.AxesSubplot at 0x7fb85a6c1fd0>"
            ]
          },
          "metadata": {
            "tags": []
          },
          "execution_count": 46
        },
        {
          "output_type": "display_data",
          "data": {
            "image/png": "[encoded data removed]",
            "text/plain": [
              "<Figure size 792x648 with 2 Axes>"
            ]
          },
          "metadata": {
            "tags": [],
            "needs_background": "light"
          }
        }
      ]
    },
    {
      "cell_type": "markdown",
      "metadata": {
        "id": "gkXwFCN4NQ1D",
        "colab_type": "text"
      },
      "source": [
        "## Hard Voting Results"
      ]
    },
    {
      "cell_type": "code",
      "metadata": {
        "id": "8YnKQ-StNK6G",
        "colab_type": "code",
        "outputId": "57a346ff-a57a-41dc-9ea6-13d2d7369191",
        "colab": {
          "base_uri": "https://localhost:8080/",
          "height": 1000
        }
      },
      "source": [
        "y_pred_hard , y_true = predict(classifiers, sample_to_true_label , mode=\"hard\")"
      ],
      "execution_count": 0,
      "outputs": [
        {
          "output_type": "stream",
          "text": [
            "Skipping unzipping files as input is a folder\n",
            "Skipping unzipping files as input is a folder\n",
            "Found 766 frames belonging to 766 videos belonging to 3 classes.\n",
            "Min frames determined to be 7\n",
            "Skipping unzipping files as input is a folder\n",
            "['2', '1', '3']\n",
            "Found 766 frames belonging to 766 videos belonging to 3 classes.\n",
            "Min frames determined to be 7\n"
          ],
          "name": "stdout"
        },
        {
          "output_type": "stream",
          "text": [
            "/content/cs231n-emotiw/src/generators/pose_generator.py:135: RuntimeWarning: invalid value encountered in double_scalars\n",
            "  x_new.append((lx[i] - origin_x) / len_x)\n",
            "/content/cs231n-emotiw/src/generators/pose_generator.py:136: RuntimeWarning: invalid value encountered in double_scalars\n",
            "  x_new.append((ly[i] - origin_y) / len_y)\n"
          ],
          "name": "stderr"
        },
        {
          "output_type": "stream",
          "text": [
            "Number of samples: 766\n",
            "[[0.08749045 0.20644732 0.7060622 ]\n",
            " [0.04470335 0.03653668 0.91875994]\n",
            " [0.17676936 0.17970438 0.64352626]\n",
            " [0.25732085 0.34432521 0.3983539 ]]\n",
            "Predicted y-labels:\n",
            "[3. 1. 2. 2. 2. 2. 3. 3. 3. 2. 3. 3. 3. 3. 3. 3. 2. 2. 2. 2. 2. 2. 2. 2.\n",
            " 2. 2. 2. 2. 2. 2. 2. 2. 2. 2. 1. 2. 2. 2. 3. 2. 1. 2. 2. 2. 2. 1. 3. 3.\n",
            " 1. 1. 1. 1. 2. 2. 3. 3. 2. 3. 1. 3. 3. 3. 3. 3. 3. 3. 3. 3. 2. 1. 2. 1.\n",
            " 1. 1. 2. 2. 2. 2. 2. 2. 2. 2. 2. 2. 2. 2. 2. 2. 1. 2. 1. 1. 1. 3. 1. 1.\n",
            " 1. 3. 3. 3. 3. 3. 3. 3. 3. 3. 3. 3. 3. 2. 2. 3. 2. 2. 2. 2. 3. 3. 2. 3.\n",
            " 3. 3. 3. 3. 3. 3. 1. 3. 3. 3. 3. 3. 1. 1. 1. 1. 1. 1. 1. 1. 1. 1. 1. 1.\n",
            " 2. 2. 3. 2. 3. 3. 1. 1. 3. 2. 3. 2. 2. 1. 1. 1. 2. 1. 1. 1. 1. 1. 1. 1.\n",
            " 1. 1. 1. 1. 3. 3. 3. 2. 1. 2. 2. 2. 2. 3. 2. 1. 1. 2. 1. 2. 3. 1. 3. 1.\n",
            " 1. 1. 2. 1. 2. 1. 1. 1. 1. 1. 1. 1. 1. 1. 2. 2. 2. 2. 2. 2. 2. 2. 1. 2.\n",
            " 2. 2. 2. 2. 3. 2. 2. 2. 2. 3. 3. 3. 3. 3. 2. 3. 3. 2. 2. 3. 3. 3. 3. 3.\n",
            " 1. 2. 3. 2. 2. 1. 3. 1. 3. 3. 3. 3. 2. 3. 3. 1. 1. 3. 2. 2. 1. 1. 1. 2.\n",
            " 1. 1. 3. 2. 2. 3. 1. 2. 2. 1. 2. 2. 1. 1. 2. 1. 1. 1. 1. 2. 2. 1. 2. 2.\n",
            " 2. 1. 1. 1. 2. 2. 1. 2. 1. 2. 1. 1. 2. 2. 1. 2. 2. 2. 2. 2. 2. 2. 1. 1.\n",
            " 2. 2. 2. 2. 2. 2. 2. 2. 2. 2. 2. 1. 2. 2. 2. 2. 2. 2. 2. 2. 2. 2. 2. 2.\n",
            " 2. 2. 2. 2. 2. 2. 2. 2. 2. 2. 2. 2. 2. 2. 2. 2. 2. 2. 2. 2. 2. 2. 2. 2.\n",
            " 2. 2. 2. 2. 2. 2. 2. 2. 2. 2. 2. 2. 2. 2. 2. 2. 2. 2. 2. 2. 2. 2. 2. 2.\n",
            " 2. 2. 2. 2. 2. 2. 2. 2. 2. 1. 1. 1. 3. 2. 2. 2. 3. 3. 3. 3. 3. 3. 3. 3.\n",
            " 3. 3. 3. 3. 2. 3. 3. 2. 2. 2. 2. 2. 2. 2. 2. 1. 2. 2. 2. 2. 2. 2. 2. 1.\n",
            " 1. 1. 1. 1. 1. 1. 3. 2. 2. 2. 3. 3. 2. 3. 2. 2. 2. 2. 2. 3. 2. 2. 3. 3.\n",
            " 3. 3. 3. 3. 2. 3. 2. 3. 3. 2. 2. 3. 2. 3. 2. 3. 2. 3. 2. 3. 3. 3. 2. 2.\n",
            " 2. 2. 3. 2. 2. 2. 2. 2. 2. 2. 3. 2. 3. 3. 2. 2. 2. 2. 2. 2. 2. 2. 2. 2.\n",
            " 3. 2. 2. 2. 2. 2. 2. 3. 2. 3. 3. 3. 3. 1. 1. 1. 3. 2. 3. 3. 1. 2. 1. 2.\n",
            " 2. 2. 2. 1. 1. 1. 3. 3. 1. 1. 1. 1. 2. 1. 1. 1. 1. 1. 1. 1. 1. 1. 1. 1.\n",
            " 1. 2. 1. 1. 1. 1. 1. 1. 1. 1. 1. 1. 2. 2. 2. 2. 2. 2. 2. 2. 2. 2. 2. 2.\n",
            " 2. 2. 2. 2. 2. 2. 2. 2. 2. 2. 2. 2. 2. 2. 2. 2. 2. 2. 2. 2. 2. 2. 2. 2.\n",
            " 2. 2. 2. 2. 2. 2. 2. 2. 2. 2. 2. 2. 2. 2. 2. 2. 2. 2. 2. 2. 2. 2. 2. 2.\n",
            " 2. 2. 2. 2. 2. 2. 2. 2. 2. 2. 2. 2. 2. 2. 2. 2. 2. 2. 2. 2. 2. 2. 2. 2.\n",
            " 2. 2. 2. 2. 1. 1. 1. 1. 1. 1. 1. 1. 1. 1. 3. 1. 1. 1. 1. 1. 1. 1. 1. 2.\n",
            " 2. 2. 2. 2. 2. 2. 2. 2. 2. 2. 2. 2. 2. 2. 2. 2. 2. 2. 2. 2. 2. 2. 3. 2.\n",
            " 2. 1. 1. 1. 1. 2. 3. 1. 1. 2. 3. 2. 1. 3. 1. 3. 1. 1. 1. 1. 1. 1. 3. 3.\n",
            " 3. 1. 3. 3. 3. 3. 1. 1. 3. 3. 1. 2. 2. 1. 1. 3. 1. 3. 3. 3. 1. 1. 3. 3.\n",
            " 1. 1. 1. 1. 1. 1. 3. 1. 1. 1. 1. 1. 2. 1. 1. 3. 3. 3. 1. 3. 3. 3.]\n",
            "True y-labels:\n",
            "[3 3 3 2 2 3 3 3 3 3 3 3 3 3 3 3 2 1 1 1 2 1 1 1 1 1 1 1 1 1 1 1 1 2 1 1 1\n",
            " 2 3 3 1 1 2 1 2 1 2 1 1 1 1 1 3 3 3 3 3 2 3 3 2 2 3 3 3 3 3 3 3 2 2 2 3 2\n",
            " 2 2 2 2 2 2 2 2 2 2 1 2 3 3 3 3 1 1 1 1 1 1 1 1 2 2 3 2 1 3 3 2 3 3 3 3 2\n",
            " 3 3 3 3 3 3 3 3 3 3 3 3 3 3 3 3 3 3 3 3 3 1 1 1 1 1 1 1 1 1 1 1 1 2 2 1 1\n",
            " 1 1 1 1 2 1 1 1 2 2 2 2 2 1 1 2 1 1 1 1 2 2 2 2 1 1 3 1 2 2 2 2 2 2 2 2 2\n",
            " 2 2 2 2 2 2 1 2 2 2 2 1 1 1 2 2 1 1 2 1 2 2 2 2 2 2 1 2 1 1 1 1 2 1 2 1 1\n",
            " 3 1 2 1 1 1 1 1 1 1 2 2 1 1 1 1 1 1 1 1 1 1 1 1 1 1 1 1 1 1 1 1 1 1 1 1 1\n",
            " 1 1 2 1 1 1 1 1 1 1 2 1 1 1 1 1 1 1 1 1 2 1 2 2 2 1 1 1 1 2 2 2 2 2 2 2 2\n",
            " 2 1 2 2 2 2 2 2 2 2 2 1 2 1 2 2 2 2 2 1 2 2 2 2 1 2 2 1 1 1 1 1 2 1 2 2 2\n",
            " 2 1 1 1 1 2 2 2 2 2 2 2 2 2 2 2 2 2 2 2 2 2 2 2 2 2 2 2 2 2 2 2 2 2 2 2 2\n",
            " 2 1 2 2 2 2 2 2 2 2 2 2 2 2 2 2 2 2 2 2 2 2 2 1 1 1 3 3 3 3 3 3 3 3 3 3 3\n",
            " 3 3 3 3 3 3 3 3 3 3 2 1 2 2 2 1 2 2 2 1 2 2 2 2 1 1 1 1 1 1 1 2 3 3 2 3 2\n",
            " 3 3 3 3 3 2 3 3 3 3 1 1 3 3 3 3 3 3 3 3 3 3 3 3 3 3 3 3 3 3 3 3 3 3 3 2 3\n",
            " 3 2 3 2 2 3 3 3 3 3 3 3 3 3 3 3 3 3 3 3 3 2 2 3 3 3 3 3 2 3 3 2 3 3 3 3 3\n",
            " 3 1 3 2 3 3 2 2 2 2 2 1 2 1 2 1 3 3 1 2 1 1 1 2 1 1 1 1 1 1 1 1 1 1 1 1 1\n",
            " 1 1 1 1 1 1 1 1 1 1 1 1 1 1 2 3 1 1 1 2 1 2 1 1 1 1 1 1 1 1 1 1 2 2 1 2 2\n",
            " 2 2 2 2 2 1 2 1 1 2 2 1 1 1 1 1 2 1 1 1 1 1 2 2 1 1 2 2 2 1 2 1 2 1 2 2 1\n",
            " 1 1 2 2 2 2 2 2 2 1 2 2 2 2 2 2 2 2 2 2 2 2 2 1 1 1 1 1 1 1 1 1 1 1 1 1 1\n",
            " 1 1 1 1 1 2 1 1 1 2 1 2 2 2 2 2 2 2 1 1 1 1 2 1 1 1 1 1 1 2 2 2 2 2 2 2 2\n",
            " 2 2 2 2 1 2 2 2 2 1 1 1 1 1 1 3 3 3 1 3 3 3 3 1 3 3 3 1 3 1 3 2 3 1 3 3 3\n",
            " 3 1 1 1 1 1 1 1 3 3 1 1 1 1 1 1 1 1 1 3 3 3 3 2 3 3]\n",
            "Accuracy: 0.5809399477806788\n"
          ],
          "name": "stdout"
        }
      ]
    },
    {
      "cell_type": "code",
      "metadata": {
        "id": "iQwfjMTnmYEQ",
        "colab_type": "code",
        "outputId": "eae6543c-93a0-4715-9ad3-4ffc835f0bdf",
        "colab": {
          "base_uri": "https://localhost:8080/",
          "height": 191
        }
      },
      "source": [
        "print(classification_report(y_true, y_pred_hard, target_names=target_names, digits=3))"
      ],
      "execution_count": 0,
      "outputs": [
        {
          "output_type": "stream",
          "text": [
            "              precision    recall  f1-score   support\n",
            "\n",
            "    Positive      0.672     0.440     0.532       302\n",
            "     Neutral      0.514     0.736     0.605       280\n",
            "    Negative      0.635     0.576     0.604       184\n",
            "\n",
            "    accuracy                          0.581       766\n",
            "   macro avg      0.607     0.584     0.580       766\n",
            "weighted avg      0.605     0.581     0.576       766\n",
            "\n"
          ],
          "name": "stdout"
        }
      ]
    },
    {
      "cell_type": "code",
      "metadata": {
        "id": "nMc9KbQ6mqp8",
        "colab_type": "code",
        "outputId": "680337a5-3f0a-4fb4-9e8a-53d5bc121ace",
        "colab": {
          "base_uri": "https://localhost:8080/",
          "height": 613
        }
      },
      "source": [
        "y_pred_final , y_true_final = y_pred_hard - 1 , y_true - 1\n",
        "con_mat = tensorflow.math.confusion_matrix(labels=y_true_final, predictions=y_pred_final).numpy()\n",
        "\n",
        "con_mat_norm = np.around(con_mat.astype('float') / con_mat.sum(axis=1)[:, np.newaxis], decimals=2)\n",
        "\n",
        "con_mat_df = pd.DataFrame(con_mat_norm,\n",
        "                  index = classes, \n",
        "                  columns = classes)\n",
        "\n",
        "\n",
        "figure = plt.figure(figsize=(11, 9))\n",
        "plt.title(\"Hard Voting Confusion Matrix with Scene & Audio\")\n",
        "sn.heatmap(con_mat_df, annot=True,cmap=plt.cm.Blues)\n",
        "\n"
      ],
      "execution_count": 0,
      "outputs": [
        {
          "output_type": "execute_result",
          "data": {
            "text/plain": [
              "<matplotlib.axes._subplots.AxesSubplot at 0x7f5bf3d7eb70>"
            ]
          },
          "metadata": {
            "tags": []
          },
          "execution_count": 32
        },
        {
          "output_type": "display_data",
          "data": {
            "image/png": "[encoded data removed]",
            "text/plain": [
              "<Figure size 792x648 with 2 Axes>"
            ]
          },
          "metadata": {
            "tags": []
          }
        }
      ]
    },
    {
      "cell_type": "code",
      "metadata": {
        "id": "erlA2xY9WUnx",
        "colab_type": "code",
        "colab": {}
      },
      "source": [
        ""
      ],
      "execution_count": 0,
      "outputs": []
    }
  ]
}