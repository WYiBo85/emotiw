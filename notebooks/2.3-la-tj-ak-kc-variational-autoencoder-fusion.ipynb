{
  "nbformat": 4,
  "nbformat_minor": 0,
  "metadata": {
    "colab": {
      "name": "2.3-la-tj-ak-kc-vl-variational-autoencoder-fusion.ipynb",
      "provenance": [],
      "collapsed_sections": [],
      "include_colab_link": true
    },
    "kernelspec": {
      "name": "python3",
      "display_name": "Python 3"
    },
    "accelerator": "GPU"
  },
  "cells": [
    {
      "cell_type": "markdown",
      "metadata": {
        "id": "view-in-github",
        "colab_type": "text"
      },
      "source": [
        "<a href=\"https://colab.research.google.com/github/kevincong95/cs231n-emotiw/blob/master/notebooks/2.3-la-tj-ak-kc-variational-autoencoder-fusion.ipynb\" target=\"_parent\"><img src=\"https://colab.research.google.com/assets/colab-badge.svg\" alt=\"Open In Colab\"/></a>"
      ]
    },
    {
      "cell_type": "markdown",
      "metadata": {
        "id": "pKxxqBwwrOk0",
        "colab_type": "text"
      },
      "source": [
        "# Video Sentiment Analysis in the Wild\n",
        "### Ensembling Notebook | Variational Autoencoder Fusion | CS231n\n",
        "\n",
        "This notebook runs a more complex Variational Autoencoder Fusion model on the predicted outputs of each individual modality. Assumes the preprocessing has already been completed.\n",
        "\n",
        "Contains:\n",
        "- Frame\n",
        "- Audio\n",
        "- Pose\n"
      ]
    },
    {
      "cell_type": "markdown",
      "metadata": {
        "id": "CZWpWBKF7OAn",
        "colab_type": "text"
      },
      "source": [
        "# Preprocessing\n"
      ]
    },
    {
      "cell_type": "markdown",
      "metadata": {
        "id": "Z6mwwTKlWFCN",
        "colab_type": "text"
      },
      "source": [
        "### Are we working with the tiny dataset or the final dataset?"
      ]
    },
    {
      "cell_type": "code",
      "metadata": {
        "id": "iY1doqmoWHzR",
        "colab_type": "code",
        "colab": {}
      },
      "source": [
        "IS_TINY = False"
      ],
      "execution_count": 0,
      "outputs": []
    },
    {
      "cell_type": "markdown",
      "metadata": {
        "colab_type": "text",
        "id": "L1PH-HarmvWD"
      },
      "source": [
        "### Copy Pre-Processed Files"
      ]
    },
    {
      "cell_type": "code",
      "metadata": {
        "id": "QdlpDjXpdiqz",
        "colab_type": "code",
        "outputId": "2555aa81-103a-480a-aa63-0d9149eaf8c8",
        "colab": {
          "base_uri": "https://localhost:8080/",
          "height": 35
        }
      },
      "source": [
        "!ls"
      ],
      "execution_count": 0,
      "outputs": [
        {
          "output_type": "stream",
          "text": [
            "sample_data\n"
          ],
          "name": "stdout"
        }
      ]
    },
    {
      "cell_type": "markdown",
      "metadata": {
        "id": "62U4_AtA4xsz",
        "colab_type": "text"
      },
      "source": [
        "## Run this if you are working with concatenations not written to disk"
      ]
    },
    {
      "cell_type": "code",
      "metadata": {
        "colab_type": "code",
        "outputId": "02512cae-055e-4d2c-d60b-1c7229d561fa",
        "id": "WhS9Mb83mvWR",
        "colab": {
          "base_uri": "https://localhost:8080/",
          "height": 236
        }
      },
      "source": [
        "\n",
        "# FULL_PATH = 'My Drive/cs231n-project/datasets/emotiw'\n",
        "FULL_PATH = 'My Drive/Machine-Learning-Projects/cs231n-project/datasets/emotiw'\n",
        "if IS_TINY:\n",
        "    print(\"Using tiny dataset...\")\n",
        "    !cp /content/drive/'$FULL_PATH'/train-tiny-* .\n",
        "    !cp /content/drive/'$FULL_PATH'/val-tiny-* .\n",
        "else:\n",
        "    print(\"Using final dataset...\")\n",
        "    !cp /content/drive/'$FULL_PATH'/train-final-* .\n",
        "    !cp /content/drive/'$FULL_PATH'/val-final-* .\n",
        "\n",
        "!wget https://storage.googleapis.com/cs231n-emotiw/data/Train_labels.txt\n",
        "!wget https://storage.googleapis.com/cs231n-emotiw/data/Val_labels.txt\n"
      ],
      "execution_count": 0,
      "outputs": [
        {
          "output_type": "error",
          "ename": "NameError",
          "evalue": "ignored",
          "traceback": [
            "\u001b[0;31m---------------------------------------------------------------------------\u001b[0m",
            "\u001b[0;31mNameError\u001b[0m                                 Traceback (most recent call last)",
            "\u001b[0;32m<ipython-input-1-48b04ee91085>\u001b[0m in \u001b[0;36m<module>\u001b[0;34m()\u001b[0m\n\u001b[1;32m      2\u001b[0m \u001b[0;31m# FULL_PATH = 'My Drive/Machine-Learning-Projects/cs231n-project/datasets/emotiw'\u001b[0m\u001b[0;34m\u001b[0m\u001b[0;34m\u001b[0m\u001b[0;34m\u001b[0m\u001b[0m\n\u001b[1;32m      3\u001b[0m \u001b[0mFULL_PATH\u001b[0m \u001b[0;34m=\u001b[0m \u001b[0;34m'My Drive/Machine-Learning-Projects/cs231n-project/datasets/emotiw'\u001b[0m\u001b[0;34m\u001b[0m\u001b[0;34m\u001b[0m\u001b[0m\n\u001b[0;32m----> 4\u001b[0;31m \u001b[0;32mif\u001b[0m \u001b[0mIS_TINY\u001b[0m\u001b[0;34m:\u001b[0m\u001b[0;34m\u001b[0m\u001b[0;34m\u001b[0m\u001b[0m\n\u001b[0m\u001b[1;32m      5\u001b[0m     \u001b[0mprint\u001b[0m\u001b[0;34m(\u001b[0m\u001b[0;34m\"Using tiny dataset...\"\u001b[0m\u001b[0;34m)\u001b[0m\u001b[0;34m\u001b[0m\u001b[0;34m\u001b[0m\u001b[0m\n\u001b[1;32m      6\u001b[0m     \u001b[0mget_ipython\u001b[0m\u001b[0;34m(\u001b[0m\u001b[0;34m)\u001b[0m\u001b[0;34m.\u001b[0m\u001b[0msystem\u001b[0m\u001b[0;34m(\u001b[0m\u001b[0;34m\"cp /content/drive/'$FULL_PATH'/train-tiny-* .\"\u001b[0m\u001b[0;34m)\u001b[0m\u001b[0;34m\u001b[0m\u001b[0;34m\u001b[0m\u001b[0m\n",
            "\u001b[0;31mNameError\u001b[0m: name 'IS_TINY' is not defined"
          ]
        }
      ]
    },
    {
      "cell_type": "code",
      "metadata": {
        "id": "yXxCkE_DUvEv",
        "colab_type": "code",
        "outputId": "b5a71f29-45fa-4173-978b-3b1840f3b8a5",
        "colab": {
          "base_uri": "https://localhost:8080/",
          "height": 52
        }
      },
      "source": [
        "!ls"
      ],
      "execution_count": 0,
      "outputs": [
        {
          "output_type": "stream",
          "text": [
            "drive\t\t\t\t   ensemble-scene-pose-audio-face-v2.zip\n",
            "ensemble-scene-pose-audio-face-v2  sample_data\n"
          ],
          "name": "stdout"
        }
      ]
    },
    {
      "cell_type": "code",
      "metadata": {
        "id": "sqHRPvB5Cm4F",
        "colab_type": "code",
        "colab": {}
      },
      "source": [
        "# RUN THIS FOR TINY FILES (zip does not include root folder)\n",
        "\n",
        "if IS_TINY:\n",
        "    !unzip -d train-tiny-audio train-tiny-audio.zip\n",
        "    !unzip -d train-tiny-faces train-tiny-faces.zip\n",
        "    !unzip -d train-tiny-frames train-tiny-frames.zip\n",
        "    !unzip -d train-tiny-pose train-tiny-pose.zip\n",
        "\n",
        "    !unzip -d val-tiny-audio val-tiny-audio.zip\n",
        "    !unzip -d val-tiny-faces val-tiny-faces.zip\n",
        "    !unzip -d val-tiny-frames val-tiny-frames.zip\n",
        "    !unzip -d val-tiny-pose val-tiny-pose.zip\n",
        "\n",
        "\n",
        "# RUN THIS FOR FINAL FILES (zip includes root folder)\n",
        "\n",
        "if not IS_TINY:\n",
        "    !unzip train-final-audio.zip\n",
        "    !unzip train-final-faces.zip\n",
        "    !unzip train-final-frames.zip\n",
        "    !unzip train-final-pose.zip\n",
        "    !unzip -d train-final-fer train-final-fer.zip\n",
        "\n",
        "    !unzip val-final-audio.zip\n",
        "    !unzip val-final-faces.zip\n",
        "    !unzip val-final-frames.zip\n",
        "    !unzip val-final-pose.zip\n",
        "    !unzip -d val-final-fer val-final-fer.zip\n"
      ],
      "execution_count": 0,
      "outputs": []
    },
    {
      "cell_type": "code",
      "metadata": {
        "id": "gF6Fy4-SLJVP",
        "colab_type": "code",
        "outputId": "9ab4c3fc-81d1-46a8-e507-a9b9c7bedd8f",
        "colab": {
          "base_uri": "https://localhost:8080/",
          "height": 139
        }
      },
      "source": [
        "!ls"
      ],
      "execution_count": 0,
      "outputs": [
        {
          "output_type": "stream",
          "text": [
            "drive\t\t       train-final-frames      val-final-faces\n",
            "sample_data\t       train-final-frames.zip  val-final-faces.zip\n",
            "train-final-audio      train-final-pose        val-final-frames\n",
            "train-final-audio.zip  train-final-pose.zip    val-final-frames.zip\n",
            "train-final-faces      Train_labels.txt        val-final-pose\n",
            "train-final-faces.zip  val-final-audio\t       val-final-pose.zip\n",
            "train-final-fer.zip    val-final-audio.zip     Val_labels.txt\n"
          ],
          "name": "stdout"
        }
      ]
    },
    {
      "cell_type": "markdown",
      "metadata": {
        "id": "0jEaDQAsS8XQ",
        "colab_type": "text"
      },
      "source": [
        "### Run Classifiers"
      ]
    },
    {
      "cell_type": "code",
      "metadata": {
        "colab_type": "code",
        "id": "ZWXpYjHnnCVJ",
        "colab": {}
      },
      "source": [
        "%tensorflow_version 2.x"
      ],
      "execution_count": 0,
      "outputs": []
    },
    {
      "cell_type": "code",
      "metadata": {
        "colab_type": "code",
        "outputId": "1754b6d0-d4f1-41e9-c32a-a33fd9767e5f",
        "id": "kwnwrrfUnCVN",
        "colab": {
          "base_uri": "https://localhost:8080/",
          "height": 35
        }
      },
      "source": [
        "import tensorflow\n",
        "print(tensorflow.__version__)"
      ],
      "execution_count": 0,
      "outputs": [
        {
          "output_type": "stream",
          "text": [
            "2.2.0\n"
          ],
          "name": "stdout"
        }
      ]
    },
    {
      "cell_type": "code",
      "metadata": {
        "id": "pp_USHxwRAVB",
        "colab_type": "code",
        "outputId": "f8f07bbf-357d-4ac5-f003-c8f8503d2214",
        "colab": {
          "base_uri": "https://localhost:8080/",
          "height": 35
        }
      },
      "source": [
        "!pwd"
      ],
      "execution_count": 0,
      "outputs": [
        {
          "output_type": "stream",
          "text": [
            "/content\n"
          ],
          "name": "stdout"
        }
      ]
    },
    {
      "cell_type": "code",
      "metadata": {
        "id": "O_9UA5NPVYro",
        "colab_type": "code",
        "outputId": "cd0349e1-db7a-40ce-ff15-3654cd838353",
        "colab": {
          "base_uri": "https://localhost:8080/",
          "height": 139
        }
      },
      "source": [
        "!git clone 'https://github.com/kevincong95/cs231n-emotiw.git'"
      ],
      "execution_count": 0,
      "outputs": [
        {
          "output_type": "stream",
          "text": [
            "Cloning into 'cs231n-emotiw'...\n",
            "remote: Enumerating objects: 197, done.\u001b[K\n",
            "remote: Counting objects: 100% (197/197), done.\u001b[K\n",
            "remote: Compressing objects: 100% (153/153), done.\u001b[K\n",
            "remote: Total 880 (delta 115), reused 100 (delta 43), pack-reused 683\u001b[K\n",
            "Receiving objects: 100% (880/880), 186.80 MiB | 35.68 MiB/s, done.\n",
            "Resolving deltas: 100% (523/523), done.\n"
          ],
          "name": "stdout"
        }
      ]
    },
    {
      "cell_type": "code",
      "metadata": {
        "id": "Z7kRhNvrVnbt",
        "colab_type": "code",
        "colab": {}
      },
      "source": [
        "!mv train-* cs231n-emotiw\n",
        "!mv val-* cs231n-emotiw"
      ],
      "execution_count": 0,
      "outputs": []
    },
    {
      "cell_type": "code",
      "metadata": {
        "id": "tauiFf5eVtpP",
        "colab_type": "code",
        "colab": {}
      },
      "source": [
        "!mv Train* cs231n-emotiw\n",
        "!mv Val* cs231n-emotiw"
      ],
      "execution_count": 0,
      "outputs": []
    },
    {
      "cell_type": "code",
      "metadata": {
        "id": "qiVbcNhfVwa2",
        "colab_type": "code",
        "outputId": "bf5d2166-4562-4229-e5c9-177b3797d4fa",
        "colab": {
          "base_uri": "https://localhost:8080/",
          "height": 35
        }
      },
      "source": [
        "!ls"
      ],
      "execution_count": 0,
      "outputs": [
        {
          "output_type": "stream",
          "text": [
            "cs231n-emotiw  drive  sample_data\n"
          ],
          "name": "stdout"
        }
      ]
    },
    {
      "cell_type": "code",
      "metadata": {
        "id": "hPM9Vm7gVxuR",
        "colab_type": "code",
        "outputId": "473e49f2-4887-4c2d-ab3e-3186887cdb98",
        "colab": {
          "base_uri": "https://localhost:8080/",
          "height": 35
        }
      },
      "source": [
        "import os\n",
        "os.chdir('/content/cs231n-emotiw')\n",
        "!pwd"
      ],
      "execution_count": 0,
      "outputs": [
        {
          "output_type": "stream",
          "text": [
            "/content/cs231n-emotiw\n"
          ],
          "name": "stdout"
        }
      ]
    },
    {
      "cell_type": "code",
      "metadata": {
        "id": "9xwIeRF_x40m",
        "colab_type": "code",
        "colab": {}
      },
      "source": [
        "# Create the concatenated input layer to feed into FC\n",
        "\n",
        "from src.classifiers.audio_classifier import AudioClassifier\n",
        "from src.classifiers.frames_classifier import FramesClassifier\n",
        "from src.classifiers.pose_classifier import PoseClassifier\n",
        "from src.classifiers.face_classifer import FaceClassifier\n",
        "from src.classifiers.utils import get_num_samples\n",
        "import numpy as np\n",
        "\n",
        "def run_classifier(layers_to_extract, audio_folder='train-final-audio', frames_folder='train-final-frames', pose_folder='train-final-pose', labels_file=\"Train_labels.txt\"):\n",
        "    audio_classifier = AudioClassifier(audio_folder, model_location='https://storage.googleapis.com/cs231n-emotiw/models/openl3-cnn-lstm-tuned-lr.h5', is_test=False)\n",
        "    frames_classifier = FramesClassifier(frames_folder, model_location='https://storage.googleapis.com/cs231n-emotiw/models/scene-classifier-resnet-lstm-x3.h5', is_test=False)\n",
        "    pose_classifier = PoseClassifier(pose_folder, model_location='https://storage.googleapis.com/cs231n-emotiw/models/pose-classifier-64lstm-0.01reg.h5', is_test=False)\n",
        "    \n",
        "    classifiers = [audio_classifier, frames_classifier, pose_classifier]\n",
        "\n",
        "    sample_to_true_label = {}\n",
        "    with open(labels_file) as f:\n",
        "        l = 0\n",
        "        for line in f:\n",
        "            if l == 0:\n",
        "                # Skip headers\n",
        "                l += 1\n",
        "                continue\n",
        "            line_arr = line.split(\" \")\n",
        "            sample_to_true_label[line_arr[0].strip()] = int(line_arr[1].strip()) - 1 # subtract one to make labels from 0 to 2\n",
        "            l += 1\n",
        "\n",
        "    classifier_outputs = []\n",
        "    classifier_samples = []\n",
        "    classifier_dim_sizes = []\n",
        "    output_dim_size = 0\n",
        "    num_samples = 0\n",
        "    sample_to_row = {}\n",
        "\n",
        "    for i, classifier in enumerate(classifiers):\n",
        "        output, samples = classifier.predict(layers_to_extract[i])\n",
        "        output_dim_size += output.shape[1]\n",
        "        classifier_dim_sizes.append(output.shape[1])\n",
        "        num_samples = len(samples)\n",
        "        classifier_outputs.append(output)\n",
        "        classifier_samples.append(samples)\n",
        "\n",
        "\n",
        "    X_train = np.zeros(shape=(num_samples, output_dim_size))\n",
        "    y_train = []\n",
        "\n",
        "    print(f\"Number of samples: {num_samples}\")\n",
        "    print(f\"Dim shapes: \")\n",
        "    print(classifier_dim_sizes)\n",
        "\n",
        "    for i, sample in enumerate(classifier_samples[0]):\n",
        "        sample_to_row[sample] = i\n",
        "        y_train.append(sample_to_true_label[sample])\n",
        "\n",
        "    last_classifier_index = 0\n",
        "    for c, output in enumerate(classifier_outputs):\n",
        "        samples = classifier_samples[c]\n",
        "        print(len(output))\n",
        "        for i, row in enumerate(output):\n",
        "            sample = samples[i]\n",
        "            X_train[sample_to_row[sample], last_classifier_index:last_classifier_index+classifier_dim_sizes[c]] += row\n",
        "        last_classifier_index += classifier_dim_sizes[c]\n",
        "\n",
        "    return X_train, tf.keras.utils.to_categorical(y_train, num_classes=3)\n",
        "\n",
        "\n",
        "\n"
      ],
      "execution_count": 0,
      "outputs": []
    },
    {
      "cell_type": "code",
      "metadata": {
        "id": "1VGA1fl2pNvE",
        "colab_type": "code",
        "outputId": "c9c7b8e4-5282-46ff-b675-67e87ff5eca6",
        "colab": {
          "base_uri": "https://localhost:8080/",
          "height": 988
        }
      },
      "source": [
        "import tensorflow as tf\n",
        "\n",
        "# For each classifier, extract the specific desired layer \n",
        "# (refer to the model summary for the layer names)\n",
        "\n",
        "layers_to_extract = [\n",
        "    \"dense\",\n",
        "    \"concatenate_5\",\n",
        "    \"bidirectional_1\",\n",
        "    \n",
        "]\n",
        "\n",
        "prefix = \"final\"\n",
        "if IS_TINY:\n",
        "    prefix = \"tiny\"\n",
        "\n",
        "X_train, y_train = run_classifier(layers_to_extract, audio_folder=f\"train-{prefix}-audio\", frames_folder=f\"train-{prefix}-frames\", pose_folder=f\"train-{prefix}-pose\", labels_file=\"Train_labels.txt\")\n",
        "X_valid, y_valid = run_classifier(layers_to_extract, audio_folder=f\"val-{prefix}-audio\", frames_folder=f\"val-{prefix}-frames\", pose_folder=f\"val-{prefix}-pose\", labels_file=\"Val_labels.txt\")\n",
        "\n",
        "print(X_train.shape)\n",
        "print(y_train.shape)"
      ],
      "execution_count": 0,
      "outputs": [
        {
          "output_type": "stream",
          "text": [
            "AudioClassifier created with audio_folder = train-final-audio , is_test = False , model_location = https://storage.googleapis.com/cs231n-emotiw/models/openl3-cnn-lstm-tuned-lr.h5\n",
            "WARNING:tensorflow:Layer lstm will not use cuDNN kernel since it doesn't meet the cuDNN kernel criteria. It will use generic GPU kernel as fallback when running on GPU\n",
            "WARNING:tensorflow:Layer lstm will not use cuDNN kernel since it doesn't meet the cuDNN kernel criteria. It will use generic GPU kernel as fallback when running on GPU\n",
            "WARNING:tensorflow:Layer lstm will not use cuDNN kernel since it doesn't meet the cuDNN kernel criteria. It will use generic GPU kernel as fallback when running on GPU\n",
            "FramesClassifier created with frames_folder = train-final-frames , is_test = False , model_location = https://storage.googleapis.com/cs231n-emotiw/models/scene-classifier-resnet-lstm-x3.h5\n",
            "PoseClassifier created with pose_folder = train-final-pose , is_test = False , model_location = https://storage.googleapis.com/cs231n-emotiw/models/pose-classifier-64lstm-0.01reg.h5\n",
            "Skipping unzipping files as input is a folder\n",
            "Customizing model by returning layer dense\n",
            "Skipping unzipping files as input is a folder\n",
            "Found 2661 frames belonging to 2661 videos belonging to 3 classes.\n",
            "Min frames determined to be 7\n",
            "Customizing model by returning layer concatenate_5\n",
            "Skipping unzipping files as input is a folder\n",
            "['2', '1', '3']\n",
            "Found 2661 frames belonging to 2661 videos belonging to 3 classes.\n",
            "Min frames determined to be 7\n",
            "Customizing model by returning layer bidirectional_1\n"
          ],
          "name": "stdout"
        },
        {
          "output_type": "stream",
          "text": [
            "/content/cs231n-emotiw/src/generators/pose_generator.py:136: RuntimeWarning: invalid value encountered in double_scalars\n",
            "  x_new.append((ly[i] - origin_y) / len_y)\n",
            "/content/cs231n-emotiw/src/generators/pose_generator.py:135: RuntimeWarning: invalid value encountered in double_scalars\n",
            "  x_new.append((lx[i] - origin_x) / len_x)\n"
          ],
          "name": "stderr"
        },
        {
          "output_type": "stream",
          "text": [
            "Number of samples: 2661\n",
            "Dim shapes: \n",
            "[32, 30, 128]\n",
            "2661\n",
            "2661\n",
            "2661\n",
            "AudioClassifier created with audio_folder = val-final-audio , is_test = False , model_location = https://storage.googleapis.com/cs231n-emotiw/models/openl3-cnn-lstm-tuned-lr.h5\n",
            "WARNING:tensorflow:Layer lstm will not use cuDNN kernel since it doesn't meet the cuDNN kernel criteria. It will use generic GPU kernel as fallback when running on GPU\n",
            "WARNING:tensorflow:Layer lstm will not use cuDNN kernel since it doesn't meet the cuDNN kernel criteria. It will use generic GPU kernel as fallback when running on GPU\n",
            "WARNING:tensorflow:Layer lstm will not use cuDNN kernel since it doesn't meet the cuDNN kernel criteria. It will use generic GPU kernel as fallback when running on GPU\n",
            "FramesClassifier created with frames_folder = val-final-frames , is_test = False , model_location = https://storage.googleapis.com/cs231n-emotiw/models/scene-classifier-resnet-lstm-x3.h5\n",
            "PoseClassifier created with pose_folder = val-final-pose , is_test = False , model_location = https://storage.googleapis.com/cs231n-emotiw/models/pose-classifier-64lstm-0.01reg.h5\n",
            "Skipping unzipping files as input is a folder\n",
            "Customizing model by returning layer dense\n",
            "Skipping unzipping files as input is a folder\n",
            "Found 766 frames belonging to 766 videos belonging to 3 classes.\n",
            "Min frames determined to be 7\n",
            "Customizing model by returning layer concatenate_5\n",
            "Skipping unzipping files as input is a folder\n",
            "['2', '1', '3']\n",
            "Found 766 frames belonging to 766 videos belonging to 3 classes.\n",
            "Min frames determined to be 7\n",
            "Customizing model by returning layer bidirectional_1\n"
          ],
          "name": "stdout"
        },
        {
          "output_type": "stream",
          "text": [
            "/content/cs231n-emotiw/src/generators/pose_generator.py:135: RuntimeWarning: invalid value encountered in double_scalars\n",
            "  x_new.append((lx[i] - origin_x) / len_x)\n",
            "/content/cs231n-emotiw/src/generators/pose_generator.py:136: RuntimeWarning: invalid value encountered in double_scalars\n",
            "  x_new.append((ly[i] - origin_y) / len_y)\n"
          ],
          "name": "stderr"
        },
        {
          "output_type": "stream",
          "text": [
            "Number of samples: 766\n",
            "Dim shapes: \n",
            "[32, 30, 128]\n",
            "766\n",
            "766\n",
            "766\n",
            "(2661, 190)\n",
            "(2661, 3)\n"
          ],
          "name": "stdout"
        }
      ]
    },
    {
      "cell_type": "code",
      "metadata": {
        "id": "BK2cBr_PN0FU",
        "colab_type": "code",
        "colab": {}
      },
      "source": [
        "y_train = np.argmax(Y_train, axis=1) + 1\n",
        "y_valid = np.argmax(Y_valid, axis=1) + 1"
      ],
      "execution_count": 0,
      "outputs": []
    },
    {
      "cell_type": "code",
      "metadata": {
        "id": "E0uS1aBhegqF",
        "colab_type": "code",
        "colab": {}
      },
      "source": [
        "y_train_np = y_train - 1\n",
        "y_val_np = y_valid - 1 "
      ],
      "execution_count": 0,
      "outputs": []
    },
    {
      "cell_type": "code",
      "metadata": {
        "id": "kXNhfFvFho1Q",
        "colab_type": "code",
        "outputId": "67404c9b-dd99-4551-e419-d79f5618f1d2",
        "colab": {
          "base_uri": "https://localhost:8080/",
          "height": 52
        }
      },
      "source": [
        "!ls"
      ],
      "execution_count": 0,
      "outputs": [
        {
          "output_type": "stream",
          "text": [
            "drive\t\t\t\t   ensemble-scene-pose-audio-face-v2.zip\n",
            "ensemble-scene-pose-audio-face-v2  sample_data\n"
          ],
          "name": "stdout"
        }
      ]
    },
    {
      "cell_type": "markdown",
      "metadata": {
        "id": "AEmbb_hOqF_Z",
        "colab_type": "text"
      },
      "source": [
        "## Load Pre-Classified Ensembling\n",
        "Because I don't want to wait around for the model to predict everything again\n",
        "\n",
        "Pre-Classified in: https://colab.research.google.com/drive/1rAlIfrP4exQ8m4mUIARAag4xlF-rQnHf?authuser=3#scrollTo=VY0tll5ybslJ"
      ]
    },
    {
      "cell_type": "code",
      "metadata": {
        "id": "Yd_wUMuIfI_B",
        "colab_type": "code",
        "outputId": "b13f80e0-85c2-41a3-80ca-e1d723220908",
        "colab": {
          "base_uri": "https://localhost:8080/",
          "height": 55
        }
      },
      "source": [
        "from google.colab import drive\n",
        "drive.mount('/content/drive')"
      ],
      "execution_count": 0,
      "outputs": [
        {
          "output_type": "stream",
          "text": [
            "Drive already mounted at /content/drive; to attempt to forcibly remount, call drive.mount(\"/content/drive\", force_remount=True).\n"
          ],
          "name": "stdout"
        }
      ]
    },
    {
      "cell_type": "code",
      "metadata": {
        "id": "G0zv6L6hhzsP",
        "colab_type": "code",
        "outputId": "79081ce1-beb3-4be2-e94a-eb8c2167174a",
        "colab": {
          "base_uri": "https://localhost:8080/",
          "height": 89
        }
      },
      "source": [
        "# Cheat load pre-classified ensembling input\n",
        "from google.colab import drive\n",
        "drive.mount('/content/drive')\n",
        "\n",
        "!cp /content/drive/'My Drive/Machine-Learning-Projects'/cs231n-project/datasets/emotiw/ensemble-scene-pose-audio-face.zip .\n",
        "!unzip ensemble-scene-pose-audio-face.zip\n"
      ],
      "execution_count": 0,
      "outputs": [
        {
          "output_type": "stream",
          "text": [
            "Drive already mounted at /content/drive; to attempt to forcibly remount, call drive.mount(\"/content/drive\", force_remount=True).\n",
            "Archive:  ensemble-scene-pose-audio-face.zip\n",
            "replace ensemble-scene-pose-audio-face/y_valid.npy? [y]es, [n]o, [A]ll, [N]one, [r]ename: N\n"
          ],
          "name": "stdout"
        }
      ]
    },
    {
      "cell_type": "code",
      "metadata": {
        "id": "-IgMmVPLpxQi",
        "colab_type": "code",
        "colab": {}
      },
      "source": [
        "!ls ensemble-scene-pose-audio-face"
      ],
      "execution_count": 0,
      "outputs": []
    },
    {
      "cell_type": "code",
      "metadata": {
        "id": "MQc6tRpwp13j",
        "colab_type": "code",
        "outputId": "2991ca84-8683-4fb5-99d3-625dd7408915",
        "colab": {
          "base_uri": "https://localhost:8080/",
          "height": 52
        }
      },
      "source": [
        "import numpy as np\n",
        "\n",
        "!cp 'drive/My Drive/Machine-Learning-Projects/cs231n-project/datasets/emotiw/ensemble-scene-pose-audio-face-v2.zip' .\n",
        "!unzip ensemble-scene-pose-audio-face-v2.zip\n"
      ],
      "execution_count": 0,
      "outputs": [
        {
          "output_type": "stream",
          "text": [
            "Archive:  ensemble-scene-pose-audio-face-v2.zip\n",
            "replace ensemble-scene-pose-audio-face-v2/y_valid.npy? [y]es, [n]o, [A]ll, [N]one, [r]ename: N\n"
          ],
          "name": "stdout"
        }
      ]
    },
    {
      "cell_type": "code",
      "metadata": {
        "id": "0khUqR9b0nCm",
        "colab_type": "code",
        "colab": {}
      },
      "source": [
        "\n",
        "X_train = np.load(\"ensemble-scene-pose-audio-face-v2/X_train.npy\")\n",
        "Y_train = np.load(\"ensemble-scene-pose-audio-face-v2/y_train.npy\")\n",
        "X_valid = np.load(\"ensemble-scene-pose-audio-face-v2/X_valid.npy\")\n",
        "Y_valid = np.load(\"ensemble-scene-pose-audio-face-v2/y_valid.npy\")\n",
        "\n"
      ],
      "execution_count": 0,
      "outputs": []
    },
    {
      "cell_type": "code",
      "metadata": {
        "id": "Sl4hQZhJqyeW",
        "colab_type": "code",
        "colab": {}
      },
      "source": [
        "y_train = np.argmax(Y_train, axis=1) + 1\n",
        "y_valid = np.argmax(Y_valid, axis=1) + 1"
      ],
      "execution_count": 0,
      "outputs": []
    },
    {
      "cell_type": "markdown",
      "metadata": {
        "id": "512flL7QmWzp",
        "colab_type": "text"
      },
      "source": [
        "# Variational Autoencoder\n",
        "\n",
        "This code was adapted from the Keras Convolutional VAE tutorial."
      ]
    },
    {
      "cell_type": "code",
      "metadata": {
        "id": "Ro10CMLBWW0D",
        "colab_type": "code",
        "colab": {}
      },
      "source": [
        "y_train_np = y_train - 1\n",
        "y_valid_np = y_valid - 1"
      ],
      "execution_count": 0,
      "outputs": []
    },
    {
      "cell_type": "code",
      "metadata": {
        "id": "OKMJhT8QLJmw",
        "colab_type": "code",
        "colab": {}
      },
      "source": [
        "# Variational Autoencoders\n",
        "# - These are probabalistic autoencoders meaning the output is partly determined by chance\n",
        "# - These are generative and can generate **new** inputs just by looking at the training set. \n",
        "# \n",
        "# There are 2 loss functions\n",
        "# - 1. Reconstruction loss (usual)\n",
        "# - 2. Latent loss: This pushes the autoencoder to have codings that look like they were sampled from a '\n",
        "#       guassian distribution. It is the **divergence** between the target distr and the actual distribution of\n",
        "#       codings.\n",
        "#       L = -1/2(sum(1+ log(sigma^2) - sigma^2 - mu^2)) or \n",
        "#       L = -1/2sum(1 + gamma - exp(gamma) - mu^2) where gamma = log(sigma^2)"
      ],
      "execution_count": 0,
      "outputs": []
    },
    {
      "cell_type": "code",
      "metadata": {
        "id": "YfHHqIQYmc86",
        "colab_type": "code",
        "colab": {}
      },
      "source": [
        "import tensorflow as tf\n",
        "\n",
        "import os\n",
        "import time\n",
        "import numpy as np\n",
        "import glob\n",
        "import matplotlib.pyplot as plt\n",
        "import PIL\n",
        "import imageio\n",
        "\n",
        "from IPython import display"
      ],
      "execution_count": 0,
      "outputs": []
    },
    {
      "cell_type": "code",
      "metadata": {
        "id": "38dvdAwseOzf",
        "colab_type": "code",
        "outputId": "5f26e3b9-882e-49db-bc8d-174914069ea4",
        "colab": {
          "base_uri": "https://localhost:8080/",
          "height": 35
        }
      },
      "source": [
        "import cv2\n",
        "\n",
        "from sklearn.preprocessing import Normalizer , StandardScaler , MinMaxScaler\n",
        "\n",
        "norm = StandardScaler() #Normalizer()\n",
        "X_train_norm = norm.fit_transform(X_train)\n",
        "X_val_norm = norm.fit_transform(X_valid)\n",
        "\n",
        "def reshape_X(input_x):\n",
        "  X_train_expand = np.expand_dims(input_x , axis=1)\n",
        "  all_expanded_x = []\n",
        "  for x in X_train_expand:\n",
        "    X_sample_train = np.concatenate([x]*310)\n",
        "    X_sample_train = cv2.resize(X_sample_train, (28, 28))\n",
        "    all_expanded_x.append(X_sample_train)\n",
        "\n",
        "    \n",
        "  all_expanded_x = np.asarray(all_expanded_x, dtype='float32')\n",
        "  all_expanded_x = np.expand_dims(all_expanded_x , axis=3)\n",
        "  \n",
        "  return all_expanded_x\n",
        "\n",
        "\n",
        "X_train_img = reshape_X(X_train_norm)\n",
        "X_val_img = reshape_X(X_val_norm)\n",
        "print(X_val_img.shape)\n",
        "\n",
        "\n",
        "\n",
        "\n"
      ],
      "execution_count": 0,
      "outputs": [
        {
          "output_type": "stream",
          "text": [
            "(766, 28, 28, 1)\n"
          ],
          "name": "stdout"
        }
      ]
    },
    {
      "cell_type": "markdown",
      "metadata": {
        "id": "xgagQkCm7Eam",
        "colab_type": "text"
      },
      "source": [
        "## Visualize the Concatenated Layers as Images"
      ]
    },
    {
      "cell_type": "code",
      "metadata": {
        "id": "7pbcFgmm6Io9",
        "colab_type": "code",
        "outputId": "75b64c14-b9ff-48e1-efcd-2b48bb315d41",
        "colab": {
          "base_uri": "https://localhost:8080/",
          "height": 437
        }
      },
      "source": [
        "classes = [\"Positive\" , \"Neutral\" , \"Negative\"]\n",
        "\n",
        "def show_batch(all_x, all_y):\n",
        "    plt.figure(figsize=(30,30))\n",
        "    for n in range(0,10):\n",
        "          ax = plt.subplot(5,5,n+1)\n",
        "          plt.imshow(all_x[n].squeeze(), cmap='gray')\n",
        "          plt.title(classes[all_y[n]], fontsize=40)\n",
        "          plt.axis('off')\n",
        "\n",
        "show_batch(X_train_img, y_train_np)"
      ],
      "execution_count": 0,
      "outputs": [
        {
          "output_type": "display_data",
          "data": {
            "image/png": "[encoded data removed]",
            "text/plain": [
              "<Figure size 2160x2160 with 10 Axes>"
            ]
          },
          "metadata": {
            "tags": [],
            "needs_background": "light"
          }
        }
      ]
    },
    {
      "cell_type": "code",
      "metadata": {
        "id": "IbEF7VYqcuVp",
        "colab_type": "code",
        "outputId": "04eec39f-5b3f-47e6-b760-3120597fb083",
        "colab": {
          "base_uri": "https://localhost:8080/",
          "height": 589
        }
      },
      "source": [
        "'''Example of VAE on MNIST dataset using MLP\n",
        "The VAE has a modular design. The encoder, decoder and VAE\n",
        "are 3 models that share weights. After training the VAE model,\n",
        "the encoder can be used to generate latent vectors.\n",
        "The decoder can be used to generate MNIST digits by sampling the\n",
        "latent vector from a Gaussian distribution with mean = 0 and std = 1.\n",
        "# Reference\n",
        "[1] Kingma, Diederik P., and Max Welling.\n",
        "\"Auto-Encoding Variational Bayes.\"\n",
        "https://arxiv.org/abs/1312.6114\n",
        "'''\n",
        "\n",
        "from __future__ import absolute_import\n",
        "from __future__ import division\n",
        "from __future__ import print_function\n",
        "\n",
        "from keras.layers import Lambda, Input, Dense\n",
        "from keras.models import Model\n",
        "from keras.datasets import mnist\n",
        "from keras.losses import mse, binary_crossentropy\n",
        "from keras.utils import plot_model\n",
        "from keras import backend as K\n",
        "\n",
        "import numpy as np\n",
        "import matplotlib.pyplot as plt\n",
        "import argparse\n",
        "import os\n",
        "\n",
        "\n",
        "# reparameterization trick\n",
        "# instead of sampling from Q(z|X), sample epsilon = N(0,I)\n",
        "# z = z_mean + sqrt(var) * epsilon\n",
        "def sampling(args):\n",
        "    \"\"\"Reparameterization trick by sampling from an isotropic unit Gaussian.\n",
        "    # Arguments\n",
        "        args (tensor): mean and log of variance of Q(z|X)\n",
        "    # Returns\n",
        "        z (tensor): sampled latent vector\n",
        "    \"\"\"\n",
        "\n",
        "    z_mean, z_log_var = args\n",
        "    batch = K.shape(z_mean)[0]\n",
        "    dim = K.int_shape(z_mean)[1]\n",
        "    # by default, random_normal has mean = 0 and std = 1.0\n",
        "    epsilon = K.random_normal(shape=(batch, dim))\n",
        "    return z_mean + K.exp(0.5 * z_log_var) * epsilon\n",
        "\n",
        "\n",
        "def plot_results(models,\n",
        "                 data,\n",
        "                 batch_size=128,\n",
        "                 model_name=\"vae_mnist\"):\n",
        "    \"\"\"Plots labels and MNIST digits as a function of the 2D latent vector\n",
        "    # Arguments\n",
        "        models (tuple): encoder and decoder models\n",
        "        data (tuple): test data and label\n",
        "        batch_size (int): prediction batch size\n",
        "        model_name (string): which model is using this function\n",
        "    \"\"\"\n",
        "\n",
        "    encoder, decoder = models\n",
        "    x_test, y_test = data\n",
        "    os.makedirs(model_name, exist_ok=True)\n",
        "\n",
        "    filename = os.path.join(model_name, \"vae_mean.png\")\n",
        "    # display a 2D plot of the digit classes in the latent space\n",
        "    z_mean, _, _ = encoder.predict(x_test,\n",
        "                                   batch_size=batch_size)\n",
        "    plt.figure(figsize=(12, 10))\n",
        "    plt.scatter(z_mean[:, 0], z_mean[:, 1], c=y_test)\n",
        "    plt.colorbar()\n",
        "    plt.xlabel(\"z[0]\")\n",
        "    plt.ylabel(\"z[1]\")\n",
        "    plt.savefig(filename)\n",
        "    plt.show()\n",
        "\n",
        "    # filename = os.path.join(model_name, \"digits_over_latent.png\")\n",
        "    # #display a 30x30 2D manifold of digits\n",
        "    # n = 1\n",
        "    # digit_size = 28\n",
        "    # figure = np.zeros((digit_size * n, digit_size * n))\n",
        "    # # # linearly spaced coordinates corresponding to the 2D plot\n",
        "    # # # of digit classes in the latent space\n",
        "    # grid_x = np.linspace(-4, 4, n)\n",
        "    # grid_y = np.linspace(-4, 4, n)[::-1]\n",
        "\n",
        "    # for i, yi in enumerate(grid_y):\n",
        "    #     for j, xi in enumerate(grid_x):\n",
        "    #         z_sample = np.array([[xi, yi]])\n",
        "    #         x_decoded = decoder.predict(z_sample)\n",
        "    #         digit = x_decoded[0].reshape(digit_size, digit_size)\n",
        "    #         figure[i * digit_size: (i + 1) * digit_size,\n",
        "    #                j * digit_size: (j + 1) * digit_size] = digit\n",
        "\n",
        "    # plt.figure(figsize=(10, 10))\n",
        "    # start_range = digit_size // 2\n",
        "    # end_range = (n - 1) * digit_size + start_range + 1\n",
        "    # pixel_range = np.arange(start_range, end_range, digit_size)\n",
        "    # sample_range_x = np.round(grid_x, 1)\n",
        "    # sample_range_y = np.round(grid_y, 1)\n",
        "    # plt.xticks(pixel_range, sample_range_x)\n",
        "    # plt.yticks(pixel_range, sample_range_y)\n",
        "    # plt.xlabel(\"z[0]\")\n",
        "    # plt.ylabel(\"z[1]\")\n",
        "    # plt.imshow(figure, cmap='Greys_r')\n",
        "    # plt.savefig(filename)\n",
        "    # plt.show()\n",
        "\n",
        "\n",
        "# Our dataset\n",
        "(x_train, y_train), (x_test, y_test) = (X_train_img , y_train_np), (X_val_img, y_valid_np)\n",
        "\n",
        "image_size = x_train.shape[1]\n",
        "original_dim = image_size * image_size\n",
        "x_train = np.reshape(x_train, [-1, original_dim])\n",
        "x_test = np.reshape(x_test, [-1, original_dim])\n",
        "x_train = x_train.astype('float32') / 255\n",
        "x_test = x_test.astype('float32') / 255\n",
        "\n",
        "# network parameters\n",
        "input_shape = (original_dim, )\n",
        "intermediate_dim = 512\n",
        "batch_size = 128\n",
        "latent_dim = 20\n",
        "epochs = 200\n",
        "\n",
        "# VAE model = encoder + decoder\n",
        "# build encoder model\n",
        "inputs = Input(shape=input_shape, name='encoder_input')\n",
        "x = Dense(intermediate_dim, activation='selu')(inputs)\n",
        "z_mean = Dense(latent_dim, name='z_mean')(x)\n",
        "z_log_var = Dense(latent_dim, name='z_log_var')(x)\n",
        "\n",
        "# use reparameterization trick to push the sampling out as input\n",
        "# note that \"output_shape\" isn't necessary with the TensorFlow backend\n",
        "z = Lambda(sampling, output_shape=(latent_dim,), name='z')([z_mean, z_log_var])\n",
        "\n",
        "# instantiate encoder model\n",
        "encoder = Model(inputs, [z_mean, z_log_var, z], name='encoder')\n",
        "encoder.summary()\n",
        "plot_model(encoder, to_file='vae_mlp_encoder.png', show_shapes=True)\n",
        "\n",
        "# build decoder model\n",
        "latent_inputs = Input(shape=(latent_dim,), name='z_sampling')\n",
        "x = Dense(intermediate_dim, activation='selu')(latent_inputs)\n",
        "outputs = Dense(original_dim, activation='sigmoid')(x)\n",
        "\n",
        "# instantiate decoder model\n",
        "decoder = Model(latent_inputs, outputs, name='decoder')\n",
        "decoder.summary()\n",
        "plot_model(decoder, to_file='vae_mlp_decoder.png', show_shapes=True)\n",
        "\n",
        "# instantiate VAE model\n",
        "outputs = decoder(encoder(inputs)[2])\n",
        "vae = Model(inputs, outputs, name='vae_mlp')\n",
        "\n"
      ],
      "execution_count": 0,
      "outputs": [
        {
          "output_type": "stream",
          "text": [
            "Model: \"encoder\"\n",
            "__________________________________________________________________________________________________\n",
            "Layer (type)                    Output Shape         Param #     Connected to                     \n",
            "==================================================================================================\n",
            "encoder_input (InputLayer)      (None, 784)          0                                            \n",
            "__________________________________________________________________________________________________\n",
            "dense_31 (Dense)                (None, 512)          401920      encoder_input[0][0]              \n",
            "__________________________________________________________________________________________________\n",
            "z_mean (Dense)                  (None, 20)           10260       dense_31[0][0]                   \n",
            "__________________________________________________________________________________________________\n",
            "z_log_var (Dense)               (None, 20)           10260       dense_31[0][0]                   \n",
            "__________________________________________________________________________________________________\n",
            "z (Lambda)                      (None, 20)           0           z_mean[0][0]                     \n",
            "                                                                 z_log_var[0][0]                  \n",
            "==================================================================================================\n",
            "Total params: 422,440\n",
            "Trainable params: 422,440\n",
            "Non-trainable params: 0\n",
            "__________________________________________________________________________________________________\n",
            "Model: \"decoder\"\n",
            "_________________________________________________________________\n",
            "Layer (type)                 Output Shape              Param #   \n",
            "=================================================================\n",
            "z_sampling (InputLayer)      (None, 20)                0         \n",
            "_________________________________________________________________\n",
            "dense_32 (Dense)             (None, 512)               10752     \n",
            "_________________________________________________________________\n",
            "dense_33 (Dense)             (None, 784)               402192    \n",
            "=================================================================\n",
            "Total params: 412,944\n",
            "Trainable params: 412,944\n",
            "Non-trainable params: 0\n",
            "_________________________________________________________________\n"
          ],
          "name": "stdout"
        }
      ]
    },
    {
      "cell_type": "code",
      "metadata": {
        "id": "BF6tZb_3fEyt",
        "colab_type": "code",
        "outputId": "5ee50c84-a503-47f3-fb23-f6ed56ff7b02",
        "colab": {
          "base_uri": "https://localhost:8080/",
          "height": 1000
        }
      },
      "source": [
        "import tensorflow\n",
        "models = (encoder, decoder)\n",
        "data = (x_test, y_test)\n",
        "\n",
        "# VAE loss = mse_loss or xent_loss + kl_loss\n",
        "\n",
        "reconstruction_loss = mse(inputs, outputs)\n",
        "\n",
        "reconstruction_loss = binary_crossentropy(inputs,\n",
        "                                              outputs)\n",
        "\n",
        "reconstruction_loss *= original_dim\n",
        "\n",
        "kl_loss = 1 + z_log_var - K.square(z_mean) - K.exp(z_log_var)\n",
        "kl_loss = K.sum(kl_loss, axis=-1)\n",
        "kl_loss *= -0.5\n",
        "vae_loss = K.mean(reconstruction_loss + kl_loss)\n",
        "vae.add_loss(vae_loss)\n",
        "opt = tensorflow.keras.optimizers.Adam(1e-4)\n",
        "vae.compile(optimizer=opt)\n",
        "vae.summary()\n",
        "plot_model(vae,\n",
        "            to_file='vae_mlp.png',\n",
        "            show_shapes=True)\n",
        "\n",
        "# train the autoencoder\n",
        "vae.fit(x_train,\n",
        "        epochs=epochs,\n",
        "        batch_size=batch_size,\n",
        "        validation_data=(x_test, None))\n",
        "vae.save_weights('vae_mlp_mnist.h5')\n",
        "\n",
        "plot_results(models,\n",
        "              data,\n",
        "              batch_size=batch_size,\n",
        "              model_name=\"vae_mlp\")"
      ],
      "execution_count": 0,
      "outputs": [
        {
          "output_type": "stream",
          "text": [
            "/usr/local/lib/python3.6/dist-packages/keras/engine/training_utils.py:819: UserWarning: Output decoder missing from loss dictionary. We assume this was done on purpose. The fit and evaluate APIs will not be expecting any data to be passed to decoder.\n",
            "  'be expecting any data to be passed to {0}.'.format(name))\n"
          ],
          "name": "stderr"
        },
        {
          "output_type": "stream",
          "text": [
            "Model: \"vae_mlp\"\n",
            "_________________________________________________________________\n",
            "Layer (type)                 Output Shape              Param #   \n",
            "=================================================================\n",
            "encoder_input (InputLayer)   (None, 784)               0         \n",
            "_________________________________________________________________\n",
            "encoder (Model)              [(None, 20), (None, 20),  422440    \n",
            "_________________________________________________________________\n",
            "decoder (Model)              (None, 784)               412944    \n",
            "=================================================================\n",
            "Total params: 835,384\n",
            "Trainable params: 835,384\n",
            "Non-trainable params: 0\n",
            "_________________________________________________________________\n",
            "Train on 2661 samples, validate on 766 samples\n",
            "Epoch 1/200\n",
            "2661/2661 [==============================] - 0s 75us/step - loss: 544.1853 - val_loss: 533.2746\n",
            "Epoch 2/200\n",
            "2661/2661 [==============================] - 0s 29us/step - loss: 523.2484 - val_loss: 512.4913\n",
            "Epoch 3/200\n",
            "2661/2661 [==============================] - 0s 29us/step - loss: 498.3877 - val_loss: 479.2290\n",
            "Epoch 4/200\n",
            "2661/2661 [==============================] - 0s 29us/step - loss: 456.1581 - val_loss: 424.8373\n",
            "Epoch 5/200\n",
            "2661/2661 [==============================] - 0s 31us/step - loss: 384.8224 - val_loss: 332.2010\n",
            "Epoch 6/200\n",
            "2661/2661 [==============================] - 0s 29us/step - loss: 273.8541 - val_loss: 209.3893\n",
            "Epoch 7/200\n",
            "2661/2661 [==============================] - 0s 29us/step - loss: 154.2965 - val_loss: 106.8011\n",
            "Epoch 8/200\n",
            "2661/2661 [==============================] - 0s 29us/step - loss: 74.1402 - val_loss: 48.0312\n",
            "Epoch 9/200\n",
            "2661/2661 [==============================] - 0s 32us/step - loss: 36.4015 - val_loss: 26.1906\n",
            "Epoch 10/200\n",
            "2661/2661 [==============================] - 0s 30us/step - loss: 24.0624 - val_loss: 19.7198\n",
            "Epoch 11/200\n",
            "2661/2661 [==============================] - 0s 29us/step - loss: 18.4483 - val_loss: 17.1153\n",
            "Epoch 12/200\n",
            "2661/2661 [==============================] - 0s 30us/step - loss: 15.6013 - val_loss: 15.1344\n",
            "Epoch 13/200\n",
            "2661/2661 [==============================] - 0s 32us/step - loss: 14.2292 - val_loss: 13.5111\n",
            "Epoch 14/200\n",
            "2661/2661 [==============================] - 0s 28us/step - loss: 13.1959 - val_loss: 12.7028\n",
            "Epoch 15/200\n",
            "2661/2661 [==============================] - 0s 29us/step - loss: 12.6680 - val_loss: 12.3124\n",
            "Epoch 16/200\n",
            "2661/2661 [==============================] - 0s 34us/step - loss: 12.3753 - val_loss: 11.8117\n",
            "Epoch 17/200\n",
            "2661/2661 [==============================] - 0s 28us/step - loss: 11.6951 - val_loss: 11.8234\n",
            "Epoch 18/200\n",
            "2661/2661 [==============================] - 0s 31us/step - loss: 11.6128 - val_loss: 11.5747\n",
            "Epoch 19/200\n",
            "2661/2661 [==============================] - 0s 30us/step - loss: 11.2475 - val_loss: 10.9940\n",
            "Epoch 20/200\n",
            "2661/2661 [==============================] - 0s 28us/step - loss: 11.0249 - val_loss: 10.8407\n",
            "Epoch 21/200\n",
            "2661/2661 [==============================] - 0s 29us/step - loss: 10.6457 - val_loss: 10.7566\n",
            "Epoch 22/200\n",
            "2661/2661 [==============================] - 0s 35us/step - loss: 10.5526 - val_loss: 10.5868\n",
            "Epoch 23/200\n",
            "2661/2661 [==============================] - 0s 29us/step - loss: 10.3982 - val_loss: 10.3978\n",
            "Epoch 24/200\n",
            "2661/2661 [==============================] - 0s 29us/step - loss: 10.0967 - val_loss: 10.1504\n",
            "Epoch 25/200\n",
            "2661/2661 [==============================] - 0s 29us/step - loss: 9.9962 - val_loss: 10.1708\n",
            "Epoch 26/200\n",
            "2661/2661 [==============================] - 0s 32us/step - loss: 9.7329 - val_loss: 9.8528\n",
            "Epoch 27/200\n",
            "2661/2661 [==============================] - 0s 29us/step - loss: 9.7330 - val_loss: 9.7112\n",
            "Epoch 28/200\n",
            "2661/2661 [==============================] - 0s 29us/step - loss: 9.5849 - val_loss: 9.5598\n",
            "Epoch 29/200\n",
            "2661/2661 [==============================] - 0s 29us/step - loss: 9.4931 - val_loss: 9.3193\n",
            "Epoch 30/200\n",
            "2661/2661 [==============================] - 0s 29us/step - loss: 9.3063 - val_loss: 9.2301\n",
            "Epoch 31/200\n",
            "2661/2661 [==============================] - 0s 32us/step - loss: 9.1602 - val_loss: 8.9589\n",
            "Epoch 32/200\n",
            "2661/2661 [==============================] - 0s 29us/step - loss: 8.9511 - val_loss: 9.1687\n",
            "Epoch 33/200\n",
            "2661/2661 [==============================] - 0s 29us/step - loss: 8.8038 - val_loss: 8.7909\n",
            "Epoch 34/200\n",
            "2661/2661 [==============================] - 0s 29us/step - loss: 8.8334 - val_loss: 8.6243\n",
            "Epoch 35/200\n",
            "2661/2661 [==============================] - 0s 34us/step - loss: 8.6011 - val_loss: 8.4529\n",
            "Epoch 36/200\n",
            "2661/2661 [==============================] - 0s 28us/step - loss: 8.3981 - val_loss: 8.5060\n",
            "Epoch 37/200\n",
            "2661/2661 [==============================] - 0s 28us/step - loss: 8.3032 - val_loss: 8.2555\n",
            "Epoch 38/200\n",
            "2661/2661 [==============================] - 0s 30us/step - loss: 8.1803 - val_loss: 8.2346\n",
            "Epoch 39/200\n",
            "2661/2661 [==============================] - 0s 37us/step - loss: 8.0216 - val_loss: 8.2712\n",
            "Epoch 40/200\n",
            "2661/2661 [==============================] - 0s 30us/step - loss: 7.9807 - val_loss: 8.1535\n",
            "Epoch 41/200\n",
            "2661/2661 [==============================] - 0s 29us/step - loss: 7.9187 - val_loss: 7.6565\n",
            "Epoch 42/200\n",
            "2661/2661 [==============================] - 0s 29us/step - loss: 7.8874 - val_loss: 7.8165\n",
            "Epoch 43/200\n",
            "2661/2661 [==============================] - 0s 30us/step - loss: 7.7917 - val_loss: 7.5317\n",
            "Epoch 44/200\n",
            "2661/2661 [==============================] - 0s 29us/step - loss: 7.6144 - val_loss: 7.4137\n",
            "Epoch 45/200\n",
            "2661/2661 [==============================] - 0s 28us/step - loss: 7.6483 - val_loss: 7.5945\n",
            "Epoch 46/200\n",
            "2661/2661 [==============================] - 0s 30us/step - loss: 7.3940 - val_loss: 7.1535\n",
            "Epoch 47/200\n",
            "2661/2661 [==============================] - 0s 31us/step - loss: 7.4834 - val_loss: 7.8089\n",
            "Epoch 48/200\n",
            "2661/2661 [==============================] - 0s 31us/step - loss: 7.5678 - val_loss: 7.3685\n",
            "Epoch 49/200\n",
            "2661/2661 [==============================] - 0s 29us/step - loss: 7.2435 - val_loss: 7.2754\n",
            "Epoch 50/200\n",
            "2661/2661 [==============================] - 0s 29us/step - loss: 7.0873 - val_loss: 7.0003\n",
            "Epoch 51/200\n",
            "2661/2661 [==============================] - 0s 32us/step - loss: 7.0946 - val_loss: 7.6688\n",
            "Epoch 52/200\n",
            "2661/2661 [==============================] - 0s 29us/step - loss: 6.9487 - val_loss: 6.7051\n",
            "Epoch 53/200\n",
            "2661/2661 [==============================] - 0s 29us/step - loss: 6.9184 - val_loss: 6.8692\n",
            "Epoch 54/200\n",
            "2661/2661 [==============================] - 0s 31us/step - loss: 6.7597 - val_loss: 6.9475\n",
            "Epoch 55/200\n",
            "2661/2661 [==============================] - 0s 30us/step - loss: 6.7529 - val_loss: 7.0846\n",
            "Epoch 56/200\n",
            "2661/2661 [==============================] - 0s 30us/step - loss: 6.8801 - val_loss: 7.2384\n",
            "Epoch 57/200\n",
            "2661/2661 [==============================] - 0s 29us/step - loss: 6.8396 - val_loss: 6.9686\n",
            "Epoch 58/200\n",
            "2661/2661 [==============================] - 0s 30us/step - loss: 6.4806 - val_loss: 6.5814\n",
            "Epoch 59/200\n",
            "2661/2661 [==============================] - 0s 29us/step - loss: 6.7070 - val_loss: 6.4968\n",
            "Epoch 60/200\n",
            "2661/2661 [==============================] - 0s 34us/step - loss: 6.4697 - val_loss: 6.4907\n",
            "Epoch 61/200\n",
            "2661/2661 [==============================] - 0s 31us/step - loss: 6.7497 - val_loss: 7.0957\n",
            "Epoch 62/200\n",
            "2661/2661 [==============================] - 0s 29us/step - loss: 6.3705 - val_loss: 6.2307\n",
            "Epoch 63/200\n",
            "2661/2661 [==============================] - 0s 32us/step - loss: 6.5313 - val_loss: 6.4658\n",
            "Epoch 64/200\n",
            "2661/2661 [==============================] - 0s 31us/step - loss: 6.5125 - val_loss: 6.0760\n",
            "Epoch 65/200\n",
            "2661/2661 [==============================] - 0s 28us/step - loss: 6.5856 - val_loss: 6.0955\n",
            "Epoch 66/200\n",
            "2661/2661 [==============================] - 0s 28us/step - loss: 6.4281 - val_loss: 6.3087\n",
            "Epoch 67/200\n",
            "2661/2661 [==============================] - 0s 29us/step - loss: 6.7499 - val_loss: 6.3108\n",
            "Epoch 68/200\n",
            "2661/2661 [==============================] - 0s 30us/step - loss: 6.1046 - val_loss: 6.1232\n",
            "Epoch 69/200\n",
            "2661/2661 [==============================] - 0s 30us/step - loss: 6.3037 - val_loss: 5.8084\n",
            "Epoch 70/200\n",
            "2661/2661 [==============================] - 0s 28us/step - loss: 6.1229 - val_loss: 5.8666\n",
            "Epoch 71/200\n",
            "2661/2661 [==============================] - 0s 31us/step - loss: 6.1356 - val_loss: 6.3125\n",
            "Epoch 72/200\n",
            "2661/2661 [==============================] - 0s 29us/step - loss: 5.9413 - val_loss: 5.5660\n",
            "Epoch 73/200\n",
            "2661/2661 [==============================] - 0s 33us/step - loss: 6.0527 - val_loss: 5.7595\n",
            "Epoch 74/200\n",
            "2661/2661 [==============================] - 0s 30us/step - loss: 6.5563 - val_loss: 6.1167\n",
            "Epoch 75/200\n",
            "2661/2661 [==============================] - 0s 28us/step - loss: 5.8543 - val_loss: 5.9237\n",
            "Epoch 76/200\n",
            "2661/2661 [==============================] - 0s 32us/step - loss: 5.7970 - val_loss: 8.7137\n",
            "Epoch 77/200\n",
            "2661/2661 [==============================] - 0s 29us/step - loss: 5.6214 - val_loss: 5.6154\n",
            "Epoch 78/200\n",
            "2661/2661 [==============================] - 0s 30us/step - loss: 5.8896 - val_loss: 5.3925\n",
            "Epoch 79/200\n",
            "2661/2661 [==============================] - 0s 29us/step - loss: 5.5878 - val_loss: 5.5363\n",
            "Epoch 80/200\n",
            "2661/2661 [==============================] - 0s 29us/step - loss: 5.7790 - val_loss: 5.7117\n",
            "Epoch 81/200\n",
            "2661/2661 [==============================] - 0s 30us/step - loss: 5.8116 - val_loss: 5.5509\n",
            "Epoch 82/200\n",
            "2661/2661 [==============================] - 0s 30us/step - loss: 5.4434 - val_loss: 6.6018\n",
            "Epoch 83/200\n",
            "2661/2661 [==============================] - 0s 29us/step - loss: 5.8524 - val_loss: 6.4206\n",
            "Epoch 84/200\n",
            "2661/2661 [==============================] - 0s 28us/step - loss: 5.5777 - val_loss: 5.6072\n",
            "Epoch 85/200\n",
            "2661/2661 [==============================] - 0s 30us/step - loss: 5.8961 - val_loss: 5.6812\n",
            "Epoch 86/200\n",
            "2661/2661 [==============================] - 0s 34us/step - loss: 5.5399 - val_loss: 5.2019\n",
            "Epoch 87/200\n",
            "2661/2661 [==============================] - 0s 31us/step - loss: 5.3619 - val_loss: 7.2779\n",
            "Epoch 88/200\n",
            "2661/2661 [==============================] - 0s 29us/step - loss: 5.8013 - val_loss: 5.2328\n",
            "Epoch 89/200\n",
            "2661/2661 [==============================] - 0s 32us/step - loss: 5.6724 - val_loss: 5.6447\n",
            "Epoch 90/200\n",
            "2661/2661 [==============================] - 0s 28us/step - loss: 5.5697 - val_loss: 5.1906\n",
            "Epoch 91/200\n",
            "2661/2661 [==============================] - 0s 27us/step - loss: 5.7628 - val_loss: 5.7610\n",
            "Epoch 92/200\n",
            "2661/2661 [==============================] - 0s 29us/step - loss: 5.9512 - val_loss: 5.1857\n",
            "Epoch 93/200\n",
            "2661/2661 [==============================] - 0s 29us/step - loss: 5.5541 - val_loss: 5.3594\n",
            "Epoch 94/200\n",
            "2661/2661 [==============================] - 0s 31us/step - loss: 5.3014 - val_loss: 5.7924\n",
            "Epoch 95/200\n",
            "2661/2661 [==============================] - 0s 31us/step - loss: 5.5740 - val_loss: 5.2218\n",
            "Epoch 96/200\n",
            "2661/2661 [==============================] - 0s 32us/step - loss: 5.5439 - val_loss: 5.1071\n",
            "Epoch 97/200\n",
            "2661/2661 [==============================] - 0s 29us/step - loss: 5.2509 - val_loss: 5.0260\n",
            "Epoch 98/200\n",
            "2661/2661 [==============================] - 0s 31us/step - loss: 5.1274 - val_loss: 5.2862\n",
            "Epoch 99/200\n",
            "2661/2661 [==============================] - 0s 30us/step - loss: 5.1217 - val_loss: 5.5564\n",
            "Epoch 100/200\n",
            "2661/2661 [==============================] - 0s 28us/step - loss: 5.2042 - val_loss: 5.3669\n",
            "Epoch 101/200\n",
            "2661/2661 [==============================] - 0s 30us/step - loss: 5.2256 - val_loss: 4.9199\n",
            "Epoch 102/200\n",
            "2661/2661 [==============================] - 0s 33us/step - loss: 5.4061 - val_loss: 4.9276\n",
            "Epoch 103/200\n",
            "2661/2661 [==============================] - 0s 29us/step - loss: 5.0091 - val_loss: 5.2130\n",
            "Epoch 104/200\n",
            "2661/2661 [==============================] - 0s 30us/step - loss: 4.9690 - val_loss: 4.7655\n",
            "Epoch 105/200\n",
            "2661/2661 [==============================] - 0s 30us/step - loss: 5.4568 - val_loss: 5.3665\n",
            "Epoch 106/200\n",
            "2661/2661 [==============================] - 0s 28us/step - loss: 4.8316 - val_loss: 4.9713\n",
            "Epoch 107/200\n",
            "2661/2661 [==============================] - 0s 29us/step - loss: 4.7801 - val_loss: 4.9138\n",
            "Epoch 108/200\n",
            "2661/2661 [==============================] - 0s 29us/step - loss: 4.8946 - val_loss: 4.9474\n",
            "Epoch 109/200\n",
            "2661/2661 [==============================] - 0s 30us/step - loss: 4.8445 - val_loss: 5.9872\n",
            "Epoch 110/200\n",
            "2661/2661 [==============================] - 0s 30us/step - loss: 5.2579 - val_loss: 4.7049\n",
            "Epoch 111/200\n",
            "2661/2661 [==============================] - 0s 33us/step - loss: 4.8281 - val_loss: 6.8144\n",
            "Epoch 112/200\n",
            "2661/2661 [==============================] - 0s 28us/step - loss: 4.8386 - val_loss: 5.7857\n",
            "Epoch 113/200\n",
            "2661/2661 [==============================] - 0s 29us/step - loss: 5.1563 - val_loss: 5.0702\n",
            "Epoch 114/200\n",
            "2661/2661 [==============================] - 0s 32us/step - loss: 5.0367 - val_loss: 5.1967\n",
            "Epoch 115/200\n",
            "2661/2661 [==============================] - 0s 29us/step - loss: 5.4853 - val_loss: 5.4792\n",
            "Epoch 116/200\n",
            "2661/2661 [==============================] - 0s 29us/step - loss: 5.2832 - val_loss: 5.9480\n",
            "Epoch 117/200\n",
            "2661/2661 [==============================] - 0s 30us/step - loss: 5.0507 - val_loss: 4.8861\n",
            "Epoch 118/200\n",
            "2661/2661 [==============================] - 0s 30us/step - loss: 4.8159 - val_loss: 4.7195\n",
            "Epoch 119/200\n",
            "2661/2661 [==============================] - 0s 29us/step - loss: 4.6205 - val_loss: 5.6423\n",
            "Epoch 120/200\n",
            "2661/2661 [==============================] - 0s 29us/step - loss: 5.8032 - val_loss: 4.7391\n",
            "Epoch 121/200\n",
            "2661/2661 [==============================] - 0s 27us/step - loss: 5.2711 - val_loss: 5.2376\n",
            "Epoch 122/200\n",
            "2661/2661 [==============================] - 0s 28us/step - loss: 5.1730 - val_loss: 4.6631\n",
            "Epoch 123/200\n",
            "2661/2661 [==============================] - 0s 29us/step - loss: 4.6932 - val_loss: 4.6576\n",
            "Epoch 124/200\n",
            "2661/2661 [==============================] - 0s 33us/step - loss: 4.7458 - val_loss: 4.6009\n",
            "Epoch 125/200\n",
            "2661/2661 [==============================] - 0s 28us/step - loss: 5.5136 - val_loss: 5.6385\n",
            "Epoch 126/200\n",
            "2661/2661 [==============================] - 0s 30us/step - loss: 4.5718 - val_loss: 4.8754\n",
            "Epoch 127/200\n",
            "2661/2661 [==============================] - 0s 31us/step - loss: 4.9388 - val_loss: 4.4834\n",
            "Epoch 128/200\n",
            "2661/2661 [==============================] - 0s 29us/step - loss: 5.4808 - val_loss: 4.6725\n",
            "Epoch 129/200\n",
            "2661/2661 [==============================] - 0s 29us/step - loss: 4.9268 - val_loss: 4.8634\n",
            "Epoch 130/200\n",
            "2661/2661 [==============================] - 0s 31us/step - loss: 4.5459 - val_loss: 4.8263\n",
            "Epoch 131/200\n",
            "2661/2661 [==============================] - 0s 29us/step - loss: 5.3224 - val_loss: 4.4012\n",
            "Epoch 132/200\n",
            "2661/2661 [==============================] - 0s 29us/step - loss: 4.5286 - val_loss: 4.7471\n",
            "Epoch 133/200\n",
            "2661/2661 [==============================] - 0s 31us/step - loss: 4.6719 - val_loss: 4.4982\n",
            "Epoch 134/200\n",
            "2661/2661 [==============================] - 0s 29us/step - loss: 4.4868 - val_loss: 5.2720\n",
            "Epoch 135/200\n",
            "2661/2661 [==============================] - 0s 28us/step - loss: 4.8834 - val_loss: 5.4751\n",
            "Epoch 136/200\n",
            "2661/2661 [==============================] - 0s 29us/step - loss: 4.8473 - val_loss: 5.1748\n",
            "Epoch 137/200\n",
            "2661/2661 [==============================] - 0s 34us/step - loss: 4.7644 - val_loss: 4.9776\n",
            "Epoch 138/200\n",
            "2661/2661 [==============================] - 0s 28us/step - loss: 4.7388 - val_loss: 5.0530\n",
            "Epoch 139/200\n",
            "2661/2661 [==============================] - 0s 30us/step - loss: 4.3241 - val_loss: 4.4608\n",
            "Epoch 140/200\n",
            "2661/2661 [==============================] - 0s 31us/step - loss: 5.0172 - val_loss: 4.4933\n",
            "Epoch 141/200\n",
            "2661/2661 [==============================] - 0s 30us/step - loss: 5.1724 - val_loss: 4.5146\n",
            "Epoch 142/200\n",
            "2661/2661 [==============================] - 0s 29us/step - loss: 4.6792 - val_loss: 4.4824\n",
            "Epoch 143/200\n",
            "2661/2661 [==============================] - 0s 29us/step - loss: 4.3389 - val_loss: 4.1865\n",
            "Epoch 144/200\n",
            "2661/2661 [==============================] - 0s 32us/step - loss: 4.1574 - val_loss: 3.8997\n",
            "Epoch 145/200\n",
            "2661/2661 [==============================] - 0s 34us/step - loss: 4.5772 - val_loss: 5.1148\n",
            "Epoch 146/200\n",
            "2661/2661 [==============================] - 0s 30us/step - loss: 4.7213 - val_loss: 4.4377\n",
            "Epoch 147/200\n",
            "2661/2661 [==============================] - 0s 30us/step - loss: 5.1038 - val_loss: 4.5217\n",
            "Epoch 148/200\n",
            "2661/2661 [==============================] - 0s 29us/step - loss: 4.3498 - val_loss: 5.1370\n",
            "Epoch 149/200\n",
            "2661/2661 [==============================] - 0s 33us/step - loss: 5.0621 - val_loss: 4.2500\n",
            "Epoch 150/200\n",
            "2661/2661 [==============================] - 0s 30us/step - loss: 4.5620 - val_loss: 4.7681\n",
            "Epoch 151/200\n",
            "2661/2661 [==============================] - 0s 29us/step - loss: 4.2733 - val_loss: 4.2140\n",
            "Epoch 152/200\n",
            "2661/2661 [==============================] - 0s 32us/step - loss: 5.3744 - val_loss: 4.4031\n",
            "Epoch 153/200\n",
            "2661/2661 [==============================] - 0s 29us/step - loss: 4.6469 - val_loss: 4.1672\n",
            "Epoch 154/200\n",
            "2661/2661 [==============================] - 0s 29us/step - loss: 4.8419 - val_loss: 4.6086\n",
            "Epoch 155/200\n",
            "2661/2661 [==============================] - 0s 30us/step - loss: 4.8772 - val_loss: 4.3947\n",
            "Epoch 156/200\n",
            "2661/2661 [==============================] - 0s 30us/step - loss: 4.6893 - val_loss: 4.2531\n",
            "Epoch 157/200\n",
            "2661/2661 [==============================] - 0s 29us/step - loss: 4.3400 - val_loss: 4.4424\n",
            "Epoch 158/200\n",
            "2661/2661 [==============================] - 0s 30us/step - loss: 4.4422 - val_loss: 3.9844\n",
            "Epoch 159/200\n",
            "2661/2661 [==============================] - 0s 29us/step - loss: 4.0376 - val_loss: 4.5785\n",
            "Epoch 160/200\n",
            "2661/2661 [==============================] - 0s 32us/step - loss: 5.0074 - val_loss: 4.3802\n",
            "Epoch 161/200\n",
            "2661/2661 [==============================] - 0s 29us/step - loss: 4.2970 - val_loss: 4.2699\n",
            "Epoch 162/200\n",
            "2661/2661 [==============================] - 0s 32us/step - loss: 4.1852 - val_loss: 6.6566\n",
            "Epoch 163/200\n",
            "2661/2661 [==============================] - 0s 30us/step - loss: 4.5929 - val_loss: 6.9464\n",
            "Epoch 164/200\n",
            "2661/2661 [==============================] - 0s 30us/step - loss: 4.0032 - val_loss: 3.9928\n",
            "Epoch 165/200\n",
            "2661/2661 [==============================] - 0s 33us/step - loss: 4.2289 - val_loss: 3.6452\n",
            "Epoch 166/200\n",
            "2661/2661 [==============================] - 0s 29us/step - loss: 4.3895 - val_loss: 4.0304\n",
            "Epoch 167/200\n",
            "2661/2661 [==============================] - 0s 29us/step - loss: 4.3816 - val_loss: 3.9034\n",
            "Epoch 168/200\n",
            "2661/2661 [==============================] - 0s 30us/step - loss: 4.3060 - val_loss: 4.7533\n",
            "Epoch 169/200\n",
            "2661/2661 [==============================] - 0s 29us/step - loss: 3.9516 - val_loss: 4.7775\n",
            "Epoch 170/200\n",
            "2661/2661 [==============================] - 0s 29us/step - loss: 4.1272 - val_loss: 4.5128\n",
            "Epoch 171/200\n",
            "2661/2661 [==============================] - 0s 29us/step - loss: 4.5869 - val_loss: 4.2581\n",
            "Epoch 172/200\n",
            "2661/2661 [==============================] - 0s 29us/step - loss: 4.1636 - val_loss: 3.9283\n",
            "Epoch 173/200\n",
            "2661/2661 [==============================] - 0s 32us/step - loss: 4.1709 - val_loss: 3.9572\n",
            "Epoch 174/200\n",
            "2661/2661 [==============================] - 0s 30us/step - loss: 5.3086 - val_loss: 4.0755\n",
            "Epoch 175/200\n",
            "2661/2661 [==============================] - 0s 35us/step - loss: 4.4022 - val_loss: 4.0065\n",
            "Epoch 176/200\n",
            "2661/2661 [==============================] - 0s 30us/step - loss: 4.0405 - val_loss: 6.1609\n",
            "Epoch 177/200\n",
            "2661/2661 [==============================] - 0s 32us/step - loss: 3.8924 - val_loss: 4.2431\n",
            "Epoch 178/200\n",
            "2661/2661 [==============================] - 0s 28us/step - loss: 3.6032 - val_loss: 7.3656\n",
            "Epoch 179/200\n",
            "2661/2661 [==============================] - 0s 30us/step - loss: 4.5422 - val_loss: 4.4336\n",
            "Epoch 180/200\n",
            "2661/2661 [==============================] - 0s 29us/step - loss: 4.7468 - val_loss: 8.2452\n",
            "Epoch 181/200\n",
            "2661/2661 [==============================] - 0s 31us/step - loss: 3.9423 - val_loss: 4.3088\n",
            "Epoch 182/200\n",
            "2661/2661 [==============================] - 0s 30us/step - loss: 4.0188 - val_loss: 6.9453\n",
            "Epoch 183/200\n",
            "2661/2661 [==============================] - 0s 29us/step - loss: 5.1951 - val_loss: 4.6668\n",
            "Epoch 184/200\n",
            "2661/2661 [==============================] - 0s 30us/step - loss: 4.2042 - val_loss: 4.0598\n",
            "Epoch 185/200\n",
            "2661/2661 [==============================] - 0s 29us/step - loss: 4.2494 - val_loss: 4.1280\n",
            "Epoch 186/200\n",
            "2661/2661 [==============================] - 0s 29us/step - loss: 4.0633 - val_loss: 3.8939\n",
            "Epoch 187/200\n",
            "2661/2661 [==============================] - 0s 28us/step - loss: 4.2946 - val_loss: 4.8015\n",
            "Epoch 188/200\n",
            "2661/2661 [==============================] - 0s 33us/step - loss: 4.0597 - val_loss: 4.1902\n",
            "Epoch 189/200\n",
            "2661/2661 [==============================] - 0s 33us/step - loss: 3.8899 - val_loss: 3.6383\n",
            "Epoch 190/200\n",
            "2661/2661 [==============================] - 0s 33us/step - loss: 4.5699 - val_loss: 3.9059\n",
            "Epoch 191/200\n",
            "2661/2661 [==============================] - 0s 32us/step - loss: 3.7958 - val_loss: 3.8124\n",
            "Epoch 192/200\n",
            "2661/2661 [==============================] - 0s 30us/step - loss: 3.7277 - val_loss: 4.8142\n",
            "Epoch 193/200\n",
            "2661/2661 [==============================] - 0s 31us/step - loss: 3.9186 - val_loss: 3.5242\n",
            "Epoch 194/200\n",
            "2661/2661 [==============================] - 0s 34us/step - loss: 3.9175 - val_loss: 5.1281\n",
            "Epoch 195/200\n",
            "2661/2661 [==============================] - 0s 29us/step - loss: 4.1641 - val_loss: 3.6742\n",
            "Epoch 196/200\n",
            "2661/2661 [==============================] - 0s 32us/step - loss: 4.1505 - val_loss: 6.3916\n",
            "Epoch 197/200\n",
            "2661/2661 [==============================] - 0s 31us/step - loss: 3.7192 - val_loss: 3.3911\n",
            "Epoch 198/200\n",
            "2661/2661 [==============================] - 0s 29us/step - loss: 4.2357 - val_loss: 3.6956\n",
            "Epoch 199/200\n",
            "2661/2661 [==============================] - 0s 29us/step - loss: 4.0719 - val_loss: 3.8134\n",
            "Epoch 200/200\n",
            "2661/2661 [==============================] - 0s 32us/step - loss: 4.5540 - val_loss: 3.7023\n"
          ],
          "name": "stdout"
        },
        {
          "output_type": "display_data",
          "data": {
            "image/png": "[encoded data removed]",
            "text/plain": [
              "<Figure size 864x720 with 2 Axes>"
            ]
          },
          "metadata": {
            "tags": [],
            "needs_background": "light"
          }
        }
      ]
    },
    {
      "cell_type": "code",
      "metadata": {
        "id": "-tP6HOCi00Xi",
        "colab_type": "code",
        "outputId": "eba0e218-bd81-456a-b9ee-7949cd5d2ffa",
        "colab": {
          "base_uri": "https://localhost:8080/",
          "height": 52
        }
      },
      "source": [
        "print(x_train.shape)\n",
        "print(x_test.shape)"
      ],
      "execution_count": 0,
      "outputs": [
        {
          "output_type": "stream",
          "text": [
            "(2661, 784)\n",
            "(766, 784)\n"
          ],
          "name": "stdout"
        }
      ]
    },
    {
      "cell_type": "code",
      "metadata": {
        "id": "JaZdvVfSvME4",
        "colab_type": "code",
        "outputId": "3569a95b-9d81-4252-c31b-8581981f6329",
        "colab": {
          "base_uri": "https://localhost:8080/",
          "height": 52
        }
      },
      "source": [
        "z_mean_train, _, _ = encoder.predict(x_train, batch_size=batch_size)\n",
        "z_mean_train = np.asarray(z_mean_train)\n",
        "\n",
        "print(z_mean_train.shape)\n",
        "\n",
        "z_mean_val, _, _ = encoder.predict(x_test, batch_size=batch_size)\n",
        "z_mean_val = np.asarray(z_mean_val)\n",
        "\n",
        "print(z_mean_val.shape)"
      ],
      "execution_count": 0,
      "outputs": [
        {
          "output_type": "stream",
          "text": [
            "(2661, 20)\n",
            "(766, 20)\n"
          ],
          "name": "stdout"
        }
      ]
    },
    {
      "cell_type": "code",
      "metadata": {
        "id": "C6x8-tbCBZMH",
        "colab_type": "code",
        "colab": {}
      },
      "source": [
        "import pickle\n",
        "\n",
        "pickle.dump( z_mean_train, open( \"/content/drive/My Drive/Machine-Learning-Projects/cs231n-project/notebooks/VAE/z_mean_train_5.pkl\", \"wb\" ) )\n",
        "pickle.dump( z_mean_val, open( \"/content/drive/My Drive/Machine-Learning-Projects/cs231n-project/notebooks/VAE/z_mean_val_5.pkl\", \"wb\" ) )"
      ],
      "execution_count": 0,
      "outputs": []
    },
    {
      "cell_type": "code",
      "metadata": {
        "id": "L1xEPqEpuH6I",
        "colab_type": "code",
        "colab": {}
      },
      "source": [
        "# Leila's experimentation below\n",
        "\n",
        "inputs = tf.keras.Input(shape=z_mean_val.shape[1:])\n",
        "\n",
        "x = tf.keras.layers.Dense(100, activation='selu', kernel_regularizer=tf.keras.regularizers.l2())(inputs)\n",
        "#x = tf.keras.layers.BatchNormalization()(x)\n",
        "#x = tf.keras.layers.Dense(50, activation='selu', kernel_regularizer=tf.keras.regularizers.l2())(x)\n",
        "#x = tf.keras.layers.BatchNormalization()(x)\n",
        "x = tf.keras.layers.Dense(32, activation = 'selu', kernel_regularizer=tf.keras.regularizers.l2())(x)\n",
        "\n",
        "# inputs = tf.keras.layers.Input(shape=(28, 28, 1))\n",
        "# x = tf.keras.layers.Conv2D(\n",
        "#     filters=32, kernel_size=3, strides=(2, 2), activation='relu')(inputs)\n",
        "# x = tf.keras.layers.Conv2D(\n",
        "#     filters=64, kernel_size=3, strides=(2, 2), activation='relu')(x)\n",
        "# x = tf.keras.layers.Flatten()(x)\n",
        "# x = tf.keras.layers.Dense(100)(x)\n",
        "outputs = tf.keras.layers.Dense(3, activation = 'softmax')(x)\n",
        "\n",
        "model = tf.keras.Model(inputs=[inputs] , outputs=[outputs])\n",
        "lr_schedule = tf.keras.optimizers.schedules.ExponentialDecay(\n",
        "      initial_learning_rate= 1e-2, #This LR came from the hyperparameter tuning using the HyperAS (modified HyperOpt for Keras) -- randomized search\n",
        "      decay_steps=10000,\n",
        "      decay_rate=0.9)\n",
        "opt = tf.keras.optimizers.Adam(learning_rate=0.001)\n",
        "\n",
        "model.compile(loss='sparse_categorical_crossentropy', optimizer=opt, metrics=['accuracy'])"
      ],
      "execution_count": 0,
      "outputs": []
    },
    {
      "cell_type": "code",
      "metadata": {
        "id": "hSHEliTf-DcT",
        "colab_type": "code",
        "outputId": "d515d9e1-644b-46b3-b4c7-cfee3f24123a",
        "colab": {
          "base_uri": "https://localhost:8080/",
          "height": 540
        }
      },
      "source": [
        "!pip install keras-tuner"
      ],
      "execution_count": 0,
      "outputs": [
        {
          "output_type": "stream",
          "text": [
            "Collecting keras-tuner\n",
            "\u001b[?25l  Downloading https://files.pythonhosted.org/packages/a7/f7/4b41b6832abf4c9bef71a664dc563adb25afc5812831667c6db572b1a261/keras-tuner-1.0.1.tar.gz (54kB)\n",
            "\r\u001b[K     |██████                          | 10kB 24.5MB/s eta 0:00:01\r\u001b[K     |████████████                    | 20kB 4.1MB/s eta 0:00:01\r\u001b[K     |██████████████████              | 30kB 5.3MB/s eta 0:00:01\r\u001b[K     |████████████████████████        | 40kB 5.5MB/s eta 0:00:01\r\u001b[K     |██████████████████████████████  | 51kB 4.7MB/s eta 0:00:01\r\u001b[K     |████████████████████████████████| 61kB 3.4MB/s \n",
            "\u001b[?25hRequirement already satisfied: future in /usr/local/lib/python3.6/dist-packages (from keras-tuner) (0.16.0)\n",
            "Requirement already satisfied: numpy in /usr/local/lib/python3.6/dist-packages (from keras-tuner) (1.18.4)\n",
            "Requirement already satisfied: tabulate in /usr/local/lib/python3.6/dist-packages (from keras-tuner) (0.8.7)\n",
            "Collecting terminaltables\n",
            "  Downloading https://files.pythonhosted.org/packages/9b/c4/4a21174f32f8a7e1104798c445dacdc1d4df86f2f26722767034e4de4bff/terminaltables-3.1.0.tar.gz\n",
            "Collecting colorama\n",
            "  Downloading https://files.pythonhosted.org/packages/c9/dc/45cdef1b4d119eb96316b3117e6d5708a08029992b2fee2c143c7a0a5cc5/colorama-0.4.3-py2.py3-none-any.whl\n",
            "Requirement already satisfied: tqdm in /usr/local/lib/python3.6/dist-packages (from keras-tuner) (4.41.1)\n",
            "Requirement already satisfied: requests in /usr/local/lib/python3.6/dist-packages (from keras-tuner) (2.23.0)\n",
            "Requirement already satisfied: scipy in /usr/local/lib/python3.6/dist-packages (from keras-tuner) (1.4.1)\n",
            "Requirement already satisfied: scikit-learn in /usr/local/lib/python3.6/dist-packages (from keras-tuner) (0.22.2.post1)\n",
            "Requirement already satisfied: urllib3!=1.25.0,!=1.25.1,<1.26,>=1.21.1 in /usr/local/lib/python3.6/dist-packages (from requests->keras-tuner) (1.24.3)\n",
            "Requirement already satisfied: chardet<4,>=3.0.2 in /usr/local/lib/python3.6/dist-packages (from requests->keras-tuner) (3.0.4)\n",
            "Requirement already satisfied: idna<3,>=2.5 in /usr/local/lib/python3.6/dist-packages (from requests->keras-tuner) (2.9)\n",
            "Requirement already satisfied: certifi>=2017.4.17 in /usr/local/lib/python3.6/dist-packages (from requests->keras-tuner) (2020.4.5.1)\n",
            "Requirement already satisfied: joblib>=0.11 in /usr/local/lib/python3.6/dist-packages (from scikit-learn->keras-tuner) (0.15.1)\n",
            "Building wheels for collected packages: keras-tuner, terminaltables\n",
            "  Building wheel for keras-tuner (setup.py) ... \u001b[?25l\u001b[?25hdone\n",
            "  Created wheel for keras-tuner: filename=keras_tuner-1.0.1-cp36-none-any.whl size=73200 sha256=e86facf02e98b8d6244896b1688b6313f43cbf1f131aca90b8cebf8ad00370f8\n",
            "  Stored in directory: /root/.cache/pip/wheels/b9/cc/62/52716b70dd90f3db12519233c3a93a5360bc672da1a10ded43\n",
            "  Building wheel for terminaltables (setup.py) ... \u001b[?25l\u001b[?25hdone\n",
            "  Created wheel for terminaltables: filename=terminaltables-3.1.0-cp36-none-any.whl size=15356 sha256=f4a4be9463f4a893141321e0adaa20bbe5995ee9ec651ed4a1e7d8fb66abd081\n",
            "  Stored in directory: /root/.cache/pip/wheels/30/6b/50/6c75775b681fb36cdfac7f19799888ef9d8813aff9e379663e\n",
            "Successfully built keras-tuner terminaltables\n",
            "Installing collected packages: terminaltables, colorama, keras-tuner\n",
            "Successfully installed colorama-0.4.3 keras-tuner-1.0.1 terminaltables-3.1.0\n"
          ],
          "name": "stdout"
        }
      ]
    },
    {
      "cell_type": "code",
      "metadata": {
        "id": "iuBU0SH39v0j",
        "colab_type": "code",
        "colab": {}
      },
      "source": [
        "# Credit goes to Tom for help with this version! \n",
        "\n",
        "MODEL_NAME = \"ensemble-vae-v3\"\n",
        "\n",
        "from pathlib import Path\n",
        "import tensorflow as tf\n",
        "import matplotlib.pyplot as plt\n",
        "\n",
        "def build_model(hp):\n",
        "    Path(f\"drive/My Drive/Machine-Learning-Projects/cs231n-project/models/{MODEL_NAME}\").mkdir(parents=True, exist_ok=True)\n",
        "    checkpoint_path = \"drive/My Drive/Machine-Learning-Projects/cs231n-project/models/\" + MODEL_NAME + \"/cp-{epoch:04d}.h5\"\n",
        "\n",
        "    cp_callback = tf.keras.callbacks.ModelCheckpoint(\n",
        "        filepath=checkpoint_path, \n",
        "        verbose=1,\n",
        "        save_weights_only=False,\n",
        "        save_best_only=True,\n",
        "        period=1\n",
        "    )\n",
        "\n",
        "    def create_model(inputs):\n",
        "        x = tf.keras.layers.Dense(hp.Int('units', min_value=8, max_value=128, step=8), activation='relu', kernel_regularizer=tf.keras.regularizers.l2())(inputs)\n",
        "        x = tf.keras.layers.Dense(3, activation='softmax', kernel_regularizer=tf.keras.regularizers.l2())(x)\n",
        "        x = tf.keras.layers.Dense(50, activation='selu', kernel_regularizer=tf.keras.regularizers.l2())(inputs)\n",
        "        model = tf.keras.Model(inputs=inputs, outputs=x)\n",
        "        model.compile(optimizer=tf.keras.optimizers.Adam(\n",
        "            hp.Choice('learning_rate',\n",
        "                      values=[1e-2, 1e-3, 1e-4])),\n",
        "                      loss = 'sparse_categorical_crossentropy',\n",
        "                      metrics=['accuracy'])\n",
        "        return model\n",
        "\n",
        "    inputs = tf.keras.Input(shape=(z_mean_train.shape[1]))\n",
        "    model = create_model(inputs)\n",
        "    # model.summary()\n",
        "    return model\n"
      ],
      "execution_count": 0,
      "outputs": []
    },
    {
      "cell_type": "code",
      "metadata": {
        "id": "PKz9-WgO95Bk",
        "colab_type": "code",
        "outputId": "dcf1e3cc-56c9-402c-ac41-e81ba2935df9",
        "colab": {
          "base_uri": "https://localhost:8080/",
          "height": 1000
        }
      },
      "source": [
        "from kerastuner.tuners import RandomSearch\n",
        "tuner = RandomSearch(\n",
        "    build_model,\n",
        "    objective='val_accuracy',\n",
        "    max_trials=5,\n",
        "    executions_per_trial=3,\n",
        "    directory='fc-prediction',\n",
        "    project_name='fc-prediction'\n",
        ")\n",
        "tuner.search_space_summary()\n",
        "\n",
        "tuner.search(z_mean_train, y_train_np,\n",
        "             epochs=30,\n",
        "             validation_data=(z_mean_val, y_valid_np),\n",
        "             verbose=0)\n"
      ],
      "execution_count": 0,
      "outputs": [
        {
          "output_type": "stream",
          "text": [
            "WARNING:tensorflow:`period` argument is deprecated. Please use `save_freq` to specify the frequency in number of batches seen.\n"
          ],
          "name": "stdout"
        },
        {
          "output_type": "display_data",
          "data": {
            "text/html": [
              "<span style=\"color:#4527A0\"><h1 style=\"font-size:18px\">Search space summary</h1></span>"
            ],
            "text/plain": [
              "<IPython.core.display.HTML object>"
            ]
          },
          "metadata": {
            "tags": []
          }
        },
        {
          "output_type": "display_data",
          "data": {
            "text/html": [
              "<span style=\"color:cyan\"> |-Default search space size: 2</span>"
            ],
            "text/plain": [
              "<IPython.core.display.HTML object>"
            ]
          },
          "metadata": {
            "tags": []
          }
        },
        {
          "output_type": "display_data",
          "data": {
            "text/html": [
              "<span style=\"color:#7E57C2\"><h2 style=\"font-size:16px\">units (Int)</h2></span>"
            ],
            "text/plain": [
              "<IPython.core.display.HTML object>"
            ]
          },
          "metadata": {
            "tags": []
          }
        },
        {
          "output_type": "display_data",
          "data": {
            "text/html": [
              "<span style=\"color:cyan\"> |-default: None</span>"
            ],
            "text/plain": [
              "<IPython.core.display.HTML object>"
            ]
          },
          "metadata": {
            "tags": []
          }
        },
        {
          "output_type": "display_data",
          "data": {
            "text/html": [
              "<span style=\"color:blue\"> |-max_value: 128</span>"
            ],
            "text/plain": [
              "<IPython.core.display.HTML object>"
            ]
          },
          "metadata": {
            "tags": []
          }
        },
        {
          "output_type": "display_data",
          "data": {
            "text/html": [
              "<span style=\"color:cyan\"> |-min_value: 8</span>"
            ],
            "text/plain": [
              "<IPython.core.display.HTML object>"
            ]
          },
          "metadata": {
            "tags": []
          }
        },
        {
          "output_type": "display_data",
          "data": {
            "text/html": [
              "<span style=\"color:blue\"> |-sampling: None</span>"
            ],
            "text/plain": [
              "<IPython.core.display.HTML object>"
            ]
          },
          "metadata": {
            "tags": []
          }
        },
        {
          "output_type": "display_data",
          "data": {
            "text/html": [
              "<span style=\"color:cyan\"> |-step: 8</span>"
            ],
            "text/plain": [
              "<IPython.core.display.HTML object>"
            ]
          },
          "metadata": {
            "tags": []
          }
        },
        {
          "output_type": "display_data",
          "data": {
            "text/html": [
              "<span style=\"color:#7E57C2\"><h2 style=\"font-size:16px\">learning_rate (Choice)</h2></span>"
            ],
            "text/plain": [
              "<IPython.core.display.HTML object>"
            ]
          },
          "metadata": {
            "tags": []
          }
        },
        {
          "output_type": "display_data",
          "data": {
            "text/html": [
              "<span style=\"color:cyan\"> |-default: 0.01</span>"
            ],
            "text/plain": [
              "<IPython.core.display.HTML object>"
            ]
          },
          "metadata": {
            "tags": []
          }
        },
        {
          "output_type": "display_data",
          "data": {
            "text/html": [
              "<span style=\"color:blue\"> |-ordered: True</span>"
            ],
            "text/plain": [
              "<IPython.core.display.HTML object>"
            ]
          },
          "metadata": {
            "tags": []
          }
        },
        {
          "output_type": "display_data",
          "data": {
            "text/html": [
              "<span style=\"color:cyan\"> |-values: [0.01, 0.001, 0.0001]</span>"
            ],
            "text/plain": [
              "<IPython.core.display.HTML object>"
            ]
          },
          "metadata": {
            "tags": []
          }
        },
        {
          "output_type": "stream",
          "text": [
            "WARNING:tensorflow:`period` argument is deprecated. Please use `save_freq` to specify the frequency in number of batches seen.\n",
            "WARNING:tensorflow:`period` argument is deprecated. Please use `save_freq` to specify the frequency in number of batches seen.\n",
            "WARNING:tensorflow:`period` argument is deprecated. Please use `save_freq` to specify the frequency in number of batches seen.\n"
          ],
          "name": "stdout"
        },
        {
          "output_type": "display_data",
          "data": {
            "text/html": [
              "<span style=\"color:#4527A0\"><h1 style=\"font-size:18px\">Trial complete</h1></span>"
            ],
            "text/plain": [
              "<IPython.core.display.HTML object>"
            ]
          },
          "metadata": {
            "tags": []
          }
        },
        {
          "output_type": "display_data",
          "data": {
            "text/html": [
              "<span style=\"color:#4527A0\"><h1 style=\"font-size:18px\">Trial summary</h1></span>"
            ],
            "text/plain": [
              "<IPython.core.display.HTML object>"
            ]
          },
          "metadata": {
            "tags": []
          }
        },
        {
          "output_type": "display_data",
          "data": {
            "text/html": [
              "<span style=\"color:cyan\"> |-Trial ID: e2295fa1e7b49a4bbf8c75a0719defd2</span>"
            ],
            "text/plain": [
              "<IPython.core.display.HTML object>"
            ]
          },
          "metadata": {
            "tags": []
          }
        },
        {
          "output_type": "display_data",
          "data": {
            "text/html": [
              "<span style=\"color:cyan\"> |-Score: 0.3986074924468994</span>"
            ],
            "text/plain": [
              "<IPython.core.display.HTML object>"
            ]
          },
          "metadata": {
            "tags": []
          }
        },
        {
          "output_type": "display_data",
          "data": {
            "text/html": [
              "<span style=\"color:cyan\"> |-Best step: 0</span>"
            ],
            "text/plain": [
              "<IPython.core.display.HTML object>"
            ]
          },
          "metadata": {
            "tags": []
          }
        },
        {
          "output_type": "display_data",
          "data": {
            "text/html": [
              "<span style=\"color:#7E57C2\"><h2 style=\"font-size:16px\">Hyperparameters:</h2></span>"
            ],
            "text/plain": [
              "<IPython.core.display.HTML object>"
            ]
          },
          "metadata": {
            "tags": []
          }
        },
        {
          "output_type": "display_data",
          "data": {
            "text/html": [
              "<span style=\"color:cyan\"> |-learning_rate: 0.01</span>"
            ],
            "text/plain": [
              "<IPython.core.display.HTML object>"
            ]
          },
          "metadata": {
            "tags": []
          }
        },
        {
          "output_type": "display_data",
          "data": {
            "text/html": [
              "<span style=\"color:blue\"> |-units: 104</span>"
            ],
            "text/plain": [
              "<IPython.core.display.HTML object>"
            ]
          },
          "metadata": {
            "tags": []
          }
        },
        {
          "output_type": "stream",
          "text": [
            "WARNING:tensorflow:`period` argument is deprecated. Please use `save_freq` to specify the frequency in number of batches seen.\n",
            "WARNING:tensorflow:`period` argument is deprecated. Please use `save_freq` to specify the frequency in number of batches seen.\n",
            "WARNING:tensorflow:`period` argument is deprecated. Please use `save_freq` to specify the frequency in number of batches seen.\n"
          ],
          "name": "stdout"
        },
        {
          "output_type": "display_data",
          "data": {
            "text/html": [
              "<span style=\"color:#4527A0\"><h1 style=\"font-size:18px\">Trial complete</h1></span>"
            ],
            "text/plain": [
              "<IPython.core.display.HTML object>"
            ]
          },
          "metadata": {
            "tags": []
          }
        },
        {
          "output_type": "display_data",
          "data": {
            "text/html": [
              "<span style=\"color:#4527A0\"><h1 style=\"font-size:18px\">Trial summary</h1></span>"
            ],
            "text/plain": [
              "<IPython.core.display.HTML object>"
            ]
          },
          "metadata": {
            "tags": []
          }
        },
        {
          "output_type": "display_data",
          "data": {
            "text/html": [
              "<span style=\"color:cyan\"> |-Trial ID: ff9a30a54862bfc9b6987b88b076ff41</span>"
            ],
            "text/plain": [
              "<IPython.core.display.HTML object>"
            ]
          },
          "metadata": {
            "tags": []
          }
        },
        {
          "output_type": "display_data",
          "data": {
            "text/html": [
              "<span style=\"color:cyan\"> |-Score: 0.2780678868293762</span>"
            ],
            "text/plain": [
              "<IPython.core.display.HTML object>"
            ]
          },
          "metadata": {
            "tags": []
          }
        },
        {
          "output_type": "display_data",
          "data": {
            "text/html": [
              "<span style=\"color:cyan\"> |-Best step: 0</span>"
            ],
            "text/plain": [
              "<IPython.core.display.HTML object>"
            ]
          },
          "metadata": {
            "tags": []
          }
        },
        {
          "output_type": "display_data",
          "data": {
            "text/html": [
              "<span style=\"color:#7E57C2\"><h2 style=\"font-size:16px\">Hyperparameters:</h2></span>"
            ],
            "text/plain": [
              "<IPython.core.display.HTML object>"
            ]
          },
          "metadata": {
            "tags": []
          }
        },
        {
          "output_type": "display_data",
          "data": {
            "text/html": [
              "<span style=\"color:cyan\"> |-learning_rate: 0.01</span>"
            ],
            "text/plain": [
              "<IPython.core.display.HTML object>"
            ]
          },
          "metadata": {
            "tags": []
          }
        },
        {
          "output_type": "display_data",
          "data": {
            "text/html": [
              "<span style=\"color:blue\"> |-units: 32</span>"
            ],
            "text/plain": [
              "<IPython.core.display.HTML object>"
            ]
          },
          "metadata": {
            "tags": []
          }
        },
        {
          "output_type": "stream",
          "text": [
            "WARNING:tensorflow:`period` argument is deprecated. Please use `save_freq` to specify the frequency in number of batches seen.\n",
            "WARNING:tensorflow:`period` argument is deprecated. Please use `save_freq` to specify the frequency in number of batches seen.\n",
            "WARNING:tensorflow:`period` argument is deprecated. Please use `save_freq` to specify the frequency in number of batches seen.\n"
          ],
          "name": "stdout"
        },
        {
          "output_type": "display_data",
          "data": {
            "text/html": [
              "<span style=\"color:#4527A0\"><h1 style=\"font-size:18px\">Trial complete</h1></span>"
            ],
            "text/plain": [
              "<IPython.core.display.HTML object>"
            ]
          },
          "metadata": {
            "tags": []
          }
        },
        {
          "output_type": "display_data",
          "data": {
            "text/html": [
              "<span style=\"color:#4527A0\"><h1 style=\"font-size:18px\">Trial summary</h1></span>"
            ],
            "text/plain": [
              "<IPython.core.display.HTML object>"
            ]
          },
          "metadata": {
            "tags": []
          }
        },
        {
          "output_type": "display_data",
          "data": {
            "text/html": [
              "<span style=\"color:cyan\"> |-Trial ID: 9c614fa6fd9b2d89ae9b8ae880e25a65</span>"
            ],
            "text/plain": [
              "<IPython.core.display.HTML object>"
            ]
          },
          "metadata": {
            "tags": []
          }
        },
        {
          "output_type": "display_data",
          "data": {
            "text/html": [
              "<span style=\"color:cyan\"> |-Score: 0.3942558765411377</span>"
            ],
            "text/plain": [
              "<IPython.core.display.HTML object>"
            ]
          },
          "metadata": {
            "tags": []
          }
        },
        {
          "output_type": "display_data",
          "data": {
            "text/html": [
              "<span style=\"color:cyan\"> |-Best step: 0</span>"
            ],
            "text/plain": [
              "<IPython.core.display.HTML object>"
            ]
          },
          "metadata": {
            "tags": []
          }
        },
        {
          "output_type": "display_data",
          "data": {
            "text/html": [
              "<span style=\"color:#7E57C2\"><h2 style=\"font-size:16px\">Hyperparameters:</h2></span>"
            ],
            "text/plain": [
              "<IPython.core.display.HTML object>"
            ]
          },
          "metadata": {
            "tags": []
          }
        },
        {
          "output_type": "display_data",
          "data": {
            "text/html": [
              "<span style=\"color:cyan\"> |-learning_rate: 0.001</span>"
            ],
            "text/plain": [
              "<IPython.core.display.HTML object>"
            ]
          },
          "metadata": {
            "tags": []
          }
        },
        {
          "output_type": "display_data",
          "data": {
            "text/html": [
              "<span style=\"color:blue\"> |-units: 56</span>"
            ],
            "text/plain": [
              "<IPython.core.display.HTML object>"
            ]
          },
          "metadata": {
            "tags": []
          }
        },
        {
          "output_type": "stream",
          "text": [
            "WARNING:tensorflow:`period` argument is deprecated. Please use `save_freq` to specify the frequency in number of batches seen.\n",
            "WARNING:tensorflow:`period` argument is deprecated. Please use `save_freq` to specify the frequency in number of batches seen.\n",
            "WARNING:tensorflow:`period` argument is deprecated. Please use `save_freq` to specify the frequency in number of batches seen.\n"
          ],
          "name": "stdout"
        },
        {
          "output_type": "display_data",
          "data": {
            "text/html": [
              "<span style=\"color:#4527A0\"><h1 style=\"font-size:18px\">Trial complete</h1></span>"
            ],
            "text/plain": [
              "<IPython.core.display.HTML object>"
            ]
          },
          "metadata": {
            "tags": []
          }
        },
        {
          "output_type": "display_data",
          "data": {
            "text/html": [
              "<span style=\"color:#4527A0\"><h1 style=\"font-size:18px\">Trial summary</h1></span>"
            ],
            "text/plain": [
              "<IPython.core.display.HTML object>"
            ]
          },
          "metadata": {
            "tags": []
          }
        },
        {
          "output_type": "display_data",
          "data": {
            "text/html": [
              "<span style=\"color:cyan\"> |-Trial ID: 4f42a26f2c4f927fe235a7cd2358626b</span>"
            ],
            "text/plain": [
              "<IPython.core.display.HTML object>"
            ]
          },
          "metadata": {
            "tags": []
          }
        },
        {
          "output_type": "display_data",
          "data": {
            "text/html": [
              "<span style=\"color:cyan\"> |-Score: 0.3942558765411377</span>"
            ],
            "text/plain": [
              "<IPython.core.display.HTML object>"
            ]
          },
          "metadata": {
            "tags": []
          }
        },
        {
          "output_type": "display_data",
          "data": {
            "text/html": [
              "<span style=\"color:cyan\"> |-Best step: 0</span>"
            ],
            "text/plain": [
              "<IPython.core.display.HTML object>"
            ]
          },
          "metadata": {
            "tags": []
          }
        },
        {
          "output_type": "display_data",
          "data": {
            "text/html": [
              "<span style=\"color:#7E57C2\"><h2 style=\"font-size:16px\">Hyperparameters:</h2></span>"
            ],
            "text/plain": [
              "<IPython.core.display.HTML object>"
            ]
          },
          "metadata": {
            "tags": []
          }
        },
        {
          "output_type": "display_data",
          "data": {
            "text/html": [
              "<span style=\"color:cyan\"> |-learning_rate: 0.01</span>"
            ],
            "text/plain": [
              "<IPython.core.display.HTML object>"
            ]
          },
          "metadata": {
            "tags": []
          }
        },
        {
          "output_type": "display_data",
          "data": {
            "text/html": [
              "<span style=\"color:blue\"> |-units: 120</span>"
            ],
            "text/plain": [
              "<IPython.core.display.HTML object>"
            ]
          },
          "metadata": {
            "tags": []
          }
        },
        {
          "output_type": "stream",
          "text": [
            "WARNING:tensorflow:`period` argument is deprecated. Please use `save_freq` to specify the frequency in number of batches seen.\n",
            "WARNING:tensorflow:`period` argument is deprecated. Please use `save_freq` to specify the frequency in number of batches seen.\n",
            "WARNING:tensorflow:`period` argument is deprecated. Please use `save_freq` to specify the frequency in number of batches seen.\n"
          ],
          "name": "stdout"
        },
        {
          "output_type": "display_data",
          "data": {
            "text/html": [
              "<span style=\"color:#4527A0\"><h1 style=\"font-size:18px\">Trial complete</h1></span>"
            ],
            "text/plain": [
              "<IPython.core.display.HTML object>"
            ]
          },
          "metadata": {
            "tags": []
          }
        },
        {
          "output_type": "display_data",
          "data": {
            "text/html": [
              "<span style=\"color:#4527A0\"><h1 style=\"font-size:18px\">Trial summary</h1></span>"
            ],
            "text/plain": [
              "<IPython.core.display.HTML object>"
            ]
          },
          "metadata": {
            "tags": []
          }
        },
        {
          "output_type": "display_data",
          "data": {
            "text/html": [
              "<span style=\"color:cyan\"> |-Trial ID: fe6bda964f2e0c42b269608e17cba2a8</span>"
            ],
            "text/plain": [
              "<IPython.core.display.HTML object>"
            ]
          },
          "metadata": {
            "tags": []
          }
        },
        {
          "output_type": "display_data",
          "data": {
            "text/html": [
              "<span style=\"color:cyan\"> |-Score: 0.3846823374430339</span>"
            ],
            "text/plain": [
              "<IPython.core.display.HTML object>"
            ]
          },
          "metadata": {
            "tags": []
          }
        },
        {
          "output_type": "display_data",
          "data": {
            "text/html": [
              "<span style=\"color:cyan\"> |-Best step: 0</span>"
            ],
            "text/plain": [
              "<IPython.core.display.HTML object>"
            ]
          },
          "metadata": {
            "tags": []
          }
        },
        {
          "output_type": "display_data",
          "data": {
            "text/html": [
              "<span style=\"color:#7E57C2\"><h2 style=\"font-size:16px\">Hyperparameters:</h2></span>"
            ],
            "text/plain": [
              "<IPython.core.display.HTML object>"
            ]
          },
          "metadata": {
            "tags": []
          }
        },
        {
          "output_type": "display_data",
          "data": {
            "text/html": [
              "<span style=\"color:cyan\"> |-learning_rate: 0.001</span>"
            ],
            "text/plain": [
              "<IPython.core.display.HTML object>"
            ]
          },
          "metadata": {
            "tags": []
          }
        },
        {
          "output_type": "display_data",
          "data": {
            "text/html": [
              "<span style=\"color:blue\"> |-units: 96</span>"
            ],
            "text/plain": [
              "<IPython.core.display.HTML object>"
            ]
          },
          "metadata": {
            "tags": []
          }
        },
        {
          "output_type": "stream",
          "text": [
            "INFO:tensorflow:Oracle triggered exit\n"
          ],
          "name": "stdout"
        }
      ]
    },
    {
      "cell_type": "code",
      "metadata": {
        "id": "5MNEwtsQ_N88",
        "colab_type": "code",
        "outputId": "ff16c587-33e8-45fd-ce09-6ed0848bc9d6",
        "colab": {
          "base_uri": "https://localhost:8080/",
          "height": 931
        }
      },
      "source": [
        "print(tuner.results_summary())"
      ],
      "execution_count": 0,
      "outputs": [
        {
          "output_type": "display_data",
          "data": {
            "text/html": [
              "<span style=\"color:#4527A0\"><h1 style=\"font-size:18px\">Results summary</h1></span>"
            ],
            "text/plain": [
              "<IPython.core.display.HTML object>"
            ]
          },
          "metadata": {
            "tags": []
          }
        },
        {
          "output_type": "display_data",
          "data": {
            "text/html": [
              "<span style=\"color:cyan\"> |-Results in fc-prediction/fc-prediction</span>"
            ],
            "text/plain": [
              "<IPython.core.display.HTML object>"
            ]
          },
          "metadata": {
            "tags": []
          }
        },
        {
          "output_type": "display_data",
          "data": {
            "text/html": [
              "<span style=\"color:cyan\"> |-Showing 10 best trials</span>"
            ],
            "text/plain": [
              "<IPython.core.display.HTML object>"
            ]
          },
          "metadata": {
            "tags": []
          }
        },
        {
          "output_type": "display_data",
          "data": {
            "text/html": [
              "<span style=\"color:cyan\"> |-Objective(name='val_accuracy', direction='max')</span>"
            ],
            "text/plain": [
              "<IPython.core.display.HTML object>"
            ]
          },
          "metadata": {
            "tags": []
          }
        },
        {
          "output_type": "display_data",
          "data": {
            "text/html": [
              "<span style=\"color:#4527A0\"><h1 style=\"font-size:18px\">Trial summary</h1></span>"
            ],
            "text/plain": [
              "<IPython.core.display.HTML object>"
            ]
          },
          "metadata": {
            "tags": []
          }
        },
        {
          "output_type": "display_data",
          "data": {
            "text/html": [
              "<span style=\"color:cyan\"> |-Trial ID: e2295fa1e7b49a4bbf8c75a0719defd2</span>"
            ],
            "text/plain": [
              "<IPython.core.display.HTML object>"
            ]
          },
          "metadata": {
            "tags": []
          }
        },
        {
          "output_type": "display_data",
          "data": {
            "text/html": [
              "<span style=\"color:cyan\"> |-Score: 0.3986074924468994</span>"
            ],
            "text/plain": [
              "<IPython.core.display.HTML object>"
            ]
          },
          "metadata": {
            "tags": []
          }
        },
        {
          "output_type": "display_data",
          "data": {
            "text/html": [
              "<span style=\"color:cyan\"> |-Best step: 0</span>"
            ],
            "text/plain": [
              "<IPython.core.display.HTML object>"
            ]
          },
          "metadata": {
            "tags": []
          }
        },
        {
          "output_type": "display_data",
          "data": {
            "text/html": [
              "<span style=\"color:#7E57C2\"><h2 style=\"font-size:16px\">Hyperparameters:</h2></span>"
            ],
            "text/plain": [
              "<IPython.core.display.HTML object>"
            ]
          },
          "metadata": {
            "tags": []
          }
        },
        {
          "output_type": "display_data",
          "data": {
            "text/html": [
              "<span style=\"color:cyan\"> |-learning_rate: 0.01</span>"
            ],
            "text/plain": [
              "<IPython.core.display.HTML object>"
            ]
          },
          "metadata": {
            "tags": []
          }
        },
        {
          "output_type": "display_data",
          "data": {
            "text/html": [
              "<span style=\"color:blue\"> |-units: 104</span>"
            ],
            "text/plain": [
              "<IPython.core.display.HTML object>"
            ]
          },
          "metadata": {
            "tags": []
          }
        },
        {
          "output_type": "display_data",
          "data": {
            "text/html": [
              "<span style=\"color:#4527A0\"><h1 style=\"font-size:18px\">Trial summary</h1></span>"
            ],
            "text/plain": [
              "<IPython.core.display.HTML object>"
            ]
          },
          "metadata": {
            "tags": []
          }
        },
        {
          "output_type": "display_data",
          "data": {
            "text/html": [
              "<span style=\"color:cyan\"> |-Trial ID: 9c614fa6fd9b2d89ae9b8ae880e25a65</span>"
            ],
            "text/plain": [
              "<IPython.core.display.HTML object>"
            ]
          },
          "metadata": {
            "tags": []
          }
        },
        {
          "output_type": "display_data",
          "data": {
            "text/html": [
              "<span style=\"color:cyan\"> |-Score: 0.3942558765411377</span>"
            ],
            "text/plain": [
              "<IPython.core.display.HTML object>"
            ]
          },
          "metadata": {
            "tags": []
          }
        },
        {
          "output_type": "display_data",
          "data": {
            "text/html": [
              "<span style=\"color:cyan\"> |-Best step: 0</span>"
            ],
            "text/plain": [
              "<IPython.core.display.HTML object>"
            ]
          },
          "metadata": {
            "tags": []
          }
        },
        {
          "output_type": "display_data",
          "data": {
            "text/html": [
              "<span style=\"color:#7E57C2\"><h2 style=\"font-size:16px\">Hyperparameters:</h2></span>"
            ],
            "text/plain": [
              "<IPython.core.display.HTML object>"
            ]
          },
          "metadata": {
            "tags": []
          }
        },
        {
          "output_type": "display_data",
          "data": {
            "text/html": [
              "<span style=\"color:cyan\"> |-learning_rate: 0.001</span>"
            ],
            "text/plain": [
              "<IPython.core.display.HTML object>"
            ]
          },
          "metadata": {
            "tags": []
          }
        },
        {
          "output_type": "display_data",
          "data": {
            "text/html": [
              "<span style=\"color:blue\"> |-units: 56</span>"
            ],
            "text/plain": [
              "<IPython.core.display.HTML object>"
            ]
          },
          "metadata": {
            "tags": []
          }
        },
        {
          "output_type": "display_data",
          "data": {
            "text/html": [
              "<span style=\"color:#4527A0\"><h1 style=\"font-size:18px\">Trial summary</h1></span>"
            ],
            "text/plain": [
              "<IPython.core.display.HTML object>"
            ]
          },
          "metadata": {
            "tags": []
          }
        },
        {
          "output_type": "display_data",
          "data": {
            "text/html": [
              "<span style=\"color:cyan\"> |-Trial ID: 4f42a26f2c4f927fe235a7cd2358626b</span>"
            ],
            "text/plain": [
              "<IPython.core.display.HTML object>"
            ]
          },
          "metadata": {
            "tags": []
          }
        },
        {
          "output_type": "display_data",
          "data": {
            "text/html": [
              "<span style=\"color:cyan\"> |-Score: 0.3942558765411377</span>"
            ],
            "text/plain": [
              "<IPython.core.display.HTML object>"
            ]
          },
          "metadata": {
            "tags": []
          }
        },
        {
          "output_type": "display_data",
          "data": {
            "text/html": [
              "<span style=\"color:cyan\"> |-Best step: 0</span>"
            ],
            "text/plain": [
              "<IPython.core.display.HTML object>"
            ]
          },
          "metadata": {
            "tags": []
          }
        },
        {
          "output_type": "display_data",
          "data": {
            "text/html": [
              "<span style=\"color:#7E57C2\"><h2 style=\"font-size:16px\">Hyperparameters:</h2></span>"
            ],
            "text/plain": [
              "<IPython.core.display.HTML object>"
            ]
          },
          "metadata": {
            "tags": []
          }
        },
        {
          "output_type": "display_data",
          "data": {
            "text/html": [
              "<span style=\"color:cyan\"> |-learning_rate: 0.01</span>"
            ],
            "text/plain": [
              "<IPython.core.display.HTML object>"
            ]
          },
          "metadata": {
            "tags": []
          }
        },
        {
          "output_type": "display_data",
          "data": {
            "text/html": [
              "<span style=\"color:blue\"> |-units: 120</span>"
            ],
            "text/plain": [
              "<IPython.core.display.HTML object>"
            ]
          },
          "metadata": {
            "tags": []
          }
        },
        {
          "output_type": "display_data",
          "data": {
            "text/html": [
              "<span style=\"color:#4527A0\"><h1 style=\"font-size:18px\">Trial summary</h1></span>"
            ],
            "text/plain": [
              "<IPython.core.display.HTML object>"
            ]
          },
          "metadata": {
            "tags": []
          }
        },
        {
          "output_type": "display_data",
          "data": {
            "text/html": [
              "<span style=\"color:cyan\"> |-Trial ID: fe6bda964f2e0c42b269608e17cba2a8</span>"
            ],
            "text/plain": [
              "<IPython.core.display.HTML object>"
            ]
          },
          "metadata": {
            "tags": []
          }
        },
        {
          "output_type": "display_data",
          "data": {
            "text/html": [
              "<span style=\"color:cyan\"> |-Score: 0.3846823374430339</span>"
            ],
            "text/plain": [
              "<IPython.core.display.HTML object>"
            ]
          },
          "metadata": {
            "tags": []
          }
        },
        {
          "output_type": "display_data",
          "data": {
            "text/html": [
              "<span style=\"color:cyan\"> |-Best step: 0</span>"
            ],
            "text/plain": [
              "<IPython.core.display.HTML object>"
            ]
          },
          "metadata": {
            "tags": []
          }
        },
        {
          "output_type": "display_data",
          "data": {
            "text/html": [
              "<span style=\"color:#7E57C2\"><h2 style=\"font-size:16px\">Hyperparameters:</h2></span>"
            ],
            "text/plain": [
              "<IPython.core.display.HTML object>"
            ]
          },
          "metadata": {
            "tags": []
          }
        },
        {
          "output_type": "display_data",
          "data": {
            "text/html": [
              "<span style=\"color:cyan\"> |-learning_rate: 0.001</span>"
            ],
            "text/plain": [
              "<IPython.core.display.HTML object>"
            ]
          },
          "metadata": {
            "tags": []
          }
        },
        {
          "output_type": "display_data",
          "data": {
            "text/html": [
              "<span style=\"color:blue\"> |-units: 96</span>"
            ],
            "text/plain": [
              "<IPython.core.display.HTML object>"
            ]
          },
          "metadata": {
            "tags": []
          }
        },
        {
          "output_type": "display_data",
          "data": {
            "text/html": [
              "<span style=\"color:#4527A0\"><h1 style=\"font-size:18px\">Trial summary</h1></span>"
            ],
            "text/plain": [
              "<IPython.core.display.HTML object>"
            ]
          },
          "metadata": {
            "tags": []
          }
        },
        {
          "output_type": "display_data",
          "data": {
            "text/html": [
              "<span style=\"color:cyan\"> |-Trial ID: ff9a30a54862bfc9b6987b88b076ff41</span>"
            ],
            "text/plain": [
              "<IPython.core.display.HTML object>"
            ]
          },
          "metadata": {
            "tags": []
          }
        },
        {
          "output_type": "display_data",
          "data": {
            "text/html": [
              "<span style=\"color:cyan\"> |-Score: 0.2780678868293762</span>"
            ],
            "text/plain": [
              "<IPython.core.display.HTML object>"
            ]
          },
          "metadata": {
            "tags": []
          }
        },
        {
          "output_type": "display_data",
          "data": {
            "text/html": [
              "<span style=\"color:cyan\"> |-Best step: 0</span>"
            ],
            "text/plain": [
              "<IPython.core.display.HTML object>"
            ]
          },
          "metadata": {
            "tags": []
          }
        },
        {
          "output_type": "display_data",
          "data": {
            "text/html": [
              "<span style=\"color:#7E57C2\"><h2 style=\"font-size:16px\">Hyperparameters:</h2></span>"
            ],
            "text/plain": [
              "<IPython.core.display.HTML object>"
            ]
          },
          "metadata": {
            "tags": []
          }
        },
        {
          "output_type": "display_data",
          "data": {
            "text/html": [
              "<span style=\"color:cyan\"> |-learning_rate: 0.01</span>"
            ],
            "text/plain": [
              "<IPython.core.display.HTML object>"
            ]
          },
          "metadata": {
            "tags": []
          }
        },
        {
          "output_type": "display_data",
          "data": {
            "text/html": [
              "<span style=\"color:blue\"> |-units: 32</span>"
            ],
            "text/plain": [
              "<IPython.core.display.HTML object>"
            ]
          },
          "metadata": {
            "tags": []
          }
        },
        {
          "output_type": "stream",
          "text": [
            "None\n"
          ],
          "name": "stdout"
        }
      ]
    },
    {
      "cell_type": "code",
      "metadata": {
        "id": "uxLxfBp90AHk",
        "colab_type": "code",
        "outputId": "e61c8ea1-3dfb-4aad-8bd2-98c0a0c629ee",
        "colab": {
          "base_uri": "https://localhost:8080/",
          "height": 1000
        }
      },
      "source": [
        "from tensorflow.keras.callbacks import EarlyStopping\n",
        "from tensorflow.keras.callbacks import ModelCheckpoint\n",
        "initial_epochs = 200\n",
        "\n",
        "def create_final_model(inputs):\n",
        "        x = tf.keras.layers.Dense(104, activation='relu', kernel_regularizer=tf.keras.regularizers.l2())(inputs)\n",
        "        x = tf.keras.layers.Dense(3, activation='softmax', kernel_regularizer=tf.keras.regularizers.l2())(x)\n",
        "\n",
        "        model = tf.keras.Model(inputs=inputs, outputs=x)\n",
        "        model.compile(optimizer=tf.keras.optimizers.Adam(learning_rate=0.01)\n",
        "                      ,loss='sparse_categorical_crossentropy',\n",
        "                      metrics=['accuracy'])\n",
        "        return model\n",
        "\n",
        "inputs = tf.keras.Input(shape=(z_mean_train.shape[1]))\n",
        "\n",
        "#save_path = \"/content/drive/My Drive/Machine-Learning-Projects/cs231n-project/models/leila-all_samples_self_dense_vae_keras_classifier-v10-z-val-split-with-face.h5\"\n",
        "save_path = \"/content/drive/My Drive/Machine-Learning-Projects/cs231n-project/models/all_samples_dense_vae_classifier-v4-la.h5\"\n",
        "es = EarlyStopping(monitor='val_loss', mode='min', verbose=1, patience=300)\n",
        "mc = ModelCheckpoint(save_path, monitor='val_accuracy', mode='max', verbose=1, save_best_only=True)\n",
        "\n",
        "model = create_final_model(inputs)\n",
        "history = model.fit(\n",
        "          x=z_mean_train, y=y_train_np,\n",
        "          epochs=initial_epochs, callbacks=[es, mc],\n",
        "          validation_data=(z_mean_val, y_valid_np), batch_size=32)"
      ],
      "execution_count": 0,
      "outputs": [
        {
          "output_type": "stream",
          "text": [
            "Epoch 1/200\n",
            "82/84 [============================>.] - ETA: 0s - loss: 1.2055 - accuracy: 0.3468\n",
            "Epoch 00001: val_accuracy improved from -inf to 0.24021, saving model to /content/drive/My Drive/Machine-Learning-Projects/cs231n-project/models/all_samples_dense_vae_classifier-v4-la.h5\n",
            "84/84 [==============================] - 1s 10ms/step - loss: 1.2043 - accuracy: 0.3469 - val_loss: 1.1296 - val_accuracy: 0.2402\n",
            "Epoch 2/200\n",
            "84/84 [==============================] - ETA: 0s - loss: 1.1029 - accuracy: 0.3615\n",
            "Epoch 00002: val_accuracy improved from 0.24021 to 0.41645, saving model to /content/drive/My Drive/Machine-Learning-Projects/cs231n-project/models/all_samples_dense_vae_classifier-v4-la.h5\n",
            "84/84 [==============================] - 0s 5ms/step - loss: 1.1029 - accuracy: 0.3615 - val_loss: 1.1216 - val_accuracy: 0.4164\n",
            "Epoch 3/200\n",
            "70/84 [========================>.....] - ETA: 0s - loss: 1.0984 - accuracy: 0.3629\n",
            "Epoch 00003: val_accuracy did not improve from 0.41645\n",
            "84/84 [==============================] - 0s 4ms/step - loss: 1.0977 - accuracy: 0.3645 - val_loss: 1.1252 - val_accuracy: 0.2402\n",
            "Epoch 4/200\n",
            "78/84 [==========================>...] - ETA: 0s - loss: 1.0947 - accuracy: 0.3974\n",
            "Epoch 00004: val_accuracy did not improve from 0.41645\n",
            "84/84 [==============================] - 0s 4ms/step - loss: 1.0946 - accuracy: 0.3938 - val_loss: 1.1072 - val_accuracy: 0.2990\n",
            "Epoch 5/200\n",
            "76/84 [==========================>...] - ETA: 0s - loss: 1.0920 - accuracy: 0.3927\n",
            "Epoch 00005: val_accuracy improved from 0.41645 to 0.42428, saving model to /content/drive/My Drive/Machine-Learning-Projects/cs231n-project/models/all_samples_dense_vae_classifier-v4-la.h5\n",
            "84/84 [==============================] - 0s 5ms/step - loss: 1.0925 - accuracy: 0.3938 - val_loss: 1.0990 - val_accuracy: 0.4243\n",
            "Epoch 6/200\n",
            "81/84 [===========================>..] - ETA: 0s - loss: 1.0915 - accuracy: 0.3981\n",
            "Epoch 00006: val_accuracy did not improve from 0.42428\n",
            "84/84 [==============================] - 0s 4ms/step - loss: 1.0910 - accuracy: 0.4002 - val_loss: 1.1496 - val_accuracy: 0.2402\n",
            "Epoch 7/200\n",
            "83/84 [============================>.] - ETA: 0s - loss: 1.0910 - accuracy: 0.3980\n",
            "Epoch 00007: val_accuracy did not improve from 0.42428\n",
            "84/84 [==============================] - 0s 4ms/step - loss: 1.0911 - accuracy: 0.3980 - val_loss: 1.1067 - val_accuracy: 0.4164\n",
            "Epoch 8/200\n",
            "79/84 [===========================>..] - ETA: 0s - loss: 1.1026 - accuracy: 0.3703\n",
            "Epoch 00008: val_accuracy did not improve from 0.42428\n",
            "84/84 [==============================] - 0s 4ms/step - loss: 1.1026 - accuracy: 0.3690 - val_loss: 1.1249 - val_accuracy: 0.2402\n",
            "Epoch 9/200\n",
            "67/84 [======================>.......] - ETA: 0s - loss: 1.0889 - accuracy: 0.4156\n",
            "Epoch 00009: val_accuracy did not improve from 0.42428\n",
            "84/84 [==============================] - 0s 4ms/step - loss: 1.0899 - accuracy: 0.4164 - val_loss: 1.0894 - val_accuracy: 0.3681\n",
            "Epoch 10/200\n",
            "82/84 [============================>.] - ETA: 0s - loss: 1.0900 - accuracy: 0.4261\n",
            "Epoch 00010: val_accuracy did not improve from 0.42428\n",
            "84/84 [==============================] - 0s 4ms/step - loss: 1.0898 - accuracy: 0.4262 - val_loss: 1.1052 - val_accuracy: 0.3603\n",
            "Epoch 11/200\n",
            "70/84 [========================>.....] - ETA: 0s - loss: 1.0871 - accuracy: 0.4027\n",
            "Epoch 00011: val_accuracy did not improve from 0.42428\n",
            "84/84 [==============================] - 0s 4ms/step - loss: 1.0873 - accuracy: 0.4051 - val_loss: 1.0995 - val_accuracy: 0.4217\n",
            "Epoch 12/200\n",
            "77/84 [==========================>...] - ETA: 0s - loss: 1.0871 - accuracy: 0.4245\n",
            "Epoch 00012: val_accuracy did not improve from 0.42428\n",
            "84/84 [==============================] - 0s 4ms/step - loss: 1.0864 - accuracy: 0.4292 - val_loss: 1.1257 - val_accuracy: 0.2637\n",
            "Epoch 13/200\n",
            "77/84 [==========================>...] - ETA: 0s - loss: 1.0896 - accuracy: 0.4152\n",
            "Epoch 00013: val_accuracy did not improve from 0.42428\n",
            "84/84 [==============================] - 0s 4ms/step - loss: 1.0891 - accuracy: 0.4141 - val_loss: 1.1034 - val_accuracy: 0.4164\n",
            "Epoch 14/200\n",
            "78/84 [==========================>...] - ETA: 0s - loss: 1.0849 - accuracy: 0.4571\n",
            "Epoch 00014: val_accuracy did not improve from 0.42428\n",
            "84/84 [==============================] - 0s 4ms/step - loss: 1.0850 - accuracy: 0.4558 - val_loss: 1.0929 - val_accuracy: 0.4034\n",
            "Epoch 15/200\n",
            "69/84 [=======================>......] - ETA: 0s - loss: 1.0840 - accuracy: 0.4543\n",
            "Epoch 00015: val_accuracy did not improve from 0.42428\n",
            "84/84 [==============================] - 0s 4ms/step - loss: 1.0828 - accuracy: 0.4634 - val_loss: 1.0954 - val_accuracy: 0.4164\n",
            "Epoch 16/200\n",
            "79/84 [===========================>..] - ETA: 0s - loss: 1.0866 - accuracy: 0.4134\n",
            "Epoch 00016: val_accuracy improved from 0.42428 to 0.42689, saving model to /content/drive/My Drive/Machine-Learning-Projects/cs231n-project/models/all_samples_dense_vae_classifier-v4-la.h5\n",
            "84/84 [==============================] - 0s 5ms/step - loss: 1.0867 - accuracy: 0.4149 - val_loss: 1.0887 - val_accuracy: 0.4269\n",
            "Epoch 17/200\n",
            "83/84 [============================>.] - ETA: 0s - loss: 1.0807 - accuracy: 0.4612\n",
            "Epoch 00017: val_accuracy did not improve from 0.42689\n",
            "84/84 [==============================] - 0s 4ms/step - loss: 1.0807 - accuracy: 0.4619 - val_loss: 1.1161 - val_accuracy: 0.3773\n",
            "Epoch 18/200\n",
            "77/84 [==========================>...] - ETA: 0s - loss: 1.0766 - accuracy: 0.4724\n",
            "Epoch 00018: val_accuracy did not improve from 0.42689\n",
            "84/84 [==============================] - 0s 5ms/step - loss: 1.0774 - accuracy: 0.4675 - val_loss: 1.0980 - val_accuracy: 0.4191\n",
            "Epoch 19/200\n",
            "81/84 [===========================>..] - ETA: 0s - loss: 1.0855 - accuracy: 0.4182\n",
            "Epoch 00019: val_accuracy did not improve from 0.42689\n",
            "84/84 [==============================] - 0s 4ms/step - loss: 1.0850 - accuracy: 0.4216 - val_loss: 1.1371 - val_accuracy: 0.2872\n",
            "Epoch 20/200\n",
            "83/84 [============================>.] - ETA: 0s - loss: 1.0817 - accuracy: 0.4514\n",
            "Epoch 00020: val_accuracy did not improve from 0.42689\n",
            "84/84 [==============================] - 0s 4ms/step - loss: 1.0817 - accuracy: 0.4517 - val_loss: 1.0994 - val_accuracy: 0.4217\n",
            "Epoch 21/200\n",
            "74/84 [=========================>....] - ETA: 0s - loss: 1.0766 - accuracy: 0.4607\n",
            "Epoch 00021: val_accuracy did not improve from 0.42689\n",
            "84/84 [==============================] - 0s 4ms/step - loss: 1.0765 - accuracy: 0.4611 - val_loss: 1.0823 - val_accuracy: 0.3760\n",
            "Epoch 22/200\n",
            "84/84 [==============================] - ETA: 0s - loss: 1.0805 - accuracy: 0.4438\n",
            "Epoch 00022: val_accuracy did not improve from 0.42689\n",
            "84/84 [==============================] - 0s 4ms/step - loss: 1.0805 - accuracy: 0.4438 - val_loss: 1.0959 - val_accuracy: 0.4204\n",
            "Epoch 23/200\n",
            "84/84 [==============================] - ETA: 0s - loss: 1.0732 - accuracy: 0.4818\n",
            "Epoch 00023: val_accuracy did not improve from 0.42689\n",
            "84/84 [==============================] - 0s 4ms/step - loss: 1.0732 - accuracy: 0.4818 - val_loss: 1.0755 - val_accuracy: 0.3916\n",
            "Epoch 24/200\n",
            "80/84 [===========================>..] - ETA: 0s - loss: 1.0809 - accuracy: 0.4469\n",
            "Epoch 00024: val_accuracy did not improve from 0.42689\n",
            "84/84 [==============================] - 0s 4ms/step - loss: 1.0798 - accuracy: 0.4498 - val_loss: 1.1205 - val_accuracy: 0.3695\n",
            "Epoch 25/200\n",
            "82/84 [============================>.] - ETA: 0s - loss: 1.0740 - accuracy: 0.4748\n",
            "Epoch 00025: val_accuracy did not improve from 0.42689\n",
            "84/84 [==============================] - 0s 5ms/step - loss: 1.0746 - accuracy: 0.4735 - val_loss: 1.1401 - val_accuracy: 0.3055\n",
            "Epoch 26/200\n",
            "81/84 [===========================>..] - ETA: 0s - loss: 1.0753 - accuracy: 0.4695\n",
            "Epoch 00026: val_accuracy did not improve from 0.42689\n",
            "84/84 [==============================] - 0s 5ms/step - loss: 1.0746 - accuracy: 0.4713 - val_loss: 1.1088 - val_accuracy: 0.3995\n",
            "Epoch 27/200\n",
            "84/84 [==============================] - ETA: 0s - loss: 1.0715 - accuracy: 0.4746\n",
            "Epoch 00027: val_accuracy did not improve from 0.42689\n",
            "84/84 [==============================] - 0s 4ms/step - loss: 1.0715 - accuracy: 0.4746 - val_loss: 1.0869 - val_accuracy: 0.4230\n",
            "Epoch 28/200\n",
            "82/84 [============================>.] - ETA: 0s - loss: 1.0696 - accuracy: 0.4855\n",
            "Epoch 00028: val_accuracy did not improve from 0.42689\n",
            "84/84 [==============================] - 0s 4ms/step - loss: 1.0694 - accuracy: 0.4855 - val_loss: 1.0863 - val_accuracy: 0.4191\n",
            "Epoch 29/200\n",
            "79/84 [===========================>..] - ETA: 0s - loss: 1.0694 - accuracy: 0.4727\n",
            "Epoch 00029: val_accuracy did not improve from 0.42689\n",
            "84/84 [==============================] - 0s 4ms/step - loss: 1.0697 - accuracy: 0.4735 - val_loss: 1.0751 - val_accuracy: 0.4112\n",
            "Epoch 30/200\n",
            "82/84 [============================>.] - ETA: 0s - loss: 1.0740 - accuracy: 0.4703\n",
            "Epoch 00030: val_accuracy improved from 0.42689 to 0.42950, saving model to /content/drive/My Drive/Machine-Learning-Projects/cs231n-project/models/all_samples_dense_vae_classifier-v4-la.h5\n",
            "84/84 [==============================] - 0s 5ms/step - loss: 1.0737 - accuracy: 0.4701 - val_loss: 1.0867 - val_accuracy: 0.4295\n",
            "Epoch 31/200\n",
            "83/84 [============================>.] - ETA: 0s - loss: 1.0725 - accuracy: 0.4657\n",
            "Epoch 00031: val_accuracy did not improve from 0.42950\n",
            "84/84 [==============================] - 0s 4ms/step - loss: 1.0723 - accuracy: 0.4664 - val_loss: 1.0958 - val_accuracy: 0.4269\n",
            "Epoch 32/200\n",
            "83/84 [============================>.] - ETA: 0s - loss: 1.0712 - accuracy: 0.4808\n",
            "Epoch 00032: val_accuracy did not improve from 0.42950\n",
            "84/84 [==============================] - 0s 4ms/step - loss: 1.0713 - accuracy: 0.4806 - val_loss: 1.1194 - val_accuracy: 0.4008\n",
            "Epoch 33/200\n",
            "79/84 [===========================>..] - ETA: 0s - loss: 1.0721 - accuracy: 0.4624\n",
            "Epoch 00033: val_accuracy did not improve from 0.42950\n",
            "84/84 [==============================] - 0s 4ms/step - loss: 1.0702 - accuracy: 0.4697 - val_loss: 1.1135 - val_accuracy: 0.4008\n",
            "Epoch 34/200\n",
            "79/84 [===========================>..] - ETA: 0s - loss: 1.0683 - accuracy: 0.4786\n",
            "Epoch 00034: val_accuracy did not improve from 0.42950\n",
            "84/84 [==============================] - 0s 4ms/step - loss: 1.0679 - accuracy: 0.4791 - val_loss: 1.0877 - val_accuracy: 0.4243\n",
            "Epoch 35/200\n",
            "83/84 [============================>.] - ETA: 0s - loss: 1.0702 - accuracy: 0.4808\n",
            "Epoch 00035: val_accuracy did not improve from 0.42950\n",
            "84/84 [==============================] - 0s 4ms/step - loss: 1.0703 - accuracy: 0.4803 - val_loss: 1.0708 - val_accuracy: 0.4099\n",
            "Epoch 36/200\n",
            "84/84 [==============================] - ETA: 0s - loss: 1.0694 - accuracy: 0.4728\n",
            "Epoch 00036: val_accuracy did not improve from 0.42950\n",
            "84/84 [==============================] - 0s 4ms/step - loss: 1.0694 - accuracy: 0.4728 - val_loss: 1.1376 - val_accuracy: 0.3864\n",
            "Epoch 37/200\n",
            "79/84 [===========================>..] - ETA: 0s - loss: 1.0716 - accuracy: 0.4711\n",
            "Epoch 00037: val_accuracy did not improve from 0.42950\n",
            "84/84 [==============================] - 0s 4ms/step - loss: 1.0703 - accuracy: 0.4731 - val_loss: 1.0718 - val_accuracy: 0.4060\n",
            "Epoch 38/200\n",
            "67/84 [======================>.......] - ETA: 0s - loss: 1.0693 - accuracy: 0.4795\n",
            "Epoch 00038: val_accuracy did not improve from 0.42950\n",
            "84/84 [==============================] - 0s 4ms/step - loss: 1.0701 - accuracy: 0.4803 - val_loss: 1.0983 - val_accuracy: 0.4178\n",
            "Epoch 39/200\n",
            "80/84 [===========================>..] - ETA: 0s - loss: 1.0671 - accuracy: 0.4844\n",
            "Epoch 00039: val_accuracy did not improve from 0.42950\n",
            "84/84 [==============================] - 0s 4ms/step - loss: 1.0685 - accuracy: 0.4806 - val_loss: 1.1076 - val_accuracy: 0.4008\n",
            "Epoch 40/200\n",
            "80/84 [===========================>..] - ETA: 0s - loss: 1.0713 - accuracy: 0.4781\n",
            "Epoch 00040: val_accuracy did not improve from 0.42950\n",
            "84/84 [==============================] - 0s 4ms/step - loss: 1.0705 - accuracy: 0.4806 - val_loss: 1.0855 - val_accuracy: 0.4243\n",
            "Epoch 41/200\n",
            "84/84 [==============================] - ETA: 0s - loss: 1.0707 - accuracy: 0.4724\n",
            "Epoch 00041: val_accuracy did not improve from 0.42950\n",
            "84/84 [==============================] - 0s 4ms/step - loss: 1.0707 - accuracy: 0.4724 - val_loss: 1.0715 - val_accuracy: 0.4256\n",
            "Epoch 42/200\n",
            "82/84 [============================>.] - ETA: 0s - loss: 1.0668 - accuracy: 0.4787\n",
            "Epoch 00042: val_accuracy did not improve from 0.42950\n",
            "84/84 [==============================] - 0s 4ms/step - loss: 1.0660 - accuracy: 0.4806 - val_loss: 1.1343 - val_accuracy: 0.3995\n",
            "Epoch 43/200\n",
            "69/84 [=======================>......] - ETA: 0s - loss: 1.0705 - accuracy: 0.4697\n",
            "Epoch 00043: val_accuracy did not improve from 0.42950\n",
            "84/84 [==============================] - 0s 4ms/step - loss: 1.0707 - accuracy: 0.4709 - val_loss: 1.0806 - val_accuracy: 0.4243\n",
            "Epoch 44/200\n",
            "83/84 [============================>.] - ETA: 0s - loss: 1.0676 - accuracy: 0.4864\n",
            "Epoch 00044: val_accuracy did not improve from 0.42950\n",
            "84/84 [==============================] - 0s 4ms/step - loss: 1.0671 - accuracy: 0.4874 - val_loss: 1.1554 - val_accuracy: 0.3460\n",
            "Epoch 45/200\n",
            "79/84 [===========================>..] - ETA: 0s - loss: 1.0673 - accuracy: 0.4731\n",
            "Epoch 00045: val_accuracy did not improve from 0.42950\n",
            "84/84 [==============================] - 0s 4ms/step - loss: 1.0668 - accuracy: 0.4728 - val_loss: 1.0903 - val_accuracy: 0.4178\n",
            "Epoch 46/200\n",
            "81/84 [===========================>..] - ETA: 0s - loss: 1.0657 - accuracy: 0.4784\n",
            "Epoch 00046: val_accuracy did not improve from 0.42950\n",
            "84/84 [==============================] - 0s 4ms/step - loss: 1.0663 - accuracy: 0.4791 - val_loss: 1.1073 - val_accuracy: 0.4164\n",
            "Epoch 47/200\n",
            "79/84 [===========================>..] - ETA: 0s - loss: 1.0735 - accuracy: 0.4786\n",
            "Epoch 00047: val_accuracy improved from 0.42950 to 0.43081, saving model to /content/drive/My Drive/Machine-Learning-Projects/cs231n-project/models/all_samples_dense_vae_classifier-v4-la.h5\n",
            "84/84 [==============================] - 1s 10ms/step - loss: 1.0738 - accuracy: 0.4761 - val_loss: 1.0819 - val_accuracy: 0.4308\n",
            "Epoch 48/200\n",
            "83/84 [============================>.] - ETA: 0s - loss: 1.0660 - accuracy: 0.4864\n",
            "Epoch 00048: val_accuracy did not improve from 0.43081\n",
            "84/84 [==============================] - 0s 4ms/step - loss: 1.0663 - accuracy: 0.4859 - val_loss: 1.1239 - val_accuracy: 0.4008\n",
            "Epoch 49/200\n",
            "79/84 [===========================>..] - ETA: 0s - loss: 1.0685 - accuracy: 0.4786\n",
            "Epoch 00049: val_accuracy did not improve from 0.43081\n",
            "84/84 [==============================] - 0s 4ms/step - loss: 1.0685 - accuracy: 0.4780 - val_loss: 1.0838 - val_accuracy: 0.4256\n",
            "Epoch 50/200\n",
            "84/84 [==============================] - ETA: 0s - loss: 1.0651 - accuracy: 0.4870\n",
            "Epoch 00050: val_accuracy did not improve from 0.43081\n",
            "84/84 [==============================] - 0s 4ms/step - loss: 1.0651 - accuracy: 0.4870 - val_loss: 1.0891 - val_accuracy: 0.4230\n",
            "Epoch 51/200\n",
            "84/84 [==============================] - ETA: 0s - loss: 1.0675 - accuracy: 0.4754\n",
            "Epoch 00051: val_accuracy did not improve from 0.43081\n",
            "84/84 [==============================] - 0s 4ms/step - loss: 1.0675 - accuracy: 0.4754 - val_loss: 1.1127 - val_accuracy: 0.4125\n",
            "Epoch 52/200\n",
            "79/84 [===========================>..] - ETA: 0s - loss: 1.0706 - accuracy: 0.4854\n",
            "Epoch 00052: val_accuracy did not improve from 0.43081\n",
            "84/84 [==============================] - 0s 4ms/step - loss: 1.0706 - accuracy: 0.4859 - val_loss: 1.1433 - val_accuracy: 0.3695\n",
            "Epoch 53/200\n",
            "84/84 [==============================] - ETA: 0s - loss: 1.0676 - accuracy: 0.4923\n",
            "Epoch 00053: val_accuracy did not improve from 0.43081\n",
            "84/84 [==============================] - 0s 4ms/step - loss: 1.0676 - accuracy: 0.4923 - val_loss: 1.0968 - val_accuracy: 0.4164\n",
            "Epoch 54/200\n",
            "81/84 [===========================>..] - ETA: 0s - loss: 1.0670 - accuracy: 0.4877\n",
            "Epoch 00054: val_accuracy did not improve from 0.43081\n",
            "84/84 [==============================] - 0s 4ms/step - loss: 1.0669 - accuracy: 0.4882 - val_loss: 1.1261 - val_accuracy: 0.3969\n",
            "Epoch 55/200\n",
            "80/84 [===========================>..] - ETA: 0s - loss: 1.0679 - accuracy: 0.4871\n",
            "Epoch 00055: val_accuracy did not improve from 0.43081\n",
            "84/84 [==============================] - 0s 4ms/step - loss: 1.0688 - accuracy: 0.4852 - val_loss: 1.0764 - val_accuracy: 0.4073\n",
            "Epoch 56/200\n",
            "80/84 [===========================>..] - ETA: 0s - loss: 1.0688 - accuracy: 0.4777\n",
            "Epoch 00056: val_accuracy did not improve from 0.43081\n",
            "84/84 [==============================] - 0s 4ms/step - loss: 1.0685 - accuracy: 0.4773 - val_loss: 1.1281 - val_accuracy: 0.3734\n",
            "Epoch 57/200\n",
            "82/84 [============================>.] - ETA: 0s - loss: 1.0663 - accuracy: 0.4878\n",
            "Epoch 00057: val_accuracy did not improve from 0.43081\n",
            "84/84 [==============================] - 0s 5ms/step - loss: 1.0666 - accuracy: 0.4874 - val_loss: 1.0958 - val_accuracy: 0.4138\n",
            "Epoch 58/200\n",
            "78/84 [==========================>...] - ETA: 0s - loss: 1.0697 - accuracy: 0.4760\n",
            "Epoch 00058: val_accuracy did not improve from 0.43081\n",
            "84/84 [==============================] - 0s 4ms/step - loss: 1.0676 - accuracy: 0.4818 - val_loss: 1.0885 - val_accuracy: 0.4243\n",
            "Epoch 59/200\n",
            "81/84 [===========================>..] - ETA: 0s - loss: 1.0684 - accuracy: 0.4915\n",
            "Epoch 00059: val_accuracy did not improve from 0.43081\n",
            "84/84 [==============================] - 0s 4ms/step - loss: 1.0697 - accuracy: 0.4885 - val_loss: 1.0822 - val_accuracy: 0.3930\n",
            "Epoch 60/200\n",
            "80/84 [===========================>..] - ETA: 0s - loss: 1.0681 - accuracy: 0.4875\n",
            "Epoch 00060: val_accuracy did not improve from 0.43081\n",
            "84/84 [==============================] - 0s 4ms/step - loss: 1.0691 - accuracy: 0.4852 - val_loss: 1.1176 - val_accuracy: 0.4164\n",
            "Epoch 61/200\n",
            "81/84 [===========================>..] - ETA: 0s - loss: 1.0660 - accuracy: 0.4838\n",
            "Epoch 00061: val_accuracy did not improve from 0.43081\n",
            "84/84 [==============================] - 0s 4ms/step - loss: 1.0673 - accuracy: 0.4825 - val_loss: 1.1216 - val_accuracy: 0.4099\n",
            "Epoch 62/200\n",
            "76/84 [==========================>...] - ETA: 0s - loss: 1.0697 - accuracy: 0.4745\n",
            "Epoch 00062: val_accuracy did not improve from 0.43081\n",
            "84/84 [==============================] - 0s 5ms/step - loss: 1.0688 - accuracy: 0.4773 - val_loss: 1.1060 - val_accuracy: 0.4138\n",
            "Epoch 63/200\n",
            "82/84 [============================>.] - ETA: 0s - loss: 1.0652 - accuracy: 0.4931\n",
            "Epoch 00063: val_accuracy did not improve from 0.43081\n",
            "84/84 [==============================] - 0s 4ms/step - loss: 1.0643 - accuracy: 0.4949 - val_loss: 1.0907 - val_accuracy: 0.4125\n",
            "Epoch 64/200\n",
            "82/84 [============================>.] - ETA: 0s - loss: 1.0668 - accuracy: 0.4825\n",
            "Epoch 00064: val_accuracy did not improve from 0.43081\n",
            "84/84 [==============================] - 0s 4ms/step - loss: 1.0668 - accuracy: 0.4810 - val_loss: 1.0842 - val_accuracy: 0.4217\n",
            "Epoch 65/200\n",
            "79/84 [===========================>..] - ETA: 0s - loss: 1.0676 - accuracy: 0.4850\n",
            "Epoch 00065: val_accuracy did not improve from 0.43081\n",
            "84/84 [==============================] - 0s 4ms/step - loss: 1.0676 - accuracy: 0.4852 - val_loss: 1.1023 - val_accuracy: 0.4164\n",
            "Epoch 66/200\n",
            "83/84 [============================>.] - ETA: 0s - loss: 1.0671 - accuracy: 0.4827\n",
            "Epoch 00066: val_accuracy did not improve from 0.43081\n",
            "84/84 [==============================] - 0s 4ms/step - loss: 1.0669 - accuracy: 0.4833 - val_loss: 1.0913 - val_accuracy: 0.4204\n",
            "Epoch 67/200\n",
            "77/84 [==========================>...] - ETA: 0s - loss: 1.0626 - accuracy: 0.4951\n",
            "Epoch 00067: val_accuracy did not improve from 0.43081\n",
            "84/84 [==============================] - 0s 4ms/step - loss: 1.0654 - accuracy: 0.4878 - val_loss: 1.1058 - val_accuracy: 0.4164\n",
            "Epoch 68/200\n",
            "80/84 [===========================>..] - ETA: 0s - loss: 1.0683 - accuracy: 0.4867\n",
            "Epoch 00068: val_accuracy improved from 0.43081 to 0.43211, saving model to /content/drive/My Drive/Machine-Learning-Projects/cs231n-project/models/all_samples_dense_vae_classifier-v4-la.h5\n",
            "84/84 [==============================] - 1s 9ms/step - loss: 1.0693 - accuracy: 0.4863 - val_loss: 1.0764 - val_accuracy: 0.4321\n",
            "Epoch 69/200\n",
            "79/84 [===========================>..] - ETA: 0s - loss: 1.0687 - accuracy: 0.4739\n",
            "Epoch 00069: val_accuracy did not improve from 0.43211\n",
            "84/84 [==============================] - 0s 4ms/step - loss: 1.0686 - accuracy: 0.4750 - val_loss: 1.0771 - val_accuracy: 0.4282\n",
            "Epoch 70/200\n",
            "84/84 [==============================] - ETA: 0s - loss: 1.0670 - accuracy: 0.4829\n",
            "Epoch 00070: val_accuracy did not improve from 0.43211\n",
            "84/84 [==============================] - 0s 4ms/step - loss: 1.0670 - accuracy: 0.4829 - val_loss: 1.1233 - val_accuracy: 0.4008\n",
            "Epoch 71/200\n",
            "82/84 [============================>.] - ETA: 0s - loss: 1.0655 - accuracy: 0.4821\n",
            "Epoch 00071: val_accuracy did not improve from 0.43211\n",
            "84/84 [==============================] - 0s 4ms/step - loss: 1.0654 - accuracy: 0.4821 - val_loss: 1.0998 - val_accuracy: 0.4164\n",
            "Epoch 72/200\n",
            "80/84 [===========================>..] - ETA: 0s - loss: 1.0688 - accuracy: 0.4855\n",
            "Epoch 00072: val_accuracy did not improve from 0.43211\n",
            "84/84 [==============================] - 0s 4ms/step - loss: 1.0677 - accuracy: 0.4885 - val_loss: 1.0954 - val_accuracy: 0.4164\n",
            "Epoch 73/200\n",
            "83/84 [============================>.] - ETA: 0s - loss: 1.0672 - accuracy: 0.4887\n",
            "Epoch 00073: val_accuracy did not improve from 0.43211\n",
            "84/84 [==============================] - 0s 4ms/step - loss: 1.0672 - accuracy: 0.4885 - val_loss: 1.0864 - val_accuracy: 0.4191\n",
            "Epoch 74/200\n",
            "78/84 [==========================>...] - ETA: 0s - loss: 1.0674 - accuracy: 0.4808\n",
            "Epoch 00074: val_accuracy did not improve from 0.43211\n",
            "84/84 [==============================] - 0s 4ms/step - loss: 1.0669 - accuracy: 0.4818 - val_loss: 1.0862 - val_accuracy: 0.4256\n",
            "Epoch 75/200\n",
            "75/84 [=========================>....] - ETA: 0s - loss: 1.0673 - accuracy: 0.4846\n",
            "Epoch 00075: val_accuracy did not improve from 0.43211\n",
            "84/84 [==============================] - 0s 4ms/step - loss: 1.0676 - accuracy: 0.4837 - val_loss: 1.1104 - val_accuracy: 0.4034\n",
            "Epoch 76/200\n",
            "81/84 [===========================>..] - ETA: 0s - loss: 1.0675 - accuracy: 0.4919\n",
            "Epoch 00076: val_accuracy did not improve from 0.43211\n",
            "84/84 [==============================] - 0s 4ms/step - loss: 1.0674 - accuracy: 0.4915 - val_loss: 1.0834 - val_accuracy: 0.4243\n",
            "Epoch 77/200\n",
            "82/84 [============================>.] - ETA: 0s - loss: 1.0710 - accuracy: 0.4745\n",
            "Epoch 00077: val_accuracy did not improve from 0.43211\n",
            "84/84 [==============================] - 0s 4ms/step - loss: 1.0702 - accuracy: 0.4765 - val_loss: 1.0948 - val_accuracy: 0.4256\n",
            "Epoch 78/200\n",
            "68/84 [=======================>......] - ETA: 0s - loss: 1.0707 - accuracy: 0.4729\n",
            "Epoch 00078: val_accuracy did not improve from 0.43211\n",
            "84/84 [==============================] - 0s 4ms/step - loss: 1.0735 - accuracy: 0.4709 - val_loss: 1.1406 - val_accuracy: 0.3747\n",
            "Epoch 79/200\n",
            "80/84 [===========================>..] - ETA: 0s - loss: 1.0663 - accuracy: 0.4828\n",
            "Epoch 00079: val_accuracy did not improve from 0.43211\n",
            "84/84 [==============================] - 0s 4ms/step - loss: 1.0674 - accuracy: 0.4829 - val_loss: 1.0885 - val_accuracy: 0.4269\n",
            "Epoch 80/200\n",
            "71/84 [========================>.....] - ETA: 0s - loss: 1.0716 - accuracy: 0.4798\n",
            "Epoch 00080: val_accuracy did not improve from 0.43211\n",
            "84/84 [==============================] - 0s 5ms/step - loss: 1.0694 - accuracy: 0.4844 - val_loss: 1.1446 - val_accuracy: 0.3786\n",
            "Epoch 81/200\n",
            "80/84 [===========================>..] - ETA: 0s - loss: 1.0731 - accuracy: 0.4758\n",
            "Epoch 00081: val_accuracy did not improve from 0.43211\n",
            "84/84 [==============================] - 0s 4ms/step - loss: 1.0721 - accuracy: 0.4776 - val_loss: 1.1722 - val_accuracy: 0.3473\n",
            "Epoch 82/200\n",
            "80/84 [===========================>..] - ETA: 0s - loss: 1.0754 - accuracy: 0.4668\n",
            "Epoch 00082: val_accuracy did not improve from 0.43211\n",
            "84/84 [==============================] - 0s 4ms/step - loss: 1.0759 - accuracy: 0.4660 - val_loss: 1.0909 - val_accuracy: 0.4073\n",
            "Epoch 83/200\n",
            "77/84 [==========================>...] - ETA: 0s - loss: 1.0682 - accuracy: 0.4781\n",
            "Epoch 00083: val_accuracy did not improve from 0.43211\n",
            "84/84 [==============================] - 0s 4ms/step - loss: 1.0704 - accuracy: 0.4773 - val_loss: 1.0834 - val_accuracy: 0.4269\n",
            "Epoch 84/200\n",
            "79/84 [===========================>..] - ETA: 0s - loss: 1.0638 - accuracy: 0.4921\n",
            "Epoch 00084: val_accuracy did not improve from 0.43211\n",
            "84/84 [==============================] - 0s 4ms/step - loss: 1.0652 - accuracy: 0.4893 - val_loss: 1.1235 - val_accuracy: 0.3786\n",
            "Epoch 85/200\n",
            "73/84 [=========================>....] - ETA: 0s - loss: 1.0664 - accuracy: 0.4837\n",
            "Epoch 00085: val_accuracy did not improve from 0.43211\n",
            "84/84 [==============================] - 0s 5ms/step - loss: 1.0650 - accuracy: 0.4855 - val_loss: 1.0818 - val_accuracy: 0.4256\n",
            "Epoch 86/200\n",
            "84/84 [==============================] - ETA: 0s - loss: 1.0681 - accuracy: 0.4784\n",
            "Epoch 00086: val_accuracy did not improve from 0.43211\n",
            "84/84 [==============================] - 0s 4ms/step - loss: 1.0681 - accuracy: 0.4784 - val_loss: 1.0792 - val_accuracy: 0.4269\n",
            "Epoch 87/200\n",
            "68/84 [=======================>......] - ETA: 0s - loss: 1.0743 - accuracy: 0.4761\n",
            "Epoch 00087: val_accuracy did not improve from 0.43211\n",
            "84/84 [==============================] - 0s 4ms/step - loss: 1.0719 - accuracy: 0.4810 - val_loss: 1.0988 - val_accuracy: 0.4269\n",
            "Epoch 88/200\n",
            "80/84 [===========================>..] - ETA: 0s - loss: 1.0664 - accuracy: 0.4895\n",
            "Epoch 00088: val_accuracy did not improve from 0.43211\n",
            "84/84 [==============================] - 0s 4ms/step - loss: 1.0670 - accuracy: 0.4878 - val_loss: 1.1112 - val_accuracy: 0.4164\n",
            "Epoch 89/200\n",
            "69/84 [=======================>......] - ETA: 0s - loss: 1.0665 - accuracy: 0.4823\n",
            "Epoch 00089: val_accuracy did not improve from 0.43211\n",
            "84/84 [==============================] - 0s 4ms/step - loss: 1.0693 - accuracy: 0.4773 - val_loss: 1.1241 - val_accuracy: 0.4034\n",
            "Epoch 90/200\n",
            "80/84 [===========================>..] - ETA: 0s - loss: 1.0645 - accuracy: 0.4906\n",
            "Epoch 00090: val_accuracy did not improve from 0.43211\n",
            "84/84 [==============================] - 0s 4ms/step - loss: 1.0643 - accuracy: 0.4882 - val_loss: 1.0784 - val_accuracy: 0.4256\n",
            "Epoch 91/200\n",
            "77/84 [==========================>...] - ETA: 0s - loss: 1.0725 - accuracy: 0.4736\n",
            "Epoch 00091: val_accuracy did not improve from 0.43211\n",
            "84/84 [==============================] - 0s 4ms/step - loss: 1.0703 - accuracy: 0.4758 - val_loss: 1.0988 - val_accuracy: 0.4086\n",
            "Epoch 92/200\n",
            "81/84 [===========================>..] - ETA: 0s - loss: 1.0663 - accuracy: 0.4888\n",
            "Epoch 00092: val_accuracy did not improve from 0.43211\n",
            "84/84 [==============================] - 0s 4ms/step - loss: 1.0664 - accuracy: 0.4885 - val_loss: 1.1035 - val_accuracy: 0.4138\n",
            "Epoch 93/200\n",
            "73/84 [=========================>....] - ETA: 0s - loss: 1.0648 - accuracy: 0.4722\n",
            "Epoch 00093: val_accuracy did not improve from 0.43211\n",
            "84/84 [==============================] - 0s 5ms/step - loss: 1.0649 - accuracy: 0.4754 - val_loss: 1.1025 - val_accuracy: 0.3956\n",
            "Epoch 94/200\n",
            "80/84 [===========================>..] - ETA: 0s - loss: 1.0662 - accuracy: 0.4906\n",
            "Epoch 00094: val_accuracy did not improve from 0.43211\n",
            "84/84 [==============================] - 0s 4ms/step - loss: 1.0674 - accuracy: 0.4882 - val_loss: 1.0838 - val_accuracy: 0.4243\n",
            "Epoch 95/200\n",
            "74/84 [=========================>....] - ETA: 0s - loss: 1.0716 - accuracy: 0.4772\n",
            "Epoch 00095: val_accuracy did not improve from 0.43211\n",
            "84/84 [==============================] - 0s 5ms/step - loss: 1.0698 - accuracy: 0.4773 - val_loss: 1.1076 - val_accuracy: 0.4138\n",
            "Epoch 96/200\n",
            "74/84 [=========================>....] - ETA: 0s - loss: 1.0680 - accuracy: 0.4848\n",
            "Epoch 00096: val_accuracy did not improve from 0.43211\n",
            "84/84 [==============================] - 0s 5ms/step - loss: 1.0675 - accuracy: 0.4852 - val_loss: 1.1248 - val_accuracy: 0.3734\n",
            "Epoch 97/200\n",
            "77/84 [==========================>...] - ETA: 0s - loss: 1.0669 - accuracy: 0.4862\n",
            "Epoch 00097: val_accuracy did not improve from 0.43211\n",
            "84/84 [==============================] - 0s 4ms/step - loss: 1.0665 - accuracy: 0.4874 - val_loss: 1.0901 - val_accuracy: 0.4243\n",
            "Epoch 98/200\n",
            "77/84 [==========================>...] - ETA: 0s - loss: 1.0706 - accuracy: 0.4830\n",
            "Epoch 00098: val_accuracy did not improve from 0.43211\n",
            "84/84 [==============================] - 0s 4ms/step - loss: 1.0691 - accuracy: 0.4874 - val_loss: 1.0951 - val_accuracy: 0.4151\n",
            "Epoch 99/200\n",
            "76/84 [==========================>...] - ETA: 0s - loss: 1.0670 - accuracy: 0.4794\n",
            "Epoch 00099: val_accuracy did not improve from 0.43211\n",
            "84/84 [==============================] - 0s 4ms/step - loss: 1.0671 - accuracy: 0.4784 - val_loss: 1.0965 - val_accuracy: 0.4191\n",
            "Epoch 100/200\n",
            "81/84 [===========================>..] - ETA: 0s - loss: 1.0655 - accuracy: 0.4846\n",
            "Epoch 00100: val_accuracy did not improve from 0.43211\n",
            "84/84 [==============================] - 0s 4ms/step - loss: 1.0651 - accuracy: 0.4848 - val_loss: 1.1202 - val_accuracy: 0.3930\n",
            "Epoch 101/200\n",
            "76/84 [==========================>...] - ETA: 0s - loss: 1.0659 - accuracy: 0.4885\n",
            "Epoch 00101: val_accuracy did not improve from 0.43211\n",
            "84/84 [==============================] - 0s 5ms/step - loss: 1.0662 - accuracy: 0.4855 - val_loss: 1.0967 - val_accuracy: 0.4191\n",
            "Epoch 102/200\n",
            "81/84 [===========================>..] - ETA: 0s - loss: 1.0659 - accuracy: 0.4865\n",
            "Epoch 00102: val_accuracy did not improve from 0.43211\n",
            "84/84 [==============================] - 0s 4ms/step - loss: 1.0656 - accuracy: 0.4874 - val_loss: 1.1534 - val_accuracy: 0.3681\n",
            "Epoch 103/200\n",
            "80/84 [===========================>..] - ETA: 0s - loss: 1.0642 - accuracy: 0.4824\n",
            "Epoch 00103: val_accuracy did not improve from 0.43211\n",
            "84/84 [==============================] - 0s 4ms/step - loss: 1.0656 - accuracy: 0.4788 - val_loss: 1.0855 - val_accuracy: 0.4256\n",
            "Epoch 104/200\n",
            "78/84 [==========================>...] - ETA: 0s - loss: 1.0671 - accuracy: 0.4776\n",
            "Epoch 00104: val_accuracy did not improve from 0.43211\n",
            "84/84 [==============================] - 0s 4ms/step - loss: 1.0687 - accuracy: 0.4750 - val_loss: 1.0929 - val_accuracy: 0.4164\n",
            "Epoch 105/200\n",
            "83/84 [============================>.] - ETA: 0s - loss: 1.0658 - accuracy: 0.4838\n",
            "Epoch 00105: val_accuracy did not improve from 0.43211\n",
            "84/84 [==============================] - 0s 4ms/step - loss: 1.0656 - accuracy: 0.4837 - val_loss: 1.0830 - val_accuracy: 0.4295\n",
            "Epoch 106/200\n",
            "80/84 [===========================>..] - ETA: 0s - loss: 1.0686 - accuracy: 0.4770\n",
            "Epoch 00106: val_accuracy did not improve from 0.43211\n",
            "84/84 [==============================] - 0s 4ms/step - loss: 1.0676 - accuracy: 0.4803 - val_loss: 1.1022 - val_accuracy: 0.4164\n",
            "Epoch 107/200\n",
            "81/84 [===========================>..] - ETA: 0s - loss: 1.0716 - accuracy: 0.4896\n",
            "Epoch 00107: val_accuracy did not improve from 0.43211\n",
            "84/84 [==============================] - 0s 4ms/step - loss: 1.0728 - accuracy: 0.4863 - val_loss: 1.0985 - val_accuracy: 0.4178\n",
            "Epoch 108/200\n",
            "72/84 [========================>.....] - ETA: 0s - loss: 1.0708 - accuracy: 0.4766\n",
            "Epoch 00108: val_accuracy did not improve from 0.43211\n",
            "84/84 [==============================] - 0s 5ms/step - loss: 1.0678 - accuracy: 0.4818 - val_loss: 1.1060 - val_accuracy: 0.4164\n",
            "Epoch 109/200\n",
            "80/84 [===========================>..] - ETA: 0s - loss: 1.0681 - accuracy: 0.4836\n",
            "Epoch 00109: val_accuracy did not improve from 0.43211\n",
            "84/84 [==============================] - 0s 4ms/step - loss: 1.0689 - accuracy: 0.4829 - val_loss: 1.1190 - val_accuracy: 0.4086\n",
            "Epoch 110/200\n",
            "82/84 [============================>.] - ETA: 0s - loss: 1.0686 - accuracy: 0.4790\n",
            "Epoch 00110: val_accuracy did not improve from 0.43211\n",
            "84/84 [==============================] - 0s 4ms/step - loss: 1.0681 - accuracy: 0.4803 - val_loss: 1.1053 - val_accuracy: 0.4164\n",
            "Epoch 111/200\n",
            "70/84 [========================>.....] - ETA: 0s - loss: 1.0660 - accuracy: 0.4888\n",
            "Epoch 00111: val_accuracy did not improve from 0.43211\n",
            "84/84 [==============================] - 0s 5ms/step - loss: 1.0659 - accuracy: 0.4889 - val_loss: 1.1368 - val_accuracy: 0.3668\n",
            "Epoch 112/200\n",
            "84/84 [==============================] - ETA: 0s - loss: 1.0708 - accuracy: 0.4656\n",
            "Epoch 00112: val_accuracy did not improve from 0.43211\n",
            "84/84 [==============================] - 0s 4ms/step - loss: 1.0708 - accuracy: 0.4656 - val_loss: 1.0961 - val_accuracy: 0.4125\n",
            "Epoch 113/200\n",
            "81/84 [===========================>..] - ETA: 0s - loss: 1.0668 - accuracy: 0.4880\n",
            "Epoch 00113: val_accuracy did not improve from 0.43211\n",
            "84/84 [==============================] - 0s 4ms/step - loss: 1.0663 - accuracy: 0.4900 - val_loss: 1.0933 - val_accuracy: 0.4112\n",
            "Epoch 114/200\n",
            "80/84 [===========================>..] - ETA: 0s - loss: 1.0654 - accuracy: 0.4875\n",
            "Epoch 00114: val_accuracy did not improve from 0.43211\n",
            "84/84 [==============================] - 0s 4ms/step - loss: 1.0654 - accuracy: 0.4882 - val_loss: 1.0894 - val_accuracy: 0.4308\n",
            "Epoch 115/200\n",
            "84/84 [==============================] - ETA: 0s - loss: 1.0658 - accuracy: 0.4870\n",
            "Epoch 00115: val_accuracy did not improve from 0.43211\n",
            "84/84 [==============================] - 0s 4ms/step - loss: 1.0658 - accuracy: 0.4870 - val_loss: 1.1219 - val_accuracy: 0.3995\n",
            "Epoch 116/200\n",
            "82/84 [============================>.] - ETA: 0s - loss: 1.0675 - accuracy: 0.4851\n",
            "Epoch 00116: val_accuracy did not improve from 0.43211\n",
            "84/84 [==============================] - 0s 4ms/step - loss: 1.0674 - accuracy: 0.4848 - val_loss: 1.0759 - val_accuracy: 0.4230\n",
            "Epoch 117/200\n",
            "77/84 [==========================>...] - ETA: 0s - loss: 1.0723 - accuracy: 0.4773\n",
            "Epoch 00117: val_accuracy did not improve from 0.43211\n",
            "84/84 [==============================] - 0s 4ms/step - loss: 1.0736 - accuracy: 0.4735 - val_loss: 1.0925 - val_accuracy: 0.4112\n",
            "Epoch 118/200\n",
            "83/84 [============================>.] - ETA: 0s - loss: 1.0646 - accuracy: 0.4917\n",
            "Epoch 00118: val_accuracy did not improve from 0.43211\n",
            "84/84 [==============================] - 0s 4ms/step - loss: 1.0646 - accuracy: 0.4919 - val_loss: 1.0826 - val_accuracy: 0.4256\n",
            "Epoch 119/200\n",
            "83/84 [============================>.] - ETA: 0s - loss: 1.0698 - accuracy: 0.4744\n",
            "Epoch 00119: val_accuracy did not improve from 0.43211\n",
            "84/84 [==============================] - 0s 4ms/step - loss: 1.0698 - accuracy: 0.4743 - val_loss: 1.0781 - val_accuracy: 0.4164\n",
            "Epoch 120/200\n",
            "82/84 [============================>.] - ETA: 0s - loss: 1.0670 - accuracy: 0.4889\n",
            "Epoch 00120: val_accuracy did not improve from 0.43211\n",
            "84/84 [==============================] - 0s 4ms/step - loss: 1.0673 - accuracy: 0.4882 - val_loss: 1.1272 - val_accuracy: 0.4008\n",
            "Epoch 121/200\n",
            "84/84 [==============================] - ETA: 0s - loss: 1.0684 - accuracy: 0.4874\n",
            "Epoch 00121: val_accuracy did not improve from 0.43211\n",
            "84/84 [==============================] - 0s 4ms/step - loss: 1.0684 - accuracy: 0.4874 - val_loss: 1.0778 - val_accuracy: 0.4230\n",
            "Epoch 122/200\n",
            "80/84 [===========================>..] - ETA: 0s - loss: 1.0653 - accuracy: 0.4840\n",
            "Epoch 00122: val_accuracy did not improve from 0.43211\n",
            "84/84 [==============================] - 0s 4ms/step - loss: 1.0640 - accuracy: 0.4870 - val_loss: 1.1706 - val_accuracy: 0.3394\n",
            "Epoch 123/200\n",
            "83/84 [============================>.] - ETA: 0s - loss: 1.0696 - accuracy: 0.4819\n",
            "Epoch 00123: val_accuracy did not improve from 0.43211\n",
            "84/84 [==============================] - 0s 4ms/step - loss: 1.0693 - accuracy: 0.4825 - val_loss: 1.0966 - val_accuracy: 0.4204\n",
            "Epoch 124/200\n",
            "80/84 [===========================>..] - ETA: 0s - loss: 1.0673 - accuracy: 0.4887\n",
            "Epoch 00124: val_accuracy did not improve from 0.43211\n",
            "84/84 [==============================] - 0s 4ms/step - loss: 1.0672 - accuracy: 0.4893 - val_loss: 1.0965 - val_accuracy: 0.4178\n",
            "Epoch 125/200\n",
            "83/84 [============================>.] - ETA: 0s - loss: 1.0669 - accuracy: 0.4816\n",
            "Epoch 00125: val_accuracy did not improve from 0.43211\n",
            "84/84 [==============================] - 0s 4ms/step - loss: 1.0669 - accuracy: 0.4818 - val_loss: 1.1214 - val_accuracy: 0.4151\n",
            "Epoch 126/200\n",
            "83/84 [============================>.] - ETA: 0s - loss: 1.0667 - accuracy: 0.4774\n",
            "Epoch 00126: val_accuracy did not improve from 0.43211\n",
            "84/84 [==============================] - 0s 4ms/step - loss: 1.0666 - accuracy: 0.4776 - val_loss: 1.1037 - val_accuracy: 0.4164\n",
            "Epoch 127/200\n",
            "68/84 [=======================>......] - ETA: 0s - loss: 1.0665 - accuracy: 0.4871\n",
            "Epoch 00127: val_accuracy did not improve from 0.43211\n",
            "84/84 [==============================] - 0s 4ms/step - loss: 1.0691 - accuracy: 0.4818 - val_loss: 1.0776 - val_accuracy: 0.4269\n",
            "Epoch 128/200\n",
            "80/84 [===========================>..] - ETA: 0s - loss: 1.0748 - accuracy: 0.4668\n",
            "Epoch 00128: val_accuracy did not improve from 0.43211\n",
            "84/84 [==============================] - 0s 4ms/step - loss: 1.0734 - accuracy: 0.4682 - val_loss: 1.1126 - val_accuracy: 0.4021\n",
            "Epoch 129/200\n",
            "84/84 [==============================] - ETA: 0s - loss: 1.0678 - accuracy: 0.4848\n",
            "Epoch 00129: val_accuracy did not improve from 0.43211\n",
            "84/84 [==============================] - 0s 4ms/step - loss: 1.0678 - accuracy: 0.4848 - val_loss: 1.0755 - val_accuracy: 0.4230\n",
            "Epoch 130/200\n",
            "68/84 [=======================>......] - ETA: 0s - loss: 1.0693 - accuracy: 0.4770\n",
            "Epoch 00130: val_accuracy did not improve from 0.43211\n",
            "84/84 [==============================] - 0s 4ms/step - loss: 1.0684 - accuracy: 0.4788 - val_loss: 1.1220 - val_accuracy: 0.4008\n",
            "Epoch 131/200\n",
            "68/84 [=======================>......] - ETA: 0s - loss: 1.0686 - accuracy: 0.4894\n",
            "Epoch 00131: val_accuracy did not improve from 0.43211\n",
            "84/84 [==============================] - 0s 4ms/step - loss: 1.0662 - accuracy: 0.4904 - val_loss: 1.0817 - val_accuracy: 0.4308\n",
            "Epoch 132/200\n",
            "74/84 [=========================>....] - ETA: 0s - loss: 1.0718 - accuracy: 0.4814\n",
            "Epoch 00132: val_accuracy did not improve from 0.43211\n",
            "84/84 [==============================] - 0s 4ms/step - loss: 1.0690 - accuracy: 0.4855 - val_loss: 1.0991 - val_accuracy: 0.4164\n",
            "Epoch 133/200\n",
            "83/84 [============================>.] - ETA: 0s - loss: 1.0705 - accuracy: 0.4812\n",
            "Epoch 00133: val_accuracy did not improve from 0.43211\n",
            "84/84 [==============================] - 0s 4ms/step - loss: 1.0704 - accuracy: 0.4814 - val_loss: 1.1006 - val_accuracy: 0.4178\n",
            "Epoch 134/200\n",
            "69/84 [=======================>......] - ETA: 0s - loss: 1.0692 - accuracy: 0.4805\n",
            "Epoch 00134: val_accuracy did not improve from 0.43211\n",
            "84/84 [==============================] - 0s 4ms/step - loss: 1.0660 - accuracy: 0.4844 - val_loss: 1.1190 - val_accuracy: 0.4178\n",
            "Epoch 135/200\n",
            "80/84 [===========================>..] - ETA: 0s - loss: 1.0738 - accuracy: 0.4688\n",
            "Epoch 00135: val_accuracy did not improve from 0.43211\n",
            "84/84 [==============================] - 0s 4ms/step - loss: 1.0736 - accuracy: 0.4682 - val_loss: 1.0999 - val_accuracy: 0.4138\n",
            "Epoch 136/200\n",
            "81/84 [===========================>..] - ETA: 0s - loss: 1.0657 - accuracy: 0.4896\n",
            "Epoch 00136: val_accuracy did not improve from 0.43211\n",
            "84/84 [==============================] - 0s 4ms/step - loss: 1.0653 - accuracy: 0.4908 - val_loss: 1.0949 - val_accuracy: 0.4138\n",
            "Epoch 137/200\n",
            "84/84 [==============================] - ETA: 0s - loss: 1.0686 - accuracy: 0.4821\n",
            "Epoch 00137: val_accuracy did not improve from 0.43211\n",
            "84/84 [==============================] - 0s 4ms/step - loss: 1.0686 - accuracy: 0.4821 - val_loss: 1.1232 - val_accuracy: 0.3812\n",
            "Epoch 138/200\n",
            "82/84 [============================>.] - ETA: 0s - loss: 1.0644 - accuracy: 0.4836\n",
            "Epoch 00138: val_accuracy did not improve from 0.43211\n",
            "84/84 [==============================] - 0s 4ms/step - loss: 1.0653 - accuracy: 0.4829 - val_loss: 1.1313 - val_accuracy: 0.4008\n",
            "Epoch 139/200\n",
            "81/84 [===========================>..] - ETA: 0s - loss: 1.0701 - accuracy: 0.4792\n",
            "Epoch 00139: val_accuracy did not improve from 0.43211\n",
            "84/84 [==============================] - 0s 5ms/step - loss: 1.0693 - accuracy: 0.4799 - val_loss: 1.1262 - val_accuracy: 0.3747\n",
            "Epoch 140/200\n",
            "80/84 [===========================>..] - ETA: 0s - loss: 1.0651 - accuracy: 0.4824\n",
            "Epoch 00140: val_accuracy did not improve from 0.43211\n",
            "84/84 [==============================] - 0s 4ms/step - loss: 1.0671 - accuracy: 0.4799 - val_loss: 1.1136 - val_accuracy: 0.4047\n",
            "Epoch 141/200\n",
            "70/84 [========================>.....] - ETA: 0s - loss: 1.0686 - accuracy: 0.4777\n",
            "Epoch 00141: val_accuracy did not improve from 0.43211\n",
            "84/84 [==============================] - 0s 4ms/step - loss: 1.0653 - accuracy: 0.4863 - val_loss: 1.0915 - val_accuracy: 0.4243\n",
            "Epoch 142/200\n",
            "83/84 [============================>.] - ETA: 0s - loss: 1.0688 - accuracy: 0.4812\n",
            "Epoch 00142: val_accuracy did not improve from 0.43211\n",
            "84/84 [==============================] - 0s 4ms/step - loss: 1.0684 - accuracy: 0.4814 - val_loss: 1.0946 - val_accuracy: 0.4178\n",
            "Epoch 143/200\n",
            "82/84 [============================>.] - ETA: 0s - loss: 1.0674 - accuracy: 0.4829\n",
            "Epoch 00143: val_accuracy did not improve from 0.43211\n",
            "84/84 [==============================] - 0s 4ms/step - loss: 1.0671 - accuracy: 0.4825 - val_loss: 1.0783 - val_accuracy: 0.4230\n",
            "Epoch 144/200\n",
            "80/84 [===========================>..] - ETA: 0s - loss: 1.0727 - accuracy: 0.4730\n",
            "Epoch 00144: val_accuracy did not improve from 0.43211\n",
            "84/84 [==============================] - 0s 4ms/step - loss: 1.0708 - accuracy: 0.4743 - val_loss: 1.0828 - val_accuracy: 0.3916\n",
            "Epoch 145/200\n",
            "84/84 [==============================] - ETA: 0s - loss: 1.0716 - accuracy: 0.4791\n",
            "Epoch 00145: val_accuracy did not improve from 0.43211\n",
            "84/84 [==============================] - 0s 4ms/step - loss: 1.0716 - accuracy: 0.4791 - val_loss: 1.0837 - val_accuracy: 0.4230\n",
            "Epoch 146/200\n",
            "84/84 [==============================] - ETA: 0s - loss: 1.0703 - accuracy: 0.4810\n",
            "Epoch 00146: val_accuracy did not improve from 0.43211\n",
            "84/84 [==============================] - 0s 4ms/step - loss: 1.0703 - accuracy: 0.4810 - val_loss: 1.1247 - val_accuracy: 0.4008\n",
            "Epoch 147/200\n",
            "76/84 [==========================>...] - ETA: 0s - loss: 1.0661 - accuracy: 0.4905\n",
            "Epoch 00147: val_accuracy did not improve from 0.43211\n",
            "84/84 [==============================] - 0s 4ms/step - loss: 1.0657 - accuracy: 0.4889 - val_loss: 1.0855 - val_accuracy: 0.4282\n",
            "Epoch 148/200\n",
            "82/84 [============================>.] - ETA: 0s - loss: 1.0689 - accuracy: 0.4798\n",
            "Epoch 00148: val_accuracy did not improve from 0.43211\n",
            "84/84 [==============================] - 0s 4ms/step - loss: 1.0686 - accuracy: 0.4806 - val_loss: 1.1185 - val_accuracy: 0.4086\n",
            "Epoch 149/200\n",
            "79/84 [===========================>..] - ETA: 0s - loss: 1.0668 - accuracy: 0.4842\n",
            "Epoch 00149: val_accuracy did not improve from 0.43211\n",
            "84/84 [==============================] - 0s 4ms/step - loss: 1.0654 - accuracy: 0.4855 - val_loss: 1.1204 - val_accuracy: 0.4034\n",
            "Epoch 150/200\n",
            "83/84 [============================>.] - ETA: 0s - loss: 1.0643 - accuracy: 0.4932\n",
            "Epoch 00150: val_accuracy did not improve from 0.43211\n",
            "84/84 [==============================] - 0s 4ms/step - loss: 1.0645 - accuracy: 0.4927 - val_loss: 1.1016 - val_accuracy: 0.4151\n",
            "Epoch 151/200\n",
            "82/84 [============================>.] - ETA: 0s - loss: 1.0662 - accuracy: 0.4813\n",
            "Epoch 00151: val_accuracy did not improve from 0.43211\n",
            "84/84 [==============================] - 0s 4ms/step - loss: 1.0659 - accuracy: 0.4814 - val_loss: 1.1006 - val_accuracy: 0.4138\n",
            "Epoch 152/200\n",
            "82/84 [============================>.] - ETA: 0s - loss: 1.0723 - accuracy: 0.4657\n",
            "Epoch 00152: val_accuracy did not improve from 0.43211\n",
            "84/84 [==============================] - 0s 4ms/step - loss: 1.0725 - accuracy: 0.4649 - val_loss: 1.1290 - val_accuracy: 0.3903\n",
            "Epoch 153/200\n",
            "70/84 [========================>.....] - ETA: 0s - loss: 1.0642 - accuracy: 0.4862\n",
            "Epoch 00153: val_accuracy did not improve from 0.43211\n",
            "84/84 [==============================] - 0s 4ms/step - loss: 1.0670 - accuracy: 0.4788 - val_loss: 1.0793 - val_accuracy: 0.4021\n",
            "Epoch 154/200\n",
            "69/84 [=======================>......] - ETA: 0s - loss: 1.0691 - accuracy: 0.4823\n",
            "Epoch 00154: val_accuracy did not improve from 0.43211\n",
            "84/84 [==============================] - 0s 4ms/step - loss: 1.0721 - accuracy: 0.4716 - val_loss: 1.0757 - val_accuracy: 0.3956\n",
            "Epoch 155/200\n",
            "77/84 [==========================>...] - ETA: 0s - loss: 1.0719 - accuracy: 0.4688\n",
            "Epoch 00155: val_accuracy did not improve from 0.43211\n",
            "84/84 [==============================] - 0s 4ms/step - loss: 1.0718 - accuracy: 0.4679 - val_loss: 1.1000 - val_accuracy: 0.4217\n",
            "Epoch 156/200\n",
            "83/84 [============================>.] - ETA: 0s - loss: 1.0703 - accuracy: 0.4782\n",
            "Epoch 00156: val_accuracy did not improve from 0.43211\n",
            "84/84 [==============================] - 0s 4ms/step - loss: 1.0703 - accuracy: 0.4780 - val_loss: 1.1017 - val_accuracy: 0.4243\n",
            "Epoch 157/200\n",
            "83/84 [============================>.] - ETA: 0s - loss: 1.0706 - accuracy: 0.4793\n",
            "Epoch 00157: val_accuracy did not improve from 0.43211\n",
            "84/84 [==============================] - 0s 4ms/step - loss: 1.0704 - accuracy: 0.4791 - val_loss: 1.1504 - val_accuracy: 0.3695\n",
            "Epoch 158/200\n",
            "74/84 [=========================>....] - ETA: 0s - loss: 1.0646 - accuracy: 0.4831\n",
            "Epoch 00158: val_accuracy did not improve from 0.43211\n",
            "84/84 [==============================] - 0s 4ms/step - loss: 1.0665 - accuracy: 0.4825 - val_loss: 1.0971 - val_accuracy: 0.4178\n",
            "Epoch 159/200\n",
            "80/84 [===========================>..] - ETA: 0s - loss: 1.0688 - accuracy: 0.4797\n",
            "Epoch 00159: val_accuracy did not improve from 0.43211\n",
            "84/84 [==============================] - 0s 4ms/step - loss: 1.0680 - accuracy: 0.4803 - val_loss: 1.0978 - val_accuracy: 0.4164\n",
            "Epoch 160/200\n",
            "83/84 [============================>.] - ETA: 0s - loss: 1.0681 - accuracy: 0.4868\n",
            "Epoch 00160: val_accuracy did not improve from 0.43211\n",
            "84/84 [==============================] - 0s 4ms/step - loss: 1.0681 - accuracy: 0.4867 - val_loss: 1.0920 - val_accuracy: 0.4099\n",
            "Epoch 161/200\n",
            "83/84 [============================>.] - ETA: 0s - loss: 1.0680 - accuracy: 0.4846\n",
            "Epoch 00161: val_accuracy did not improve from 0.43211\n",
            "84/84 [==============================] - 0s 4ms/step - loss: 1.0679 - accuracy: 0.4848 - val_loss: 1.1276 - val_accuracy: 0.3995\n",
            "Epoch 162/200\n",
            "82/84 [============================>.] - ETA: 0s - loss: 1.0676 - accuracy: 0.4817\n",
            "Epoch 00162: val_accuracy did not improve from 0.43211\n",
            "84/84 [==============================] - 0s 4ms/step - loss: 1.0677 - accuracy: 0.4821 - val_loss: 1.0799 - val_accuracy: 0.4269\n",
            "Epoch 163/200\n",
            "78/84 [==========================>...] - ETA: 0s - loss: 1.0731 - accuracy: 0.4679\n",
            "Epoch 00163: val_accuracy did not improve from 0.43211\n",
            "84/84 [==============================] - 0s 4ms/step - loss: 1.0728 - accuracy: 0.4709 - val_loss: 1.1327 - val_accuracy: 0.3799\n",
            "Epoch 164/200\n",
            "83/84 [============================>.] - ETA: 0s - loss: 1.0675 - accuracy: 0.4849\n",
            "Epoch 00164: val_accuracy improved from 0.43211 to 0.43734, saving model to /content/drive/My Drive/Machine-Learning-Projects/cs231n-project/models/all_samples_dense_vae_classifier-v4-la.h5\n",
            "84/84 [==============================] - 1s 9ms/step - loss: 1.0675 - accuracy: 0.4852 - val_loss: 1.0791 - val_accuracy: 0.4373\n",
            "Epoch 165/200\n",
            "75/84 [=========================>....] - ETA: 0s - loss: 1.0700 - accuracy: 0.4712\n",
            "Epoch 00165: val_accuracy did not improve from 0.43734\n",
            "84/84 [==============================] - 0s 5ms/step - loss: 1.0702 - accuracy: 0.4682 - val_loss: 1.1422 - val_accuracy: 0.3695\n",
            "Epoch 166/200\n",
            "76/84 [==========================>...] - ETA: 0s - loss: 1.0678 - accuracy: 0.4852\n",
            "Epoch 00166: val_accuracy did not improve from 0.43734\n",
            "84/84 [==============================] - 0s 5ms/step - loss: 1.0683 - accuracy: 0.4852 - val_loss: 1.0984 - val_accuracy: 0.4164\n",
            "Epoch 167/200\n",
            "79/84 [===========================>..] - ETA: 0s - loss: 1.0701 - accuracy: 0.4830\n",
            "Epoch 00167: val_accuracy did not improve from 0.43734\n",
            "84/84 [==============================] - 0s 5ms/step - loss: 1.0688 - accuracy: 0.4848 - val_loss: 1.1085 - val_accuracy: 0.4151\n",
            "Epoch 168/200\n",
            "80/84 [===========================>..] - ETA: 0s - loss: 1.0669 - accuracy: 0.4898\n",
            "Epoch 00168: val_accuracy did not improve from 0.43734\n",
            "84/84 [==============================] - 0s 4ms/step - loss: 1.0673 - accuracy: 0.4915 - val_loss: 1.1015 - val_accuracy: 0.4112\n",
            "Epoch 169/200\n",
            "79/84 [===========================>..] - ETA: 0s - loss: 1.0643 - accuracy: 0.4873\n",
            "Epoch 00169: val_accuracy did not improve from 0.43734\n",
            "84/84 [==============================] - 0s 4ms/step - loss: 1.0652 - accuracy: 0.4874 - val_loss: 1.0899 - val_accuracy: 0.4204\n",
            "Epoch 170/200\n",
            "73/84 [=========================>....] - ETA: 0s - loss: 1.0680 - accuracy: 0.4799\n",
            "Epoch 00170: val_accuracy did not improve from 0.43734\n",
            "84/84 [==============================] - 0s 5ms/step - loss: 1.0690 - accuracy: 0.4776 - val_loss: 1.0932 - val_accuracy: 0.4243\n",
            "Epoch 171/200\n",
            "76/84 [==========================>...] - ETA: 0s - loss: 1.0720 - accuracy: 0.4679\n",
            "Epoch 00171: val_accuracy did not improve from 0.43734\n",
            "84/84 [==============================] - 0s 5ms/step - loss: 1.0672 - accuracy: 0.4765 - val_loss: 1.1249 - val_accuracy: 0.4021\n",
            "Epoch 172/200\n",
            "74/84 [=========================>....] - ETA: 0s - loss: 1.0744 - accuracy: 0.4607\n",
            "Epoch 00172: val_accuracy did not improve from 0.43734\n",
            "84/84 [==============================] - 0s 5ms/step - loss: 1.0721 - accuracy: 0.4637 - val_loss: 1.1541 - val_accuracy: 0.3538\n",
            "Epoch 173/200\n",
            "76/84 [==========================>...] - ETA: 0s - loss: 1.0673 - accuracy: 0.4901\n",
            "Epoch 00173: val_accuracy did not improve from 0.43734\n",
            "84/84 [==============================] - 0s 5ms/step - loss: 1.0658 - accuracy: 0.4908 - val_loss: 1.0864 - val_accuracy: 0.4178\n",
            "Epoch 174/200\n",
            "76/84 [==========================>...] - ETA: 0s - loss: 1.0670 - accuracy: 0.4819\n",
            "Epoch 00174: val_accuracy did not improve from 0.43734\n",
            "84/84 [==============================] - 0s 5ms/step - loss: 1.0670 - accuracy: 0.4829 - val_loss: 1.1174 - val_accuracy: 0.3930\n",
            "Epoch 175/200\n",
            "76/84 [==========================>...] - ETA: 0s - loss: 1.0712 - accuracy: 0.4725\n",
            "Epoch 00175: val_accuracy did not improve from 0.43734\n",
            "84/84 [==============================] - 0s 5ms/step - loss: 1.0707 - accuracy: 0.4746 - val_loss: 1.0937 - val_accuracy: 0.4217\n",
            "Epoch 176/200\n",
            "74/84 [=========================>....] - ETA: 0s - loss: 1.0644 - accuracy: 0.4945\n",
            "Epoch 00176: val_accuracy did not improve from 0.43734\n",
            "84/84 [==============================] - 0s 5ms/step - loss: 1.0660 - accuracy: 0.4874 - val_loss: 1.0884 - val_accuracy: 0.4308\n",
            "Epoch 177/200\n",
            "79/84 [===========================>..] - ETA: 0s - loss: 1.0620 - accuracy: 0.4949\n",
            "Epoch 00177: val_accuracy did not improve from 0.43734\n",
            "84/84 [==============================] - 0s 5ms/step - loss: 1.0642 - accuracy: 0.4904 - val_loss: 1.1169 - val_accuracy: 0.4099\n",
            "Epoch 178/200\n",
            "77/84 [==========================>...] - ETA: 0s - loss: 1.0649 - accuracy: 0.4919\n",
            "Epoch 00178: val_accuracy did not improve from 0.43734\n",
            "84/84 [==============================] - 0s 5ms/step - loss: 1.0654 - accuracy: 0.4889 - val_loss: 1.0787 - val_accuracy: 0.4243\n",
            "Epoch 179/200\n",
            "76/84 [==========================>...] - ETA: 0s - loss: 1.0663 - accuracy: 0.4827\n",
            "Epoch 00179: val_accuracy did not improve from 0.43734\n",
            "84/84 [==============================] - 0s 4ms/step - loss: 1.0675 - accuracy: 0.4818 - val_loss: 1.1342 - val_accuracy: 0.3786\n",
            "Epoch 180/200\n",
            "70/84 [========================>.....] - ETA: 0s - loss: 1.0662 - accuracy: 0.4839\n",
            "Epoch 00180: val_accuracy did not improve from 0.43734\n",
            "84/84 [==============================] - 0s 5ms/step - loss: 1.0657 - accuracy: 0.4867 - val_loss: 1.1572 - val_accuracy: 0.3695\n",
            "Epoch 181/200\n",
            "74/84 [=========================>....] - ETA: 0s - loss: 1.0693 - accuracy: 0.4789\n",
            "Epoch 00181: val_accuracy did not improve from 0.43734\n",
            "84/84 [==============================] - 0s 5ms/step - loss: 1.0716 - accuracy: 0.4720 - val_loss: 1.1043 - val_accuracy: 0.4151\n",
            "Epoch 182/200\n",
            "77/84 [==========================>...] - ETA: 0s - loss: 1.0713 - accuracy: 0.4830\n",
            "Epoch 00182: val_accuracy did not improve from 0.43734\n",
            "84/84 [==============================] - 0s 5ms/step - loss: 1.0685 - accuracy: 0.4844 - val_loss: 1.1007 - val_accuracy: 0.4086\n",
            "Epoch 183/200\n",
            "80/84 [===========================>..] - ETA: 0s - loss: 1.0648 - accuracy: 0.4871\n",
            "Epoch 00183: val_accuracy did not improve from 0.43734\n",
            "84/84 [==============================] - 0s 4ms/step - loss: 1.0650 - accuracy: 0.4874 - val_loss: 1.1292 - val_accuracy: 0.3930\n",
            "Epoch 184/200\n",
            "75/84 [=========================>....] - ETA: 0s - loss: 1.0719 - accuracy: 0.4683\n",
            "Epoch 00184: val_accuracy did not improve from 0.43734\n",
            "84/84 [==============================] - 0s 5ms/step - loss: 1.0684 - accuracy: 0.4761 - val_loss: 1.1533 - val_accuracy: 0.3695\n",
            "Epoch 185/200\n",
            "74/84 [=========================>....] - ETA: 0s - loss: 1.0679 - accuracy: 0.4789\n",
            "Epoch 00185: val_accuracy did not improve from 0.43734\n",
            "84/84 [==============================] - 0s 5ms/step - loss: 1.0690 - accuracy: 0.4784 - val_loss: 1.1176 - val_accuracy: 0.4008\n",
            "Epoch 186/200\n",
            "76/84 [==========================>...] - ETA: 0s - loss: 1.0742 - accuracy: 0.4741\n",
            "Epoch 00186: val_accuracy did not improve from 0.43734\n",
            "84/84 [==============================] - 0s 5ms/step - loss: 1.0726 - accuracy: 0.4750 - val_loss: 1.1249 - val_accuracy: 0.3786\n",
            "Epoch 187/200\n",
            "78/84 [==========================>...] - ETA: 0s - loss: 1.0665 - accuracy: 0.4800\n",
            "Epoch 00187: val_accuracy did not improve from 0.43734\n",
            "84/84 [==============================] - 0s 4ms/step - loss: 1.0662 - accuracy: 0.4829 - val_loss: 1.0969 - val_accuracy: 0.4164\n",
            "Epoch 188/200\n",
            "76/84 [==========================>...] - ETA: 0s - loss: 1.0668 - accuracy: 0.4918\n",
            "Epoch 00188: val_accuracy did not improve from 0.43734\n",
            "84/84 [==============================] - 0s 5ms/step - loss: 1.0677 - accuracy: 0.4897 - val_loss: 1.1070 - val_accuracy: 0.4112\n",
            "Epoch 189/200\n",
            "78/84 [==========================>...] - ETA: 0s - loss: 1.0669 - accuracy: 0.4820\n",
            "Epoch 00189: val_accuracy did not improve from 0.43734\n",
            "84/84 [==============================] - 0s 4ms/step - loss: 1.0665 - accuracy: 0.4833 - val_loss: 1.1083 - val_accuracy: 0.4138\n",
            "Epoch 190/200\n",
            "84/84 [==============================] - ETA: 0s - loss: 1.0725 - accuracy: 0.4743\n",
            "Epoch 00190: val_accuracy did not improve from 0.43734\n",
            "84/84 [==============================] - 0s 4ms/step - loss: 1.0725 - accuracy: 0.4743 - val_loss: 1.1088 - val_accuracy: 0.4164\n",
            "Epoch 191/200\n",
            "84/84 [==============================] - ETA: 0s - loss: 1.0658 - accuracy: 0.4791\n",
            "Epoch 00191: val_accuracy did not improve from 0.43734\n",
            "84/84 [==============================] - 0s 4ms/step - loss: 1.0658 - accuracy: 0.4791 - val_loss: 1.0897 - val_accuracy: 0.4243\n",
            "Epoch 192/200\n",
            "68/84 [=======================>......] - ETA: 0s - loss: 1.0659 - accuracy: 0.4830\n",
            "Epoch 00192: val_accuracy did not improve from 0.43734\n",
            "84/84 [==============================] - 0s 4ms/step - loss: 1.0654 - accuracy: 0.4874 - val_loss: 1.0943 - val_accuracy: 0.4164\n",
            "Epoch 193/200\n",
            "80/84 [===========================>..] - ETA: 0s - loss: 1.0673 - accuracy: 0.4738\n",
            "Epoch 00193: val_accuracy did not improve from 0.43734\n",
            "84/84 [==============================] - 0s 4ms/step - loss: 1.0673 - accuracy: 0.4754 - val_loss: 1.0959 - val_accuracy: 0.4256\n",
            "Epoch 194/200\n",
            "81/84 [===========================>..] - ETA: 0s - loss: 1.0688 - accuracy: 0.4846\n",
            "Epoch 00194: val_accuracy did not improve from 0.43734\n",
            "84/84 [==============================] - 0s 4ms/step - loss: 1.0688 - accuracy: 0.4840 - val_loss: 1.1267 - val_accuracy: 0.4008\n",
            "Epoch 195/200\n",
            "68/84 [=======================>......] - ETA: 0s - loss: 1.0667 - accuracy: 0.4913\n",
            "Epoch 00195: val_accuracy did not improve from 0.43734\n",
            "84/84 [==============================] - 0s 4ms/step - loss: 1.0669 - accuracy: 0.4908 - val_loss: 1.0952 - val_accuracy: 0.4178\n",
            "Epoch 196/200\n",
            "80/84 [===========================>..] - ETA: 0s - loss: 1.0705 - accuracy: 0.4723\n",
            "Epoch 00196: val_accuracy did not improve from 0.43734\n",
            "84/84 [==============================] - 0s 5ms/step - loss: 1.0721 - accuracy: 0.4713 - val_loss: 1.1453 - val_accuracy: 0.3695\n",
            "Epoch 197/200\n",
            "80/84 [===========================>..] - ETA: 0s - loss: 1.0645 - accuracy: 0.4895\n",
            "Epoch 00197: val_accuracy did not improve from 0.43734\n",
            "84/84 [==============================] - 0s 4ms/step - loss: 1.0659 - accuracy: 0.4859 - val_loss: 1.0777 - val_accuracy: 0.4295\n",
            "Epoch 198/200\n",
            "83/84 [============================>.] - ETA: 0s - loss: 1.0688 - accuracy: 0.4880\n",
            "Epoch 00198: val_accuracy did not improve from 0.43734\n",
            "84/84 [==============================] - 0s 4ms/step - loss: 1.0686 - accuracy: 0.4882 - val_loss: 1.0836 - val_accuracy: 0.4217\n",
            "Epoch 199/200\n",
            "84/84 [==============================] - ETA: 0s - loss: 1.0741 - accuracy: 0.4758\n",
            "Epoch 00199: val_accuracy did not improve from 0.43734\n",
            "84/84 [==============================] - 0s 4ms/step - loss: 1.0741 - accuracy: 0.4758 - val_loss: 1.0917 - val_accuracy: 0.4178\n",
            "Epoch 200/200\n",
            "84/84 [==============================] - ETA: 0s - loss: 1.0704 - accuracy: 0.4739\n",
            "Epoch 00200: val_accuracy did not improve from 0.43734\n",
            "84/84 [==============================] - 0s 4ms/step - loss: 1.0704 - accuracy: 0.4739 - val_loss: 1.1401 - val_accuracy: 0.3695\n"
          ],
          "name": "stdout"
        }
      ]
    },
    {
      "cell_type": "code",
      "metadata": {
        "id": "sMKTDHyPtk9A",
        "colab_type": "code",
        "outputId": "a1ae7ca0-f30f-4496-96ae-f9e01daf409a",
        "colab": {
          "base_uri": "https://localhost:8080/",
          "height": 513
        }
      },
      "source": [
        "\n",
        "acc = history.history['accuracy']\n",
        "val_acc = history.history['val_accuracy']\n",
        "\n",
        "loss = history.history['loss']\n",
        "val_loss = history.history['val_loss']\n",
        "\n",
        "\n",
        "plt.figure(figsize=(8, 8))\n",
        "plt.subplot(2, 1, 1)\n",
        "plt.plot(acc, label='Training Accuracy')\n",
        "plt.plot(val_acc, label='Validation Accuracy')\n",
        "plt.legend(loc='lower right')\n",
        "plt.ylabel('Accuracy')\n",
        "plt.title('Training and Validation Accuracy')\n",
        "\n",
        "plt.subplot(2, 1, 2)\n",
        "plt.plot(loss, label='Training Loss')\n",
        "plt.plot(val_loss, label='Validation Loss')\n",
        "plt.legend(loc='upper right')\n",
        "plt.ylabel('Cross Entropy')\n",
        "plt.title('Training and Validation Loss')\n",
        "plt.xlabel('epoch')\n",
        "plt.show()"
      ],
      "execution_count": 0,
      "outputs": [
        {
          "output_type": "display_data",
          "data": {
            "image/png": "[encoded data removed]",
            "text/plain": [
              "<Figure size 576x576 with 2 Axes>"
            ]
          },
          "metadata": {
            "tags": [],
            "needs_background": "light"
          }
        }
      ]
    },
    {
      "cell_type": "markdown",
      "metadata": {
        "id": "QSCyrnQGtZEx",
        "colab_type": "text"
      },
      "source": [
        "### Load Best Model to Perform Prediction"
      ]
    },
    {
      "cell_type": "code",
      "metadata": {
        "id": "C3liEbGWsOn5",
        "colab_type": "code",
        "colab": {}
      },
      "source": [
        "# load_path = \"/content/drive/My Drive/Machine-Learning-Projects/cs231n-project/models/all_samples_dense_vae_classifier-v4-la.h5\"\n",
        "# model = tf.keras.models.load_model(load_path)\n",
        "\n",
        "# z_mean_train = np.load('/content/drive/My Drive/Machine-Learning-Projects/cs231n-project/notebooks/VAE/z_mean_train_5.pkl', allow_pickle=True)\n",
        "# z_mean_val = np.load('/content/drive/My Drive/Machine-Learning-Projects/cs231n-project/notebooks/VAE/z_mean_val_5.pkl', allow_pickle=True)\n",
        "\n",
        "y_pred = model.predict(z_mean_val)"
      ],
      "execution_count": 0,
      "outputs": []
    },
    {
      "cell_type": "code",
      "metadata": {
        "id": "jS2xNYs2tbO1",
        "colab_type": "code",
        "outputId": "4a5a4824-c30f-406b-a569-5c245a6967e6",
        "colab": {
          "base_uri": "https://localhost:8080/",
          "height": 745
        }
      },
      "source": [
        "y_valid_labels = y_val_np + 1\n",
        "print(y_valid_labels)\n",
        "\n",
        "y_pred_labels = np.argmax(y_pred, axis=1) + 1\n",
        "print(y_pred_labels)"
      ],
      "execution_count": 0,
      "outputs": [
        {
          "output_type": "stream",
          "text": [
            "[3 3 3 2 2 3 3 3 3 3 3 3 3 3 3 3 2 1 1 1 2 1 1 1 1 1 1 1 1 1 1 1 1 2 1 1 1\n",
            " 2 3 3 1 1 2 1 2 1 2 1 1 1 1 1 3 3 3 3 3 2 3 3 2 2 3 3 3 3 3 3 3 2 2 2 3 2\n",
            " 2 2 2 2 2 2 2 2 2 2 1 2 3 3 3 3 1 1 1 1 1 1 1 1 2 2 3 2 1 3 3 2 3 3 3 3 2\n",
            " 3 3 3 3 3 3 3 3 3 3 3 3 3 3 3 3 3 3 3 3 3 1 1 1 1 1 1 1 1 1 1 1 1 2 2 1 1\n",
            " 1 1 1 1 2 1 1 1 2 2 2 2 2 1 1 2 1 1 1 1 2 2 2 2 1 1 3 1 2 2 2 2 2 2 2 2 2\n",
            " 2 2 2 2 2 2 1 2 2 2 2 1 1 1 2 2 1 1 2 1 2 2 2 2 2 2 1 2 1 1 1 1 2 1 2 1 1\n",
            " 3 1 2 1 1 1 1 1 1 1 2 2 1 1 1 1 1 1 1 1 1 1 1 1 1 1 1 1 1 1 1 1 1 1 1 1 1\n",
            " 1 1 2 1 1 1 1 1 1 1 2 1 1 1 1 1 1 1 1 1 2 1 2 2 2 1 1 1 1 2 2 2 2 2 2 2 2\n",
            " 2 1 2 2 2 2 2 2 2 2 2 1 2 1 2 2 2 2 2 1 2 2 2 2 1 2 2 1 1 1 1 1 2 1 2 2 2\n",
            " 2 1 1 1 1 2 2 2 2 2 2 2 2 2 2 2 2 2 2 2 2 2 2 2 2 2 2 2 2 2 2 2 2 2 2 2 2\n",
            " 2 1 2 2 2 2 2 2 2 2 2 2 2 2 2 2 2 2 2 2 2 2 2 1 1 1 3 3 3 3 3 3 3 3 3 3 3\n",
            " 3 3 3 3 3 3 3 3 3 3 2 1 2 2 2 1 2 2 2 1 2 2 2 2 1 1 1 1 1 1 1 2 3 3 2 3 2\n",
            " 3 3 3 3 3 2 3 3 3 3 1 1 3 3 3 3 3 3 3 3 3 3 3 3 3 3 3 3 3 3 3 3 3 3 3 2 3\n",
            " 3 2 3 2 2 3 3 3 3 3 3 3 3 3 3 3 3 3 3 3 3 2 2 3 3 3 3 3 2 3 3 2 3 3 3 3 3\n",
            " 3 1 3 2 3 3 2 2 2 2 2 1 2 1 2 1 3 3 1 2 1 1 1 2 1 1 1 1 1 1 1 1 1 1 1 1 1\n",
            " 1 1 1 1 1 1 1 1 1 1 1 1 1 1 2 3 1 1 1 2 1 2 1 1 1 1 1 1 1 1 1 1 2 2 1 2 2\n",
            " 2 2 2 2 2 1 2 1 1 2 2 1 1 1 1 1 2 1 1 1 1 1 2 2 1 1 2 2 2 1 2 1 2 1 2 2 1\n",
            " 1 1 2 2 2 2 2 2 2 1 2 2 2 2 2 2 2 2 2 2 2 2 2 1 1 1 1 1 1 1 1 1 1 1 1 1 1\n",
            " 1 1 1 1 1 2 1 1 1 2 1 2 2 2 2 2 2 2 1 1 1 1 2 1 1 1 1 1 1 2 2 2 2 2 2 2 2\n",
            " 2 2 2 2 1 2 2 2 2 1 1 1 1 1 1 3 3 3 1 3 3 3 3 1 3 3 3 1 3 1 3 2 3 1 3 3 3\n",
            " 3 1 1 1 1 1 1 1 3 3 1 1 1 1 1 1 1 1 1 3 3 3 3 2 3 3]\n",
            "[3 2 3 3 3 3 3 3 3 3 2 3 3 3 3 3 2 3 3 2 2 3 3 3 3 3 2 3 3 2 2 3 3 3 3 2 2\n",
            " 2 3 3 3 2 3 3 2 3 3 3 3 3 3 3 3 3 3 3 3 3 3 3 3 3 3 3 3 3 3 3 3 3 3 3 3 3\n",
            " 2 2 3 2 2 2 2 2 2 2 3 2 3 2 3 3 3 3 3 3 3 3 3 3 3 3 3 3 3 3 3 3 3 3 3 3 3\n",
            " 3 3 3 3 2 3 3 3 3 3 3 3 3 3 3 3 3 3 3 3 3 3 3 3 3 3 3 3 3 3 3 3 3 2 3 3 3\n",
            " 3 3 3 3 3 3 3 3 3 3 3 3 3 3 3 3 3 3 3 3 3 3 2 3 3 3 3 3 3 3 3 3 3 3 3 2 3\n",
            " 2 3 3 3 3 3 3 3 3 3 3 3 3 3 3 3 3 3 3 3 3 3 3 3 3 3 2 3 2 2 2 2 2 3 2 3 3\n",
            " 2 2 3 3 3 3 3 3 2 3 3 3 3 3 3 3 3 3 3 3 3 3 3 3 3 3 3 3 3 3 3 3 3 3 3 3 3\n",
            " 3 3 3 3 3 3 3 2 3 3 3 3 3 3 3 2 3 3 3 3 3 3 3 3 3 2 3 3 3 2 3 3 3 3 3 3 3\n",
            " 3 3 3 2 3 3 2 3 3 3 3 3 3 3 3 3 3 3 3 2 3 3 3 3 3 3 3 3 2 3 3 3 3 3 3 3 3\n",
            " 2 2 2 3 3 2 2 3 3 2 2 2 2 2 3 2 2 3 3 3 3 2 2 2 3 3 3 3 3 3 3 2 3 3 2 3 3\n",
            " 3 3 3 3 3 3 3 3 2 3 3 3 3 2 3 3 3 2 2 2 2 2 2 3 3 3 3 3 3 3 3 3 3 3 3 3 3\n",
            " 3 3 3 3 3 3 3 3 3 3 3 2 2 2 2 3 2 2 2 2 3 2 2 2 3 3 3 2 3 3 3 3 3 2 2 3 3\n",
            " 3 3 3 3 3 3 3 3 3 3 3 2 3 2 3 3 3 3 3 3 3 3 3 3 3 3 3 3 3 3 3 3 3 3 3 3 3\n",
            " 3 3 3 3 3 3 3 3 3 3 3 3 3 3 3 3 3 3 3 3 3 2 3 3 3 3 3 3 3 3 3 3 3 3 3 3 3\n",
            " 3 3 3 3 3 3 3 3 3 3 3 3 3 3 3 3 3 3 3 3 3 3 3 3 3 3 3 3 3 3 3 3 3 3 3 3 3\n",
            " 3 3 3 3 3 3 3 3 3 2 2 2 2 2 2 2 2 2 2 2 2 2 2 2 2 2 2 2 2 2 2 2 2 2 3 2 2\n",
            " 2 2 2 2 2 2 2 2 2 2 2 2 2 2 2 2 2 2 2 2 2 2 3 2 2 2 2 2 2 2 2 2 2 2 3 2 2\n",
            " 2 2 2 2 3 2 2 2 2 2 2 2 3 2 2 3 3 2 2 2 2 2 2 2 2 3 3 3 3 2 3 2 3 3 3 3 2\n",
            " 2 3 3 3 3 2 2 2 3 2 3 2 2 2 2 2 2 2 2 2 2 2 2 2 2 2 2 2 2 2 3 3 3 3 3 3 3\n",
            " 3 3 3 3 3 3 3 3 3 3 3 3 3 3 3 3 3 3 3 3 3 3 3 3 3 3 3 3 3 3 3 3 3 3 3 3 3\n",
            " 3 3 3 3 3 3 3 3 3 3 3 3 3 3 3 3 3 3 3 3 3 3 3 3 3 3]\n"
          ],
          "name": "stdout"
        }
      ]
    },
    {
      "cell_type": "code",
      "metadata": {
        "id": "idvExeijtezQ",
        "colab_type": "code",
        "outputId": "1cb9fe23-b42f-4ed7-a607-c424b67d90ae",
        "colab": {
          "base_uri": "https://localhost:8080/",
          "height": 625
        }
      },
      "source": [
        "from sklearn import metrics \n",
        "import pandas as pd\n",
        "import seaborn as sn\n",
        "cm=metrics.confusion_matrix(y_valid_labels,y_pred_labels)\n",
        "import matplotlib.pyplot as plt\n",
        "\n",
        "classes=['Pos' , 'Neu' , 'Neg'] \n",
        "y_pred_final , y_true_final = y_pred_labels - 1 , y_valid_labels - 1\n",
        "con_mat = tensorflow.math.confusion_matrix(labels=y_true_final, predictions=y_pred_final).numpy()\n",
        "con_mat_norm = np.around(con_mat.astype('float') / con_mat.sum(axis=1)[:, np.newaxis], decimals=2)\n",
        "con_mat_df = pd.DataFrame(con_mat_norm,\n",
        "                  index = classes, \n",
        "                  columns = classes)\n",
        "\n",
        "figure = plt.figure(figsize=(11, 9))\n",
        "plt.title(\"FC Voting Confusion Matrix with Scene & Audio\")\n",
        "sn.heatmap(con_mat_df, annot=True,cmap=plt.cm.Blues)\n",
        "\n",
        "\n",
        "accuracy = (y_pred_labels == y_valid_labels).mean()\n",
        "print(f\"Accuracy: {accuracy}\")"
      ],
      "execution_count": 0,
      "outputs": [
        {
          "output_type": "stream",
          "text": [
            "/usr/local/lib/python3.6/dist-packages/statsmodels/tools/_testing.py:19: FutureWarning: pandas.util.testing is deprecated. Use the functions in the public API at pandas.testing instead.\n",
            "  import pandas.util.testing as tm\n"
          ],
          "name": "stderr"
        },
        {
          "output_type": "stream",
          "text": [
            "Accuracy: 0.36945169712793735\n"
          ],
          "name": "stdout"
        },
        {
          "output_type": "display_data",
          "data": {
            "image/png": "[encoded data removed]",
            "text/plain": [
              "<Figure size 792x648 with 2 Axes>"
            ]
          },
          "metadata": {
            "tags": [],
            "needs_background": "light"
          }
        }
      ]
    },
    {
      "cell_type": "code",
      "metadata": {
        "id": "8gs-_n1xCkD7",
        "colab_type": "code",
        "outputId": "cdbb5e8d-94bc-4850-b197-2f08bcf5a4ee",
        "colab": {
          "base_uri": "https://localhost:8080/",
          "height": 245
        }
      },
      "source": [
        "from sklearn.metrics import classification_report\n",
        "print(classification_report(y_true_final, y_pred_final, target_names=classes, digits=3))"
      ],
      "execution_count": 0,
      "outputs": [
        {
          "output_type": "stream",
          "text": [
            "/usr/local/lib/python3.6/dist-packages/sklearn/metrics/_classification.py:1272: UndefinedMetricWarning: Precision and F-score are ill-defined and being set to 0.0 in labels with no predicted samples. Use `zero_division` parameter to control this behavior.\n",
            "  _warn_prf(average, modifier, msg_start, len(result))\n"
          ],
          "name": "stderr"
        },
        {
          "output_type": "stream",
          "text": [
            "              precision    recall  f1-score   support\n",
            "\n",
            "         Pos      0.000     0.000     0.000       302\n",
            "         Neu      0.538     0.382     0.447       280\n",
            "         Neg      0.310     0.957     0.469       184\n",
            "\n",
            "    accuracy                          0.369       766\n",
            "   macro avg      0.283     0.446     0.305       766\n",
            "weighted avg      0.271     0.369     0.276       766\n",
            "\n"
          ],
          "name": "stdout"
        }
      ]
    },
    {
      "cell_type": "markdown",
      "metadata": {
        "id": "4t8l6KxNj3bs",
        "colab_type": "text"
      },
      "source": [
        "## t-SNE of the Validation Encodings"
      ]
    },
    {
      "cell_type": "code",
      "metadata": {
        "id": "fJHdvqfkeh2v",
        "colab_type": "code",
        "outputId": "7ae36f49-bcc8-41dd-e958-e4d0a935271d",
        "colab": {
          "base_uri": "https://localhost:8080/",
          "height": 258
        }
      },
      "source": [
        "from sklearn.manifold import TSNE\n",
        "import matplotlib.pyplot as plt\n",
        "\n",
        "z_mean_val = np.load('/content/drive/My Drive/Machine-Learning-Projects/cs231n-project/notebooks/VAE/z_mean_val_5.pkl' , allow_pickle=True)\n",
        "tsne = TSNE()\n",
        "X_valid_2D = tsne.fit_transform(z_mean_val)\n",
        "\n",
        "plt.scatter(X_valid_2D[:, 0], X_valid_2D[:, 1], c=y_valid_np, s=3)\n",
        "plt.colorbar()\n",
        "plt.axis('off')\n",
        "plt.show()"
      ],
      "execution_count": 0,
      "outputs": [
        {
          "output_type": "display_data",
          "data": {
            "image/png": "[encoded data removed]",
            "text/plain": [
              "<Figure size 432x288 with 2 Axes>"
            ]
          },
          "metadata": {
            "tags": [],
            "needs_background": "light"
          }
        }
      ]
    },
    {
      "cell_type": "markdown",
      "metadata": {
        "id": "K6ngwPBY_uQd",
        "colab_type": "text"
      },
      "source": [
        "## Annealed Importance in Sampling\n"
      ]
    }
  ]
}