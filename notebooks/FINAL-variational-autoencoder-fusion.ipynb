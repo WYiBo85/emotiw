{
  "nbformat": 4,
  "nbformat_minor": 0,
  "metadata": {
    "colab": {
      "name": "2.3-la-tj-ak-kc-vl-variational-autoencoder-fusion.ipynb",
      "provenance": [],
      "collapsed_sections": [],
      "toc_visible": true
    },
    "kernelspec": {
      "name": "python3",
      "display_name": "Python 3"
    },
    "accelerator": "GPU"
  },
  "cells": [
    {
      "cell_type": "markdown",
      "metadata": {
        "id": "pKxxqBwwrOk0",
        "colab_type": "text"
      },
      "source": [
        "# Video Sentiment Analysis in the Wild\n",
        "### Ensembling Notebook | Variational Autoencoder Fusion | CS231n\n",
        "\n",
        "This notebook runs a more complex Variational Autoencoder Fusion model on the predicted outputs of each individual modality. Assumes the preprocessing has already been completed.\n",
        "\n",
        "Contains:\n",
        "- Frame\n",
        "- Audio\n",
        "- Pose\n"
      ]
    },
    {
      "cell_type": "markdown",
      "metadata": {
        "id": "CZWpWBKF7OAn",
        "colab_type": "text"
      },
      "source": [
        "# Preprocessing\n"
      ]
    },
    {
      "cell_type": "markdown",
      "metadata": {
        "id": "Z6mwwTKlWFCN",
        "colab_type": "text"
      },
      "source": [
        "### Are we working with the tiny dataset or the final dataset?"
      ]
    },
    {
      "cell_type": "code",
      "metadata": {
        "id": "iY1doqmoWHzR",
        "colab_type": "code",
        "colab": {}
      },
      "source": [
        "IS_TINY = False"
      ],
      "execution_count": null,
      "outputs": []
    },
    {
      "cell_type": "markdown",
      "metadata": {
        "colab_type": "text",
        "id": "L1PH-HarmvWD"
      },
      "source": [
        "### Copy Pre-Processed Files"
      ]
    },
    {
      "cell_type": "code",
      "metadata": {
        "id": "QdlpDjXpdiqz",
        "colab_type": "code",
        "colab": {
          "base_uri": "https://localhost:8080/",
          "height": 35
        },
        "outputId": "2555aa81-103a-480a-aa63-0d9149eaf8c8"
      },
      "source": [
        "!ls"
      ],
      "execution_count": null,
      "outputs": [
        {
          "output_type": "stream",
          "text": [
            "sample_data\n"
          ],
          "name": "stdout"
        }
      ]
    },
    {
      "cell_type": "markdown",
      "metadata": {
        "id": "62U4_AtA4xsz",
        "colab_type": "text"
      },
      "source": [
        "## Run this if you are working with concatenations not written to disk"
      ]
    },
    {
      "cell_type": "code",
      "metadata": {
        "colab_type": "code",
        "id": "WhS9Mb83mvWR",
        "colab": {
          "base_uri": "https://localhost:8080/",
          "height": 236
        },
        "outputId": "c01ee7bc-467c-4cb6-e89c-a387a8eba394"
      },
      "source": [
        "\n",
        "# FULL_PATH = 'My Drive/cs231n-project/datasets/emotiw'\n",
        "FULL_PATH = 'My Drive/Machine-Learning-Projects/cs231n-project/datasets/emotiw'\n",
        "if IS_TINY:\n",
        "    print(\"Using tiny dataset...\")\n",
        "    !cp /content/drive/'$FULL_PATH'/train-tiny-* .\n",
        "    !cp /content/drive/'$FULL_PATH'/val-tiny-* .\n",
        "else:\n",
        "    print(\"Using final dataset...\")\n",
        "    !cp /content/drive/'$FULL_PATH'/train-final-* .\n",
        "    !cp /content/drive/'$FULL_PATH'/val-final-* .\n",
        "\n",
        "!wget https://storage.googleapis.com/cs231n-emotiw/data/Train_labels.txt\n",
        "!wget https://storage.googleapis.com/cs231n-emotiw/data/Val_labels.txt\n"
      ],
      "execution_count": 1,
      "outputs": [
        {
          "output_type": "error",
          "ename": "NameError",
          "evalue": "ignored",
          "traceback": [
            "\u001b[0;31m---------------------------------------------------------------------------\u001b[0m",
            "\u001b[0;31mNameError\u001b[0m                                 Traceback (most recent call last)",
            "\u001b[0;32m<ipython-input-1-cb7631e2ce44>\u001b[0m in \u001b[0;36m<module>\u001b[0;34m()\u001b[0m\n\u001b[1;32m      2\u001b[0m \u001b[0;31m# FULL_PATH = 'My Drive/cs231n-project/datasets/emotiw'\u001b[0m\u001b[0;34m\u001b[0m\u001b[0;34m\u001b[0m\u001b[0;34m\u001b[0m\u001b[0m\n\u001b[1;32m      3\u001b[0m \u001b[0mFULL_PATH\u001b[0m \u001b[0;34m=\u001b[0m \u001b[0;34m'My Drive/Machine-Learning-Projects/cs231n-project/datasets/emotiw'\u001b[0m\u001b[0;34m\u001b[0m\u001b[0;34m\u001b[0m\u001b[0m\n\u001b[0;32m----> 4\u001b[0;31m \u001b[0;32mif\u001b[0m \u001b[0mIS_TINY\u001b[0m\u001b[0;34m:\u001b[0m\u001b[0;34m\u001b[0m\u001b[0;34m\u001b[0m\u001b[0m\n\u001b[0m\u001b[1;32m      5\u001b[0m     \u001b[0mprint\u001b[0m\u001b[0;34m(\u001b[0m\u001b[0;34m\"Using tiny dataset...\"\u001b[0m\u001b[0;34m)\u001b[0m\u001b[0;34m\u001b[0m\u001b[0;34m\u001b[0m\u001b[0m\n\u001b[1;32m      6\u001b[0m     \u001b[0mget_ipython\u001b[0m\u001b[0;34m(\u001b[0m\u001b[0;34m)\u001b[0m\u001b[0;34m.\u001b[0m\u001b[0msystem\u001b[0m\u001b[0;34m(\u001b[0m\u001b[0;34m\"cp /content/drive/'$FULL_PATH'/train-tiny-* .\"\u001b[0m\u001b[0;34m)\u001b[0m\u001b[0;34m\u001b[0m\u001b[0;34m\u001b[0m\u001b[0m\n",
            "\u001b[0;31mNameError\u001b[0m: name 'IS_TINY' is not defined"
          ]
        }
      ]
    },
    {
      "cell_type": "code",
      "metadata": {
        "id": "yXxCkE_DUvEv",
        "colab_type": "code",
        "colab": {
          "base_uri": "https://localhost:8080/",
          "height": 52
        },
        "outputId": "b5a71f29-45fa-4173-978b-3b1840f3b8a5"
      },
      "source": [
        "!ls"
      ],
      "execution_count": null,
      "outputs": [
        {
          "output_type": "stream",
          "text": [
            "drive\t\t\t\t   ensemble-scene-pose-audio-face-v2.zip\n",
            "ensemble-scene-pose-audio-face-v2  sample_data\n"
          ],
          "name": "stdout"
        }
      ]
    },
    {
      "cell_type": "code",
      "metadata": {
        "id": "sqHRPvB5Cm4F",
        "colab_type": "code",
        "colab": {}
      },
      "source": [
        "# RUN THIS FOR TINY FILES (zip does not include root folder)\n",
        "\n",
        "if IS_TINY:\n",
        "    !unzip -d train-tiny-audio train-tiny-audio.zip\n",
        "    !unzip -d train-tiny-faces train-tiny-faces.zip\n",
        "    !unzip -d train-tiny-frames train-tiny-frames.zip\n",
        "    !unzip -d train-tiny-pose train-tiny-pose.zip\n",
        "\n",
        "    !unzip -d val-tiny-audio val-tiny-audio.zip\n",
        "    !unzip -d val-tiny-faces val-tiny-faces.zip\n",
        "    !unzip -d val-tiny-frames val-tiny-frames.zip\n",
        "    !unzip -d val-tiny-pose val-tiny-pose.zip\n",
        "\n",
        "\n",
        "# RUN THIS FOR FINAL FILES (zip includes root folder)\n",
        "\n",
        "if not IS_TINY:\n",
        "    !unzip train-final-audio.zip\n",
        "    !unzip train-final-faces.zip\n",
        "    !unzip train-final-frames.zip\n",
        "    !unzip train-final-pose.zip\n",
        "    !unzip -d train-final-fer train-final-fer.zip\n",
        "\n",
        "    !unzip val-final-audio.zip\n",
        "    !unzip val-final-faces.zip\n",
        "    !unzip val-final-frames.zip\n",
        "    !unzip val-final-pose.zip\n",
        "    !unzip -d val-final-fer val-final-fer.zip\n"
      ],
      "execution_count": null,
      "outputs": []
    },
    {
      "cell_type": "code",
      "metadata": {
        "id": "gF6Fy4-SLJVP",
        "colab_type": "code",
        "colab": {}
      },
      "source": [
        "!ls"
      ],
      "execution_count": null,
      "outputs": []
    },
    {
      "cell_type": "markdown",
      "metadata": {
        "id": "0jEaDQAsS8XQ",
        "colab_type": "text"
      },
      "source": [
        "### Run Classifiers"
      ]
    },
    {
      "cell_type": "code",
      "metadata": {
        "colab_type": "code",
        "id": "ZWXpYjHnnCVJ",
        "colab": {}
      },
      "source": [
        "%tensorflow_version 2.x"
      ],
      "execution_count": null,
      "outputs": []
    },
    {
      "cell_type": "code",
      "metadata": {
        "colab_type": "code",
        "id": "kwnwrrfUnCVN",
        "colab": {
          "base_uri": "https://localhost:8080/",
          "height": 35
        },
        "outputId": "1754b6d0-d4f1-41e9-c32a-a33fd9767e5f"
      },
      "source": [
        "import tensorflow\n",
        "print(tensorflow.__version__)"
      ],
      "execution_count": null,
      "outputs": [
        {
          "output_type": "stream",
          "text": [
            "2.2.0\n"
          ],
          "name": "stdout"
        }
      ]
    },
    {
      "cell_type": "code",
      "metadata": {
        "id": "pp_USHxwRAVB",
        "colab_type": "code",
        "colab": {
          "base_uri": "https://localhost:8080/",
          "height": 35
        },
        "outputId": "f8f07bbf-357d-4ac5-f003-c8f8503d2214"
      },
      "source": [
        "!pwd"
      ],
      "execution_count": null,
      "outputs": [
        {
          "output_type": "stream",
          "text": [
            "/content\n"
          ],
          "name": "stdout"
        }
      ]
    },
    {
      "cell_type": "code",
      "metadata": {
        "id": "O_9UA5NPVYro",
        "colab_type": "code",
        "colab": {}
      },
      "source": [
        "!git clone 'https://github.com/kevincong95/cs231n-emotiw.git'"
      ],
      "execution_count": null,
      "outputs": []
    },
    {
      "cell_type": "code",
      "metadata": {
        "id": "Z7kRhNvrVnbt",
        "colab_type": "code",
        "colab": {}
      },
      "source": [
        "!mv train-* cs231n-emotiw\n",
        "!mv val-* cs231n-emotiw"
      ],
      "execution_count": null,
      "outputs": []
    },
    {
      "cell_type": "code",
      "metadata": {
        "id": "tauiFf5eVtpP",
        "colab_type": "code",
        "colab": {}
      },
      "source": [
        "!mv Train* cs231n-emotiw\n",
        "!mv Val* cs231n-emotiw"
      ],
      "execution_count": null,
      "outputs": []
    },
    {
      "cell_type": "code",
      "metadata": {
        "id": "qiVbcNhfVwa2",
        "colab_type": "code",
        "colab": {}
      },
      "source": [
        "!ls"
      ],
      "execution_count": null,
      "outputs": []
    },
    {
      "cell_type": "code",
      "metadata": {
        "id": "hPM9Vm7gVxuR",
        "colab_type": "code",
        "colab": {}
      },
      "source": [
        "import os\n",
        "os.chdir('/content/cs231n-emotiw')\n",
        "!pwd"
      ],
      "execution_count": null,
      "outputs": []
    },
    {
      "cell_type": "code",
      "metadata": {
        "id": "9xwIeRF_x40m",
        "colab_type": "code",
        "colab": {}
      },
      "source": [
        "# Create the concatenated input layer to feed into FC\n",
        "\n",
        "from src.classifiers.audio_classifier import AudioClassifier\n",
        "from src.classifiers.frames_classifier import FramesClassifier\n",
        "from src.classifiers.pose_classifier import PoseClassifier\n",
        "from src.classifiers.face_classifer import FaceClassifier\n",
        "from src.classifiers.utils import get_num_samples\n",
        "import numpy as np\n",
        "\n",
        "def run_classifier(layers_to_extract, audio_folder='train-final-audio', frames_folder='train-final-frames', pose_folder='train-final-pose', labels_file=\"Train_labels.txt\"):\n",
        "    audio_classifier = AudioClassifier(audio_folder, model_location='https://storage.googleapis.com/cs231n-emotiw/models/openl3-cnn-lstm-tuned-lr.h5', is_test=False)\n",
        "    frames_classifier = FramesClassifier(frames_folder, model_location='https://storage.googleapis.com/cs231n-emotiw/models/scene-classifier-resnet-lstm-x3.h5', is_test=False)\n",
        "    pose_classifier = PoseClassifier(pose_folder, model_location='https://storage.googleapis.com/cs231n-emotiw/models/pose-classifier-64lstm-0.01reg.h5', is_test=False)\n",
        "    \n",
        "    classifiers = [audio_classifier, frames_classifier, pose_classifier]\n",
        "\n",
        "    sample_to_true_label = {}\n",
        "    with open(labels_file) as f:\n",
        "        l = 0\n",
        "        for line in f:\n",
        "            if l == 0:\n",
        "                # Skip headers\n",
        "                l += 1\n",
        "                continue\n",
        "            line_arr = line.split(\" \")\n",
        "            sample_to_true_label[line_arr[0].strip()] = int(line_arr[1].strip()) - 1 # subtract one to make labels from 0 to 2\n",
        "            l += 1\n",
        "\n",
        "    classifier_outputs = []\n",
        "    classifier_samples = []\n",
        "    classifier_dim_sizes = []\n",
        "    output_dim_size = 0\n",
        "    num_samples = 0\n",
        "    sample_to_row = {}\n",
        "\n",
        "    for i, classifier in enumerate(classifiers):\n",
        "        output, samples = classifier.predict(layers_to_extract[i])\n",
        "        output_dim_size += output.shape[1]\n",
        "        classifier_dim_sizes.append(output.shape[1])\n",
        "        num_samples = len(samples)\n",
        "        classifier_outputs.append(output)\n",
        "        classifier_samples.append(samples)\n",
        "\n",
        "\n",
        "    X_train = np.zeros(shape=(num_samples, output_dim_size))\n",
        "    y_train = []\n",
        "\n",
        "    print(f\"Number of samples: {num_samples}\")\n",
        "    print(f\"Dim shapes: \")\n",
        "    print(classifier_dim_sizes)\n",
        "\n",
        "    for i, sample in enumerate(classifier_samples[0]):\n",
        "        sample_to_row[sample] = i\n",
        "        y_train.append(sample_to_true_label[sample])\n",
        "\n",
        "    last_classifier_index = 0\n",
        "    for c, output in enumerate(classifier_outputs):\n",
        "        samples = classifier_samples[c]\n",
        "        print(len(output))\n",
        "        for i, row in enumerate(output):\n",
        "            sample = samples[i]\n",
        "            X_train[sample_to_row[sample], last_classifier_index:last_classifier_index+classifier_dim_sizes[c]] += row\n",
        "        last_classifier_index += classifier_dim_sizes[c]\n",
        "\n",
        "    return X_train, tf.keras.utils.to_categorical(y_train, num_classes=3)\n",
        "\n",
        "\n",
        "\n"
      ],
      "execution_count": null,
      "outputs": []
    },
    {
      "cell_type": "code",
      "metadata": {
        "id": "1VGA1fl2pNvE",
        "colab_type": "code",
        "colab": {}
      },
      "source": [
        "import tensorflow as tf\n",
        "\n",
        "# For each classifier, extract the specific desired layer \n",
        "# (refer to the model summary for the layer names)\n",
        "\n",
        "layers_to_extract = [\n",
        "    \"dense\",\n",
        "    \"concatenate_5\",\n",
        "    \"bidirectional_1\",\n",
        "    \n",
        "]\n",
        "\n",
        "prefix = \"final\"\n",
        "if IS_TINY:\n",
        "    prefix = \"tiny\"\n",
        "\n",
        "X_train, y_train = run_classifier(layers_to_extract, audio_folder=f\"train-{prefix}-audio\", frames_folder=f\"train-{prefix}-frames\", pose_folder=f\"train-{prefix}-pose\", labels_file=\"Train_labels.txt\")\n",
        "X_valid, y_valid = run_classifier(layers_to_extract, audio_folder=f\"val-{prefix}-audio\", frames_folder=f\"val-{prefix}-frames\", pose_folder=f\"val-{prefix}-pose\", labels_file=\"Val_labels.txt\")\n",
        "\n",
        "print(X_train.shape)\n",
        "print(y_train.shape)"
      ],
      "execution_count": null,
      "outputs": []
    },
    {
      "cell_type": "code",
      "metadata": {
        "id": "BK2cBr_PN0FU",
        "colab_type": "code",
        "colab": {}
      },
      "source": [
        "y_train = np.argmax(Y_train, axis=1) + 1\n",
        "y_valid = np.argmax(Y_valid, axis=1) + 1"
      ],
      "execution_count": null,
      "outputs": []
    },
    {
      "cell_type": "code",
      "metadata": {
        "id": "E0uS1aBhegqF",
        "colab_type": "code",
        "colab": {}
      },
      "source": [
        "y_train_np = y_train - 1\n",
        "y_val_np = y_valid - 1 "
      ],
      "execution_count": null,
      "outputs": []
    },
    {
      "cell_type": "code",
      "metadata": {
        "id": "kXNhfFvFho1Q",
        "colab_type": "code",
        "colab": {
          "base_uri": "https://localhost:8080/",
          "height": 52
        },
        "outputId": "67404c9b-dd99-4551-e419-d79f5618f1d2"
      },
      "source": [
        "!ls"
      ],
      "execution_count": null,
      "outputs": [
        {
          "output_type": "stream",
          "text": [
            "drive\t\t\t\t   ensemble-scene-pose-audio-face-v2.zip\n",
            "ensemble-scene-pose-audio-face-v2  sample_data\n"
          ],
          "name": "stdout"
        }
      ]
    },
    {
      "cell_type": "markdown",
      "metadata": {
        "id": "AEmbb_hOqF_Z",
        "colab_type": "text"
      },
      "source": [
        "## Load Pre-Classified Ensembling\n",
        "Because I don't want to wait around for the model to predict everything again\n",
        "\n",
        "Pre-Classified in: https://colab.research.google.com/drive/1rAlIfrP4exQ8m4mUIARAag4xlF-rQnHf?authuser=3#scrollTo=VY0tll5ybslJ"
      ]
    },
    {
      "cell_type": "code",
      "metadata": {
        "id": "Yd_wUMuIfI_B",
        "colab_type": "code",
        "colab": {
          "base_uri": "https://localhost:8080/",
          "height": 124
        },
        "outputId": "1953514c-f2c7-4be5-c4cf-876f5f684cd2"
      },
      "source": [
        "from google.colab import drive\n",
        "drive.mount('/content/drive')"
      ],
      "execution_count": 2,
      "outputs": [
        {
          "output_type": "stream",
          "text": [
            "Go to this URL in a browser: https://accounts.google.com/o/oauth2/auth?client_id=947318989803-6bn6qk8qdgf4n4g3pfee6491hc0brc4i.apps.googleusercontent.com&redirect_uri=urn%3aietf%3awg%3aoauth%3a2.0%3aoob&response_type=code&scope=email%20https%3a%2f%2fwww.googleapis.com%2fauth%2fdocs.test%20https%3a%2f%2fwww.googleapis.com%2fauth%2fdrive%20https%3a%2f%2fwww.googleapis.com%2fauth%2fdrive.photos.readonly%20https%3a%2f%2fwww.googleapis.com%2fauth%2fpeopleapi.readonly\n",
            "\n",
            "Enter your authorization code:\n",
            "··········\n",
            "Mounted at /content/drive\n"
          ],
          "name": "stdout"
        }
      ]
    },
    {
      "cell_type": "code",
      "metadata": {
        "id": "G0zv6L6hhzsP",
        "colab_type": "code",
        "colab": {
          "base_uri": "https://localhost:8080/",
          "height": 89
        },
        "outputId": "79081ce1-beb3-4be2-e94a-eb8c2167174a"
      },
      "source": [
        "# Load pre-classified ensembling input if you don't want to wait\n",
        "from google.colab import drive\n",
        "drive.mount('/content/drive')\n",
        "\n",
        "!cp /content/drive/'My Drive/Machine-Learning-Projects'/cs231n-project/datasets/emotiw/ensemble-scene-pose-audio-face.zip .\n",
        "!unzip ensemble-scene-pose-audio-face.zip\n"
      ],
      "execution_count": null,
      "outputs": [
        {
          "output_type": "stream",
          "text": [
            "Drive already mounted at /content/drive; to attempt to forcibly remount, call drive.mount(\"/content/drive\", force_remount=True).\n",
            "Archive:  ensemble-scene-pose-audio-face.zip\n",
            "replace ensemble-scene-pose-audio-face/y_valid.npy? [y]es, [n]o, [A]ll, [N]one, [r]ename: N\n"
          ],
          "name": "stdout"
        }
      ]
    },
    {
      "cell_type": "code",
      "metadata": {
        "id": "-IgMmVPLpxQi",
        "colab_type": "code",
        "colab": {}
      },
      "source": [
        "!ls ensemble-scene-pose-audio-face"
      ],
      "execution_count": null,
      "outputs": []
    },
    {
      "cell_type": "code",
      "metadata": {
        "id": "MQc6tRpwp13j",
        "colab_type": "code",
        "colab": {
          "base_uri": "https://localhost:8080/",
          "height": 121
        },
        "outputId": "1d740ddc-a55e-4fbb-860d-62418e48dec6"
      },
      "source": [
        "import numpy as np\n",
        "\n",
        "!cp 'drive/My Drive/Machine-Learning-Projects/cs231n-project/datasets/emotiw/ensemble-scene-scene-pose-audio-face-caption-v1.zip' .\n",
        "!unzip ensemble-scene-scene-pose-audio-face-caption-v1.zip\n"
      ],
      "execution_count": 3,
      "outputs": [
        {
          "output_type": "stream",
          "text": [
            "Archive:  ensemble-scene-scene-pose-audio-face-caption-v1.zip\n",
            "   creating: ensemble-scene-scene-pose-audio-face-caption-v1/\n",
            "  inflating: ensemble-scene-scene-pose-audio-face-caption-v1/X_train.npy  \n",
            "  inflating: ensemble-scene-scene-pose-audio-face-caption-v1/y_valid.npy  \n",
            "  inflating: ensemble-scene-scene-pose-audio-face-caption-v1/y_train.npy  \n",
            "  inflating: ensemble-scene-scene-pose-audio-face-caption-v1/X_valid.npy  \n"
          ],
          "name": "stdout"
        }
      ]
    },
    {
      "cell_type": "code",
      "metadata": {
        "id": "0khUqR9b0nCm",
        "colab_type": "code",
        "colab": {}
      },
      "source": [
        "\n",
        "X_train = np.load(\"ensemble-scene-scene-pose-audio-face-caption-v1/X_train.npy\")\n",
        "Y_train = np.load(\"ensemble-scene-scene-pose-audio-face-caption-v1/y_train.npy\")\n",
        "X_valid = np.load(\"ensemble-scene-scene-pose-audio-face-caption-v1/X_valid.npy\")\n",
        "Y_valid = np.load(\"ensemble-scene-scene-pose-audio-face-caption-v1/y_valid.npy\")\n",
        "\n"
      ],
      "execution_count": 5,
      "outputs": []
    },
    {
      "cell_type": "code",
      "metadata": {
        "id": "Sl4hQZhJqyeW",
        "colab_type": "code",
        "colab": {}
      },
      "source": [
        "y_train = np.argmax(Y_train, axis=1) + 1\n",
        "y_valid = np.argmax(Y_valid, axis=1) + 1"
      ],
      "execution_count": 6,
      "outputs": []
    },
    {
      "cell_type": "markdown",
      "metadata": {
        "id": "512flL7QmWzp",
        "colab_type": "text"
      },
      "source": [
        "# Variational Autoencoder\n",
        "\n",
        "This code was adapted from the Keras Convolutional VAE tutorial."
      ]
    },
    {
      "cell_type": "code",
      "metadata": {
        "id": "Ro10CMLBWW0D",
        "colab_type": "code",
        "colab": {}
      },
      "source": [
        "y_train_np = y_train - 1\n",
        "y_valid_np = y_valid - 1"
      ],
      "execution_count": 7,
      "outputs": []
    },
    {
      "cell_type": "code",
      "metadata": {
        "id": "OKMJhT8QLJmw",
        "colab_type": "code",
        "colab": {}
      },
      "source": [
        "# Variational Autoencoders\n",
        "# - These are probabalistic autoencoders meaning the output is partly determined by chance\n",
        "# - These are generative and can generate **new** inputs just by looking at the training set. \n",
        "# \n",
        "# There are 2 loss functions\n",
        "# - 1. Reconstruction loss (usual)\n",
        "# - 2. Latent loss: This pushes the autoencoder to have codings that look like they were sampled from a '\n",
        "#       guassian distribution. It is the **divergence** between the target distr and the actual distribution of\n",
        "#       codings.\n",
        "#       L = -1/2(sum(1+ log(sigma^2) - sigma^2 - mu^2)) or \n",
        "#       L = -1/2sum(1 + gamma - exp(gamma) - mu^2) where gamma = log(sigma^2)"
      ],
      "execution_count": null,
      "outputs": []
    },
    {
      "cell_type": "code",
      "metadata": {
        "id": "YfHHqIQYmc86",
        "colab_type": "code",
        "colab": {}
      },
      "source": [
        "import tensorflow as tf\n",
        "\n",
        "import os\n",
        "import time\n",
        "import numpy as np\n",
        "import glob\n",
        "import matplotlib.pyplot as plt\n",
        "import PIL\n",
        "import imageio\n",
        "\n",
        "from IPython import display"
      ],
      "execution_count": 8,
      "outputs": []
    },
    {
      "cell_type": "code",
      "metadata": {
        "id": "38dvdAwseOzf",
        "colab_type": "code",
        "colab": {
          "base_uri": "https://localhost:8080/",
          "height": 35
        },
        "outputId": "3e575701-f0f2-409b-c737-c6ccd57792c5"
      },
      "source": [
        "import cv2\n",
        "\n",
        "from sklearn.preprocessing import Normalizer , StandardScaler , MinMaxScaler\n",
        "\n",
        "norm = StandardScaler() #Normalizer()\n",
        "X_train_norm = norm.fit_transform(X_train)\n",
        "X_val_norm = norm.fit_transform(X_valid)\n",
        "\n",
        "def reshape_X(input_x):\n",
        "  X_train_expand = np.expand_dims(input_x , axis=1)\n",
        "  all_expanded_x = []\n",
        "  for x in X_train_expand:\n",
        "    X_sample_train = np.concatenate([x]*310)\n",
        "    X_sample_train = cv2.resize(X_sample_train, (28, 28))\n",
        "    all_expanded_x.append(X_sample_train)\n",
        "\n",
        "    \n",
        "  all_expanded_x = np.asarray(all_expanded_x, dtype='float32')\n",
        "  all_expanded_x = np.expand_dims(all_expanded_x , axis=3)\n",
        "  \n",
        "  return all_expanded_x\n",
        "\n",
        "\n",
        "X_train_img = reshape_X(X_train_norm)\n",
        "X_val_img = reshape_X(X_val_norm)\n",
        "print(X_val_img.shape)\n",
        "\n",
        "\n",
        "\n",
        "\n"
      ],
      "execution_count": 9,
      "outputs": [
        {
          "output_type": "stream",
          "text": [
            "(766, 28, 28, 1)\n"
          ],
          "name": "stdout"
        }
      ]
    },
    {
      "cell_type": "markdown",
      "metadata": {
        "id": "xgagQkCm7Eam",
        "colab_type": "text"
      },
      "source": [
        "## Visualize the Concatenated Layers as Images"
      ]
    },
    {
      "cell_type": "code",
      "metadata": {
        "id": "7pbcFgmm6Io9",
        "colab_type": "code",
        "colab": {
          "base_uri": "https://localhost:8080/",
          "height": 465
        },
        "outputId": "53ab532b-facf-4da6-ed47-091e28d1eb2b"
      },
      "source": [
        "classes = [\"Positive\" , \"Neutral\" , \"Negative\"]\n",
        "\n",
        "def show_batch(all_x, all_y):\n",
        "    plt.figure(figsize=(30,30))\n",
        "    for n in range(0,10):\n",
        "          ax = plt.subplot(5,5,n+1)\n",
        "          plt.imshow(all_x[n].squeeze(), cmap='gray')\n",
        "          plt.title(classes[all_y[n]], fontsize=40)\n",
        "          plt.axis('off')\n",
        "\n",
        "show_batch(X_train_img, y_train_np)"
      ],
      "execution_count": 10,
      "outputs": [
        {
          "output_type": "display_data",
          "data": {
            "image/png": "[encoded data removed]",
            "text/plain": [
              "<Figure size 2160x2160 with 10 Axes>"
            ]
          },
          "metadata": {
            "tags": [],
            "needs_background": "light"
          }
        }
      ]
    },
    {
      "cell_type": "code",
      "metadata": {
        "id": "IbEF7VYqcuVp",
        "colab_type": "code",
        "colab": {
          "base_uri": "https://localhost:8080/",
          "height": 607
        },
        "outputId": "1aa6a824-5132-4bbe-cc89-da0511adf7c7"
      },
      "source": [
        "'''Example of VAE on MNIST dataset using MLP\n",
        "The VAE has a modular design. The encoder, decoder and VAE\n",
        "are 3 models that share weights. After training the VAE model,\n",
        "the encoder can be used to generate latent vectors.\n",
        "The decoder can be used to generate MNIST digits by sampling the\n",
        "latent vector from a Gaussian distribution with mean = 0 and std = 1.\n",
        "# Reference\n",
        "[1] Kingma, Diederik P., and Max Welling.\n",
        "\"Auto-Encoding Variational Bayes.\"\n",
        "https://arxiv.org/abs/1312.6114\n",
        "'''\n",
        "\n",
        "from __future__ import absolute_import\n",
        "from __future__ import division\n",
        "from __future__ import print_function\n",
        "\n",
        "from keras.layers import Lambda, Input, Dense\n",
        "from keras.models import Model\n",
        "from keras.datasets import mnist\n",
        "from keras.losses import mse, binary_crossentropy\n",
        "from keras.utils import plot_model\n",
        "from keras import backend as K\n",
        "\n",
        "import numpy as np\n",
        "import matplotlib.pyplot as plt\n",
        "import argparse\n",
        "import os\n",
        "\n",
        "\n",
        "# reparameterization trick\n",
        "# instead of sampling from Q(z|X), sample epsilon = N(0,I)\n",
        "# z = z_mean + sqrt(var) * epsilon\n",
        "def sampling(args):\n",
        "    \"\"\"Reparameterization trick by sampling from an isotropic unit Gaussian.\n",
        "    # Arguments\n",
        "        args (tensor): mean and log of variance of Q(z|X)\n",
        "    # Returns\n",
        "        z (tensor): sampled latent vector\n",
        "    \"\"\"\n",
        "\n",
        "    z_mean, z_log_var = args\n",
        "    batch = K.shape(z_mean)[0]\n",
        "    dim = K.int_shape(z_mean)[1]\n",
        "    # by default, random_normal has mean = 0 and std = 1.0\n",
        "    epsilon = K.random_normal(shape=(batch, dim))\n",
        "    return z_mean + K.exp(0.5 * z_log_var) * epsilon\n",
        "\n",
        "\n",
        "def plot_results(models,\n",
        "                 data,\n",
        "                 batch_size=128,\n",
        "                 model_name=\"vae_mnist\"):\n",
        "    \"\"\"Plots labels and MNIST digits as a function of the 2D latent vector\n",
        "    # Arguments\n",
        "        models (tuple): encoder and decoder models\n",
        "        data (tuple): test data and label\n",
        "        batch_size (int): prediction batch size\n",
        "        model_name (string): which model is using this function\n",
        "    \"\"\"\n",
        "\n",
        "    encoder, decoder = models\n",
        "    x_test, y_test = data\n",
        "    os.makedirs(model_name, exist_ok=True)\n",
        "\n",
        "    filename = os.path.join(model_name, \"vae_mean.png\")\n",
        "    # display a 2D plot of the digit classes in the latent space\n",
        "    z_mean, _, _ = encoder.predict(x_test,\n",
        "                                   batch_size=batch_size)\n",
        "    plt.figure(figsize=(12, 10))\n",
        "    plt.scatter(z_mean[:, 0], z_mean[:, 1], c=y_test)\n",
        "    plt.colorbar()\n",
        "    plt.xlabel(\"z[0]\")\n",
        "    plt.ylabel(\"z[1]\")\n",
        "    plt.savefig(filename)\n",
        "    plt.show()\n",
        "\n",
        "    # filename = os.path.join(model_name, \"digits_over_latent.png\")\n",
        "    # #display a 30x30 2D manifold of digits\n",
        "    # n = 1\n",
        "    # digit_size = 28\n",
        "    # figure = np.zeros((digit_size * n, digit_size * n))\n",
        "    # # # linearly spaced coordinates corresponding to the 2D plot\n",
        "    # # # of digit classes in the latent space\n",
        "    # grid_x = np.linspace(-4, 4, n)\n",
        "    # grid_y = np.linspace(-4, 4, n)[::-1]\n",
        "\n",
        "    # for i, yi in enumerate(grid_y):\n",
        "    #     for j, xi in enumerate(grid_x):\n",
        "    #         z_sample = np.array([[xi, yi]])\n",
        "    #         x_decoded = decoder.predict(z_sample)\n",
        "    #         digit = x_decoded[0].reshape(digit_size, digit_size)\n",
        "    #         figure[i * digit_size: (i + 1) * digit_size,\n",
        "    #                j * digit_size: (j + 1) * digit_size] = digit\n",
        "\n",
        "    # plt.figure(figsize=(10, 10))\n",
        "    # start_range = digit_size // 2\n",
        "    # end_range = (n - 1) * digit_size + start_range + 1\n",
        "    # pixel_range = np.arange(start_range, end_range, digit_size)\n",
        "    # sample_range_x = np.round(grid_x, 1)\n",
        "    # sample_range_y = np.round(grid_y, 1)\n",
        "    # plt.xticks(pixel_range, sample_range_x)\n",
        "    # plt.yticks(pixel_range, sample_range_y)\n",
        "    # plt.xlabel(\"z[0]\")\n",
        "    # plt.ylabel(\"z[1]\")\n",
        "    # plt.imshow(figure, cmap='Greys_r')\n",
        "    # plt.savefig(filename)\n",
        "    # plt.show()\n",
        "\n",
        "\n",
        "# Our dataset\n",
        "(x_train, y_train), (x_test, y_test) = (X_train_img , y_train_np), (X_val_img, y_valid_np)\n",
        "\n",
        "image_size = x_train.shape[1]\n",
        "original_dim = image_size * image_size\n",
        "x_train = np.reshape(x_train, [-1, original_dim])\n",
        "x_test = np.reshape(x_test, [-1, original_dim])\n",
        "x_train = x_train.astype('float32') / 255\n",
        "x_test = x_test.astype('float32') / 255\n",
        "\n",
        "# network parameters\n",
        "input_shape = (original_dim, )\n",
        "intermediate_dim = 512\n",
        "batch_size = 128\n",
        "latent_dim = 20\n",
        "epochs = 200\n",
        "\n",
        "# VAE model = encoder + decoder\n",
        "# build encoder model\n",
        "inputs = Input(shape=input_shape, name='encoder_input')\n",
        "x = Dense(intermediate_dim, activation='selu')(inputs)\n",
        "z_mean = Dense(latent_dim, name='z_mean')(x)\n",
        "z_log_var = Dense(latent_dim, name='z_log_var')(x)\n",
        "\n",
        "# use reparameterization trick to push the sampling out as input\n",
        "# note that \"output_shape\" isn't necessary with the TensorFlow backend\n",
        "z = Lambda(sampling, output_shape=(latent_dim,), name='z')([z_mean, z_log_var])\n",
        "\n",
        "# instantiate encoder model\n",
        "encoder = Model(inputs, [z_mean, z_log_var, z], name='encoder')\n",
        "encoder.summary()\n",
        "plot_model(encoder, to_file='vae_mlp_encoder.png', show_shapes=True)\n",
        "\n",
        "# build decoder model\n",
        "latent_inputs = Input(shape=(latent_dim,), name='z_sampling')\n",
        "x = Dense(intermediate_dim, activation='selu')(latent_inputs)\n",
        "outputs = Dense(original_dim, activation='sigmoid')(x)\n",
        "\n",
        "# instantiate decoder model\n",
        "decoder = Model(latent_inputs, outputs, name='decoder')\n",
        "decoder.summary()\n",
        "plot_model(decoder, to_file='vae_mlp_decoder.png', show_shapes=True)\n",
        "\n",
        "# instantiate VAE model\n",
        "outputs = decoder(encoder(inputs)[2])\n",
        "vae = Model(inputs, outputs, name='vae_mlp')\n",
        "\n"
      ],
      "execution_count": 11,
      "outputs": [
        {
          "output_type": "stream",
          "text": [
            "Using TensorFlow backend.\n"
          ],
          "name": "stderr"
        },
        {
          "output_type": "stream",
          "text": [
            "Model: \"encoder\"\n",
            "__________________________________________________________________________________________________\n",
            "Layer (type)                    Output Shape         Param #     Connected to                     \n",
            "==================================================================================================\n",
            "encoder_input (InputLayer)      (None, 784)          0                                            \n",
            "__________________________________________________________________________________________________\n",
            "dense_1 (Dense)                 (None, 512)          401920      encoder_input[0][0]              \n",
            "__________________________________________________________________________________________________\n",
            "z_mean (Dense)                  (None, 20)           10260       dense_1[0][0]                    \n",
            "__________________________________________________________________________________________________\n",
            "z_log_var (Dense)               (None, 20)           10260       dense_1[0][0]                    \n",
            "__________________________________________________________________________________________________\n",
            "z (Lambda)                      (None, 20)           0           z_mean[0][0]                     \n",
            "                                                                 z_log_var[0][0]                  \n",
            "==================================================================================================\n",
            "Total params: 422,440\n",
            "Trainable params: 422,440\n",
            "Non-trainable params: 0\n",
            "__________________________________________________________________________________________________\n",
            "Model: \"decoder\"\n",
            "_________________________________________________________________\n",
            "Layer (type)                 Output Shape              Param #   \n",
            "=================================================================\n",
            "z_sampling (InputLayer)      (None, 20)                0         \n",
            "_________________________________________________________________\n",
            "dense_2 (Dense)              (None, 512)               10752     \n",
            "_________________________________________________________________\n",
            "dense_3 (Dense)              (None, 784)               402192    \n",
            "=================================================================\n",
            "Total params: 412,944\n",
            "Trainable params: 412,944\n",
            "Non-trainable params: 0\n",
            "_________________________________________________________________\n"
          ],
          "name": "stdout"
        }
      ]
    },
    {
      "cell_type": "code",
      "metadata": {
        "id": "BF6tZb_3fEyt",
        "colab_type": "code",
        "colab": {
          "base_uri": "https://localhost:8080/",
          "height": 1000
        },
        "outputId": "17c6dd0f-aafd-4b4d-8165-f52437f734a9"
      },
      "source": [
        "import tensorflow\n",
        "models = (encoder, decoder)\n",
        "data = (x_test, y_test)\n",
        "\n",
        "# VAE loss = mse_loss or xent_loss + kl_loss\n",
        "\n",
        "reconstruction_loss = mse(inputs, outputs)\n",
        "\n",
        "reconstruction_loss = binary_crossentropy(inputs,\n",
        "                                              outputs)\n",
        "\n",
        "reconstruction_loss *= original_dim\n",
        "\n",
        "kl_loss = 1 + z_log_var - K.square(z_mean) - K.exp(z_log_var)\n",
        "kl_loss = K.sum(kl_loss, axis=-1)\n",
        "kl_loss *= -0.5\n",
        "vae_loss = K.mean(reconstruction_loss + kl_loss)\n",
        "vae.add_loss(vae_loss)\n",
        "opt = tensorflow.keras.optimizers.Adam(1e-4)\n",
        "vae.compile(optimizer=opt)\n",
        "vae.summary()\n",
        "plot_model(vae,\n",
        "            to_file='vae_mlp.png',\n",
        "            show_shapes=True)\n",
        "\n",
        "# train the autoencoder\n",
        "vae.fit(x_train,\n",
        "        epochs=epochs,\n",
        "        batch_size=batch_size,\n",
        "        validation_data=(x_test, None))\n",
        "vae.save_weights('vae_mlp_mnist.h5')\n",
        "\n",
        "plot_results(models,\n",
        "              data,\n",
        "              batch_size=batch_size,\n",
        "              model_name=\"vae_mlp\")"
      ],
      "execution_count": 12,
      "outputs": [
        {
          "output_type": "stream",
          "text": [
            "/usr/local/lib/python3.6/dist-packages/keras/engine/training_utils.py:819: UserWarning: Output decoder missing from loss dictionary. We assume this was done on purpose. The fit and evaluate APIs will not be expecting any data to be passed to decoder.\n",
            "  'be expecting any data to be passed to {0}.'.format(name))\n"
          ],
          "name": "stderr"
        },
        {
          "output_type": "stream",
          "text": [
            "Model: \"vae_mlp\"\n",
            "_________________________________________________________________\n",
            "Layer (type)                 Output Shape              Param #   \n",
            "=================================================================\n",
            "encoder_input (InputLayer)   (None, 784)               0         \n",
            "_________________________________________________________________\n",
            "encoder (Model)              [(None, 20), (None, 20),  422440    \n",
            "_________________________________________________________________\n",
            "decoder (Model)              (None, 784)               412944    \n",
            "=================================================================\n",
            "Total params: 835,384\n",
            "Trainable params: 835,384\n",
            "Non-trainable params: 0\n",
            "_________________________________________________________________\n",
            "Train on 2661 samples, validate on 766 samples\n",
            "Epoch 1/200\n",
            "2661/2661 [==============================] - 2s 699us/step - loss: 542.8646 - val_loss: 532.2812\n",
            "Epoch 2/200\n",
            "2661/2661 [==============================] - 0s 29us/step - loss: 522.2010 - val_loss: 510.5754\n",
            "Epoch 3/200\n",
            "2661/2661 [==============================] - 0s 30us/step - loss: 495.1774 - val_loss: 479.9052\n",
            "Epoch 4/200\n",
            "2661/2661 [==============================] - 0s 31us/step - loss: 455.6136 - val_loss: 424.3713\n",
            "Epoch 5/200\n",
            "2661/2661 [==============================] - 0s 29us/step - loss: 385.8713 - val_loss: 342.3140\n",
            "Epoch 6/200\n",
            "2661/2661 [==============================] - 0s 31us/step - loss: 279.7690 - val_loss: 217.0084\n",
            "Epoch 7/200\n",
            "2661/2661 [==============================] - 0s 28us/step - loss: 160.5318 - val_loss: 110.2812\n",
            "Epoch 8/200\n",
            "2661/2661 [==============================] - 0s 28us/step - loss: 78.1321 - val_loss: 50.7869\n",
            "Epoch 9/200\n",
            "2661/2661 [==============================] - 0s 28us/step - loss: 38.8428 - val_loss: 29.8958\n",
            "Epoch 10/200\n",
            "2661/2661 [==============================] - 0s 29us/step - loss: 24.3829 - val_loss: 21.1861\n",
            "Epoch 11/200\n",
            "2661/2661 [==============================] - 0s 28us/step - loss: 18.4882 - val_loss: 16.9277\n",
            "Epoch 12/200\n",
            "2661/2661 [==============================] - 0s 30us/step - loss: 15.8253 - val_loss: 14.8656\n",
            "Epoch 13/200\n",
            "2661/2661 [==============================] - 0s 31us/step - loss: 14.3359 - val_loss: 13.2061\n",
            "Epoch 14/200\n",
            "2661/2661 [==============================] - 0s 29us/step - loss: 13.1902 - val_loss: 12.4905\n",
            "Epoch 15/200\n",
            "2661/2661 [==============================] - 0s 28us/step - loss: 12.7142 - val_loss: 12.4886\n",
            "Epoch 16/200\n",
            "2661/2661 [==============================] - 0s 27us/step - loss: 12.2338 - val_loss: 11.8695\n",
            "Epoch 17/200\n",
            "2661/2661 [==============================] - 0s 27us/step - loss: 11.9128 - val_loss: 11.6775\n",
            "Epoch 18/200\n",
            "2661/2661 [==============================] - 0s 28us/step - loss: 11.5146 - val_loss: 11.5018\n",
            "Epoch 19/200\n",
            "2661/2661 [==============================] - 0s 33us/step - loss: 11.2648 - val_loss: 10.7972\n",
            "Epoch 20/200\n",
            "2661/2661 [==============================] - 0s 31us/step - loss: 11.0354 - val_loss: 10.7980\n",
            "Epoch 21/200\n",
            "2661/2661 [==============================] - 0s 32us/step - loss: 10.6849 - val_loss: 10.6070\n",
            "Epoch 22/200\n",
            "2661/2661 [==============================] - 0s 28us/step - loss: 10.5993 - val_loss: 10.2615\n",
            "Epoch 23/200\n",
            "2661/2661 [==============================] - 0s 29us/step - loss: 10.3468 - val_loss: 10.2718\n",
            "Epoch 24/200\n",
            "2661/2661 [==============================] - 0s 28us/step - loss: 10.1516 - val_loss: 9.7931\n",
            "Epoch 25/200\n",
            "2661/2661 [==============================] - 0s 28us/step - loss: 10.0588 - val_loss: 9.9853\n",
            "Epoch 26/200\n",
            "2661/2661 [==============================] - 0s 31us/step - loss: 9.8280 - val_loss: 9.6319\n",
            "Epoch 27/200\n",
            "2661/2661 [==============================] - 0s 29us/step - loss: 9.7828 - val_loss: 9.5549\n",
            "Epoch 28/200\n",
            "2661/2661 [==============================] - 0s 28us/step - loss: 9.4651 - val_loss: 9.5047\n",
            "Epoch 29/200\n",
            "2661/2661 [==============================] - 0s 28us/step - loss: 9.3352 - val_loss: 9.3935\n",
            "Epoch 30/200\n",
            "2661/2661 [==============================] - 0s 31us/step - loss: 9.3179 - val_loss: 8.9946\n",
            "Epoch 31/200\n",
            "2661/2661 [==============================] - 0s 28us/step - loss: 9.2256 - val_loss: 9.5774\n",
            "Epoch 32/200\n",
            "2661/2661 [==============================] - 0s 32us/step - loss: 8.9817 - val_loss: 8.8243\n",
            "Epoch 33/200\n",
            "2661/2661 [==============================] - 0s 31us/step - loss: 8.7926 - val_loss: 8.7294\n",
            "Epoch 34/200\n",
            "2661/2661 [==============================] - 0s 29us/step - loss: 8.8672 - val_loss: 8.8614\n",
            "Epoch 35/200\n",
            "2661/2661 [==============================] - 0s 28us/step - loss: 8.5088 - val_loss: 8.2428\n",
            "Epoch 36/200\n",
            "2661/2661 [==============================] - 0s 28us/step - loss: 8.6286 - val_loss: 8.7701\n",
            "Epoch 37/200\n",
            "2661/2661 [==============================] - 0s 28us/step - loss: 8.2858 - val_loss: 8.3144\n",
            "Epoch 38/200\n",
            "2661/2661 [==============================] - 0s 30us/step - loss: 8.3632 - val_loss: 8.2050\n",
            "Epoch 39/200\n",
            "2661/2661 [==============================] - 0s 29us/step - loss: 8.0458 - val_loss: 7.8454\n",
            "Epoch 40/200\n",
            "2661/2661 [==============================] - 0s 29us/step - loss: 7.8389 - val_loss: 7.6397\n",
            "Epoch 41/200\n",
            "2661/2661 [==============================] - 0s 30us/step - loss: 8.0004 - val_loss: 7.8957\n",
            "Epoch 42/200\n",
            "2661/2661 [==============================] - 0s 28us/step - loss: 7.9178 - val_loss: 7.7898\n",
            "Epoch 43/200\n",
            "2661/2661 [==============================] - 0s 27us/step - loss: 7.6099 - val_loss: 8.2707\n",
            "Epoch 44/200\n",
            "2661/2661 [==============================] - 0s 27us/step - loss: 7.5967 - val_loss: 7.4070\n",
            "Epoch 45/200\n",
            "2661/2661 [==============================] - 0s 33us/step - loss: 7.6540 - val_loss: 7.4167\n",
            "Epoch 46/200\n",
            "2661/2661 [==============================] - 0s 29us/step - loss: 7.4847 - val_loss: 7.5495\n",
            "Epoch 47/200\n",
            "2661/2661 [==============================] - 0s 28us/step - loss: 7.2846 - val_loss: 7.2438\n",
            "Epoch 48/200\n",
            "2661/2661 [==============================] - 0s 28us/step - loss: 7.4892 - val_loss: 7.2608\n",
            "Epoch 49/200\n",
            "2661/2661 [==============================] - 0s 31us/step - loss: 7.2010 - val_loss: 7.1478\n",
            "Epoch 50/200\n",
            "2661/2661 [==============================] - 0s 29us/step - loss: 7.1815 - val_loss: 7.4265\n",
            "Epoch 51/200\n",
            "2661/2661 [==============================] - 0s 27us/step - loss: 7.3131 - val_loss: 7.0141\n",
            "Epoch 52/200\n",
            "2661/2661 [==============================] - 0s 30us/step - loss: 6.9117 - val_loss: 6.9711\n",
            "Epoch 53/200\n",
            "2661/2661 [==============================] - 0s 29us/step - loss: 6.9334 - val_loss: 6.8557\n",
            "Epoch 54/200\n",
            "2661/2661 [==============================] - 0s 28us/step - loss: 6.8511 - val_loss: 6.6662\n",
            "Epoch 55/200\n",
            "2661/2661 [==============================] - 0s 28us/step - loss: 6.7217 - val_loss: 6.5268\n",
            "Epoch 56/200\n",
            "2661/2661 [==============================] - 0s 28us/step - loss: 6.7824 - val_loss: 6.6096\n",
            "Epoch 57/200\n",
            "2661/2661 [==============================] - 0s 28us/step - loss: 6.7276 - val_loss: 6.4141\n",
            "Epoch 58/200\n",
            "2661/2661 [==============================] - 0s 35us/step - loss: 6.5828 - val_loss: 6.5463\n",
            "Epoch 59/200\n",
            "2661/2661 [==============================] - 0s 35us/step - loss: 6.6697 - val_loss: 6.5937\n",
            "Epoch 60/200\n",
            "2661/2661 [==============================] - 0s 28us/step - loss: 6.4791 - val_loss: 6.6588\n",
            "Epoch 61/200\n",
            "2661/2661 [==============================] - 0s 30us/step - loss: 6.3079 - val_loss: 6.3466\n",
            "Epoch 62/200\n",
            "2661/2661 [==============================] - 0s 28us/step - loss: 6.6497 - val_loss: 7.0378\n",
            "Epoch 63/200\n",
            "2661/2661 [==============================] - 0s 28us/step - loss: 6.6386 - val_loss: 6.3222\n",
            "Epoch 64/200\n",
            "2661/2661 [==============================] - 0s 31us/step - loss: 6.5268 - val_loss: 6.3212\n",
            "Epoch 65/200\n",
            "2661/2661 [==============================] - 0s 34us/step - loss: 6.1578 - val_loss: 6.2861\n",
            "Epoch 66/200\n",
            "2661/2661 [==============================] - 0s 29us/step - loss: 6.1790 - val_loss: 6.4374\n",
            "Epoch 67/200\n",
            "2661/2661 [==============================] - 0s 30us/step - loss: 6.0641 - val_loss: 6.0956\n",
            "Epoch 68/200\n",
            "2661/2661 [==============================] - 0s 28us/step - loss: 6.2236 - val_loss: 5.7893\n",
            "Epoch 69/200\n",
            "2661/2661 [==============================] - 0s 28us/step - loss: 6.2780 - val_loss: 5.9306\n",
            "Epoch 70/200\n",
            "2661/2661 [==============================] - 0s 28us/step - loss: 6.0079 - val_loss: 5.6803\n",
            "Epoch 71/200\n",
            "2661/2661 [==============================] - 0s 30us/step - loss: 5.9608 - val_loss: 5.8960\n",
            "Epoch 72/200\n",
            "2661/2661 [==============================] - 0s 28us/step - loss: 6.1365 - val_loss: 5.9404\n",
            "Epoch 73/200\n",
            "2661/2661 [==============================] - 0s 30us/step - loss: 6.1862 - val_loss: 6.5623\n",
            "Epoch 74/200\n",
            "2661/2661 [==============================] - 0s 29us/step - loss: 6.2132 - val_loss: 6.0028\n",
            "Epoch 75/200\n",
            "2661/2661 [==============================] - 0s 27us/step - loss: 5.9867 - val_loss: 5.8683\n",
            "Epoch 76/200\n",
            "2661/2661 [==============================] - 0s 29us/step - loss: 5.5628 - val_loss: 5.5267\n",
            "Epoch 77/200\n",
            "2661/2661 [==============================] - 0s 28us/step - loss: 5.8967 - val_loss: 6.0244\n",
            "Epoch 78/200\n",
            "2661/2661 [==============================] - 0s 35us/step - loss: 6.1763 - val_loss: 6.5422\n",
            "Epoch 79/200\n",
            "2661/2661 [==============================] - 0s 29us/step - loss: 5.6973 - val_loss: 5.4911\n",
            "Epoch 80/200\n",
            "2661/2661 [==============================] - 0s 27us/step - loss: 5.7374 - val_loss: 5.2484\n",
            "Epoch 81/200\n",
            "2661/2661 [==============================] - 0s 27us/step - loss: 6.0809 - val_loss: 5.7330\n",
            "Epoch 82/200\n",
            "2661/2661 [==============================] - 0s 29us/step - loss: 5.8361 - val_loss: 5.7860\n",
            "Epoch 83/200\n",
            "2661/2661 [==============================] - 0s 28us/step - loss: 5.6101 - val_loss: 5.2203\n",
            "Epoch 84/200\n",
            "2661/2661 [==============================] - 0s 30us/step - loss: 5.5540 - val_loss: 6.4867\n",
            "Epoch 85/200\n",
            "2661/2661 [==============================] - 0s 28us/step - loss: 5.4826 - val_loss: 6.1714\n",
            "Epoch 86/200\n",
            "2661/2661 [==============================] - 0s 28us/step - loss: 5.5212 - val_loss: 5.6350\n",
            "Epoch 87/200\n",
            "2661/2661 [==============================] - 0s 28us/step - loss: 5.7080 - val_loss: 5.6799\n",
            "Epoch 88/200\n",
            "2661/2661 [==============================] - 0s 28us/step - loss: 5.3868 - val_loss: 5.4343\n",
            "Epoch 89/200\n",
            "2661/2661 [==============================] - 0s 28us/step - loss: 5.9213 - val_loss: 6.1724\n",
            "Epoch 90/200\n",
            "2661/2661 [==============================] - 0s 29us/step - loss: 5.6602 - val_loss: 5.2868\n",
            "Epoch 91/200\n",
            "2661/2661 [==============================] - 0s 30us/step - loss: 5.3331 - val_loss: 5.0862\n",
            "Epoch 92/200\n",
            "2661/2661 [==============================] - 0s 29us/step - loss: 5.5143 - val_loss: 5.2476\n",
            "Epoch 93/200\n",
            "2661/2661 [==============================] - 0s 28us/step - loss: 5.1507 - val_loss: 6.3789\n",
            "Epoch 94/200\n",
            "2661/2661 [==============================] - 0s 29us/step - loss: 5.2698 - val_loss: 5.3214\n",
            "Epoch 95/200\n",
            "2661/2661 [==============================] - 0s 29us/step - loss: 5.7139 - val_loss: 5.1062\n",
            "Epoch 96/200\n",
            "2661/2661 [==============================] - 0s 32us/step - loss: 5.2976 - val_loss: 5.3066\n",
            "Epoch 97/200\n",
            "2661/2661 [==============================] - 0s 34us/step - loss: 5.2247 - val_loss: 5.8975\n",
            "Epoch 98/200\n",
            "2661/2661 [==============================] - 0s 28us/step - loss: 5.2241 - val_loss: 4.9799\n",
            "Epoch 99/200\n",
            "2661/2661 [==============================] - 0s 28us/step - loss: 5.1525 - val_loss: 4.9896\n",
            "Epoch 100/200\n",
            "2661/2661 [==============================] - 0s 32us/step - loss: 5.2951 - val_loss: 4.8692\n",
            "Epoch 101/200\n",
            "2661/2661 [==============================] - 0s 29us/step - loss: 4.9693 - val_loss: 4.5788\n",
            "Epoch 102/200\n",
            "2661/2661 [==============================] - 0s 29us/step - loss: 5.0760 - val_loss: 5.0957\n",
            "Epoch 103/200\n",
            "2661/2661 [==============================] - 0s 28us/step - loss: 5.0571 - val_loss: 4.9943\n",
            "Epoch 104/200\n",
            "2661/2661 [==============================] - 0s 32us/step - loss: 5.0389 - val_loss: 4.8168\n",
            "Epoch 105/200\n",
            "2661/2661 [==============================] - 0s 28us/step - loss: 5.0751 - val_loss: 4.8536\n",
            "Epoch 106/200\n",
            "2661/2661 [==============================] - 0s 28us/step - loss: 4.9453 - val_loss: 5.3787\n",
            "Epoch 107/200\n",
            "2661/2661 [==============================] - 0s 28us/step - loss: 4.8311 - val_loss: 6.3939\n",
            "Epoch 108/200\n",
            "2661/2661 [==============================] - 0s 29us/step - loss: 5.0352 - val_loss: 4.8220\n",
            "Epoch 109/200\n",
            "2661/2661 [==============================] - 0s 28us/step - loss: 5.4239 - val_loss: 5.5784\n",
            "Epoch 110/200\n",
            "2661/2661 [==============================] - 0s 31us/step - loss: 4.8334 - val_loss: 4.6298\n",
            "Epoch 111/200\n",
            "2661/2661 [==============================] - 0s 28us/step - loss: 5.2138 - val_loss: 4.5464\n",
            "Epoch 112/200\n",
            "2661/2661 [==============================] - 0s 31us/step - loss: 4.6794 - val_loss: 7.0332\n",
            "Epoch 113/200\n",
            "2661/2661 [==============================] - 0s 30us/step - loss: 4.8890 - val_loss: 5.0302\n",
            "Epoch 114/200\n",
            "2661/2661 [==============================] - 0s 32us/step - loss: 5.4673 - val_loss: 4.4782\n",
            "Epoch 115/200\n",
            "2661/2661 [==============================] - 0s 29us/step - loss: 5.1277 - val_loss: 5.1288\n",
            "Epoch 116/200\n",
            "2661/2661 [==============================] - 0s 30us/step - loss: 4.9280 - val_loss: 4.9085\n",
            "Epoch 117/200\n",
            "2661/2661 [==============================] - 0s 28us/step - loss: 4.7810 - val_loss: 4.3218\n",
            "Epoch 118/200\n",
            "2661/2661 [==============================] - 0s 29us/step - loss: 4.6588 - val_loss: 4.8821\n",
            "Epoch 119/200\n",
            "2661/2661 [==============================] - 0s 28us/step - loss: 4.4816 - val_loss: 4.6717\n",
            "Epoch 120/200\n",
            "2661/2661 [==============================] - 0s 29us/step - loss: 4.5011 - val_loss: 5.5558\n",
            "Epoch 121/200\n",
            "2661/2661 [==============================] - 0s 28us/step - loss: 4.8743 - val_loss: 4.5015\n",
            "Epoch 122/200\n",
            "2661/2661 [==============================] - 0s 28us/step - loss: 4.6865 - val_loss: 4.6189\n",
            "Epoch 123/200\n",
            "2661/2661 [==============================] - 0s 35us/step - loss: 4.7609 - val_loss: 5.6460\n",
            "Epoch 124/200\n",
            "2661/2661 [==============================] - 0s 29us/step - loss: 5.0956 - val_loss: 4.3433\n",
            "Epoch 125/200\n",
            "2661/2661 [==============================] - 0s 28us/step - loss: 4.4058 - val_loss: 5.3910\n",
            "Epoch 126/200\n",
            "2661/2661 [==============================] - 0s 29us/step - loss: 5.0049 - val_loss: 4.7858\n",
            "Epoch 127/200\n",
            "2661/2661 [==============================] - 0s 28us/step - loss: 4.6448 - val_loss: 4.5312\n",
            "Epoch 128/200\n",
            "2661/2661 [==============================] - 0s 29us/step - loss: 4.5948 - val_loss: 5.6087\n",
            "Epoch 129/200\n",
            "2661/2661 [==============================] - 0s 31us/step - loss: 5.1028 - val_loss: 4.4952\n",
            "Epoch 130/200\n",
            "2661/2661 [==============================] - 0s 29us/step - loss: 4.7216 - val_loss: 4.3488\n",
            "Epoch 131/200\n",
            "2661/2661 [==============================] - 0s 28us/step - loss: 4.7714 - val_loss: 4.6824\n",
            "Epoch 132/200\n",
            "2661/2661 [==============================] - 0s 31us/step - loss: 4.5980 - val_loss: 8.6843\n",
            "Epoch 133/200\n",
            "2661/2661 [==============================] - 0s 28us/step - loss: 4.8367 - val_loss: 5.1861\n",
            "Epoch 134/200\n",
            "2661/2661 [==============================] - 0s 32us/step - loss: 4.3260 - val_loss: 4.3913\n",
            "Epoch 135/200\n",
            "2661/2661 [==============================] - 0s 29us/step - loss: 5.0850 - val_loss: 4.3030\n",
            "Epoch 136/200\n",
            "2661/2661 [==============================] - 0s 31us/step - loss: 4.5517 - val_loss: 4.1537\n",
            "Epoch 137/200\n",
            "2661/2661 [==============================] - 0s 30us/step - loss: 4.8572 - val_loss: 4.4300\n",
            "Epoch 138/200\n",
            "2661/2661 [==============================] - 0s 29us/step - loss: 4.4821 - val_loss: 4.4486\n",
            "Epoch 139/200\n",
            "2661/2661 [==============================] - 0s 28us/step - loss: 4.4502 - val_loss: 5.5478\n",
            "Epoch 140/200\n",
            "2661/2661 [==============================] - 0s 28us/step - loss: 4.8409 - val_loss: 4.2258\n",
            "Epoch 141/200\n",
            "2661/2661 [==============================] - 0s 30us/step - loss: 4.9920 - val_loss: 5.1911\n",
            "Epoch 142/200\n",
            "2661/2661 [==============================] - 0s 31us/step - loss: 4.4403 - val_loss: 4.0015\n",
            "Epoch 143/200\n",
            "2661/2661 [==============================] - 0s 28us/step - loss: 4.2480 - val_loss: 4.5744\n",
            "Epoch 144/200\n",
            "2661/2661 [==============================] - 0s 30us/step - loss: 4.3673 - val_loss: 4.1029\n",
            "Epoch 145/200\n",
            "2661/2661 [==============================] - 0s 28us/step - loss: 4.0302 - val_loss: 4.2447\n",
            "Epoch 146/200\n",
            "2661/2661 [==============================] - 0s 28us/step - loss: 4.2622 - val_loss: 3.8656\n",
            "Epoch 147/200\n",
            "2661/2661 [==============================] - 0s 30us/step - loss: 4.1790 - val_loss: 4.4161\n",
            "Epoch 148/200\n",
            "2661/2661 [==============================] - 0s 28us/step - loss: 4.0056 - val_loss: 3.9675\n",
            "Epoch 149/200\n",
            "2661/2661 [==============================] - 0s 33us/step - loss: 4.4717 - val_loss: 4.9802\n",
            "Epoch 150/200\n",
            "2661/2661 [==============================] - 0s 29us/step - loss: 4.5863 - val_loss: 5.3326\n",
            "Epoch 151/200\n",
            "2661/2661 [==============================] - 0s 30us/step - loss: 4.2565 - val_loss: 4.7018\n",
            "Epoch 152/200\n",
            "2661/2661 [==============================] - 0s 29us/step - loss: 4.2993 - val_loss: 4.1646\n",
            "Epoch 153/200\n",
            "2661/2661 [==============================] - 0s 29us/step - loss: 4.2859 - val_loss: 3.8867\n",
            "Epoch 154/200\n",
            "2661/2661 [==============================] - 0s 29us/step - loss: 4.4233 - val_loss: 3.8029\n",
            "Epoch 155/200\n",
            "2661/2661 [==============================] - 0s 31us/step - loss: 4.4545 - val_loss: 4.4769\n",
            "Epoch 156/200\n",
            "2661/2661 [==============================] - 0s 29us/step - loss: 4.3386 - val_loss: 3.8480\n",
            "Epoch 157/200\n",
            "2661/2661 [==============================] - 0s 30us/step - loss: 4.5253 - val_loss: 3.9877\n",
            "Epoch 158/200\n",
            "2661/2661 [==============================] - 0s 29us/step - loss: 3.9085 - val_loss: 4.5022\n",
            "Epoch 159/200\n",
            "2661/2661 [==============================] - 0s 29us/step - loss: 3.9231 - val_loss: 3.7691\n",
            "Epoch 160/200\n",
            "2661/2661 [==============================] - 0s 30us/step - loss: 3.9308 - val_loss: 3.9015\n",
            "Epoch 161/200\n",
            "2661/2661 [==============================] - 0s 30us/step - loss: 5.3523 - val_loss: 4.8090\n",
            "Epoch 162/200\n",
            "2661/2661 [==============================] - 0s 29us/step - loss: 4.3123 - val_loss: 4.0528\n",
            "Epoch 163/200\n",
            "2661/2661 [==============================] - 0s 28us/step - loss: 3.9211 - val_loss: 3.6821\n",
            "Epoch 164/200\n",
            "2661/2661 [==============================] - 0s 29us/step - loss: 3.7347 - val_loss: 3.5038\n",
            "Epoch 165/200\n",
            "2661/2661 [==============================] - 0s 30us/step - loss: 4.3344 - val_loss: 3.7783\n",
            "Epoch 166/200\n",
            "2661/2661 [==============================] - 0s 28us/step - loss: 4.4244 - val_loss: 4.1065\n",
            "Epoch 167/200\n",
            "2661/2661 [==============================] - 0s 29us/step - loss: 3.9382 - val_loss: 3.5067\n",
            "Epoch 168/200\n",
            "2661/2661 [==============================] - 0s 31us/step - loss: 4.7293 - val_loss: 3.5779\n",
            "Epoch 169/200\n",
            "2661/2661 [==============================] - 0s 30us/step - loss: 4.2279 - val_loss: 3.7638\n",
            "Epoch 170/200\n",
            "2661/2661 [==============================] - 0s 29us/step - loss: 4.5138 - val_loss: 4.4587\n",
            "Epoch 171/200\n",
            "2661/2661 [==============================] - 0s 28us/step - loss: 4.7016 - val_loss: 5.5534\n",
            "Epoch 172/200\n",
            "2661/2661 [==============================] - 0s 29us/step - loss: 4.0435 - val_loss: 4.4275\n",
            "Epoch 173/200\n",
            "2661/2661 [==============================] - 0s 29us/step - loss: 3.9603 - val_loss: 3.7378\n",
            "Epoch 174/200\n",
            "2661/2661 [==============================] - 0s 34us/step - loss: 4.0975 - val_loss: 4.1820\n",
            "Epoch 175/200\n",
            "2661/2661 [==============================] - 0s 29us/step - loss: 4.1113 - val_loss: 3.7678\n",
            "Epoch 176/200\n",
            "2661/2661 [==============================] - 0s 30us/step - loss: 4.1384 - val_loss: 3.6203\n",
            "Epoch 177/200\n",
            "2661/2661 [==============================] - 0s 30us/step - loss: 4.3891 - val_loss: 4.3390\n",
            "Epoch 178/200\n",
            "2661/2661 [==============================] - 0s 30us/step - loss: 4.0153 - val_loss: 3.6773\n",
            "Epoch 179/200\n",
            "2661/2661 [==============================] - 0s 28us/step - loss: 3.5067 - val_loss: 6.4868\n",
            "Epoch 180/200\n",
            "2661/2661 [==============================] - 0s 31us/step - loss: 3.5722 - val_loss: 5.2294\n",
            "Epoch 181/200\n",
            "2661/2661 [==============================] - 0s 29us/step - loss: 3.6707 - val_loss: 3.6044\n",
            "Epoch 182/200\n",
            "2661/2661 [==============================] - 0s 30us/step - loss: 4.1868 - val_loss: 3.6217\n",
            "Epoch 183/200\n",
            "2661/2661 [==============================] - 0s 30us/step - loss: 4.8458 - val_loss: 3.8351\n",
            "Epoch 184/200\n",
            "2661/2661 [==============================] - 0s 29us/step - loss: 3.9010 - val_loss: 3.6523\n",
            "Epoch 185/200\n",
            "2661/2661 [==============================] - 0s 28us/step - loss: 3.8088 - val_loss: 9.5245\n",
            "Epoch 186/200\n",
            "2661/2661 [==============================] - 0s 28us/step - loss: 4.0163 - val_loss: 3.3937\n",
            "Epoch 187/200\n",
            "2661/2661 [==============================] - 0s 32us/step - loss: 3.5148 - val_loss: 7.2178\n",
            "Epoch 188/200\n",
            "2661/2661 [==============================] - 0s 29us/step - loss: 3.8035 - val_loss: 3.4984\n",
            "Epoch 189/200\n",
            "2661/2661 [==============================] - 0s 29us/step - loss: 3.7018 - val_loss: 3.6489\n",
            "Epoch 190/200\n",
            "2661/2661 [==============================] - 0s 29us/step - loss: 3.8603 - val_loss: 3.2366\n",
            "Epoch 191/200\n",
            "2661/2661 [==============================] - 0s 32us/step - loss: 3.5347 - val_loss: 3.9697\n",
            "Epoch 192/200\n",
            "2661/2661 [==============================] - 0s 30us/step - loss: 3.4067 - val_loss: 4.3915\n",
            "Epoch 193/200\n",
            "2661/2661 [==============================] - 0s 31us/step - loss: 3.7396 - val_loss: 3.2601\n",
            "Epoch 194/200\n",
            "2661/2661 [==============================] - 0s 30us/step - loss: 3.4253 - val_loss: 3.2152\n",
            "Epoch 195/200\n",
            "2661/2661 [==============================] - 0s 30us/step - loss: 3.1815 - val_loss: 4.3666\n",
            "Epoch 196/200\n",
            "2661/2661 [==============================] - 0s 31us/step - loss: 3.6835 - val_loss: 3.4335\n",
            "Epoch 197/200\n",
            "2661/2661 [==============================] - 0s 28us/step - loss: 3.1035 - val_loss: 3.1944\n",
            "Epoch 198/200\n",
            "2661/2661 [==============================] - 0s 30us/step - loss: 4.1810 - val_loss: 3.4114\n",
            "Epoch 199/200\n",
            "2661/2661 [==============================] - 0s 28us/step - loss: 3.7218 - val_loss: 4.3033\n",
            "Epoch 200/200\n",
            "2661/2661 [==============================] - 0s 30us/step - loss: 3.3284 - val_loss: 2.8753\n"
          ],
          "name": "stdout"
        },
        {
          "output_type": "display_data",
          "data": {
            "image/png": "[encoded data removed]",
            "text/plain": [
              "<Figure size 864x720 with 2 Axes>"
            ]
          },
          "metadata": {
            "tags": [],
            "needs_background": "light"
          }
        }
      ]
    },
    {
      "cell_type": "code",
      "metadata": {
        "id": "-tP6HOCi00Xi",
        "colab_type": "code",
        "colab": {
          "base_uri": "https://localhost:8080/",
          "height": 52
        },
        "outputId": "25914aad-57a8-4f1a-bb3b-99df99308915"
      },
      "source": [
        "print(x_train.shape)\n",
        "print(x_test.shape)"
      ],
      "execution_count": 13,
      "outputs": [
        {
          "output_type": "stream",
          "text": [
            "(2661, 784)\n",
            "(766, 784)\n"
          ],
          "name": "stdout"
        }
      ]
    },
    {
      "cell_type": "code",
      "metadata": {
        "id": "JaZdvVfSvME4",
        "colab_type": "code",
        "colab": {
          "base_uri": "https://localhost:8080/",
          "height": 52
        },
        "outputId": "5875854c-663c-4614-987c-6148e83b3500"
      },
      "source": [
        "z_mean_train, _, _ = encoder.predict(x_train, batch_size=batch_size)\n",
        "z_mean_train = np.asarray(z_mean_train)\n",
        "\n",
        "print(z_mean_train.shape)\n",
        "\n",
        "z_mean_val, _, _ = encoder.predict(x_test, batch_size=batch_size)\n",
        "z_mean_val = np.asarray(z_mean_val)\n",
        "\n",
        "print(z_mean_val.shape)"
      ],
      "execution_count": 14,
      "outputs": [
        {
          "output_type": "stream",
          "text": [
            "(2661, 20)\n",
            "(766, 20)\n"
          ],
          "name": "stdout"
        }
      ]
    },
    {
      "cell_type": "code",
      "metadata": {
        "id": "C6x8-tbCBZMH",
        "colab_type": "code",
        "colab": {}
      },
      "source": [
        "import pickle\n",
        "\n",
        "pickle.dump( z_mean_train, open( \"/content/drive/My Drive/Machine-Learning-Projects/cs231n-project/notebooks/VAE/z_mean_train_5.pkl\", \"wb\" ) )\n",
        "pickle.dump( z_mean_val, open( \"/content/drive/My Drive/Machine-Learning-Projects/cs231n-project/notebooks/VAE/z_mean_val_5.pkl\", \"wb\" ) )"
      ],
      "execution_count": null,
      "outputs": []
    },
    {
      "cell_type": "code",
      "metadata": {
        "id": "L1xEPqEpuH6I",
        "colab_type": "code",
        "colab": {}
      },
      "source": [
        "# Leila's experimentation below\n",
        "\n",
        "inputs = tf.keras.Input(shape=z_mean_val.shape[1:])\n",
        "\n",
        "x = tf.keras.layers.Dense(100, activation='selu', kernel_regularizer=tf.keras.regularizers.l2())(inputs)\n",
        "#x = tf.keras.layers.BatchNormalization()(x)\n",
        "#x = tf.keras.layers.Dense(50, activation='selu', kernel_regularizer=tf.keras.regularizers.l2())(x)\n",
        "#x = tf.keras.layers.BatchNormalization()(x)\n",
        "x = tf.keras.layers.Dense(32, activation = 'selu', kernel_regularizer=tf.keras.regularizers.l2())(x)\n",
        "\n",
        "# inputs = tf.keras.layers.Input(shape=(28, 28, 1))\n",
        "# x = tf.keras.layers.Conv2D(\n",
        "#     filters=32, kernel_size=3, strides=(2, 2), activation='relu')(inputs)\n",
        "# x = tf.keras.layers.Conv2D(\n",
        "#     filters=64, kernel_size=3, strides=(2, 2), activation='relu')(x)\n",
        "# x = tf.keras.layers.Flatten()(x)\n",
        "# x = tf.keras.layers.Dense(100)(x)\n",
        "outputs = tf.keras.layers.Dense(3, activation = 'softmax')(x)\n",
        "\n",
        "model = tf.keras.Model(inputs=[inputs] , outputs=[outputs])\n",
        "lr_schedule = tf.keras.optimizers.schedules.ExponentialDecay(\n",
        "      initial_learning_rate= 1e-2, #This LR came from the hyperparameter tuning using the HyperAS (modified HyperOpt for Keras) -- randomized search\n",
        "      decay_steps=10000,\n",
        "      decay_rate=0.9)\n",
        "opt = tf.keras.optimizers.Adam(learning_rate=0.001)\n",
        "\n",
        "model.compile(loss='sparse_categorical_crossentropy', optimizer=opt, metrics=['accuracy'])"
      ],
      "execution_count": 15,
      "outputs": []
    },
    {
      "cell_type": "code",
      "metadata": {
        "id": "hSHEliTf-DcT",
        "colab_type": "code",
        "colab": {
          "base_uri": "https://localhost:8080/",
          "height": 540
        },
        "outputId": "8dc31d2a-026b-4752-accb-af5afaca51fe"
      },
      "source": [
        "!pip install keras-tuner"
      ],
      "execution_count": 16,
      "outputs": [
        {
          "output_type": "stream",
          "text": [
            "Collecting keras-tuner\n",
            "\u001b[?25l  Downloading https://files.pythonhosted.org/packages/a7/f7/4b41b6832abf4c9bef71a664dc563adb25afc5812831667c6db572b1a261/keras-tuner-1.0.1.tar.gz (54kB)\n",
            "\r\u001b[K     |██████                          | 10kB 24.2MB/s eta 0:00:01\r\u001b[K     |████████████                    | 20kB 6.1MB/s eta 0:00:01\r\u001b[K     |██████████████████              | 30kB 7.5MB/s eta 0:00:01\r\u001b[K     |████████████████████████        | 40kB 8.3MB/s eta 0:00:01\r\u001b[K     |██████████████████████████████  | 51kB 7.1MB/s eta 0:00:01\r\u001b[K     |████████████████████████████████| 61kB 4.0MB/s \n",
            "\u001b[?25hRequirement already satisfied: future in /usr/local/lib/python3.6/dist-packages (from keras-tuner) (0.16.0)\n",
            "Requirement already satisfied: numpy in /usr/local/lib/python3.6/dist-packages (from keras-tuner) (1.18.5)\n",
            "Requirement already satisfied: tabulate in /usr/local/lib/python3.6/dist-packages (from keras-tuner) (0.8.7)\n",
            "Collecting terminaltables\n",
            "  Downloading https://files.pythonhosted.org/packages/9b/c4/4a21174f32f8a7e1104798c445dacdc1d4df86f2f26722767034e4de4bff/terminaltables-3.1.0.tar.gz\n",
            "Collecting colorama\n",
            "  Downloading https://files.pythonhosted.org/packages/c9/dc/45cdef1b4d119eb96316b3117e6d5708a08029992b2fee2c143c7a0a5cc5/colorama-0.4.3-py2.py3-none-any.whl\n",
            "Requirement already satisfied: tqdm in /usr/local/lib/python3.6/dist-packages (from keras-tuner) (4.41.1)\n",
            "Requirement already satisfied: requests in /usr/local/lib/python3.6/dist-packages (from keras-tuner) (2.23.0)\n",
            "Requirement already satisfied: scipy in /usr/local/lib/python3.6/dist-packages (from keras-tuner) (1.4.1)\n",
            "Requirement already satisfied: scikit-learn in /usr/local/lib/python3.6/dist-packages (from keras-tuner) (0.22.2.post1)\n",
            "Requirement already satisfied: chardet<4,>=3.0.2 in /usr/local/lib/python3.6/dist-packages (from requests->keras-tuner) (3.0.4)\n",
            "Requirement already satisfied: certifi>=2017.4.17 in /usr/local/lib/python3.6/dist-packages (from requests->keras-tuner) (2020.6.20)\n",
            "Requirement already satisfied: idna<3,>=2.5 in /usr/local/lib/python3.6/dist-packages (from requests->keras-tuner) (2.9)\n",
            "Requirement already satisfied: urllib3!=1.25.0,!=1.25.1,<1.26,>=1.21.1 in /usr/local/lib/python3.6/dist-packages (from requests->keras-tuner) (1.24.3)\n",
            "Requirement already satisfied: joblib>=0.11 in /usr/local/lib/python3.6/dist-packages (from scikit-learn->keras-tuner) (0.15.1)\n",
            "Building wheels for collected packages: keras-tuner, terminaltables\n",
            "  Building wheel for keras-tuner (setup.py) ... \u001b[?25l\u001b[?25hdone\n",
            "  Created wheel for keras-tuner: filename=keras_tuner-1.0.1-cp36-none-any.whl size=73200 sha256=5a5a0f598e699bf80a0017b045ba16fe9a5bdfc1db472d58401bf5e78a54e7b0\n",
            "  Stored in directory: /root/.cache/pip/wheels/b9/cc/62/52716b70dd90f3db12519233c3a93a5360bc672da1a10ded43\n",
            "  Building wheel for terminaltables (setup.py) ... \u001b[?25l\u001b[?25hdone\n",
            "  Created wheel for terminaltables: filename=terminaltables-3.1.0-cp36-none-any.whl size=15356 sha256=5fa2c7891b518c7fcde3836d315ef84e6365bcb8117f79e46cab76a64b9ec25f\n",
            "  Stored in directory: /root/.cache/pip/wheels/30/6b/50/6c75775b681fb36cdfac7f19799888ef9d8813aff9e379663e\n",
            "Successfully built keras-tuner terminaltables\n",
            "Installing collected packages: terminaltables, colorama, keras-tuner\n",
            "Successfully installed colorama-0.4.3 keras-tuner-1.0.1 terminaltables-3.1.0\n"
          ],
          "name": "stdout"
        }
      ]
    },
    {
      "cell_type": "code",
      "metadata": {
        "id": "iuBU0SH39v0j",
        "colab_type": "code",
        "colab": {}
      },
      "source": [
        "# Credit goes to Tom for help with this version! \n",
        "\n",
        "MODEL_NAME = \"ensemble-vae-with-capt-laugh-v1\"\n",
        "\n",
        "from pathlib import Path\n",
        "import tensorflow as tf\n",
        "import matplotlib.pyplot as plt\n",
        "\n",
        "def build_model(hp):\n",
        "    Path(f\"drive/My Drive/Machine-Learning-Projects/cs231n-project/models/{MODEL_NAME}\").mkdir(parents=True, exist_ok=True)\n",
        "    checkpoint_path = \"drive/My Drive/Machine-Learning-Projects/cs231n-project/models/\" + MODEL_NAME + \"/cp-{epoch:04d}.h5\"\n",
        "\n",
        "    cp_callback = tf.keras.callbacks.ModelCheckpoint(\n",
        "        filepath=checkpoint_path, \n",
        "        verbose=1,\n",
        "        save_weights_only=False,\n",
        "        save_best_only=True,\n",
        "        period=1\n",
        "    )\n",
        "\n",
        "    def create_model(inputs):\n",
        "        x = tf.keras.layers.Dense(hp.Int('units', min_value=8, max_value=128, step=8), activation='relu', kernel_regularizer=tf.keras.regularizers.l2())(inputs)\n",
        "        x = tf.keras.layers.Dense(3, activation='softmax', kernel_regularizer=tf.keras.regularizers.l2())(x)\n",
        "        x = tf.keras.layers.Dense(50, activation='selu', kernel_regularizer=tf.keras.regularizers.l2())(inputs)\n",
        "        model = tf.keras.Model(inputs=inputs, outputs=x)\n",
        "        model.compile(optimizer=tf.keras.optimizers.Adam(\n",
        "            hp.Choice('learning_rate',\n",
        "                      values=[1e-2, 1e-3, 1e-4])),\n",
        "                      loss = 'sparse_categorical_crossentropy',\n",
        "                      metrics=['accuracy'])\n",
        "        return model\n",
        "\n",
        "    inputs = tf.keras.Input(shape=(z_mean_train.shape[1]))\n",
        "    model = create_model(inputs)\n",
        "    # model.summary()\n",
        "    return model\n"
      ],
      "execution_count": 17,
      "outputs": []
    },
    {
      "cell_type": "code",
      "metadata": {
        "id": "PKz9-WgO95Bk",
        "colab_type": "code",
        "colab": {
          "base_uri": "https://localhost:8080/",
          "height": 1000
        },
        "outputId": "3198f19a-708e-40e2-b09a-e974d52ca497"
      },
      "source": [
        "from kerastuner.tuners import RandomSearch\n",
        "tuner = RandomSearch(\n",
        "    build_model,\n",
        "    objective='val_accuracy',\n",
        "    max_trials=5,\n",
        "    executions_per_trial=3,\n",
        "    directory='fc-prediction',\n",
        "    project_name='fc-prediction'\n",
        ")\n",
        "tuner.search_space_summary()\n",
        "\n",
        "tuner.search(z_mean_train, y_train_np,\n",
        "             epochs=30,\n",
        "             validation_data=(z_mean_val, y_valid_np),\n",
        "             verbose=0)\n"
      ],
      "execution_count": 18,
      "outputs": [
        {
          "output_type": "stream",
          "text": [
            "WARNING:tensorflow:`period` argument is deprecated. Please use `save_freq` to specify the frequency in number of batches seen.\n"
          ],
          "name": "stdout"
        },
        {
          "output_type": "display_data",
          "data": {
            "text/html": [
              "<span style=\"color:#4527A0\"><h1 style=\"font-size:18px\">Search space summary</h1></span>"
            ],
            "text/plain": [
              "<IPython.core.display.HTML object>"
            ]
          },
          "metadata": {
            "tags": []
          }
        },
        {
          "output_type": "display_data",
          "data": {
            "text/html": [
              "<span style=\"color:cyan\"> |-Default search space size: 2</span>"
            ],
            "text/plain": [
              "<IPython.core.display.HTML object>"
            ]
          },
          "metadata": {
            "tags": []
          }
        },
        {
          "output_type": "display_data",
          "data": {
            "text/html": [
              "<span style=\"color:#7E57C2\"><h2 style=\"font-size:16px\">units (Int)</h2></span>"
            ],
            "text/plain": [
              "<IPython.core.display.HTML object>"
            ]
          },
          "metadata": {
            "tags": []
          }
        },
        {
          "output_type": "display_data",
          "data": {
            "text/html": [
              "<span style=\"color:cyan\"> |-default: None</span>"
            ],
            "text/plain": [
              "<IPython.core.display.HTML object>"
            ]
          },
          "metadata": {
            "tags": []
          }
        },
        {
          "output_type": "display_data",
          "data": {
            "text/html": [
              "<span style=\"color:blue\"> |-max_value: 128</span>"
            ],
            "text/plain": [
              "<IPython.core.display.HTML object>"
            ]
          },
          "metadata": {
            "tags": []
          }
        },
        {
          "output_type": "display_data",
          "data": {
            "text/html": [
              "<span style=\"color:cyan\"> |-min_value: 8</span>"
            ],
            "text/plain": [
              "<IPython.core.display.HTML object>"
            ]
          },
          "metadata": {
            "tags": []
          }
        },
        {
          "output_type": "display_data",
          "data": {
            "text/html": [
              "<span style=\"color:blue\"> |-sampling: None</span>"
            ],
            "text/plain": [
              "<IPython.core.display.HTML object>"
            ]
          },
          "metadata": {
            "tags": []
          }
        },
        {
          "output_type": "display_data",
          "data": {
            "text/html": [
              "<span style=\"color:cyan\"> |-step: 8</span>"
            ],
            "text/plain": [
              "<IPython.core.display.HTML object>"
            ]
          },
          "metadata": {
            "tags": []
          }
        },
        {
          "output_type": "display_data",
          "data": {
            "text/html": [
              "<span style=\"color:#7E57C2\"><h2 style=\"font-size:16px\">learning_rate (Choice)</h2></span>"
            ],
            "text/plain": [
              "<IPython.core.display.HTML object>"
            ]
          },
          "metadata": {
            "tags": []
          }
        },
        {
          "output_type": "display_data",
          "data": {
            "text/html": [
              "<span style=\"color:cyan\"> |-default: 0.01</span>"
            ],
            "text/plain": [
              "<IPython.core.display.HTML object>"
            ]
          },
          "metadata": {
            "tags": []
          }
        },
        {
          "output_type": "display_data",
          "data": {
            "text/html": [
              "<span style=\"color:blue\"> |-ordered: True</span>"
            ],
            "text/plain": [
              "<IPython.core.display.HTML object>"
            ]
          },
          "metadata": {
            "tags": []
          }
        },
        {
          "output_type": "display_data",
          "data": {
            "text/html": [
              "<span style=\"color:cyan\"> |-values: [0.01, 0.001, 0.0001]</span>"
            ],
            "text/plain": [
              "<IPython.core.display.HTML object>"
            ]
          },
          "metadata": {
            "tags": []
          }
        },
        {
          "output_type": "stream",
          "text": [
            "WARNING:tensorflow:`period` argument is deprecated. Please use `save_freq` to specify the frequency in number of batches seen.\n",
            "WARNING:tensorflow:`period` argument is deprecated. Please use `save_freq` to specify the frequency in number of batches seen.\n",
            "WARNING:tensorflow:`period` argument is deprecated. Please use `save_freq` to specify the frequency in number of batches seen.\n"
          ],
          "name": "stdout"
        },
        {
          "output_type": "display_data",
          "data": {
            "text/html": [
              "<span style=\"color:#4527A0\"><h1 style=\"font-size:18px\">Trial complete</h1></span>"
            ],
            "text/plain": [
              "<IPython.core.display.HTML object>"
            ]
          },
          "metadata": {
            "tags": []
          }
        },
        {
          "output_type": "display_data",
          "data": {
            "text/html": [
              "<span style=\"color:#4527A0\"><h1 style=\"font-size:18px\">Trial summary</h1></span>"
            ],
            "text/plain": [
              "<IPython.core.display.HTML object>"
            ]
          },
          "metadata": {
            "tags": []
          }
        },
        {
          "output_type": "display_data",
          "data": {
            "text/html": [
              "<span style=\"color:cyan\"> |-Trial ID: 013da3e7c9370127e9b905ea730ee922</span>"
            ],
            "text/plain": [
              "<IPython.core.display.HTML object>"
            ]
          },
          "metadata": {
            "tags": []
          }
        },
        {
          "output_type": "display_data",
          "data": {
            "text/html": [
              "<span style=\"color:cyan\"> |-Score: 0.3698868602514267</span>"
            ],
            "text/plain": [
              "<IPython.core.display.HTML object>"
            ]
          },
          "metadata": {
            "tags": []
          }
        },
        {
          "output_type": "display_data",
          "data": {
            "text/html": [
              "<span style=\"color:cyan\"> |-Best step: 0</span>"
            ],
            "text/plain": [
              "<IPython.core.display.HTML object>"
            ]
          },
          "metadata": {
            "tags": []
          }
        },
        {
          "output_type": "display_data",
          "data": {
            "text/html": [
              "<span style=\"color:#7E57C2\"><h2 style=\"font-size:16px\">Hyperparameters:</h2></span>"
            ],
            "text/plain": [
              "<IPython.core.display.HTML object>"
            ]
          },
          "metadata": {
            "tags": []
          }
        },
        {
          "output_type": "display_data",
          "data": {
            "text/html": [
              "<span style=\"color:cyan\"> |-learning_rate: 0.001</span>"
            ],
            "text/plain": [
              "<IPython.core.display.HTML object>"
            ]
          },
          "metadata": {
            "tags": []
          }
        },
        {
          "output_type": "display_data",
          "data": {
            "text/html": [
              "<span style=\"color:blue\"> |-units: 32</span>"
            ],
            "text/plain": [
              "<IPython.core.display.HTML object>"
            ]
          },
          "metadata": {
            "tags": []
          }
        },
        {
          "output_type": "stream",
          "text": [
            "WARNING:tensorflow:`period` argument is deprecated. Please use `save_freq` to specify the frequency in number of batches seen.\n",
            "WARNING:tensorflow:`period` argument is deprecated. Please use `save_freq` to specify the frequency in number of batches seen.\n",
            "WARNING:tensorflow:`period` argument is deprecated. Please use `save_freq` to specify the frequency in number of batches seen.\n"
          ],
          "name": "stdout"
        },
        {
          "output_type": "display_data",
          "data": {
            "text/html": [
              "<span style=\"color:#4527A0\"><h1 style=\"font-size:18px\">Trial complete</h1></span>"
            ],
            "text/plain": [
              "<IPython.core.display.HTML object>"
            ]
          },
          "metadata": {
            "tags": []
          }
        },
        {
          "output_type": "display_data",
          "data": {
            "text/html": [
              "<span style=\"color:#4527A0\"><h1 style=\"font-size:18px\">Trial summary</h1></span>"
            ],
            "text/plain": [
              "<IPython.core.display.HTML object>"
            ]
          },
          "metadata": {
            "tags": []
          }
        },
        {
          "output_type": "display_data",
          "data": {
            "text/html": [
              "<span style=\"color:cyan\"> |-Trial ID: 31b7cb149d4382cdad67c8f3ae3835fb</span>"
            ],
            "text/plain": [
              "<IPython.core.display.HTML object>"
            ]
          },
          "metadata": {
            "tags": []
          }
        },
        {
          "output_type": "display_data",
          "data": {
            "text/html": [
              "<span style=\"color:cyan\"> |-Score: 0.4094865123430888</span>"
            ],
            "text/plain": [
              "<IPython.core.display.HTML object>"
            ]
          },
          "metadata": {
            "tags": []
          }
        },
        {
          "output_type": "display_data",
          "data": {
            "text/html": [
              "<span style=\"color:cyan\"> |-Best step: 0</span>"
            ],
            "text/plain": [
              "<IPython.core.display.HTML object>"
            ]
          },
          "metadata": {
            "tags": []
          }
        },
        {
          "output_type": "display_data",
          "data": {
            "text/html": [
              "<span style=\"color:#7E57C2\"><h2 style=\"font-size:16px\">Hyperparameters:</h2></span>"
            ],
            "text/plain": [
              "<IPython.core.display.HTML object>"
            ]
          },
          "metadata": {
            "tags": []
          }
        },
        {
          "output_type": "display_data",
          "data": {
            "text/html": [
              "<span style=\"color:cyan\"> |-learning_rate: 0.001</span>"
            ],
            "text/plain": [
              "<IPython.core.display.HTML object>"
            ]
          },
          "metadata": {
            "tags": []
          }
        },
        {
          "output_type": "display_data",
          "data": {
            "text/html": [
              "<span style=\"color:blue\"> |-units: 56</span>"
            ],
            "text/plain": [
              "<IPython.core.display.HTML object>"
            ]
          },
          "metadata": {
            "tags": []
          }
        },
        {
          "output_type": "stream",
          "text": [
            "WARNING:tensorflow:`period` argument is deprecated. Please use `save_freq` to specify the frequency in number of batches seen.\n",
            "WARNING:tensorflow:`period` argument is deprecated. Please use `save_freq` to specify the frequency in number of batches seen.\n",
            "WARNING:tensorflow:`period` argument is deprecated. Please use `save_freq` to specify the frequency in number of batches seen.\n"
          ],
          "name": "stdout"
        },
        {
          "output_type": "display_data",
          "data": {
            "text/html": [
              "<span style=\"color:#4527A0\"><h1 style=\"font-size:18px\">Trial complete</h1></span>"
            ],
            "text/plain": [
              "<IPython.core.display.HTML object>"
            ]
          },
          "metadata": {
            "tags": []
          }
        },
        {
          "output_type": "display_data",
          "data": {
            "text/html": [
              "<span style=\"color:#4527A0\"><h1 style=\"font-size:18px\">Trial summary</h1></span>"
            ],
            "text/plain": [
              "<IPython.core.display.HTML object>"
            ]
          },
          "metadata": {
            "tags": []
          }
        },
        {
          "output_type": "display_data",
          "data": {
            "text/html": [
              "<span style=\"color:cyan\"> |-Trial ID: 0f453a8f767efe3d6812f31f58fb1b1d</span>"
            ],
            "text/plain": [
              "<IPython.core.display.HTML object>"
            ]
          },
          "metadata": {
            "tags": []
          }
        },
        {
          "output_type": "display_data",
          "data": {
            "text/html": [
              "<span style=\"color:cyan\"> |-Score: 0.21148825188477835</span>"
            ],
            "text/plain": [
              "<IPython.core.display.HTML object>"
            ]
          },
          "metadata": {
            "tags": []
          }
        },
        {
          "output_type": "display_data",
          "data": {
            "text/html": [
              "<span style=\"color:cyan\"> |-Best step: 0</span>"
            ],
            "text/plain": [
              "<IPython.core.display.HTML object>"
            ]
          },
          "metadata": {
            "tags": []
          }
        },
        {
          "output_type": "display_data",
          "data": {
            "text/html": [
              "<span style=\"color:#7E57C2\"><h2 style=\"font-size:16px\">Hyperparameters:</h2></span>"
            ],
            "text/plain": [
              "<IPython.core.display.HTML object>"
            ]
          },
          "metadata": {
            "tags": []
          }
        },
        {
          "output_type": "display_data",
          "data": {
            "text/html": [
              "<span style=\"color:cyan\"> |-learning_rate: 0.01</span>"
            ],
            "text/plain": [
              "<IPython.core.display.HTML object>"
            ]
          },
          "metadata": {
            "tags": []
          }
        },
        {
          "output_type": "display_data",
          "data": {
            "text/html": [
              "<span style=\"color:blue\"> |-units: 16</span>"
            ],
            "text/plain": [
              "<IPython.core.display.HTML object>"
            ]
          },
          "metadata": {
            "tags": []
          }
        },
        {
          "output_type": "stream",
          "text": [
            "WARNING:tensorflow:`period` argument is deprecated. Please use `save_freq` to specify the frequency in number of batches seen.\n",
            "WARNING:tensorflow:`period` argument is deprecated. Please use `save_freq` to specify the frequency in number of batches seen.\n",
            "WARNING:tensorflow:`period` argument is deprecated. Please use `save_freq` to specify the frequency in number of batches seen.\n"
          ],
          "name": "stdout"
        },
        {
          "output_type": "display_data",
          "data": {
            "text/html": [
              "<span style=\"color:#4527A0\"><h1 style=\"font-size:18px\">Trial complete</h1></span>"
            ],
            "text/plain": [
              "<IPython.core.display.HTML object>"
            ]
          },
          "metadata": {
            "tags": []
          }
        },
        {
          "output_type": "display_data",
          "data": {
            "text/html": [
              "<span style=\"color:#4527A0\"><h1 style=\"font-size:18px\">Trial summary</h1></span>"
            ],
            "text/plain": [
              "<IPython.core.display.HTML object>"
            ]
          },
          "metadata": {
            "tags": []
          }
        },
        {
          "output_type": "display_data",
          "data": {
            "text/html": [
              "<span style=\"color:cyan\"> |-Trial ID: 69c97d56b257cd2109a0886840511e82</span>"
            ],
            "text/plain": [
              "<IPython.core.display.HTML object>"
            ]
          },
          "metadata": {
            "tags": []
          }
        },
        {
          "output_type": "display_data",
          "data": {
            "text/html": [
              "<span style=\"color:cyan\"> |-Score: 0.41035682956377667</span>"
            ],
            "text/plain": [
              "<IPython.core.display.HTML object>"
            ]
          },
          "metadata": {
            "tags": []
          }
        },
        {
          "output_type": "display_data",
          "data": {
            "text/html": [
              "<span style=\"color:cyan\"> |-Best step: 0</span>"
            ],
            "text/plain": [
              "<IPython.core.display.HTML object>"
            ]
          },
          "metadata": {
            "tags": []
          }
        },
        {
          "output_type": "display_data",
          "data": {
            "text/html": [
              "<span style=\"color:#7E57C2\"><h2 style=\"font-size:16px\">Hyperparameters:</h2></span>"
            ],
            "text/plain": [
              "<IPython.core.display.HTML object>"
            ]
          },
          "metadata": {
            "tags": []
          }
        },
        {
          "output_type": "display_data",
          "data": {
            "text/html": [
              "<span style=\"color:cyan\"> |-learning_rate: 0.001</span>"
            ],
            "text/plain": [
              "<IPython.core.display.HTML object>"
            ]
          },
          "metadata": {
            "tags": []
          }
        },
        {
          "output_type": "display_data",
          "data": {
            "text/html": [
              "<span style=\"color:blue\"> |-units: 120</span>"
            ],
            "text/plain": [
              "<IPython.core.display.HTML object>"
            ]
          },
          "metadata": {
            "tags": []
          }
        },
        {
          "output_type": "stream",
          "text": [
            "WARNING:tensorflow:`period` argument is deprecated. Please use `save_freq` to specify the frequency in number of batches seen.\n",
            "WARNING:tensorflow:`period` argument is deprecated. Please use `save_freq` to specify the frequency in number of batches seen.\n",
            "WARNING:tensorflow:`period` argument is deprecated. Please use `save_freq` to specify the frequency in number of batches seen.\n"
          ],
          "name": "stdout"
        },
        {
          "output_type": "display_data",
          "data": {
            "text/html": [
              "<span style=\"color:#4527A0\"><h1 style=\"font-size:18px\">Trial complete</h1></span>"
            ],
            "text/plain": [
              "<IPython.core.display.HTML object>"
            ]
          },
          "metadata": {
            "tags": []
          }
        },
        {
          "output_type": "display_data",
          "data": {
            "text/html": [
              "<span style=\"color:#4527A0\"><h1 style=\"font-size:18px\">Trial summary</h1></span>"
            ],
            "text/plain": [
              "<IPython.core.display.HTML object>"
            ]
          },
          "metadata": {
            "tags": []
          }
        },
        {
          "output_type": "display_data",
          "data": {
            "text/html": [
              "<span style=\"color:cyan\"> |-Trial ID: cc1e11bfa9566a91b33c9b63b4893cb9</span>"
            ],
            "text/plain": [
              "<IPython.core.display.HTML object>"
            ]
          },
          "metadata": {
            "tags": []
          }
        },
        {
          "output_type": "display_data",
          "data": {
            "text/html": [
              "<span style=\"color:cyan\"> |-Score: 0.36205396552880603</span>"
            ],
            "text/plain": [
              "<IPython.core.display.HTML object>"
            ]
          },
          "metadata": {
            "tags": []
          }
        },
        {
          "output_type": "display_data",
          "data": {
            "text/html": [
              "<span style=\"color:cyan\"> |-Best step: 0</span>"
            ],
            "text/plain": [
              "<IPython.core.display.HTML object>"
            ]
          },
          "metadata": {
            "tags": []
          }
        },
        {
          "output_type": "display_data",
          "data": {
            "text/html": [
              "<span style=\"color:#7E57C2\"><h2 style=\"font-size:16px\">Hyperparameters:</h2></span>"
            ],
            "text/plain": [
              "<IPython.core.display.HTML object>"
            ]
          },
          "metadata": {
            "tags": []
          }
        },
        {
          "output_type": "display_data",
          "data": {
            "text/html": [
              "<span style=\"color:cyan\"> |-learning_rate: 0.0001</span>"
            ],
            "text/plain": [
              "<IPython.core.display.HTML object>"
            ]
          },
          "metadata": {
            "tags": []
          }
        },
        {
          "output_type": "display_data",
          "data": {
            "text/html": [
              "<span style=\"color:blue\"> |-units: 112</span>"
            ],
            "text/plain": [
              "<IPython.core.display.HTML object>"
            ]
          },
          "metadata": {
            "tags": []
          }
        },
        {
          "output_type": "stream",
          "text": [
            "INFO:tensorflow:Oracle triggered exit\n"
          ],
          "name": "stdout"
        }
      ]
    },
    {
      "cell_type": "code",
      "metadata": {
        "id": "5MNEwtsQ_N88",
        "colab_type": "code",
        "colab": {
          "base_uri": "https://localhost:8080/",
          "height": 931
        },
        "outputId": "c9078493-6fe6-4cf5-8208-1fdb5183115f"
      },
      "source": [
        "print(tuner.results_summary())"
      ],
      "execution_count": 19,
      "outputs": [
        {
          "output_type": "display_data",
          "data": {
            "text/html": [
              "<span style=\"color:#4527A0\"><h1 style=\"font-size:18px\">Results summary</h1></span>"
            ],
            "text/plain": [
              "<IPython.core.display.HTML object>"
            ]
          },
          "metadata": {
            "tags": []
          }
        },
        {
          "output_type": "display_data",
          "data": {
            "text/html": [
              "<span style=\"color:cyan\"> |-Results in fc-prediction/fc-prediction</span>"
            ],
            "text/plain": [
              "<IPython.core.display.HTML object>"
            ]
          },
          "metadata": {
            "tags": []
          }
        },
        {
          "output_type": "display_data",
          "data": {
            "text/html": [
              "<span style=\"color:cyan\"> |-Showing 10 best trials</span>"
            ],
            "text/plain": [
              "<IPython.core.display.HTML object>"
            ]
          },
          "metadata": {
            "tags": []
          }
        },
        {
          "output_type": "display_data",
          "data": {
            "text/html": [
              "<span style=\"color:cyan\"> |-Objective(name='val_accuracy', direction='max')</span>"
            ],
            "text/plain": [
              "<IPython.core.display.HTML object>"
            ]
          },
          "metadata": {
            "tags": []
          }
        },
        {
          "output_type": "display_data",
          "data": {
            "text/html": [
              "<span style=\"color:#4527A0\"><h1 style=\"font-size:18px\">Trial summary</h1></span>"
            ],
            "text/plain": [
              "<IPython.core.display.HTML object>"
            ]
          },
          "metadata": {
            "tags": []
          }
        },
        {
          "output_type": "display_data",
          "data": {
            "text/html": [
              "<span style=\"color:cyan\"> |-Trial ID: 69c97d56b257cd2109a0886840511e82</span>"
            ],
            "text/plain": [
              "<IPython.core.display.HTML object>"
            ]
          },
          "metadata": {
            "tags": []
          }
        },
        {
          "output_type": "display_data",
          "data": {
            "text/html": [
              "<span style=\"color:cyan\"> |-Score: 0.41035682956377667</span>"
            ],
            "text/plain": [
              "<IPython.core.display.HTML object>"
            ]
          },
          "metadata": {
            "tags": []
          }
        },
        {
          "output_type": "display_data",
          "data": {
            "text/html": [
              "<span style=\"color:cyan\"> |-Best step: 0</span>"
            ],
            "text/plain": [
              "<IPython.core.display.HTML object>"
            ]
          },
          "metadata": {
            "tags": []
          }
        },
        {
          "output_type": "display_data",
          "data": {
            "text/html": [
              "<span style=\"color:#7E57C2\"><h2 style=\"font-size:16px\">Hyperparameters:</h2></span>"
            ],
            "text/plain": [
              "<IPython.core.display.HTML object>"
            ]
          },
          "metadata": {
            "tags": []
          }
        },
        {
          "output_type": "display_data",
          "data": {
            "text/html": [
              "<span style=\"color:cyan\"> |-learning_rate: 0.001</span>"
            ],
            "text/plain": [
              "<IPython.core.display.HTML object>"
            ]
          },
          "metadata": {
            "tags": []
          }
        },
        {
          "output_type": "display_data",
          "data": {
            "text/html": [
              "<span style=\"color:blue\"> |-units: 120</span>"
            ],
            "text/plain": [
              "<IPython.core.display.HTML object>"
            ]
          },
          "metadata": {
            "tags": []
          }
        },
        {
          "output_type": "display_data",
          "data": {
            "text/html": [
              "<span style=\"color:#4527A0\"><h1 style=\"font-size:18px\">Trial summary</h1></span>"
            ],
            "text/plain": [
              "<IPython.core.display.HTML object>"
            ]
          },
          "metadata": {
            "tags": []
          }
        },
        {
          "output_type": "display_data",
          "data": {
            "text/html": [
              "<span style=\"color:cyan\"> |-Trial ID: 31b7cb149d4382cdad67c8f3ae3835fb</span>"
            ],
            "text/plain": [
              "<IPython.core.display.HTML object>"
            ]
          },
          "metadata": {
            "tags": []
          }
        },
        {
          "output_type": "display_data",
          "data": {
            "text/html": [
              "<span style=\"color:cyan\"> |-Score: 0.4094865123430888</span>"
            ],
            "text/plain": [
              "<IPython.core.display.HTML object>"
            ]
          },
          "metadata": {
            "tags": []
          }
        },
        {
          "output_type": "display_data",
          "data": {
            "text/html": [
              "<span style=\"color:cyan\"> |-Best step: 0</span>"
            ],
            "text/plain": [
              "<IPython.core.display.HTML object>"
            ]
          },
          "metadata": {
            "tags": []
          }
        },
        {
          "output_type": "display_data",
          "data": {
            "text/html": [
              "<span style=\"color:#7E57C2\"><h2 style=\"font-size:16px\">Hyperparameters:</h2></span>"
            ],
            "text/plain": [
              "<IPython.core.display.HTML object>"
            ]
          },
          "metadata": {
            "tags": []
          }
        },
        {
          "output_type": "display_data",
          "data": {
            "text/html": [
              "<span style=\"color:cyan\"> |-learning_rate: 0.001</span>"
            ],
            "text/plain": [
              "<IPython.core.display.HTML object>"
            ]
          },
          "metadata": {
            "tags": []
          }
        },
        {
          "output_type": "display_data",
          "data": {
            "text/html": [
              "<span style=\"color:blue\"> |-units: 56</span>"
            ],
            "text/plain": [
              "<IPython.core.display.HTML object>"
            ]
          },
          "metadata": {
            "tags": []
          }
        },
        {
          "output_type": "display_data",
          "data": {
            "text/html": [
              "<span style=\"color:#4527A0\"><h1 style=\"font-size:18px\">Trial summary</h1></span>"
            ],
            "text/plain": [
              "<IPython.core.display.HTML object>"
            ]
          },
          "metadata": {
            "tags": []
          }
        },
        {
          "output_type": "display_data",
          "data": {
            "text/html": [
              "<span style=\"color:cyan\"> |-Trial ID: 013da3e7c9370127e9b905ea730ee922</span>"
            ],
            "text/plain": [
              "<IPython.core.display.HTML object>"
            ]
          },
          "metadata": {
            "tags": []
          }
        },
        {
          "output_type": "display_data",
          "data": {
            "text/html": [
              "<span style=\"color:cyan\"> |-Score: 0.3698868602514267</span>"
            ],
            "text/plain": [
              "<IPython.core.display.HTML object>"
            ]
          },
          "metadata": {
            "tags": []
          }
        },
        {
          "output_type": "display_data",
          "data": {
            "text/html": [
              "<span style=\"color:cyan\"> |-Best step: 0</span>"
            ],
            "text/plain": [
              "<IPython.core.display.HTML object>"
            ]
          },
          "metadata": {
            "tags": []
          }
        },
        {
          "output_type": "display_data",
          "data": {
            "text/html": [
              "<span style=\"color:#7E57C2\"><h2 style=\"font-size:16px\">Hyperparameters:</h2></span>"
            ],
            "text/plain": [
              "<IPython.core.display.HTML object>"
            ]
          },
          "metadata": {
            "tags": []
          }
        },
        {
          "output_type": "display_data",
          "data": {
            "text/html": [
              "<span style=\"color:cyan\"> |-learning_rate: 0.001</span>"
            ],
            "text/plain": [
              "<IPython.core.display.HTML object>"
            ]
          },
          "metadata": {
            "tags": []
          }
        },
        {
          "output_type": "display_data",
          "data": {
            "text/html": [
              "<span style=\"color:blue\"> |-units: 32</span>"
            ],
            "text/plain": [
              "<IPython.core.display.HTML object>"
            ]
          },
          "metadata": {
            "tags": []
          }
        },
        {
          "output_type": "display_data",
          "data": {
            "text/html": [
              "<span style=\"color:#4527A0\"><h1 style=\"font-size:18px\">Trial summary</h1></span>"
            ],
            "text/plain": [
              "<IPython.core.display.HTML object>"
            ]
          },
          "metadata": {
            "tags": []
          }
        },
        {
          "output_type": "display_data",
          "data": {
            "text/html": [
              "<span style=\"color:cyan\"> |-Trial ID: cc1e11bfa9566a91b33c9b63b4893cb9</span>"
            ],
            "text/plain": [
              "<IPython.core.display.HTML object>"
            ]
          },
          "metadata": {
            "tags": []
          }
        },
        {
          "output_type": "display_data",
          "data": {
            "text/html": [
              "<span style=\"color:cyan\"> |-Score: 0.36205396552880603</span>"
            ],
            "text/plain": [
              "<IPython.core.display.HTML object>"
            ]
          },
          "metadata": {
            "tags": []
          }
        },
        {
          "output_type": "display_data",
          "data": {
            "text/html": [
              "<span style=\"color:cyan\"> |-Best step: 0</span>"
            ],
            "text/plain": [
              "<IPython.core.display.HTML object>"
            ]
          },
          "metadata": {
            "tags": []
          }
        },
        {
          "output_type": "display_data",
          "data": {
            "text/html": [
              "<span style=\"color:#7E57C2\"><h2 style=\"font-size:16px\">Hyperparameters:</h2></span>"
            ],
            "text/plain": [
              "<IPython.core.display.HTML object>"
            ]
          },
          "metadata": {
            "tags": []
          }
        },
        {
          "output_type": "display_data",
          "data": {
            "text/html": [
              "<span style=\"color:cyan\"> |-learning_rate: 0.0001</span>"
            ],
            "text/plain": [
              "<IPython.core.display.HTML object>"
            ]
          },
          "metadata": {
            "tags": []
          }
        },
        {
          "output_type": "display_data",
          "data": {
            "text/html": [
              "<span style=\"color:blue\"> |-units: 112</span>"
            ],
            "text/plain": [
              "<IPython.core.display.HTML object>"
            ]
          },
          "metadata": {
            "tags": []
          }
        },
        {
          "output_type": "display_data",
          "data": {
            "text/html": [
              "<span style=\"color:#4527A0\"><h1 style=\"font-size:18px\">Trial summary</h1></span>"
            ],
            "text/plain": [
              "<IPython.core.display.HTML object>"
            ]
          },
          "metadata": {
            "tags": []
          }
        },
        {
          "output_type": "display_data",
          "data": {
            "text/html": [
              "<span style=\"color:cyan\"> |-Trial ID: 0f453a8f767efe3d6812f31f58fb1b1d</span>"
            ],
            "text/plain": [
              "<IPython.core.display.HTML object>"
            ]
          },
          "metadata": {
            "tags": []
          }
        },
        {
          "output_type": "display_data",
          "data": {
            "text/html": [
              "<span style=\"color:cyan\"> |-Score: 0.21148825188477835</span>"
            ],
            "text/plain": [
              "<IPython.core.display.HTML object>"
            ]
          },
          "metadata": {
            "tags": []
          }
        },
        {
          "output_type": "display_data",
          "data": {
            "text/html": [
              "<span style=\"color:cyan\"> |-Best step: 0</span>"
            ],
            "text/plain": [
              "<IPython.core.display.HTML object>"
            ]
          },
          "metadata": {
            "tags": []
          }
        },
        {
          "output_type": "display_data",
          "data": {
            "text/html": [
              "<span style=\"color:#7E57C2\"><h2 style=\"font-size:16px\">Hyperparameters:</h2></span>"
            ],
            "text/plain": [
              "<IPython.core.display.HTML object>"
            ]
          },
          "metadata": {
            "tags": []
          }
        },
        {
          "output_type": "display_data",
          "data": {
            "text/html": [
              "<span style=\"color:cyan\"> |-learning_rate: 0.01</span>"
            ],
            "text/plain": [
              "<IPython.core.display.HTML object>"
            ]
          },
          "metadata": {
            "tags": []
          }
        },
        {
          "output_type": "display_data",
          "data": {
            "text/html": [
              "<span style=\"color:blue\"> |-units: 16</span>"
            ],
            "text/plain": [
              "<IPython.core.display.HTML object>"
            ]
          },
          "metadata": {
            "tags": []
          }
        },
        {
          "output_type": "stream",
          "text": [
            "None\n"
          ],
          "name": "stdout"
        }
      ]
    },
    {
      "cell_type": "code",
      "metadata": {
        "id": "uxLxfBp90AHk",
        "colab_type": "code",
        "colab": {
          "base_uri": "https://localhost:8080/",
          "height": 1000
        },
        "outputId": "47278acf-7599-44ae-bcc0-1cb8d9d97575"
      },
      "source": [
        "from tensorflow.keras.callbacks import EarlyStopping\n",
        "from tensorflow.keras.callbacks import ModelCheckpoint\n",
        "initial_epochs = 200\n",
        "\n",
        "def create_final_model(inputs):\n",
        "        x = tf.keras.layers.Dense(104, activation='relu', kernel_regularizer=tf.keras.regularizers.l2())(inputs)\n",
        "        x = tf.keras.layers.Dense(3, activation='softmax', kernel_regularizer=tf.keras.regularizers.l2())(x)\n",
        "\n",
        "        model = tf.keras.Model(inputs=inputs, outputs=x)\n",
        "        model.compile(optimizer=tf.keras.optimizers.Adam(learning_rate=0.001)\n",
        "                      ,loss='sparse_categorical_crossentropy',\n",
        "                      metrics=['accuracy'])\n",
        "        return model\n",
        "\n",
        "inputs = tf.keras.Input(shape=(z_mean_train.shape[1]))\n",
        "\n",
        "#save_path = \"/content/drive/My Drive/Machine-Learning-Projects/cs231n-project/models/leila-all_samples_self_dense_vae_keras_classifier-v10-z-val-split-with-face.h5\"\n",
        "save_path = \"/content/drive/My Drive/Machine-Learning-Projects/cs231n-project/models/all_samples_dense_vae_classifier-caption-laugh-v4-la.h5\"\n",
        "es = EarlyStopping(monitor='val_loss', mode='min', verbose=1, patience=300)\n",
        "mc = ModelCheckpoint(save_path, monitor='val_accuracy', mode='max', verbose=1, save_best_only=True)\n",
        "\n",
        "model = create_final_model(inputs)\n",
        "history = model.fit(\n",
        "          x=z_mean_train, y=y_train_np,\n",
        "          epochs=initial_epochs, callbacks=[es, mc],\n",
        "          validation_data=(z_mean_val, y_valid_np), batch_size=32)"
      ],
      "execution_count": 20,
      "outputs": [
        {
          "output_type": "stream",
          "text": [
            "Epoch 1/200\n",
            "73/84 [=========================>....] - ETA: 0s - loss: 1.3856 - accuracy: 0.3472\n",
            "Epoch 00001: val_accuracy improved from -inf to 0.24021, saving model to /content/drive/My Drive/Machine-Learning-Projects/cs231n-project/models/all_samples_dense_vae_classifier-caption-laugh-v4-la.h5\n",
            "84/84 [==============================] - 0s 4ms/step - loss: 1.3749 - accuracy: 0.3450 - val_loss: 1.3065 - val_accuracy: 0.2402\n",
            "Epoch 2/200\n",
            "84/84 [==============================] - ETA: 0s - loss: 1.2392 - accuracy: 0.3769\n",
            "Epoch 00002: val_accuracy improved from 0.24021 to 0.26371, saving model to /content/drive/My Drive/Machine-Learning-Projects/cs231n-project/models/all_samples_dense_vae_classifier-caption-laugh-v4-la.h5\n",
            "84/84 [==============================] - 0s 4ms/step - loss: 1.2392 - accuracy: 0.3769 - val_loss: 1.2284 - val_accuracy: 0.2637\n",
            "Epoch 3/200\n",
            "71/84 [========================>.....] - ETA: 0s - loss: 1.1780 - accuracy: 0.3957\n",
            "Epoch 00003: val_accuracy did not improve from 0.26371\n",
            "84/84 [==============================] - 0s 3ms/step - loss: 1.1766 - accuracy: 0.3995 - val_loss: 1.1870 - val_accuracy: 0.2572\n",
            "Epoch 4/200\n",
            "69/84 [=======================>......] - ETA: 0s - loss: 1.1484 - accuracy: 0.3854\n",
            "Epoch 00004: val_accuracy improved from 0.26371 to 0.44256, saving model to /content/drive/My Drive/Machine-Learning-Projects/cs231n-project/models/all_samples_dense_vae_classifier-caption-laugh-v4-la.h5\n",
            "84/84 [==============================] - 0s 3ms/step - loss: 1.1463 - accuracy: 0.3980 - val_loss: 1.1578 - val_accuracy: 0.4426\n",
            "Epoch 5/200\n",
            "67/84 [======================>.......] - ETA: 0s - loss: 1.1283 - accuracy: 0.4193\n",
            "Epoch 00005: val_accuracy did not improve from 0.44256\n",
            "84/84 [==============================] - 0s 3ms/step - loss: 1.1265 - accuracy: 0.4156 - val_loss: 1.1523 - val_accuracy: 0.3747\n",
            "Epoch 6/200\n",
            "67/84 [======================>.......] - ETA: 0s - loss: 1.1146 - accuracy: 0.4188\n",
            "Epoch 00006: val_accuracy did not improve from 0.44256\n",
            "84/84 [==============================] - 0s 3ms/step - loss: 1.1132 - accuracy: 0.4310 - val_loss: 1.1442 - val_accuracy: 0.3916\n",
            "Epoch 7/200\n",
            "70/84 [========================>.....] - ETA: 0s - loss: 1.1047 - accuracy: 0.4330\n",
            "Epoch 00007: val_accuracy did not improve from 0.44256\n",
            "84/84 [==============================] - 0s 3ms/step - loss: 1.1028 - accuracy: 0.4389 - val_loss: 1.1427 - val_accuracy: 0.3916\n",
            "Epoch 8/200\n",
            "68/84 [=======================>......] - ETA: 0s - loss: 1.0914 - accuracy: 0.4545\n",
            "Epoch 00008: val_accuracy did not improve from 0.44256\n",
            "84/84 [==============================] - 0s 3ms/step - loss: 1.0939 - accuracy: 0.4408 - val_loss: 1.1005 - val_accuracy: 0.4047\n",
            "Epoch 9/200\n",
            "81/84 [===========================>..] - ETA: 0s - loss: 1.0882 - accuracy: 0.4495\n",
            "Epoch 00009: val_accuracy did not improve from 0.44256\n",
            "84/84 [==============================] - 0s 4ms/step - loss: 1.0882 - accuracy: 0.4483 - val_loss: 1.1466 - val_accuracy: 0.3655\n",
            "Epoch 10/200\n",
            "78/84 [==========================>...] - ETA: 0s - loss: 1.0813 - accuracy: 0.4696\n",
            "Epoch 00010: val_accuracy did not improve from 0.44256\n",
            "84/84 [==============================] - 0s 4ms/step - loss: 1.0811 - accuracy: 0.4686 - val_loss: 1.1114 - val_accuracy: 0.4399\n",
            "Epoch 11/200\n",
            "66/84 [======================>.......] - ETA: 0s - loss: 1.0779 - accuracy: 0.4631\n",
            "Epoch 00011: val_accuracy improved from 0.44256 to 0.44517, saving model to /content/drive/My Drive/Machine-Learning-Projects/cs231n-project/models/all_samples_dense_vae_classifier-caption-laugh-v4-la.h5\n",
            "84/84 [==============================] - 0s 3ms/step - loss: 1.0765 - accuracy: 0.4664 - val_loss: 1.1063 - val_accuracy: 0.4452\n",
            "Epoch 12/200\n",
            "83/84 [============================>.] - ETA: 0s - loss: 1.0705 - accuracy: 0.4736\n",
            "Epoch 00012: val_accuracy did not improve from 0.44517\n",
            "84/84 [==============================] - 0s 3ms/step - loss: 1.0705 - accuracy: 0.4735 - val_loss: 1.0972 - val_accuracy: 0.4399\n",
            "Epoch 13/200\n",
            "66/84 [======================>.......] - ETA: 0s - loss: 1.0702 - accuracy: 0.4721\n",
            "Epoch 00013: val_accuracy did not improve from 0.44517\n",
            "84/84 [==============================] - 0s 3ms/step - loss: 1.0689 - accuracy: 0.4720 - val_loss: 1.0949 - val_accuracy: 0.4399\n",
            "Epoch 14/200\n",
            "68/84 [=======================>......] - ETA: 0s - loss: 1.0672 - accuracy: 0.4701\n",
            "Epoch 00014: val_accuracy did not improve from 0.44517\n",
            "84/84 [==============================] - 0s 3ms/step - loss: 1.0653 - accuracy: 0.4731 - val_loss: 1.1504 - val_accuracy: 0.4073\n",
            "Epoch 15/200\n",
            "71/84 [========================>.....] - ETA: 0s - loss: 1.0657 - accuracy: 0.4688\n",
            "Epoch 00015: val_accuracy did not improve from 0.44517\n",
            "84/84 [==============================] - 0s 3ms/step - loss: 1.0641 - accuracy: 0.4728 - val_loss: 1.1054 - val_accuracy: 0.4399\n",
            "Epoch 16/200\n",
            "70/84 [========================>.....] - ETA: 0s - loss: 1.0610 - accuracy: 0.4679\n",
            "Epoch 00016: val_accuracy did not improve from 0.44517\n",
            "84/84 [==============================] - 0s 3ms/step - loss: 1.0624 - accuracy: 0.4652 - val_loss: 1.0897 - val_accuracy: 0.4308\n",
            "Epoch 17/200\n",
            "67/84 [======================>.......] - ETA: 0s - loss: 1.0616 - accuracy: 0.4627\n",
            "Epoch 00017: val_accuracy did not improve from 0.44517\n",
            "84/84 [==============================] - 0s 3ms/step - loss: 1.0627 - accuracy: 0.4637 - val_loss: 1.1008 - val_accuracy: 0.4426\n",
            "Epoch 18/200\n",
            "74/84 [=========================>....] - ETA: 0s - loss: 1.0619 - accuracy: 0.4620\n",
            "Epoch 00018: val_accuracy did not improve from 0.44517\n",
            "84/84 [==============================] - 0s 3ms/step - loss: 1.0616 - accuracy: 0.4660 - val_loss: 1.0744 - val_accuracy: 0.4217\n",
            "Epoch 19/200\n",
            "66/84 [======================>.......] - ETA: 0s - loss: 1.0602 - accuracy: 0.4683\n",
            "Epoch 00019: val_accuracy did not improve from 0.44517\n",
            "84/84 [==============================] - 0s 3ms/step - loss: 1.0595 - accuracy: 0.4686 - val_loss: 1.1161 - val_accuracy: 0.4426\n",
            "Epoch 20/200\n",
            "67/84 [======================>.......] - ETA: 0s - loss: 1.0568 - accuracy: 0.4636\n",
            "Epoch 00020: val_accuracy did not improve from 0.44517\n",
            "84/84 [==============================] - 0s 3ms/step - loss: 1.0575 - accuracy: 0.4671 - val_loss: 1.0895 - val_accuracy: 0.4413\n",
            "Epoch 21/200\n",
            "73/84 [=========================>....] - ETA: 0s - loss: 1.0570 - accuracy: 0.4696\n",
            "Epoch 00021: val_accuracy did not improve from 0.44517\n",
            "84/84 [==============================] - 0s 3ms/step - loss: 1.0579 - accuracy: 0.4671 - val_loss: 1.0991 - val_accuracy: 0.4413\n",
            "Epoch 22/200\n",
            "67/84 [======================>.......] - ETA: 0s - loss: 1.0529 - accuracy: 0.4739\n",
            "Epoch 00022: val_accuracy did not improve from 0.44517\n",
            "84/84 [==============================] - 0s 3ms/step - loss: 1.0554 - accuracy: 0.4728 - val_loss: 1.0885 - val_accuracy: 0.4373\n",
            "Epoch 23/200\n",
            "68/84 [=======================>......] - ETA: 0s - loss: 1.0575 - accuracy: 0.4609\n",
            "Epoch 00023: val_accuracy did not improve from 0.44517\n",
            "84/84 [==============================] - 0s 3ms/step - loss: 1.0561 - accuracy: 0.4641 - val_loss: 1.1240 - val_accuracy: 0.4399\n",
            "Epoch 24/200\n",
            "80/84 [===========================>..] - ETA: 0s - loss: 1.0579 - accuracy: 0.4668\n",
            "Epoch 00024: val_accuracy did not improve from 0.44517\n",
            "84/84 [==============================] - 0s 3ms/step - loss: 1.0567 - accuracy: 0.4705 - val_loss: 1.0980 - val_accuracy: 0.4452\n",
            "Epoch 25/200\n",
            "71/84 [========================>.....] - ETA: 0s - loss: 1.0534 - accuracy: 0.4696\n",
            "Epoch 00025: val_accuracy did not improve from 0.44517\n",
            "84/84 [==============================] - 0s 3ms/step - loss: 1.0526 - accuracy: 0.4739 - val_loss: 1.1286 - val_accuracy: 0.4426\n",
            "Epoch 26/200\n",
            "69/84 [=======================>......] - ETA: 0s - loss: 1.0528 - accuracy: 0.4737\n",
            "Epoch 00026: val_accuracy did not improve from 0.44517\n",
            "84/84 [==============================] - 0s 3ms/step - loss: 1.0535 - accuracy: 0.4720 - val_loss: 1.0949 - val_accuracy: 0.4413\n",
            "Epoch 27/200\n",
            "84/84 [==============================] - ETA: 0s - loss: 1.0516 - accuracy: 0.4697\n",
            "Epoch 00027: val_accuracy did not improve from 0.44517\n",
            "84/84 [==============================] - 0s 3ms/step - loss: 1.0516 - accuracy: 0.4697 - val_loss: 1.1214 - val_accuracy: 0.4452\n",
            "Epoch 28/200\n",
            "65/84 [======================>.......] - ETA: 0s - loss: 1.0514 - accuracy: 0.4784\n",
            "Epoch 00028: val_accuracy did not improve from 0.44517\n",
            "84/84 [==============================] - 0s 3ms/step - loss: 1.0534 - accuracy: 0.4739 - val_loss: 1.0850 - val_accuracy: 0.4269\n",
            "Epoch 29/200\n",
            "70/84 [========================>.....] - ETA: 0s - loss: 1.0527 - accuracy: 0.4679\n",
            "Epoch 00029: val_accuracy did not improve from 0.44517\n",
            "84/84 [==============================] - 0s 3ms/step - loss: 1.0522 - accuracy: 0.4690 - val_loss: 1.1054 - val_accuracy: 0.4426\n",
            "Epoch 30/200\n",
            "68/84 [=======================>......] - ETA: 0s - loss: 1.0489 - accuracy: 0.4720\n",
            "Epoch 00030: val_accuracy did not improve from 0.44517\n",
            "84/84 [==============================] - 0s 3ms/step - loss: 1.0525 - accuracy: 0.4634 - val_loss: 1.0822 - val_accuracy: 0.4295\n",
            "Epoch 31/200\n",
            "83/84 [============================>.] - ETA: 0s - loss: 1.0546 - accuracy: 0.4691\n",
            "Epoch 00031: val_accuracy did not improve from 0.44517\n",
            "84/84 [==============================] - 0s 3ms/step - loss: 1.0548 - accuracy: 0.4682 - val_loss: 1.0868 - val_accuracy: 0.4334\n",
            "Epoch 32/200\n",
            "71/84 [========================>.....] - ETA: 0s - loss: 1.0543 - accuracy: 0.4723\n",
            "Epoch 00032: val_accuracy did not improve from 0.44517\n",
            "84/84 [==============================] - 0s 3ms/step - loss: 1.0543 - accuracy: 0.4716 - val_loss: 1.0905 - val_accuracy: 0.4413\n",
            "Epoch 33/200\n",
            "66/84 [======================>.......] - ETA: 0s - loss: 1.0520 - accuracy: 0.4692\n",
            "Epoch 00033: val_accuracy did not improve from 0.44517\n",
            "84/84 [==============================] - 0s 3ms/step - loss: 1.0510 - accuracy: 0.4720 - val_loss: 1.1017 - val_accuracy: 0.4413\n",
            "Epoch 34/200\n",
            "69/84 [=======================>......] - ETA: 0s - loss: 1.0528 - accuracy: 0.4669\n",
            "Epoch 00034: val_accuracy did not improve from 0.44517\n",
            "84/84 [==============================] - 0s 3ms/step - loss: 1.0516 - accuracy: 0.4724 - val_loss: 1.0927 - val_accuracy: 0.4373\n",
            "Epoch 35/200\n",
            "69/84 [=======================>......] - ETA: 0s - loss: 1.0529 - accuracy: 0.4710\n",
            "Epoch 00035: val_accuracy did not improve from 0.44517\n",
            "84/84 [==============================] - 0s 3ms/step - loss: 1.0510 - accuracy: 0.4758 - val_loss: 1.1053 - val_accuracy: 0.4413\n",
            "Epoch 36/200\n",
            "69/84 [=======================>......] - ETA: 0s - loss: 1.0515 - accuracy: 0.4728\n",
            "Epoch 00036: val_accuracy did not improve from 0.44517\n",
            "84/84 [==============================] - 0s 3ms/step - loss: 1.0510 - accuracy: 0.4724 - val_loss: 1.0929 - val_accuracy: 0.4399\n",
            "Epoch 37/200\n",
            "66/84 [======================>.......] - ETA: 0s - loss: 1.0498 - accuracy: 0.4754\n",
            "Epoch 00037: val_accuracy did not improve from 0.44517\n",
            "84/84 [==============================] - 0s 3ms/step - loss: 1.0513 - accuracy: 0.4690 - val_loss: 1.0970 - val_accuracy: 0.4426\n",
            "Epoch 38/200\n",
            "68/84 [=======================>......] - ETA: 0s - loss: 1.0469 - accuracy: 0.4775\n",
            "Epoch 00038: val_accuracy did not improve from 0.44517\n",
            "84/84 [==============================] - 0s 3ms/step - loss: 1.0504 - accuracy: 0.4743 - val_loss: 1.0824 - val_accuracy: 0.4282\n",
            "Epoch 39/200\n",
            "64/84 [=====================>........] - ETA: 0s - loss: 1.0490 - accuracy: 0.4775\n",
            "Epoch 00039: val_accuracy did not improve from 0.44517\n",
            "84/84 [==============================] - 0s 3ms/step - loss: 1.0511 - accuracy: 0.4716 - val_loss: 1.0819 - val_accuracy: 0.4269\n",
            "Epoch 40/200\n",
            "71/84 [========================>.....] - ETA: 0s - loss: 1.0555 - accuracy: 0.4657\n",
            "Epoch 00040: val_accuracy did not improve from 0.44517\n",
            "84/84 [==============================] - 0s 3ms/step - loss: 1.0524 - accuracy: 0.4686 - val_loss: 1.0926 - val_accuracy: 0.4413\n",
            "Epoch 41/200\n",
            "73/84 [=========================>....] - ETA: 0s - loss: 1.0559 - accuracy: 0.4679\n",
            "Epoch 00041: val_accuracy did not improve from 0.44517\n",
            "84/84 [==============================] - 0s 4ms/step - loss: 1.0518 - accuracy: 0.4743 - val_loss: 1.1124 - val_accuracy: 0.4386\n",
            "Epoch 42/200\n",
            "67/84 [======================>.......] - ETA: 0s - loss: 1.0462 - accuracy: 0.4827\n",
            "Epoch 00042: val_accuracy did not improve from 0.44517\n",
            "84/84 [==============================] - 0s 3ms/step - loss: 1.0513 - accuracy: 0.4701 - val_loss: 1.0848 - val_accuracy: 0.4282\n",
            "Epoch 43/200\n",
            "68/84 [=======================>......] - ETA: 0s - loss: 1.0521 - accuracy: 0.4688\n",
            "Epoch 00043: val_accuracy did not improve from 0.44517\n",
            "84/84 [==============================] - 0s 3ms/step - loss: 1.0512 - accuracy: 0.4690 - val_loss: 1.0981 - val_accuracy: 0.4413\n",
            "Epoch 44/200\n",
            "71/84 [========================>.....] - ETA: 0s - loss: 1.0525 - accuracy: 0.4674\n",
            "Epoch 00044: val_accuracy did not improve from 0.44517\n",
            "84/84 [==============================] - 0s 3ms/step - loss: 1.0511 - accuracy: 0.4709 - val_loss: 1.0867 - val_accuracy: 0.4347\n",
            "Epoch 45/200\n",
            "70/84 [========================>.....] - ETA: 0s - loss: 1.0553 - accuracy: 0.4634\n",
            "Epoch 00045: val_accuracy did not improve from 0.44517\n",
            "84/84 [==============================] - 0s 3ms/step - loss: 1.0545 - accuracy: 0.4690 - val_loss: 1.0954 - val_accuracy: 0.4413\n",
            "Epoch 46/200\n",
            "67/84 [======================>.......] - ETA: 0s - loss: 1.0488 - accuracy: 0.4743\n",
            "Epoch 00046: val_accuracy did not improve from 0.44517\n",
            "84/84 [==============================] - 0s 3ms/step - loss: 1.0509 - accuracy: 0.4686 - val_loss: 1.0894 - val_accuracy: 0.4399\n",
            "Epoch 47/200\n",
            "69/84 [=======================>......] - ETA: 0s - loss: 1.0446 - accuracy: 0.4832\n",
            "Epoch 00047: val_accuracy did not improve from 0.44517\n",
            "84/84 [==============================] - 0s 3ms/step - loss: 1.0522 - accuracy: 0.4754 - val_loss: 1.0812 - val_accuracy: 0.4243\n",
            "Epoch 48/200\n",
            "72/84 [========================>.....] - ETA: 0s - loss: 1.0487 - accuracy: 0.4792\n",
            "Epoch 00048: val_accuracy did not improve from 0.44517\n",
            "84/84 [==============================] - 0s 3ms/step - loss: 1.0507 - accuracy: 0.4731 - val_loss: 1.0610 - val_accuracy: 0.4191\n",
            "Epoch 49/200\n",
            "70/84 [========================>.....] - ETA: 0s - loss: 1.0509 - accuracy: 0.4746\n",
            "Epoch 00049: val_accuracy did not improve from 0.44517\n",
            "84/84 [==============================] - 0s 3ms/step - loss: 1.0514 - accuracy: 0.4750 - val_loss: 1.0971 - val_accuracy: 0.4399\n",
            "Epoch 50/200\n",
            "66/84 [======================>.......] - ETA: 0s - loss: 1.0489 - accuracy: 0.4725\n",
            "Epoch 00050: val_accuracy did not improve from 0.44517\n",
            "84/84 [==============================] - 0s 3ms/step - loss: 1.0498 - accuracy: 0.4716 - val_loss: 1.0732 - val_accuracy: 0.4204\n",
            "Epoch 51/200\n",
            "68/84 [=======================>......] - ETA: 0s - loss: 1.0509 - accuracy: 0.4715\n",
            "Epoch 00051: val_accuracy did not improve from 0.44517\n",
            "84/84 [==============================] - 0s 3ms/step - loss: 1.0508 - accuracy: 0.4746 - val_loss: 1.0916 - val_accuracy: 0.4399\n",
            "Epoch 52/200\n",
            "68/84 [=======================>......] - ETA: 0s - loss: 1.0463 - accuracy: 0.4724\n",
            "Epoch 00052: val_accuracy did not improve from 0.44517\n",
            "84/84 [==============================] - 0s 3ms/step - loss: 1.0493 - accuracy: 0.4671 - val_loss: 1.1226 - val_accuracy: 0.4413\n",
            "Epoch 53/200\n",
            "69/84 [=======================>......] - ETA: 0s - loss: 1.0472 - accuracy: 0.4697\n",
            "Epoch 00053: val_accuracy did not improve from 0.44517\n",
            "84/84 [==============================] - 0s 3ms/step - loss: 1.0508 - accuracy: 0.4679 - val_loss: 1.0947 - val_accuracy: 0.4439\n",
            "Epoch 54/200\n",
            "71/84 [========================>.....] - ETA: 0s - loss: 1.0496 - accuracy: 0.4723\n",
            "Epoch 00054: val_accuracy did not improve from 0.44517\n",
            "84/84 [==============================] - 0s 3ms/step - loss: 1.0499 - accuracy: 0.4656 - val_loss: 1.0841 - val_accuracy: 0.4269\n",
            "Epoch 55/200\n",
            "68/84 [=======================>......] - ETA: 0s - loss: 1.0521 - accuracy: 0.4600\n",
            "Epoch 00055: val_accuracy did not improve from 0.44517\n",
            "84/84 [==============================] - 0s 3ms/step - loss: 1.0514 - accuracy: 0.4664 - val_loss: 1.0938 - val_accuracy: 0.4399\n",
            "Epoch 56/200\n",
            "65/84 [======================>.......] - ETA: 0s - loss: 1.0557 - accuracy: 0.4668\n",
            "Epoch 00056: val_accuracy did not improve from 0.44517\n",
            "84/84 [==============================] - 0s 3ms/step - loss: 1.0512 - accuracy: 0.4701 - val_loss: 1.0946 - val_accuracy: 0.4413\n",
            "Epoch 57/200\n",
            "84/84 [==============================] - ETA: 0s - loss: 1.0504 - accuracy: 0.4686\n",
            "Epoch 00057: val_accuracy did not improve from 0.44517\n",
            "84/84 [==============================] - 0s 3ms/step - loss: 1.0504 - accuracy: 0.4686 - val_loss: 1.1204 - val_accuracy: 0.4439\n",
            "Epoch 58/200\n",
            "72/84 [========================>.....] - ETA: 0s - loss: 1.0519 - accuracy: 0.4657\n",
            "Epoch 00058: val_accuracy did not improve from 0.44517\n",
            "84/84 [==============================] - 0s 3ms/step - loss: 1.0499 - accuracy: 0.4709 - val_loss: 1.0695 - val_accuracy: 0.4243\n",
            "Epoch 59/200\n",
            "82/84 [============================>.] - ETA: 0s - loss: 1.0509 - accuracy: 0.4676\n",
            "Epoch 00059: val_accuracy did not improve from 0.44517\n",
            "84/84 [==============================] - 0s 4ms/step - loss: 1.0507 - accuracy: 0.4679 - val_loss: 1.0889 - val_accuracy: 0.4295\n",
            "Epoch 60/200\n",
            "68/84 [=======================>......] - ETA: 0s - loss: 1.0467 - accuracy: 0.4715\n",
            "Epoch 00060: val_accuracy did not improve from 0.44517\n",
            "84/84 [==============================] - 0s 3ms/step - loss: 1.0491 - accuracy: 0.4731 - val_loss: 1.0843 - val_accuracy: 0.4269\n",
            "Epoch 61/200\n",
            "66/84 [======================>.......] - ETA: 0s - loss: 1.0552 - accuracy: 0.4626\n",
            "Epoch 00061: val_accuracy did not improve from 0.44517\n",
            "84/84 [==============================] - 0s 3ms/step - loss: 1.0511 - accuracy: 0.4720 - val_loss: 1.0880 - val_accuracy: 0.4295\n",
            "Epoch 62/200\n",
            "70/84 [========================>.....] - ETA: 0s - loss: 1.0468 - accuracy: 0.4772\n",
            "Epoch 00062: val_accuracy did not improve from 0.44517\n",
            "84/84 [==============================] - 0s 3ms/step - loss: 1.0498 - accuracy: 0.4690 - val_loss: 1.0823 - val_accuracy: 0.4217\n",
            "Epoch 63/200\n",
            "63/84 [=====================>........] - ETA: 0s - loss: 1.0515 - accuracy: 0.4717\n",
            "Epoch 00063: val_accuracy did not improve from 0.44517\n",
            "84/84 [==============================] - 0s 3ms/step - loss: 1.0517 - accuracy: 0.4675 - val_loss: 1.0881 - val_accuracy: 0.4321\n",
            "Epoch 64/200\n",
            "70/84 [========================>.....] - ETA: 0s - loss: 1.0509 - accuracy: 0.4679\n",
            "Epoch 00064: val_accuracy did not improve from 0.44517\n",
            "84/84 [==============================] - 0s 3ms/step - loss: 1.0512 - accuracy: 0.4697 - val_loss: 1.1093 - val_accuracy: 0.4426\n",
            "Epoch 65/200\n",
            "66/84 [======================>.......] - ETA: 0s - loss: 1.0506 - accuracy: 0.4830\n",
            "Epoch 00065: val_accuracy did not improve from 0.44517\n",
            "84/84 [==============================] - 0s 3ms/step - loss: 1.0519 - accuracy: 0.4728 - val_loss: 1.0821 - val_accuracy: 0.4282\n",
            "Epoch 66/200\n",
            "69/84 [=======================>......] - ETA: 0s - loss: 1.0519 - accuracy: 0.4629\n",
            "Epoch 00066: val_accuracy did not improve from 0.44517\n",
            "84/84 [==============================] - 0s 3ms/step - loss: 1.0514 - accuracy: 0.4660 - val_loss: 1.1019 - val_accuracy: 0.4439\n",
            "Epoch 67/200\n",
            "64/84 [=====================>........] - ETA: 0s - loss: 1.0526 - accuracy: 0.4731\n",
            "Epoch 00067: val_accuracy did not improve from 0.44517\n",
            "84/84 [==============================] - 0s 3ms/step - loss: 1.0509 - accuracy: 0.4743 - val_loss: 1.0794 - val_accuracy: 0.4243\n",
            "Epoch 68/200\n",
            "62/84 [=====================>........] - ETA: 0s - loss: 1.0511 - accuracy: 0.4738\n",
            "Epoch 00068: val_accuracy did not improve from 0.44517\n",
            "84/84 [==============================] - 0s 3ms/step - loss: 1.0500 - accuracy: 0.4701 - val_loss: 1.1108 - val_accuracy: 0.4426\n",
            "Epoch 69/200\n",
            "70/84 [========================>.....] - ETA: 0s - loss: 1.0475 - accuracy: 0.4790\n",
            "Epoch 00069: val_accuracy did not improve from 0.44517\n",
            "84/84 [==============================] - 0s 3ms/step - loss: 1.0508 - accuracy: 0.4728 - val_loss: 1.1240 - val_accuracy: 0.4426\n",
            "Epoch 70/200\n",
            "65/84 [======================>.......] - ETA: 0s - loss: 1.0581 - accuracy: 0.4630\n",
            "Epoch 00070: val_accuracy did not improve from 0.44517\n",
            "84/84 [==============================] - 0s 3ms/step - loss: 1.0525 - accuracy: 0.4705 - val_loss: 1.1082 - val_accuracy: 0.4426\n",
            "Epoch 71/200\n",
            "68/84 [=======================>......] - ETA: 0s - loss: 1.0499 - accuracy: 0.4678\n",
            "Epoch 00071: val_accuracy did not improve from 0.44517\n",
            "84/84 [==============================] - 0s 3ms/step - loss: 1.0494 - accuracy: 0.4705 - val_loss: 1.0951 - val_accuracy: 0.4426\n",
            "Epoch 72/200\n",
            "66/84 [======================>.......] - ETA: 0s - loss: 1.0496 - accuracy: 0.4673\n",
            "Epoch 00072: val_accuracy did not improve from 0.44517\n",
            "84/84 [==============================] - 0s 3ms/step - loss: 1.0498 - accuracy: 0.4709 - val_loss: 1.1059 - val_accuracy: 0.4439\n",
            "Epoch 73/200\n",
            "70/84 [========================>.....] - ETA: 0s - loss: 1.0492 - accuracy: 0.4710\n",
            "Epoch 00073: val_accuracy did not improve from 0.44517\n",
            "84/84 [==============================] - 0s 3ms/step - loss: 1.0496 - accuracy: 0.4716 - val_loss: 1.0814 - val_accuracy: 0.4256\n",
            "Epoch 74/200\n",
            "64/84 [=====================>........] - ETA: 0s - loss: 1.0494 - accuracy: 0.4717\n",
            "Epoch 00074: val_accuracy did not improve from 0.44517\n",
            "84/84 [==============================] - 0s 3ms/step - loss: 1.0507 - accuracy: 0.4724 - val_loss: 1.0904 - val_accuracy: 0.4321\n",
            "Epoch 75/200\n",
            "71/84 [========================>.....] - ETA: 0s - loss: 1.0522 - accuracy: 0.4745\n",
            "Epoch 00075: val_accuracy did not improve from 0.44517\n",
            "84/84 [==============================] - 0s 3ms/step - loss: 1.0528 - accuracy: 0.4686 - val_loss: 1.0800 - val_accuracy: 0.4269\n",
            "Epoch 76/200\n",
            "70/84 [========================>.....] - ETA: 0s - loss: 1.0513 - accuracy: 0.4683\n",
            "Epoch 00076: val_accuracy did not improve from 0.44517\n",
            "84/84 [==============================] - 0s 3ms/step - loss: 1.0499 - accuracy: 0.4671 - val_loss: 1.1042 - val_accuracy: 0.4452\n",
            "Epoch 77/200\n",
            "69/84 [=======================>......] - ETA: 0s - loss: 1.0502 - accuracy: 0.4706\n",
            "Epoch 00077: val_accuracy did not improve from 0.44517\n",
            "84/84 [==============================] - 0s 3ms/step - loss: 1.0513 - accuracy: 0.4679 - val_loss: 1.0804 - val_accuracy: 0.4243\n",
            "Epoch 78/200\n",
            "71/84 [========================>.....] - ETA: 0s - loss: 1.0451 - accuracy: 0.4749\n",
            "Epoch 00078: val_accuracy did not improve from 0.44517\n",
            "84/84 [==============================] - 0s 3ms/step - loss: 1.0500 - accuracy: 0.4690 - val_loss: 1.0898 - val_accuracy: 0.4321\n",
            "Epoch 79/200\n",
            "68/84 [=======================>......] - ETA: 0s - loss: 1.0497 - accuracy: 0.4724\n",
            "Epoch 00079: val_accuracy did not improve from 0.44517\n",
            "84/84 [==============================] - 0s 3ms/step - loss: 1.0501 - accuracy: 0.4743 - val_loss: 1.1038 - val_accuracy: 0.4413\n",
            "Epoch 80/200\n",
            "70/84 [========================>.....] - ETA: 0s - loss: 1.0462 - accuracy: 0.4817\n",
            "Epoch 00080: val_accuracy did not improve from 0.44517\n",
            "84/84 [==============================] - 0s 3ms/step - loss: 1.0522 - accuracy: 0.4743 - val_loss: 1.0863 - val_accuracy: 0.4282\n",
            "Epoch 81/200\n",
            "66/84 [======================>.......] - ETA: 0s - loss: 1.0536 - accuracy: 0.4659\n",
            "Epoch 00081: val_accuracy did not improve from 0.44517\n",
            "84/84 [==============================] - 0s 3ms/step - loss: 1.0533 - accuracy: 0.4686 - val_loss: 1.1114 - val_accuracy: 0.4426\n",
            "Epoch 82/200\n",
            "74/84 [=========================>....] - ETA: 0s - loss: 1.0525 - accuracy: 0.4700\n",
            "Epoch 00082: val_accuracy did not improve from 0.44517\n",
            "84/84 [==============================] - 0s 3ms/step - loss: 1.0535 - accuracy: 0.4656 - val_loss: 1.1041 - val_accuracy: 0.4426\n",
            "Epoch 83/200\n",
            "64/84 [=====================>........] - ETA: 0s - loss: 1.0509 - accuracy: 0.4683\n",
            "Epoch 00083: val_accuracy did not improve from 0.44517\n",
            "84/84 [==============================] - 0s 3ms/step - loss: 1.0507 - accuracy: 0.4697 - val_loss: 1.0740 - val_accuracy: 0.4230\n",
            "Epoch 84/200\n",
            "65/84 [======================>.......] - ETA: 0s - loss: 1.0471 - accuracy: 0.4750\n",
            "Epoch 00084: val_accuracy did not improve from 0.44517\n",
            "84/84 [==============================] - 0s 3ms/step - loss: 1.0503 - accuracy: 0.4694 - val_loss: 1.1197 - val_accuracy: 0.4452\n",
            "Epoch 85/200\n",
            "69/84 [=======================>......] - ETA: 0s - loss: 1.0523 - accuracy: 0.4755\n",
            "Epoch 00085: val_accuracy did not improve from 0.44517\n",
            "84/84 [==============================] - 0s 3ms/step - loss: 1.0529 - accuracy: 0.4720 - val_loss: 1.0869 - val_accuracy: 0.4269\n",
            "Epoch 86/200\n",
            "70/84 [========================>.....] - ETA: 0s - loss: 1.0526 - accuracy: 0.4714\n",
            "Epoch 00086: val_accuracy did not improve from 0.44517\n",
            "84/84 [==============================] - 0s 3ms/step - loss: 1.0494 - accuracy: 0.4739 - val_loss: 1.0752 - val_accuracy: 0.4217\n",
            "Epoch 87/200\n",
            "66/84 [======================>.......] - ETA: 0s - loss: 1.0507 - accuracy: 0.4702\n",
            "Epoch 00087: val_accuracy did not improve from 0.44517\n",
            "84/84 [==============================] - 0s 3ms/step - loss: 1.0502 - accuracy: 0.4731 - val_loss: 1.0883 - val_accuracy: 0.4334\n",
            "Epoch 88/200\n",
            "71/84 [========================>.....] - ETA: 0s - loss: 1.0495 - accuracy: 0.4701\n",
            "Epoch 00088: val_accuracy did not improve from 0.44517\n",
            "84/84 [==============================] - 0s 3ms/step - loss: 1.0502 - accuracy: 0.4682 - val_loss: 1.1344 - val_accuracy: 0.4452\n",
            "Epoch 89/200\n",
            "67/84 [======================>.......] - ETA: 0s - loss: 1.0433 - accuracy: 0.4729\n",
            "Epoch 00089: val_accuracy did not improve from 0.44517\n",
            "84/84 [==============================] - 0s 3ms/step - loss: 1.0500 - accuracy: 0.4724 - val_loss: 1.1080 - val_accuracy: 0.4452\n",
            "Epoch 90/200\n",
            "69/84 [=======================>......] - ETA: 0s - loss: 1.0523 - accuracy: 0.4724\n",
            "Epoch 00090: val_accuracy did not improve from 0.44517\n",
            "84/84 [==============================] - 0s 3ms/step - loss: 1.0511 - accuracy: 0.4705 - val_loss: 1.0899 - val_accuracy: 0.4321\n",
            "Epoch 91/200\n",
            "68/84 [=======================>......] - ETA: 0s - loss: 1.0524 - accuracy: 0.4743\n",
            "Epoch 00091: val_accuracy did not improve from 0.44517\n",
            "84/84 [==============================] - 0s 3ms/step - loss: 1.0516 - accuracy: 0.4720 - val_loss: 1.0968 - val_accuracy: 0.4413\n",
            "Epoch 92/200\n",
            "69/84 [=======================>......] - ETA: 0s - loss: 1.0535 - accuracy: 0.4706\n",
            "Epoch 00092: val_accuracy did not improve from 0.44517\n",
            "84/84 [==============================] - 0s 3ms/step - loss: 1.0501 - accuracy: 0.4739 - val_loss: 1.1316 - val_accuracy: 0.4426\n",
            "Epoch 93/200\n",
            "66/84 [======================>.......] - ETA: 0s - loss: 1.0504 - accuracy: 0.4706\n",
            "Epoch 00093: val_accuracy did not improve from 0.44517\n",
            "84/84 [==============================] - 0s 3ms/step - loss: 1.0503 - accuracy: 0.4750 - val_loss: 1.0891 - val_accuracy: 0.4321\n",
            "Epoch 94/200\n",
            "67/84 [======================>.......] - ETA: 0s - loss: 1.0494 - accuracy: 0.4720\n",
            "Epoch 00094: val_accuracy did not improve from 0.44517\n",
            "84/84 [==============================] - 0s 3ms/step - loss: 1.0496 - accuracy: 0.4716 - val_loss: 1.0832 - val_accuracy: 0.4269\n",
            "Epoch 95/200\n",
            "68/84 [=======================>......] - ETA: 0s - loss: 1.0481 - accuracy: 0.4779\n",
            "Epoch 00095: val_accuracy did not improve from 0.44517\n",
            "84/84 [==============================] - 0s 3ms/step - loss: 1.0501 - accuracy: 0.4728 - val_loss: 1.0899 - val_accuracy: 0.4399\n",
            "Epoch 96/200\n",
            "83/84 [============================>.] - ETA: 0s - loss: 1.0501 - accuracy: 0.4680\n",
            "Epoch 00096: val_accuracy did not improve from 0.44517\n",
            "84/84 [==============================] - 0s 3ms/step - loss: 1.0499 - accuracy: 0.4686 - val_loss: 1.0963 - val_accuracy: 0.4413\n",
            "Epoch 97/200\n",
            "66/84 [======================>.......] - ETA: 0s - loss: 1.0509 - accuracy: 0.4683\n",
            "Epoch 00097: val_accuracy did not improve from 0.44517\n",
            "84/84 [==============================] - 0s 3ms/step - loss: 1.0511 - accuracy: 0.4716 - val_loss: 1.0850 - val_accuracy: 0.4269\n",
            "Epoch 98/200\n",
            "83/84 [============================>.] - ETA: 0s - loss: 1.0528 - accuracy: 0.4661\n",
            "Epoch 00098: val_accuracy did not improve from 0.44517\n",
            "84/84 [==============================] - 0s 3ms/step - loss: 1.0523 - accuracy: 0.4664 - val_loss: 1.0809 - val_accuracy: 0.4256\n",
            "Epoch 99/200\n",
            "66/84 [======================>.......] - ETA: 0s - loss: 1.0534 - accuracy: 0.4612\n",
            "Epoch 00099: val_accuracy did not improve from 0.44517\n",
            "84/84 [==============================] - 0s 3ms/step - loss: 1.0487 - accuracy: 0.4716 - val_loss: 1.1233 - val_accuracy: 0.4386\n",
            "Epoch 100/200\n",
            "69/84 [=======================>......] - ETA: 0s - loss: 1.0492 - accuracy: 0.4728\n",
            "Epoch 00100: val_accuracy did not improve from 0.44517\n",
            "84/84 [==============================] - 0s 3ms/step - loss: 1.0529 - accuracy: 0.4720 - val_loss: 1.1082 - val_accuracy: 0.4452\n",
            "Epoch 101/200\n",
            "69/84 [=======================>......] - ETA: 0s - loss: 1.0470 - accuracy: 0.4778\n",
            "Epoch 00101: val_accuracy did not improve from 0.44517\n",
            "84/84 [==============================] - 0s 3ms/step - loss: 1.0496 - accuracy: 0.4754 - val_loss: 1.0902 - val_accuracy: 0.4347\n",
            "Epoch 102/200\n",
            "71/84 [========================>.....] - ETA: 0s - loss: 1.0510 - accuracy: 0.4661\n",
            "Epoch 00102: val_accuracy did not improve from 0.44517\n",
            "84/84 [==============================] - 0s 3ms/step - loss: 1.0491 - accuracy: 0.4697 - val_loss: 1.1078 - val_accuracy: 0.4426\n",
            "Epoch 103/200\n",
            "82/84 [============================>.] - ETA: 0s - loss: 1.0507 - accuracy: 0.4634\n",
            "Epoch 00103: val_accuracy did not improve from 0.44517\n",
            "84/84 [==============================] - 0s 4ms/step - loss: 1.0524 - accuracy: 0.4641 - val_loss: 1.1265 - val_accuracy: 0.4426\n",
            "Epoch 104/200\n",
            "68/84 [=======================>......] - ETA: 0s - loss: 1.0521 - accuracy: 0.4688\n",
            "Epoch 00104: val_accuracy did not improve from 0.44517\n",
            "84/84 [==============================] - 0s 3ms/step - loss: 1.0508 - accuracy: 0.4690 - val_loss: 1.0961 - val_accuracy: 0.4399\n",
            "Epoch 105/200\n",
            "65/84 [======================>.......] - ETA: 0s - loss: 1.0461 - accuracy: 0.4731\n",
            "Epoch 00105: val_accuracy did not improve from 0.44517\n",
            "84/84 [==============================] - 0s 3ms/step - loss: 1.0499 - accuracy: 0.4694 - val_loss: 1.1065 - val_accuracy: 0.4452\n",
            "Epoch 106/200\n",
            "71/84 [========================>.....] - ETA: 0s - loss: 1.0470 - accuracy: 0.4705\n",
            "Epoch 00106: val_accuracy did not improve from 0.44517\n",
            "84/84 [==============================] - 0s 3ms/step - loss: 1.0495 - accuracy: 0.4652 - val_loss: 1.0725 - val_accuracy: 0.4230\n",
            "Epoch 107/200\n",
            "66/84 [======================>.......] - ETA: 0s - loss: 1.0572 - accuracy: 0.4616\n",
            "Epoch 00107: val_accuracy did not improve from 0.44517\n",
            "84/84 [==============================] - 0s 3ms/step - loss: 1.0532 - accuracy: 0.4671 - val_loss: 1.0854 - val_accuracy: 0.4321\n",
            "Epoch 108/200\n",
            "69/84 [=======================>......] - ETA: 0s - loss: 1.0505 - accuracy: 0.4742\n",
            "Epoch 00108: val_accuracy did not improve from 0.44517\n",
            "84/84 [==============================] - 0s 3ms/step - loss: 1.0504 - accuracy: 0.4709 - val_loss: 1.0912 - val_accuracy: 0.4386\n",
            "Epoch 109/200\n",
            "67/84 [======================>.......] - ETA: 0s - loss: 1.0526 - accuracy: 0.4664\n",
            "Epoch 00109: val_accuracy did not improve from 0.44517\n",
            "84/84 [==============================] - 0s 3ms/step - loss: 1.0515 - accuracy: 0.4675 - val_loss: 1.0742 - val_accuracy: 0.4256\n",
            "Epoch 110/200\n",
            "64/84 [=====================>........] - ETA: 0s - loss: 1.0535 - accuracy: 0.4673\n",
            "Epoch 00110: val_accuracy did not improve from 0.44517\n",
            "84/84 [==============================] - 0s 3ms/step - loss: 1.0496 - accuracy: 0.4739 - val_loss: 1.0716 - val_accuracy: 0.4217\n",
            "Epoch 111/200\n",
            "67/84 [======================>.......] - ETA: 0s - loss: 1.0594 - accuracy: 0.4604\n",
            "Epoch 00111: val_accuracy did not improve from 0.44517\n",
            "84/84 [==============================] - 0s 3ms/step - loss: 1.0506 - accuracy: 0.4667 - val_loss: 1.1263 - val_accuracy: 0.4452\n",
            "Epoch 112/200\n",
            "75/84 [=========================>....] - ETA: 0s - loss: 1.0498 - accuracy: 0.4704\n",
            "Epoch 00112: val_accuracy did not improve from 0.44517\n",
            "84/84 [==============================] - 0s 3ms/step - loss: 1.0506 - accuracy: 0.4690 - val_loss: 1.0862 - val_accuracy: 0.4269\n",
            "Epoch 113/200\n",
            "70/84 [========================>.....] - ETA: 0s - loss: 1.0539 - accuracy: 0.4683\n",
            "Epoch 00113: val_accuracy did not improve from 0.44517\n",
            "84/84 [==============================] - 0s 3ms/step - loss: 1.0503 - accuracy: 0.4731 - val_loss: 1.0920 - val_accuracy: 0.4399\n",
            "Epoch 114/200\n",
            "62/84 [=====================>........] - ETA: 0s - loss: 1.0519 - accuracy: 0.4617\n",
            "Epoch 00114: val_accuracy did not improve from 0.44517\n",
            "84/84 [==============================] - 0s 3ms/step - loss: 1.0506 - accuracy: 0.4713 - val_loss: 1.0768 - val_accuracy: 0.4204\n",
            "Epoch 115/200\n",
            "67/84 [======================>.......] - ETA: 0s - loss: 1.0502 - accuracy: 0.4701\n",
            "Epoch 00115: val_accuracy did not improve from 0.44517\n",
            "84/84 [==============================] - 0s 3ms/step - loss: 1.0487 - accuracy: 0.4713 - val_loss: 1.1295 - val_accuracy: 0.4426\n",
            "Epoch 116/200\n",
            "66/84 [======================>.......] - ETA: 0s - loss: 1.0516 - accuracy: 0.4631\n",
            "Epoch 00116: val_accuracy did not improve from 0.44517\n",
            "84/84 [==============================] - 0s 3ms/step - loss: 1.0503 - accuracy: 0.4682 - val_loss: 1.0780 - val_accuracy: 0.4243\n",
            "Epoch 117/200\n",
            "71/84 [========================>.....] - ETA: 0s - loss: 1.0514 - accuracy: 0.4665\n",
            "Epoch 00117: val_accuracy did not improve from 0.44517\n",
            "84/84 [==============================] - 0s 3ms/step - loss: 1.0498 - accuracy: 0.4705 - val_loss: 1.0893 - val_accuracy: 0.4334\n",
            "Epoch 118/200\n",
            "70/84 [========================>.....] - ETA: 0s - loss: 1.0501 - accuracy: 0.4714\n",
            "Epoch 00118: val_accuracy did not improve from 0.44517\n",
            "84/84 [==============================] - 0s 3ms/step - loss: 1.0504 - accuracy: 0.4709 - val_loss: 1.0965 - val_accuracy: 0.4413\n",
            "Epoch 119/200\n",
            "69/84 [=======================>......] - ETA: 0s - loss: 1.0470 - accuracy: 0.4769\n",
            "Epoch 00119: val_accuracy did not improve from 0.44517\n",
            "84/84 [==============================] - 0s 3ms/step - loss: 1.0504 - accuracy: 0.4694 - val_loss: 1.0862 - val_accuracy: 0.4269\n",
            "Epoch 120/200\n",
            "66/84 [======================>.......] - ETA: 0s - loss: 1.0494 - accuracy: 0.4711\n",
            "Epoch 00120: val_accuracy did not improve from 0.44517\n",
            "84/84 [==============================] - 0s 4ms/step - loss: 1.0506 - accuracy: 0.4705 - val_loss: 1.0797 - val_accuracy: 0.4256\n",
            "Epoch 121/200\n",
            "64/84 [=====================>........] - ETA: 0s - loss: 1.0609 - accuracy: 0.4565\n",
            "Epoch 00121: val_accuracy did not improve from 0.44517\n",
            "84/84 [==============================] - 0s 3ms/step - loss: 1.0533 - accuracy: 0.4686 - val_loss: 1.0920 - val_accuracy: 0.4334\n",
            "Epoch 122/200\n",
            "65/84 [======================>.......] - ETA: 0s - loss: 1.0468 - accuracy: 0.4697\n",
            "Epoch 00122: val_accuracy did not improve from 0.44517\n",
            "84/84 [==============================] - 0s 3ms/step - loss: 1.0514 - accuracy: 0.4645 - val_loss: 1.0923 - val_accuracy: 0.4386\n",
            "Epoch 123/200\n",
            "66/84 [======================>.......] - ETA: 0s - loss: 1.0504 - accuracy: 0.4664\n",
            "Epoch 00123: val_accuracy did not improve from 0.44517\n",
            "84/84 [==============================] - 0s 3ms/step - loss: 1.0498 - accuracy: 0.4728 - val_loss: 1.1151 - val_accuracy: 0.4426\n",
            "Epoch 124/200\n",
            "78/84 [==========================>...] - ETA: 0s - loss: 1.0487 - accuracy: 0.4696\n",
            "Epoch 00124: val_accuracy did not improve from 0.44517\n",
            "84/84 [==============================] - 0s 3ms/step - loss: 1.0494 - accuracy: 0.4660 - val_loss: 1.1014 - val_accuracy: 0.4413\n",
            "Epoch 125/200\n",
            "70/84 [========================>.....] - ETA: 0s - loss: 1.0500 - accuracy: 0.4710\n",
            "Epoch 00125: val_accuracy did not improve from 0.44517\n",
            "84/84 [==============================] - 0s 3ms/step - loss: 1.0510 - accuracy: 0.4716 - val_loss: 1.0752 - val_accuracy: 0.4243\n",
            "Epoch 126/200\n",
            "70/84 [========================>.....] - ETA: 0s - loss: 1.0545 - accuracy: 0.4688\n",
            "Epoch 00126: val_accuracy did not improve from 0.44517\n",
            "84/84 [==============================] - 0s 3ms/step - loss: 1.0527 - accuracy: 0.4765 - val_loss: 1.0846 - val_accuracy: 0.4269\n",
            "Epoch 127/200\n",
            "67/84 [======================>.......] - ETA: 0s - loss: 1.0548 - accuracy: 0.4590\n",
            "Epoch 00127: val_accuracy did not improve from 0.44517\n",
            "84/84 [==============================] - 0s 3ms/step - loss: 1.0508 - accuracy: 0.4690 - val_loss: 1.1084 - val_accuracy: 0.4452\n",
            "Epoch 128/200\n",
            "71/84 [========================>.....] - ETA: 0s - loss: 1.0494 - accuracy: 0.4723\n",
            "Epoch 00128: val_accuracy did not improve from 0.44517\n",
            "84/84 [==============================] - 0s 3ms/step - loss: 1.0507 - accuracy: 0.4694 - val_loss: 1.1082 - val_accuracy: 0.4452\n",
            "Epoch 129/200\n",
            "67/84 [======================>.......] - ETA: 0s - loss: 1.0464 - accuracy: 0.4771\n",
            "Epoch 00129: val_accuracy did not improve from 0.44517\n",
            "84/84 [==============================] - 0s 3ms/step - loss: 1.0495 - accuracy: 0.4728 - val_loss: 1.0943 - val_accuracy: 0.4334\n",
            "Epoch 130/200\n",
            "70/84 [========================>.....] - ETA: 0s - loss: 1.0483 - accuracy: 0.4804\n",
            "Epoch 00130: val_accuracy did not improve from 0.44517\n",
            "84/84 [==============================] - 0s 3ms/step - loss: 1.0508 - accuracy: 0.4731 - val_loss: 1.0759 - val_accuracy: 0.4230\n",
            "Epoch 131/200\n",
            "84/84 [==============================] - ETA: 0s - loss: 1.0506 - accuracy: 0.4709\n",
            "Epoch 00131: val_accuracy did not improve from 0.44517\n",
            "84/84 [==============================] - 0s 3ms/step - loss: 1.0506 - accuracy: 0.4709 - val_loss: 1.0974 - val_accuracy: 0.4373\n",
            "Epoch 132/200\n",
            "64/84 [=====================>........] - ETA: 0s - loss: 1.0482 - accuracy: 0.4668\n",
            "Epoch 00132: val_accuracy did not improve from 0.44517\n",
            "84/84 [==============================] - 0s 3ms/step - loss: 1.0506 - accuracy: 0.4652 - val_loss: 1.1090 - val_accuracy: 0.4452\n",
            "Epoch 133/200\n",
            "70/84 [========================>.....] - ETA: 0s - loss: 1.0490 - accuracy: 0.4670\n",
            "Epoch 00133: val_accuracy did not improve from 0.44517\n",
            "84/84 [==============================] - 0s 3ms/step - loss: 1.0516 - accuracy: 0.4664 - val_loss: 1.0913 - val_accuracy: 0.4373\n",
            "Epoch 134/200\n",
            "70/84 [========================>.....] - ETA: 0s - loss: 1.0542 - accuracy: 0.4683\n",
            "Epoch 00134: val_accuracy did not improve from 0.44517\n",
            "84/84 [==============================] - 0s 3ms/step - loss: 1.0518 - accuracy: 0.4660 - val_loss: 1.0713 - val_accuracy: 0.4217\n",
            "Epoch 135/200\n",
            "69/84 [=======================>......] - ETA: 0s - loss: 1.0515 - accuracy: 0.4674\n",
            "Epoch 00135: val_accuracy did not improve from 0.44517\n",
            "84/84 [==============================] - 0s 3ms/step - loss: 1.0504 - accuracy: 0.4694 - val_loss: 1.0983 - val_accuracy: 0.4413\n",
            "Epoch 136/200\n",
            "70/84 [========================>.....] - ETA: 0s - loss: 1.0528 - accuracy: 0.4616\n",
            "Epoch 00136: val_accuracy did not improve from 0.44517\n",
            "84/84 [==============================] - 0s 3ms/step - loss: 1.0509 - accuracy: 0.4664 - val_loss: 1.0877 - val_accuracy: 0.4269\n",
            "Epoch 137/200\n",
            "70/84 [========================>.....] - ETA: 0s - loss: 1.0517 - accuracy: 0.4696\n",
            "Epoch 00137: val_accuracy did not improve from 0.44517\n",
            "84/84 [==============================] - 0s 3ms/step - loss: 1.0516 - accuracy: 0.4686 - val_loss: 1.1056 - val_accuracy: 0.4413\n",
            "Epoch 138/200\n",
            "67/84 [======================>.......] - ETA: 0s - loss: 1.0456 - accuracy: 0.4762\n",
            "Epoch 00138: val_accuracy did not improve from 0.44517\n",
            "84/84 [==============================] - 0s 3ms/step - loss: 1.0504 - accuracy: 0.4709 - val_loss: 1.0739 - val_accuracy: 0.4217\n",
            "Epoch 139/200\n",
            "68/84 [=======================>......] - ETA: 0s - loss: 1.0449 - accuracy: 0.4738\n",
            "Epoch 00139: val_accuracy did not improve from 0.44517\n",
            "84/84 [==============================] - 0s 3ms/step - loss: 1.0503 - accuracy: 0.4709 - val_loss: 1.0890 - val_accuracy: 0.4321\n",
            "Epoch 140/200\n",
            "67/84 [======================>.......] - ETA: 0s - loss: 1.0436 - accuracy: 0.4804\n",
            "Epoch 00140: val_accuracy did not improve from 0.44517\n",
            "84/84 [==============================] - 0s 3ms/step - loss: 1.0487 - accuracy: 0.4709 - val_loss: 1.0677 - val_accuracy: 0.4204\n",
            "Epoch 141/200\n",
            "72/84 [========================>.....] - ETA: 0s - loss: 1.0531 - accuracy: 0.4666\n",
            "Epoch 00141: val_accuracy did not improve from 0.44517\n",
            "84/84 [==============================] - 0s 3ms/step - loss: 1.0527 - accuracy: 0.4690 - val_loss: 1.0943 - val_accuracy: 0.4399\n",
            "Epoch 142/200\n",
            "75/84 [=========================>....] - ETA: 0s - loss: 1.0469 - accuracy: 0.4729\n",
            "Epoch 00142: val_accuracy did not improve from 0.44517\n",
            "84/84 [==============================] - 0s 3ms/step - loss: 1.0494 - accuracy: 0.4682 - val_loss: 1.1027 - val_accuracy: 0.4439\n",
            "Epoch 143/200\n",
            "71/84 [========================>.....] - ETA: 0s - loss: 1.0521 - accuracy: 0.4648\n",
            "Epoch 00143: val_accuracy did not improve from 0.44517\n",
            "84/84 [==============================] - 0s 3ms/step - loss: 1.0516 - accuracy: 0.4656 - val_loss: 1.1015 - val_accuracy: 0.4413\n",
            "Epoch 144/200\n",
            "69/84 [=======================>......] - ETA: 0s - loss: 1.0489 - accuracy: 0.4746\n",
            "Epoch 00144: val_accuracy did not improve from 0.44517\n",
            "84/84 [==============================] - 0s 3ms/step - loss: 1.0509 - accuracy: 0.4697 - val_loss: 1.0859 - val_accuracy: 0.4282\n",
            "Epoch 145/200\n",
            "83/84 [============================>.] - ETA: 0s - loss: 1.0508 - accuracy: 0.4654\n",
            "Epoch 00145: val_accuracy did not improve from 0.44517\n",
            "84/84 [==============================] - 0s 3ms/step - loss: 1.0506 - accuracy: 0.4660 - val_loss: 1.1081 - val_accuracy: 0.4413\n",
            "Epoch 146/200\n",
            "67/84 [======================>.......] - ETA: 0s - loss: 1.0542 - accuracy: 0.4641\n",
            "Epoch 00146: val_accuracy did not improve from 0.44517\n",
            "84/84 [==============================] - 0s 3ms/step - loss: 1.0505 - accuracy: 0.4713 - val_loss: 1.0915 - val_accuracy: 0.4373\n",
            "Epoch 147/200\n",
            "65/84 [======================>.......] - ETA: 0s - loss: 1.0497 - accuracy: 0.4716\n",
            "Epoch 00147: val_accuracy did not improve from 0.44517\n",
            "84/84 [==============================] - 0s 3ms/step - loss: 1.0512 - accuracy: 0.4709 - val_loss: 1.1152 - val_accuracy: 0.4426\n",
            "Epoch 148/200\n",
            "66/84 [======================>.......] - ETA: 0s - loss: 1.0535 - accuracy: 0.4678\n",
            "Epoch 00148: val_accuracy did not improve from 0.44517\n",
            "84/84 [==============================] - 0s 3ms/step - loss: 1.0514 - accuracy: 0.4671 - val_loss: 1.0862 - val_accuracy: 0.4295\n",
            "Epoch 149/200\n",
            "79/84 [===========================>..] - ETA: 0s - loss: 1.0507 - accuracy: 0.4695\n",
            "Epoch 00149: val_accuracy did not improve from 0.44517\n",
            "84/84 [==============================] - 0s 3ms/step - loss: 1.0506 - accuracy: 0.4675 - val_loss: 1.0842 - val_accuracy: 0.4269\n",
            "Epoch 150/200\n",
            "67/84 [======================>.......] - ETA: 0s - loss: 1.0520 - accuracy: 0.4692\n",
            "Epoch 00150: val_accuracy did not improve from 0.44517\n",
            "84/84 [==============================] - 0s 3ms/step - loss: 1.0496 - accuracy: 0.4705 - val_loss: 1.1047 - val_accuracy: 0.4452\n",
            "Epoch 151/200\n",
            "68/84 [=======================>......] - ETA: 0s - loss: 1.0527 - accuracy: 0.4660\n",
            "Epoch 00151: val_accuracy did not improve from 0.44517\n",
            "84/84 [==============================] - 0s 3ms/step - loss: 1.0500 - accuracy: 0.4713 - val_loss: 1.0966 - val_accuracy: 0.4426\n",
            "Epoch 152/200\n",
            "68/84 [=======================>......] - ETA: 0s - loss: 1.0486 - accuracy: 0.4766\n",
            "Epoch 00152: val_accuracy did not improve from 0.44517\n",
            "84/84 [==============================] - 0s 3ms/step - loss: 1.0496 - accuracy: 0.4713 - val_loss: 1.0981 - val_accuracy: 0.4426\n",
            "Epoch 153/200\n",
            "66/84 [======================>.......] - ETA: 0s - loss: 1.0591 - accuracy: 0.4683\n",
            "Epoch 00153: val_accuracy did not improve from 0.44517\n",
            "84/84 [==============================] - 0s 3ms/step - loss: 1.0515 - accuracy: 0.4746 - val_loss: 1.0873 - val_accuracy: 0.4321\n",
            "Epoch 154/200\n",
            "73/84 [=========================>....] - ETA: 0s - loss: 1.0499 - accuracy: 0.4743\n",
            "Epoch 00154: val_accuracy did not improve from 0.44517\n",
            "84/84 [==============================] - 0s 3ms/step - loss: 1.0522 - accuracy: 0.4705 - val_loss: 1.1235 - val_accuracy: 0.4426\n",
            "Epoch 155/200\n",
            "83/84 [============================>.] - ETA: 0s - loss: 1.0497 - accuracy: 0.4672\n",
            "Epoch 00155: val_accuracy did not improve from 0.44517\n",
            "84/84 [==============================] - 0s 3ms/step - loss: 1.0497 - accuracy: 0.4675 - val_loss: 1.0738 - val_accuracy: 0.4191\n",
            "Epoch 156/200\n",
            "81/84 [===========================>..] - ETA: 0s - loss: 1.0492 - accuracy: 0.4699\n",
            "Epoch 00156: val_accuracy did not improve from 0.44517\n",
            "84/84 [==============================] - 0s 3ms/step - loss: 1.0491 - accuracy: 0.4701 - val_loss: 1.0964 - val_accuracy: 0.4413\n",
            "Epoch 157/200\n",
            "64/84 [=====================>........] - ETA: 0s - loss: 1.0478 - accuracy: 0.4780\n",
            "Epoch 00157: val_accuracy did not improve from 0.44517\n",
            "84/84 [==============================] - 0s 3ms/step - loss: 1.0506 - accuracy: 0.4754 - val_loss: 1.0743 - val_accuracy: 0.4230\n",
            "Epoch 158/200\n",
            "67/84 [======================>.......] - ETA: 0s - loss: 1.0543 - accuracy: 0.4660\n",
            "Epoch 00158: val_accuracy did not improve from 0.44517\n",
            "84/84 [==============================] - 0s 3ms/step - loss: 1.0534 - accuracy: 0.4660 - val_loss: 1.0794 - val_accuracy: 0.4269\n",
            "Epoch 159/200\n",
            "69/84 [=======================>......] - ETA: 0s - loss: 1.0513 - accuracy: 0.4638\n",
            "Epoch 00159: val_accuracy did not improve from 0.44517\n",
            "84/84 [==============================] - 0s 3ms/step - loss: 1.0495 - accuracy: 0.4679 - val_loss: 1.1007 - val_accuracy: 0.4413\n",
            "Epoch 160/200\n",
            "65/84 [======================>.......] - ETA: 0s - loss: 1.0537 - accuracy: 0.4697\n",
            "Epoch 00160: val_accuracy did not improve from 0.44517\n",
            "84/84 [==============================] - 0s 3ms/step - loss: 1.0502 - accuracy: 0.4758 - val_loss: 1.1030 - val_accuracy: 0.4413\n",
            "Epoch 161/200\n",
            "68/84 [=======================>......] - ETA: 0s - loss: 1.0514 - accuracy: 0.4752\n",
            "Epoch 00161: val_accuracy did not improve from 0.44517\n",
            "84/84 [==============================] - 0s 3ms/step - loss: 1.0497 - accuracy: 0.4709 - val_loss: 1.0826 - val_accuracy: 0.4295\n",
            "Epoch 162/200\n",
            "67/84 [======================>.......] - ETA: 0s - loss: 1.0501 - accuracy: 0.4743\n",
            "Epoch 00162: val_accuracy did not improve from 0.44517\n",
            "84/84 [==============================] - 0s 3ms/step - loss: 1.0505 - accuracy: 0.4728 - val_loss: 1.1236 - val_accuracy: 0.4439\n",
            "Epoch 163/200\n",
            "80/84 [===========================>..] - ETA: 0s - loss: 1.0497 - accuracy: 0.4730\n",
            "Epoch 00163: val_accuracy did not improve from 0.44517\n",
            "84/84 [==============================] - 0s 4ms/step - loss: 1.0507 - accuracy: 0.4746 - val_loss: 1.0932 - val_accuracy: 0.4399\n",
            "Epoch 164/200\n",
            "70/84 [========================>.....] - ETA: 0s - loss: 1.0525 - accuracy: 0.4665\n",
            "Epoch 00164: val_accuracy did not improve from 0.44517\n",
            "84/84 [==============================] - 0s 3ms/step - loss: 1.0501 - accuracy: 0.4735 - val_loss: 1.1085 - val_accuracy: 0.4426\n",
            "Epoch 165/200\n",
            "83/84 [============================>.] - ETA: 0s - loss: 1.0505 - accuracy: 0.4699\n",
            "Epoch 00165: val_accuracy did not improve from 0.44517\n",
            "84/84 [==============================] - 0s 3ms/step - loss: 1.0506 - accuracy: 0.4697 - val_loss: 1.1030 - val_accuracy: 0.4426\n",
            "Epoch 166/200\n",
            "68/84 [=======================>......] - ETA: 0s - loss: 1.0476 - accuracy: 0.4715\n",
            "Epoch 00166: val_accuracy did not improve from 0.44517\n",
            "84/84 [==============================] - 0s 3ms/step - loss: 1.0502 - accuracy: 0.4697 - val_loss: 1.0880 - val_accuracy: 0.4269\n",
            "Epoch 167/200\n",
            "64/84 [=====================>........] - ETA: 0s - loss: 1.0464 - accuracy: 0.4727\n",
            "Epoch 00167: val_accuracy did not improve from 0.44517\n",
            "84/84 [==============================] - 0s 3ms/step - loss: 1.0488 - accuracy: 0.4697 - val_loss: 1.0945 - val_accuracy: 0.4386\n",
            "Epoch 168/200\n",
            "68/84 [=======================>......] - ETA: 0s - loss: 1.0548 - accuracy: 0.4623\n",
            "Epoch 00168: val_accuracy did not improve from 0.44517\n",
            "84/84 [==============================] - 0s 3ms/step - loss: 1.0501 - accuracy: 0.4709 - val_loss: 1.1060 - val_accuracy: 0.4439\n",
            "Epoch 169/200\n",
            "67/84 [======================>.......] - ETA: 0s - loss: 1.0477 - accuracy: 0.4697\n",
            "Epoch 00169: val_accuracy did not improve from 0.44517\n",
            "84/84 [==============================] - 0s 3ms/step - loss: 1.0527 - accuracy: 0.4641 - val_loss: 1.0891 - val_accuracy: 0.4347\n",
            "Epoch 170/200\n",
            "66/84 [======================>.......] - ETA: 0s - loss: 1.0490 - accuracy: 0.4650\n",
            "Epoch 00170: val_accuracy did not improve from 0.44517\n",
            "84/84 [==============================] - 0s 3ms/step - loss: 1.0491 - accuracy: 0.4690 - val_loss: 1.0982 - val_accuracy: 0.4439\n",
            "Epoch 171/200\n",
            "68/84 [=======================>......] - ETA: 0s - loss: 1.0501 - accuracy: 0.4692\n",
            "Epoch 00171: val_accuracy did not improve from 0.44517\n",
            "84/84 [==============================] - 0s 3ms/step - loss: 1.0490 - accuracy: 0.4705 - val_loss: 1.0735 - val_accuracy: 0.4230\n",
            "Epoch 172/200\n",
            "84/84 [==============================] - ETA: 0s - loss: 1.0502 - accuracy: 0.4675\n",
            "Epoch 00172: val_accuracy did not improve from 0.44517\n",
            "84/84 [==============================] - 0s 3ms/step - loss: 1.0502 - accuracy: 0.4675 - val_loss: 1.0796 - val_accuracy: 0.4256\n",
            "Epoch 173/200\n",
            "68/84 [=======================>......] - ETA: 0s - loss: 1.0506 - accuracy: 0.4692\n",
            "Epoch 00173: val_accuracy did not improve from 0.44517\n",
            "84/84 [==============================] - 0s 3ms/step - loss: 1.0492 - accuracy: 0.4701 - val_loss: 1.1056 - val_accuracy: 0.4413\n",
            "Epoch 174/200\n",
            "84/84 [==============================] - ETA: 0s - loss: 1.0525 - accuracy: 0.4720\n",
            "Epoch 00174: val_accuracy did not improve from 0.44517\n",
            "84/84 [==============================] - 0s 3ms/step - loss: 1.0525 - accuracy: 0.4720 - val_loss: 1.0995 - val_accuracy: 0.4413\n",
            "Epoch 175/200\n",
            "67/84 [======================>.......] - ETA: 0s - loss: 1.0552 - accuracy: 0.4590\n",
            "Epoch 00175: val_accuracy did not improve from 0.44517\n",
            "84/84 [==============================] - 0s 3ms/step - loss: 1.0500 - accuracy: 0.4705 - val_loss: 1.1032 - val_accuracy: 0.4413\n",
            "Epoch 176/200\n",
            "68/84 [=======================>......] - ETA: 0s - loss: 1.0505 - accuracy: 0.4738\n",
            "Epoch 00176: val_accuracy did not improve from 0.44517\n",
            "84/84 [==============================] - 0s 3ms/step - loss: 1.0505 - accuracy: 0.4690 - val_loss: 1.0968 - val_accuracy: 0.4413\n",
            "Epoch 177/200\n",
            "71/84 [========================>.....] - ETA: 0s - loss: 1.0503 - accuracy: 0.4745\n",
            "Epoch 00177: val_accuracy did not improve from 0.44517\n",
            "84/84 [==============================] - 0s 3ms/step - loss: 1.0511 - accuracy: 0.4697 - val_loss: 1.1003 - val_accuracy: 0.4426\n",
            "Epoch 178/200\n",
            "77/84 [==========================>...] - ETA: 0s - loss: 1.0487 - accuracy: 0.4773\n",
            "Epoch 00178: val_accuracy did not improve from 0.44517\n",
            "84/84 [==============================] - 0s 4ms/step - loss: 1.0497 - accuracy: 0.4739 - val_loss: 1.0991 - val_accuracy: 0.4426\n",
            "Epoch 179/200\n",
            "72/84 [========================>.....] - ETA: 0s - loss: 1.0485 - accuracy: 0.4722\n",
            "Epoch 00179: val_accuracy did not improve from 0.44517\n",
            "84/84 [==============================] - 0s 3ms/step - loss: 1.0514 - accuracy: 0.4682 - val_loss: 1.0992 - val_accuracy: 0.4439\n",
            "Epoch 180/200\n",
            "67/84 [======================>.......] - ETA: 0s - loss: 1.0473 - accuracy: 0.4720\n",
            "Epoch 00180: val_accuracy did not improve from 0.44517\n",
            "84/84 [==============================] - 0s 3ms/step - loss: 1.0498 - accuracy: 0.4731 - val_loss: 1.0757 - val_accuracy: 0.4217\n",
            "Epoch 181/200\n",
            "83/84 [============================>.] - ETA: 0s - loss: 1.0503 - accuracy: 0.4733\n",
            "Epoch 00181: val_accuracy did not improve from 0.44517\n",
            "84/84 [==============================] - 0s 3ms/step - loss: 1.0500 - accuracy: 0.4735 - val_loss: 1.0859 - val_accuracy: 0.4269\n",
            "Epoch 182/200\n",
            "68/84 [=======================>......] - ETA: 0s - loss: 1.0431 - accuracy: 0.4770\n",
            "Epoch 00182: val_accuracy did not improve from 0.44517\n",
            "84/84 [==============================] - 0s 3ms/step - loss: 1.0501 - accuracy: 0.4709 - val_loss: 1.0694 - val_accuracy: 0.4204\n",
            "Epoch 183/200\n",
            "66/84 [======================>.......] - ETA: 0s - loss: 1.0550 - accuracy: 0.4645\n",
            "Epoch 00183: val_accuracy did not improve from 0.44517\n",
            "84/84 [==============================] - 0s 3ms/step - loss: 1.0491 - accuracy: 0.4690 - val_loss: 1.0891 - val_accuracy: 0.4399\n",
            "Epoch 184/200\n",
            "68/84 [=======================>......] - ETA: 0s - loss: 1.0511 - accuracy: 0.4692\n",
            "Epoch 00184: val_accuracy did not improve from 0.44517\n",
            "84/84 [==============================] - 0s 3ms/step - loss: 1.0520 - accuracy: 0.4701 - val_loss: 1.0825 - val_accuracy: 0.4282\n",
            "Epoch 185/200\n",
            "65/84 [======================>.......] - ETA: 0s - loss: 1.0542 - accuracy: 0.4611\n",
            "Epoch 00185: val_accuracy did not improve from 0.44517\n",
            "84/84 [==============================] - 0s 3ms/step - loss: 1.0519 - accuracy: 0.4709 - val_loss: 1.0961 - val_accuracy: 0.4413\n",
            "Epoch 186/200\n",
            "65/84 [======================>.......] - ETA: 0s - loss: 1.0507 - accuracy: 0.4769\n",
            "Epoch 00186: val_accuracy did not improve from 0.44517\n",
            "84/84 [==============================] - 0s 3ms/step - loss: 1.0510 - accuracy: 0.4735 - val_loss: 1.0843 - val_accuracy: 0.4269\n",
            "Epoch 187/200\n",
            "67/84 [======================>.......] - ETA: 0s - loss: 1.0517 - accuracy: 0.4715\n",
            "Epoch 00187: val_accuracy did not improve from 0.44517\n",
            "84/84 [==============================] - 0s 3ms/step - loss: 1.0536 - accuracy: 0.4679 - val_loss: 1.0756 - val_accuracy: 0.4256\n",
            "Epoch 188/200\n",
            "67/84 [======================>.......] - ETA: 0s - loss: 1.0511 - accuracy: 0.4669\n",
            "Epoch 00188: val_accuracy did not improve from 0.44517\n",
            "84/84 [==============================] - 0s 3ms/step - loss: 1.0498 - accuracy: 0.4720 - val_loss: 1.1081 - val_accuracy: 0.4413\n",
            "Epoch 189/200\n",
            "67/84 [======================>.......] - ETA: 0s - loss: 1.0505 - accuracy: 0.4669\n",
            "Epoch 00189: val_accuracy did not improve from 0.44517\n",
            "84/84 [==============================] - 0s 3ms/step - loss: 1.0499 - accuracy: 0.4690 - val_loss: 1.0993 - val_accuracy: 0.4413\n",
            "Epoch 190/200\n",
            "65/84 [======================>.......] - ETA: 0s - loss: 1.0463 - accuracy: 0.4740\n",
            "Epoch 00190: val_accuracy did not improve from 0.44517\n",
            "84/84 [==============================] - 0s 3ms/step - loss: 1.0492 - accuracy: 0.4656 - val_loss: 1.0792 - val_accuracy: 0.4256\n",
            "Epoch 191/200\n",
            "70/84 [========================>.....] - ETA: 0s - loss: 1.0494 - accuracy: 0.4696\n",
            "Epoch 00191: val_accuracy did not improve from 0.44517\n",
            "84/84 [==============================] - 0s 3ms/step - loss: 1.0510 - accuracy: 0.4656 - val_loss: 1.0872 - val_accuracy: 0.4269\n",
            "Epoch 192/200\n",
            "67/84 [======================>.......] - ETA: 0s - loss: 1.0512 - accuracy: 0.4674\n",
            "Epoch 00192: val_accuracy did not improve from 0.44517\n",
            "84/84 [==============================] - 0s 3ms/step - loss: 1.0537 - accuracy: 0.4694 - val_loss: 1.0953 - val_accuracy: 0.4399\n",
            "Epoch 193/200\n",
            "82/84 [============================>.] - ETA: 0s - loss: 1.0497 - accuracy: 0.4718\n",
            "Epoch 00193: val_accuracy did not improve from 0.44517\n",
            "84/84 [==============================] - 0s 3ms/step - loss: 1.0497 - accuracy: 0.4713 - val_loss: 1.0769 - val_accuracy: 0.4217\n",
            "Epoch 194/200\n",
            "65/84 [======================>.......] - ETA: 0s - loss: 1.0472 - accuracy: 0.4745\n",
            "Epoch 00194: val_accuracy did not improve from 0.44517\n",
            "84/84 [==============================] - 0s 3ms/step - loss: 1.0486 - accuracy: 0.4720 - val_loss: 1.0755 - val_accuracy: 0.4230\n",
            "Epoch 195/200\n",
            "71/84 [========================>.....] - ETA: 0s - loss: 1.0493 - accuracy: 0.4736\n",
            "Epoch 00195: val_accuracy did not improve from 0.44517\n",
            "84/84 [==============================] - 0s 3ms/step - loss: 1.0494 - accuracy: 0.4679 - val_loss: 1.0875 - val_accuracy: 0.4295\n",
            "Epoch 196/200\n",
            "66/84 [======================>.......] - ETA: 0s - loss: 1.0464 - accuracy: 0.4754\n",
            "Epoch 00196: val_accuracy did not improve from 0.44517\n",
            "84/84 [==============================] - 0s 3ms/step - loss: 1.0498 - accuracy: 0.4697 - val_loss: 1.0788 - val_accuracy: 0.4256\n",
            "Epoch 197/200\n",
            "71/84 [========================>.....] - ETA: 0s - loss: 1.0522 - accuracy: 0.4714\n",
            "Epoch 00197: val_accuracy did not improve from 0.44517\n",
            "84/84 [==============================] - 0s 3ms/step - loss: 1.0521 - accuracy: 0.4694 - val_loss: 1.0863 - val_accuracy: 0.4282\n",
            "Epoch 198/200\n",
            "73/84 [=========================>....] - ETA: 0s - loss: 1.0492 - accuracy: 0.4679\n",
            "Epoch 00198: val_accuracy did not improve from 0.44517\n",
            "84/84 [==============================] - 0s 3ms/step - loss: 1.0496 - accuracy: 0.4679 - val_loss: 1.1033 - val_accuracy: 0.4413\n",
            "Epoch 199/200\n",
            "69/84 [=======================>......] - ETA: 0s - loss: 1.0494 - accuracy: 0.4647\n",
            "Epoch 00199: val_accuracy did not improve from 0.44517\n",
            "84/84 [==============================] - 0s 3ms/step - loss: 1.0498 - accuracy: 0.4667 - val_loss: 1.0832 - val_accuracy: 0.4269\n",
            "Epoch 200/200\n",
            "72/84 [========================>.....] - ETA: 0s - loss: 1.0509 - accuracy: 0.4714\n",
            "Epoch 00200: val_accuracy did not improve from 0.44517\n",
            "84/84 [==============================] - 0s 3ms/step - loss: 1.0510 - accuracy: 0.4709 - val_loss: 1.1006 - val_accuracy: 0.4413\n"
          ],
          "name": "stdout"
        }
      ]
    },
    {
      "cell_type": "code",
      "metadata": {
        "id": "sMKTDHyPtk9A",
        "colab_type": "code",
        "colab": {
          "base_uri": "https://localhost:8080/",
          "height": 513
        },
        "outputId": "eea1fe33-6010-4688-887f-b339e55dee4c"
      },
      "source": [
        "\n",
        "acc = history.history['accuracy']\n",
        "val_acc = history.history['val_accuracy']\n",
        "\n",
        "loss = history.history['loss']\n",
        "val_loss = history.history['val_loss']\n",
        "\n",
        "\n",
        "plt.figure(figsize=(8, 8))\n",
        "plt.subplot(2, 1, 1)\n",
        "plt.plot(acc, label='Training Accuracy')\n",
        "plt.plot(val_acc, label='Validation Accuracy')\n",
        "plt.legend(loc='lower right')\n",
        "plt.ylabel('Accuracy')\n",
        "plt.title('Training and Validation Accuracy')\n",
        "\n",
        "plt.subplot(2, 1, 2)\n",
        "plt.plot(loss, label='Training Loss')\n",
        "plt.plot(val_loss, label='Validation Loss')\n",
        "plt.legend(loc='upper right')\n",
        "plt.ylabel('Cross Entropy')\n",
        "plt.title('Training and Validation Loss')\n",
        "plt.xlabel('epoch')\n",
        "plt.show()"
      ],
      "execution_count": 21,
      "outputs": [
        {
          "output_type": "display_data",
          "data": {
            "image/png": "[encoded data removed]",
            "text/plain": [
              "<Figure size 576x576 with 2 Axes>"
            ]
          },
          "metadata": {
            "tags": [],
            "needs_background": "light"
          }
        }
      ]
    },
    {
      "cell_type": "markdown",
      "metadata": {
        "id": "QSCyrnQGtZEx",
        "colab_type": "text"
      },
      "source": [
        "### Load Best Model to Perform Prediction"
      ]
    },
    {
      "cell_type": "code",
      "metadata": {
        "id": "C3liEbGWsOn5",
        "colab_type": "code",
        "colab": {}
      },
      "source": [
        "load_path = \"/content/drive/My Drive/Machine-Learning-Projects/cs231n-project/models/all_samples_dense_vae_classifier-caption-laugh-v4-la.h5\"\n",
        "model = tf.keras.models.load_model(load_path)\n",
        "\n",
        "# z_mean_train = np.load('/content/drive/My Drive/Machine-Learning-Projects/cs231n-project/notebooks/VAE/z_mean_train_5.pkl', allow_pickle=True)\n",
        "# z_mean_val = np.load('/content/drive/My Drive/Machine-Learning-Projects/cs231n-project/notebooks/VAE/z_mean_val_5.pkl', allow_pickle=True)\n",
        "\n",
        "y_pred = model.predict(z_mean_val)"
      ],
      "execution_count": 23,
      "outputs": []
    },
    {
      "cell_type": "code",
      "metadata": {
        "id": "jS2xNYs2tbO1",
        "colab_type": "code",
        "colab": {
          "base_uri": "https://localhost:8080/",
          "height": 745
        },
        "outputId": "f31fd45e-d02a-4e33-8036-e52f08395f46"
      },
      "source": [
        "y_valid_labels = y_valid_np + 1\n",
        "print(y_valid_labels)\n",
        "\n",
        "y_pred_labels = np.argmax(y_pred, axis=1) + 1\n",
        "print(y_pred_labels)"
      ],
      "execution_count": 25,
      "outputs": [
        {
          "output_type": "stream",
          "text": [
            "[3 3 3 2 2 3 3 3 3 3 3 3 3 3 3 3 2 1 1 1 2 1 1 1 1 1 1 1 1 1 1 1 1 2 1 1 1\n",
            " 2 3 3 1 1 2 1 2 1 2 1 1 1 1 1 3 3 3 3 3 2 3 3 2 2 3 3 3 3 3 3 3 2 2 2 3 2\n",
            " 2 2 2 2 2 2 2 2 2 2 1 2 3 3 3 3 1 1 1 1 1 1 1 1 2 2 3 2 1 3 3 2 3 3 3 3 2\n",
            " 3 3 3 3 3 3 3 3 3 3 3 3 3 3 3 3 3 3 3 3 3 1 1 1 1 1 1 1 1 1 1 1 1 2 2 1 1\n",
            " 1 1 1 1 2 1 1 1 2 2 2 2 2 1 1 2 1 1 1 1 2 2 2 2 1 1 3 1 2 2 2 2 2 2 2 2 2\n",
            " 2 2 2 2 2 2 1 2 2 2 2 1 1 1 2 2 1 1 2 1 2 2 2 2 2 2 1 2 1 1 1 1 2 1 2 1 1\n",
            " 3 1 2 1 1 1 1 1 1 1 2 2 1 1 1 1 1 1 1 1 1 1 1 1 1 1 1 1 1 1 1 1 1 1 1 1 1\n",
            " 1 1 2 1 1 1 1 1 1 1 2 1 1 1 1 1 1 1 1 1 2 1 2 2 2 1 1 1 1 2 2 2 2 2 2 2 2\n",
            " 2 1 2 2 2 2 2 2 2 2 2 1 2 1 2 2 2 2 2 1 2 2 2 2 1 2 2 1 1 1 1 1 2 1 2 2 2\n",
            " 2 1 1 1 1 2 2 2 2 2 2 2 2 2 2 2 2 2 2 2 2 2 2 2 2 2 2 2 2 2 2 2 2 2 2 2 2\n",
            " 2 1 2 2 2 2 2 2 2 2 2 2 2 2 2 2 2 2 2 2 2 2 2 1 1 1 3 3 3 3 3 3 3 3 3 3 3\n",
            " 3 3 3 3 3 3 3 3 3 3 2 1 2 2 2 1 2 2 2 1 2 2 2 2 1 1 1 1 1 1 1 2 3 3 2 3 2\n",
            " 3 3 3 3 3 2 3 3 3 3 1 1 3 3 3 3 3 3 3 3 3 3 3 3 3 3 3 3 3 3 3 3 3 3 3 2 3\n",
            " 3 2 3 2 2 3 3 3 3 3 3 3 3 3 3 3 3 3 3 3 3 2 2 3 3 3 3 3 2 3 3 2 3 3 3 3 3\n",
            " 3 1 3 2 3 3 2 2 2 2 2 1 2 1 2 1 3 3 1 2 1 1 1 2 1 1 1 1 1 1 1 1 1 1 1 1 1\n",
            " 1 1 1 1 1 1 1 1 1 1 1 1 1 1 2 3 1 1 1 2 1 2 1 1 1 1 1 1 1 1 1 1 2 2 1 2 2\n",
            " 2 2 2 2 2 1 2 1 1 2 2 1 1 1 1 1 2 1 1 1 1 1 2 2 1 1 2 2 2 1 2 1 2 1 2 2 1\n",
            " 1 1 2 2 2 2 2 2 2 1 2 2 2 2 2 2 2 2 2 2 2 2 2 1 1 1 1 1 1 1 1 1 1 1 1 1 1\n",
            " 1 1 1 1 1 2 1 1 1 2 1 2 2 2 2 2 2 2 1 1 1 1 2 1 1 1 1 1 1 2 2 2 2 2 2 2 2\n",
            " 2 2 2 2 1 2 2 2 2 1 1 1 1 1 1 3 3 3 1 3 3 3 3 1 3 3 3 1 3 1 3 2 3 1 3 3 3\n",
            " 3 1 1 1 1 1 1 1 3 3 1 1 1 1 1 1 1 1 1 3 3 3 3 2 3 3]\n",
            "[3 3 3 2 2 2 3 3 3 3 3 3 3 3 3 3 2 2 3 3 2 2 3 3 3 3 2 2 3 2 2 3 3 2 2 2 2\n",
            " 2 2 2 2 2 2 2 2 2 2 2 3 3 3 3 3 3 2 2 3 3 3 3 2 3 3 3 3 3 3 2 3 3 3 3 3 2\n",
            " 2 2 3 2 2 2 2 2 2 2 2 2 2 2 3 3 3 3 3 3 2 3 3 2 2 2 2 2 2 2 2 2 2 3 3 2 3\n",
            " 3 2 3 3 2 2 2 3 2 3 3 3 3 3 3 3 3 3 3 3 3 3 3 3 3 3 3 3 3 3 3 3 3 2 3 3 3\n",
            " 3 3 3 3 3 3 2 3 3 3 3 3 3 3 3 3 3 3 3 3 3 3 2 3 3 3 3 3 2 2 2 3 3 3 3 3 3\n",
            " 3 3 3 3 3 3 2 2 2 2 2 2 2 2 2 2 2 2 2 2 2 2 3 2 2 2 2 2 2 2 2 2 2 2 2 3 2\n",
            " 3 2 2 3 3 3 3 3 2 3 3 3 2 3 3 3 3 3 3 2 3 3 3 3 3 3 3 3 3 3 2 3 3 3 3 3 3\n",
            " 3 3 3 3 2 3 3 2 3 3 3 3 3 3 3 2 3 2 3 3 3 3 3 2 3 3 3 3 3 2 3 3 2 2 2 2 2\n",
            " 3 2 3 2 3 3 2 2 2 2 3 2 2 2 2 2 3 2 2 2 2 2 2 2 2 2 2 3 2 2 2 2 2 3 2 2 2\n",
            " 2 2 2 2 2 2 2 2 2 2 2 2 2 2 2 2 2 2 2 2 2 2 2 2 2 2 2 2 2 2 2 2 2 2 2 2 2\n",
            " 2 2 2 2 2 2 2 2 2 2 2 2 2 2 2 2 2 2 2 2 2 2 2 3 3 3 3 3 3 3 3 3 3 3 3 3 3\n",
            " 3 3 3 3 3 3 3 3 3 3 3 2 2 2 2 3 2 2 2 2 3 2 2 2 3 3 2 2 2 2 3 3 3 2 2 3 3\n",
            " 3 3 3 3 3 3 3 3 3 3 3 2 3 3 3 3 3 2 3 2 2 3 2 3 2 3 3 2 3 3 2 3 3 2 3 2 3\n",
            " 2 3 2 2 2 3 2 2 3 3 3 2 3 3 3 2 2 2 3 2 3 3 3 3 3 3 3 3 3 3 2 3 3 3 3 2 3\n",
            " 3 2 3 3 2 2 3 3 3 3 3 3 3 3 3 3 2 3 2 3 3 2 3 2 2 3 3 3 3 3 2 2 3 3 2 3 3\n",
            " 3 3 2 2 2 2 2 2 3 2 2 2 2 2 2 2 2 2 2 2 2 2 2 2 2 2 2 2 2 2 2 2 2 2 2 2 2\n",
            " 2 2 2 2 2 2 2 2 2 2 2 2 2 2 2 2 2 3 2 2 2 2 2 2 2 2 2 2 2 2 2 2 2 2 2 2 2\n",
            " 2 2 2 2 2 2 2 2 2 2 2 2 2 2 2 2 2 2 2 2 2 2 2 3 3 3 3 3 3 3 3 3 3 3 3 3 3\n",
            " 3 3 3 3 3 2 2 2 2 2 2 2 2 2 2 2 2 2 2 2 2 2 2 2 2 2 2 2 2 2 3 3 3 3 3 3 3\n",
            " 3 3 3 3 3 3 3 3 3 3 3 3 3 3 3 3 3 3 3 3 3 3 3 3 3 3 3 3 3 3 3 3 3 3 3 3 3\n",
            " 3 3 3 3 3 3 3 3 3 3 3 3 3 3 3 3 3 3 3 3 3 3 3 2 3 3]\n"
          ],
          "name": "stdout"
        }
      ]
    },
    {
      "cell_type": "code",
      "metadata": {
        "id": "idvExeijtezQ",
        "colab_type": "code",
        "colab": {
          "base_uri": "https://localhost:8080/",
          "height": 625
        },
        "outputId": "220e4b58-a8ef-4208-d47a-28d7c3ef377f"
      },
      "source": [
        "from sklearn import metrics \n",
        "import pandas as pd\n",
        "import seaborn as sn\n",
        "cm=metrics.confusion_matrix(y_valid_labels,y_pred_labels)\n",
        "import matplotlib.pyplot as plt\n",
        "\n",
        "classes=['Pos' , 'Neu' , 'Neg'] \n",
        "y_pred_final , y_true_final = y_pred_labels - 1 , y_valid_labels - 1\n",
        "con_mat = tensorflow.math.confusion_matrix(labels=y_true_final, predictions=y_pred_final).numpy()\n",
        "con_mat_norm = np.around(con_mat.astype('float') / con_mat.sum(axis=1)[:, np.newaxis], decimals=2)\n",
        "con_mat_df = pd.DataFrame(con_mat_norm,\n",
        "                  index = classes, \n",
        "                  columns = classes)\n",
        "\n",
        "figure = plt.figure(figsize=(11, 9))\n",
        "plt.title(\"FC Voting Confusion Matrix with Scene & Audio\")\n",
        "sn.heatmap(con_mat_df, annot=True,cmap=plt.cm.Blues)\n",
        "\n",
        "\n",
        "accuracy = (y_pred_labels == y_valid_labels).mean()\n",
        "print(f\"Accuracy: {accuracy}\")"
      ],
      "execution_count": 26,
      "outputs": [
        {
          "output_type": "stream",
          "text": [
            "/usr/local/lib/python3.6/dist-packages/statsmodels/tools/_testing.py:19: FutureWarning: pandas.util.testing is deprecated. Use the functions in the public API at pandas.testing instead.\n",
            "  import pandas.util.testing as tm\n"
          ],
          "name": "stderr"
        },
        {
          "output_type": "stream",
          "text": [
            "Accuracy: 0.4451697127937337\n"
          ],
          "name": "stdout"
        },
        {
          "output_type": "display_data",
          "data": {
            "image/png": "[encoded data removed]",
            "text/plain": [
              "<Figure size 792x648 with 2 Axes>"
            ]
          },
          "metadata": {
            "tags": [],
            "needs_background": "light"
          }
        }
      ]
    },
    {
      "cell_type": "code",
      "metadata": {
        "id": "8gs-_n1xCkD7",
        "colab_type": "code",
        "colab": {
          "base_uri": "https://localhost:8080/",
          "height": 245
        },
        "outputId": "ee76d9e4-dfc9-43f6-e8dc-68fdb51d1c77"
      },
      "source": [
        "from sklearn.metrics import classification_report\n",
        "print(classification_report(y_true_final, y_pred_final, target_names=classes, digits=3))"
      ],
      "execution_count": 27,
      "outputs": [
        {
          "output_type": "stream",
          "text": [
            "/usr/local/lib/python3.6/dist-packages/sklearn/metrics/_classification.py:1272: UndefinedMetricWarning: Precision and F-score are ill-defined and being set to 0.0 in labels with no predicted samples. Use `zero_division` parameter to control this behavior.\n",
            "  _warn_prf(average, modifier, msg_start, len(result))\n"
          ],
          "name": "stderr"
        },
        {
          "output_type": "stream",
          "text": [
            "              precision    recall  f1-score   support\n",
            "\n",
            "         Pos      0.000     0.000     0.000       302\n",
            "         Neu      0.535     0.711     0.610       280\n",
            "         Neg      0.360     0.772     0.491       184\n",
            "\n",
            "    accuracy                          0.445       766\n",
            "   macro avg      0.298     0.494     0.367       766\n",
            "weighted avg      0.282     0.445     0.341       766\n",
            "\n"
          ],
          "name": "stdout"
        }
      ]
    },
    {
      "cell_type": "markdown",
      "metadata": {
        "id": "4t8l6KxNj3bs",
        "colab_type": "text"
      },
      "source": [
        "## t-SNE of the Validation Encodings"
      ]
    },
    {
      "cell_type": "code",
      "metadata": {
        "id": "fJHdvqfkeh2v",
        "colab_type": "code",
        "colab": {
          "base_uri": "https://localhost:8080/",
          "height": 258
        },
        "outputId": "8845bb5c-f13c-48ef-b605-7c97ffe2a66d"
      },
      "source": [
        "from sklearn.manifold import TSNE\n",
        "import matplotlib.pyplot as plt\n",
        "\n",
        "# z_mean_val = np.load('/content/drive/My Drive/Machine-Learning-Projects/cs231n-project/notebooks/VAE/z_mean_val_5.pkl' , allow_pickle=True)\n",
        "tsne = TSNE()\n",
        "X_valid_2D = tsne.fit_transform(z_mean_val)\n",
        "\n",
        "plt.scatter(X_valid_2D[:, 0], X_valid_2D[:, 1], c=y_valid_np, s=3)\n",
        "plt.colorbar()\n",
        "plt.axis('off')\n",
        "plt.show()"
      ],
      "execution_count": 30,
      "outputs": [
        {
          "output_type": "display_data",
          "data": {
            "image/png": "[encoded data removed]",
            "text/plain": [
              "<Figure size 432x288 with 2 Axes>"
            ]
          },
          "metadata": {
            "tags": [],
            "needs_background": "light"
          }
        }
      ]
    }
  ]
}