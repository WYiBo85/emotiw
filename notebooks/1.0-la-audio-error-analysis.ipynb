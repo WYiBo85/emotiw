{
  "nbformat": 4,
  "nbformat_minor": 0,
  "metadata": {
    "colab": {
      "name": "1.0-la-audio-error-analysis.ipynb",
      "provenance": [],
      "collapsed_sections": [],
      "machine_shape": "hm",
      "mount_file_id": "1FfYZvzKlUx32ApXwg8VPsB6mAUGxMi_0",
      "authorship_tag": "ABX9TyM69/+p8FqpGzOykD0irE2Y",
      "include_colab_link": true
    },
    "kernelspec": {
      "name": "python3",
      "display_name": "Python 3"
    },
    "accelerator": "GPU"
  },
  "cells": [
    {
      "cell_type": "markdown",
      "metadata": {
        "id": "view-in-github",
        "colab_type": "text"
      },
      "source": [
        "<a href=\"https://colab.research.google.com/github/kevincong95/cs231n-emotiw/blob/master/notebooks/1.0-la-audio-error-analysis.ipynb\" target=\"_parent\"><img src=\"https://colab.research.google.com/assets/colab-badge.svg\" alt=\"Open In Colab\"/></a>"
      ]
    },
    {
      "cell_type": "code",
      "metadata": {
        "id": "rQb4I5rx79Ps",
        "colab_type": "code",
        "colab": {}
      },
      "source": [
        ""
      ],
      "execution_count": 0,
      "outputs": []
    },
    {
      "cell_type": "code",
      "metadata": {
        "id": "AkQfCu0vEUg4",
        "colab_type": "code",
        "outputId": "1077d136-3f90-4ff5-d257-0943ac45b34b",
        "colab": {
          "base_uri": "https://localhost:8080/",
          "height": 139
        }
      },
      "source": [
        "!git clone 'https://github.com/kevincong95/cs231n-emotiw.git'"
      ],
      "execution_count": 0,
      "outputs": [
        {
          "output_type": "stream",
          "text": [
            "Cloning into 'cs231n-emotiw'...\n",
            "remote: Enumerating objects: 19, done.\u001b[K\n",
            "remote: Counting objects: 100% (19/19), done.\u001b[K\n",
            "remote: Compressing objects: 100% (17/17), done.\u001b[K\n",
            "remote: Total 702 (delta 7), reused 5 (delta 2), pack-reused 683\u001b[K\n",
            "Receiving objects: 100% (702/702), 173.73 MiB | 13.32 MiB/s, done.\n",
            "Resolving deltas: 100% (415/415), done.\n"
          ],
          "name": "stdout"
        }
      ]
    },
    {
      "cell_type": "code",
      "metadata": {
        "id": "U0VRZJVXEiXY",
        "colab_type": "code",
        "colab": {}
      },
      "source": [
        "# Switch to TF 1.x and navigate to the directory\n",
        "%tensorflow_version 1.x\n",
        "!pwd\n",
        "import os\n",
        "os.chdir('cs231n-emotiw')\n",
        "!pwd\n",
        "\n",
        "# Install required packages \n",
        "!pip install -r 'requirements-predictions.txt'"
      ],
      "execution_count": 0,
      "outputs": []
    },
    {
      "cell_type": "code",
      "metadata": {
        "id": "Kxuc_22XE0H5",
        "colab_type": "code",
        "colab": {}
      },
      "source": [
        "!wget 'https://storage.googleapis.com/cs231n-emotiw/data/Train_labels.txt'\n",
        "!wget 'https://storage.googleapis.com/cs231n-emotiw/data/Val_labels.txt'\n",
        "!wget 'https://storage.googleapis.com/cs231n-emotiw/data/train-full.zip'\n",
        "!wget 'https://storage.googleapis.com/cs231n-emotiw/data/val-full.zip'"
      ],
      "execution_count": 0,
      "outputs": []
    },
    {
      "cell_type": "code",
      "metadata": {
        "id": "Z8aNngYh64lH",
        "colab_type": "code",
        "colab": {}
      },
      "source": [
        "!unzip '/content/cs231n-emotiw/val-full.zip'\n"
      ],
      "execution_count": 0,
      "outputs": []
    },
    {
      "cell_type": "code",
      "metadata": {
        "id": "zpVNtJuICWfG",
        "colab_type": "code",
        "outputId": "b4ed3bd9-a0bb-4eea-eaea-9daf97d9e5d8",
        "colab": {
          "base_uri": "https://localhost:8080/",
          "height": 35
        }
      },
      "source": [
        "%tensorflow_version 1.x"
      ],
      "execution_count": 0,
      "outputs": [
        {
          "output_type": "stream",
          "text": [
            "TensorFlow 1.x selected.\n"
          ],
          "name": "stdout"
        }
      ]
    },
    {
      "cell_type": "code",
      "metadata": {
        "id": "x9lVkV-aCbhw",
        "colab_type": "code",
        "colab": {}
      },
      "source": [
        "import os\n",
        "os.chdir('/content/cs231n-emotiw')"
      ],
      "execution_count": 0,
      "outputs": []
    },
    {
      "cell_type": "code",
      "metadata": {
        "id": "XCrIfxOLHjBI",
        "colab_type": "code",
        "outputId": "c22d17a1-2093-4b34-902d-10555db2e403",
        "colab": {
          "base_uri": "https://localhost:8080/",
          "height": 69
        }
      },
      "source": [
        "from src.preprocessors.audio_preprocessor import AudioPreprocessor\n",
        "audio_preprocessor_val = AudioPreprocessor(video_folder='/content/cs231n-emotiw/Val/' , output_folder='val-full-2/' , label_path='./Val_labels.txt')"
      ],
      "execution_count": 0,
      "outputs": [
        {
          "output_type": "stream",
          "text": [
            "Using TensorFlow backend.\n"
          ],
          "name": "stderr"
        },
        {
          "output_type": "stream",
          "text": [
            "Video Preprocessor created with video_folder = /content/cs231n-emotiw/Val/ , output_folder = val-full-2/, output_file = None\n",
            "Frames will be created with hop_size = 0.5\n"
          ],
          "name": "stdout"
        }
      ]
    },
    {
      "cell_type": "code",
      "metadata": {
        "id": "DBb7eocbL0AV",
        "colab_type": "code",
        "colab": {}
      },
      "source": [
        "audio_preprocessor_val.preprocess(batch_size=32)"
      ],
      "execution_count": 0,
      "outputs": []
    },
    {
      "cell_type": "markdown",
      "metadata": {
        "id": "PtsjYKEk_YSI",
        "colab_type": "text"
      },
      "source": [
        "## Retrieve Preprocessed Data"
      ]
    },
    {
      "cell_type": "code",
      "metadata": {
        "id": "3up2WhPc_b4Y",
        "colab_type": "code",
        "colab": {}
      },
      "source": [
        "%tensorflow_version 2.x"
      ],
      "execution_count": 0,
      "outputs": []
    },
    {
      "cell_type": "code",
      "metadata": {
        "id": "iJqo7-KkdPJn",
        "colab_type": "code",
        "colab": {}
      },
      "source": [
        "import numpy as np\n",
        "X_train = np.load('/content/drive/My Drive/Machine-Learning-Projects/cs231n-project/notebooks/audio-final/audio-pickle-all-X-openl3-train.pkl', allow_pickle=True)\n",
        "Y_train = np.load('/content/drive/My Drive/Machine-Learning-Projects/cs231n-project/notebooks/audio-final/audio-pickle-all-Y-openl3-train.pkl' , allow_pickle=True)\n",
        "\n",
        "Y_val = np.load('/content/drive/My Drive/Machine-Learning-Projects/cs231n-project/notebooks/audio-final/audio-pickle-all-Y-openl3-val.pkl' , allow_pickle=True)\n",
        "X_val = np.load('/content/drive/My Drive/Machine-Learning-Projects/cs231n-project/notebooks/audio-final/audio-pickle-all-X-openl3-val.pkl' , allow_pickle=True)"
      ],
      "execution_count": 0,
      "outputs": []
    },
    {
      "cell_type": "code",
      "metadata": {
        "id": "S-hDLRV8eArA",
        "colab_type": "code",
        "colab": {}
      },
      "source": [
        "def normalize(X_train , X_val):\n",
        "    from sklearn.preprocessing import Normalizer\n",
        "    X_train_copy = X_train\n",
        "    X_val_copy = X_val\n",
        "    scaler = Normalizer()\n",
        "\n",
        "    for i in range(0,X_train_copy.shape[0]):\n",
        "      X_train_copy[i] = scaler.fit_transform(X_train_copy[i])\n",
        "\n",
        "    for i in range(0,X_val_copy.shape[0]):\n",
        "      X_val_copy[i] = scaler.fit_transform(X_val_copy[i])\n",
        "\n",
        "    return X_train_copy , X_val_copy"
      ],
      "execution_count": 0,
      "outputs": []
    },
    {
      "cell_type": "code",
      "metadata": {
        "id": "NT6M8m3HeMuY",
        "colab_type": "code",
        "colab": {}
      },
      "source": [
        "X_train_norm , X_val_norm = normalize(X_train , X_val)"
      ],
      "execution_count": 0,
      "outputs": []
    },
    {
      "cell_type": "markdown",
      "metadata": {
        "id": "McqKwwwy-y77",
        "colab_type": "text"
      },
      "source": [
        "## Retrieve Model and Predict/Evaluate"
      ]
    },
    {
      "cell_type": "code",
      "metadata": {
        "id": "x2p3GYeY_rNH",
        "colab_type": "code",
        "colab": {}
      },
      "source": [
        "import tensorflow as tf"
      ],
      "execution_count": 0,
      "outputs": []
    },
    {
      "cell_type": "code",
      "metadata": {
        "id": "ESuY2TGI-2tG",
        "colab_type": "code",
        "colab": {}
      },
      "source": [
        "!wget 'https://storage.googleapis.com/cs231n-emotiw/models/openl3-cnn-lstm-tuned-lr.h5'"
      ],
      "execution_count": 0,
      "outputs": []
    },
    {
      "cell_type": "code",
      "metadata": {
        "id": "JYblRrhb_TVK",
        "colab_type": "code",
        "colab": {
          "base_uri": "https://localhost:8080/",
          "height": 69
        },
        "outputId": "36141fe3-f656-4ec1-995a-0509de2e6b9f"
      },
      "source": [
        "model = tf.keras.models.load_model('/content/cs231n-emotiw/openl3-cnn-lstm-tuned-lr.h5')"
      ],
      "execution_count": 69,
      "outputs": [
        {
          "output_type": "stream",
          "text": [
            "WARNING:tensorflow:Layer lstm will not use cuDNN kernel since it doesn't meet the cuDNN kernel criteria. It will use generic GPU kernel as fallback when running on GPU\n",
            "WARNING:tensorflow:Layer lstm will not use cuDNN kernel since it doesn't meet the cuDNN kernel criteria. It will use generic GPU kernel as fallback when running on GPU\n",
            "WARNING:tensorflow:Layer lstm will not use cuDNN kernel since it doesn't meet the cuDNN kernel criteria. It will use generic GPU kernel as fallback when running on GPU\n"
          ],
          "name": "stdout"
        }
      ]
    },
    {
      "cell_type": "code",
      "metadata": {
        "id": "E0M5E-S1ACoY",
        "colab_type": "code",
        "outputId": "a89dbb54-9198-4607-f667-d536f6a5bf28",
        "colab": {
          "base_uri": "https://localhost:8080/",
          "height": 780
        }
      },
      "source": [
        "model.summary()"
      ],
      "execution_count": 70,
      "outputs": [
        {
          "output_type": "stream",
          "text": [
            "Model: \"model\"\n",
            "_________________________________________________________________\n",
            "Layer (type)                 Output Shape              Param #   \n",
            "=================================================================\n",
            "input_1 (InputLayer)         [(None, None, 6144)]      0         \n",
            "_________________________________________________________________\n",
            "conv1d (Conv1D)              (None, None, 64)          786496    \n",
            "_________________________________________________________________\n",
            "batch_normalization (BatchNo (None, None, 64)          256       \n",
            "_________________________________________________________________\n",
            "max_pooling1d (MaxPooling1D) (None, None, 64)          0         \n",
            "_________________________________________________________________\n",
            "dropout (Dropout)            (None, None, 64)          0         \n",
            "_________________________________________________________________\n",
            "conv1d_1 (Conv1D)            (None, None, 512)         66048     \n",
            "_________________________________________________________________\n",
            "batch_normalization_1 (Batch (None, None, 512)         2048      \n",
            "_________________________________________________________________\n",
            "max_pooling1d_1 (MaxPooling1 (None, None, 512)         0         \n",
            "_________________________________________________________________\n",
            "dropout_1 (Dropout)          (None, None, 512)         0         \n",
            "_________________________________________________________________\n",
            "conv1d_2 (Conv1D)            (None, None, 512)         524800    \n",
            "_________________________________________________________________\n",
            "batch_normalization_2 (Batch (None, None, 512)         2048      \n",
            "_________________________________________________________________\n",
            "max_pooling1d_2 (MaxPooling1 (None, None, 512)         0         \n",
            "_________________________________________________________________\n",
            "dropout_2 (Dropout)          (None, None, 512)         0         \n",
            "_________________________________________________________________\n",
            "bidirectional (Bidirectional (None, None, 20)          41840     \n",
            "_________________________________________________________________\n",
            "bidirectional_1 (Bidirection (None, 10)                1040      \n",
            "_________________________________________________________________\n",
            "dense (Dense)                (None, 32)                352       \n",
            "_________________________________________________________________\n",
            "dropout_3 (Dropout)          (None, 32)                0         \n",
            "_________________________________________________________________\n",
            "dense_1 (Dense)              (None, 3)                 99        \n",
            "=================================================================\n",
            "Total params: 1,425,027\n",
            "Trainable params: 1,422,851\n",
            "Non-trainable params: 2,176\n",
            "_________________________________________________________________\n"
          ],
          "name": "stdout"
        }
      ]
    },
    {
      "cell_type": "code",
      "metadata": {
        "id": "uVVERVOzGcYT",
        "colab_type": "code",
        "outputId": "c6111322-9b98-4973-d5e4-c8d459deb368",
        "colab": {
          "base_uri": "https://localhost:8080/",
          "height": 35
        }
      },
      "source": [
        "print(X_val.shape)"
      ],
      "execution_count": 71,
      "outputs": [
        {
          "output_type": "stream",
          "text": [
            "(766, 11, 6144)\n"
          ],
          "name": "stdout"
        }
      ]
    },
    {
      "cell_type": "markdown",
      "metadata": {
        "id": "96zRKhY3JLE0",
        "colab_type": "text"
      },
      "source": [
        "## Evaluate Model Performance"
      ]
    },
    {
      "cell_type": "code",
      "metadata": {
        "id": "22j7ZVAj_Qhs",
        "colab_type": "code",
        "colab": {
          "base_uri": "https://localhost:8080/",
          "height": 156
        },
        "outputId": "f6377cf6-12ee-4911-a302-d28daf306d74"
      },
      "source": [
        "predictions = model.predict(X_val_norm)"
      ],
      "execution_count": 72,
      "outputs": [
        {
          "output_type": "stream",
          "text": [
            "WARNING:tensorflow:AutoGraph could not transform <function Model.make_predict_function.<locals>.predict_function at 0x7f638b97ab70> and will run it as-is.\n",
            "Please report this to the TensorFlow team. When filing the bug, set the verbosity to 10 (on Linux, `export AUTOGRAPH_VERBOSITY=10`) and attach the full output.\n",
            "Cause: Bad argument number for Name: 4, expecting 3\n",
            "To silence this warning, decorate the function with @tf.autograph.experimental.do_not_convert\n",
            "WARNING: AutoGraph could not transform <function Model.make_predict_function.<locals>.predict_function at 0x7f638b97ab70> and will run it as-is.\n",
            "Please report this to the TensorFlow team. When filing the bug, set the verbosity to 10 (on Linux, `export AUTOGRAPH_VERBOSITY=10`) and attach the full output.\n",
            "Cause: Bad argument number for Name: 4, expecting 3\n",
            "To silence this warning, decorate the function with @tf.autograph.experimental.do_not_convert\n"
          ],
          "name": "stdout"
        }
      ]
    },
    {
      "cell_type": "code",
      "metadata": {
        "id": "AuLTZ11LJOqC",
        "colab_type": "code",
        "outputId": "74967ef1-9c6c-4946-fe9d-5509f13ad342",
        "colab": {
          "base_uri": "https://localhost:8080/",
          "height": 191
        }
      },
      "source": [
        "model.evaluate(X_val_norm , Y_val)"
      ],
      "execution_count": 73,
      "outputs": [
        {
          "output_type": "stream",
          "text": [
            "WARNING:tensorflow:AutoGraph could not transform <function Model.make_test_function.<locals>.test_function at 0x7f638b1c6158> and will run it as-is.\n",
            "Please report this to the TensorFlow team. When filing the bug, set the verbosity to 10 (on Linux, `export AUTOGRAPH_VERBOSITY=10`) and attach the full output.\n",
            "Cause: Bad argument number for Name: 4, expecting 3\n",
            "To silence this warning, decorate the function with @tf.autograph.experimental.do_not_convert\n",
            "WARNING: AutoGraph could not transform <function Model.make_test_function.<locals>.test_function at 0x7f638b1c6158> and will run it as-is.\n",
            "Please report this to the TensorFlow team. When filing the bug, set the verbosity to 10 (on Linux, `export AUTOGRAPH_VERBOSITY=10`) and attach the full output.\n",
            "Cause: Bad argument number for Name: 4, expecting 3\n",
            "To silence this warning, decorate the function with @tf.autograph.experimental.do_not_convert\n",
            "24/24 [==============================] - 0s 7ms/step - loss: 1.0272 - accuracy: 0.5770\n"
          ],
          "name": "stdout"
        },
        {
          "output_type": "execute_result",
          "data": {
            "text/plain": [
              "[1.0272266864776611, 0.5770235061645508]"
            ]
          },
          "metadata": {
            "tags": []
          },
          "execution_count": 73
        }
      ]
    },
    {
      "cell_type": "markdown",
      "metadata": {
        "id": "B6K5hbOIJY6x",
        "colab_type": "text"
      },
      "source": [
        "#### F1 Score\n"
      ]
    },
    {
      "cell_type": "code",
      "metadata": {
        "id": "hVjY9Yv6Jbhb",
        "colab_type": "code",
        "outputId": "6ccd9778-1b61-453b-9cd4-0579238d0653",
        "colab": {
          "base_uri": "https://localhost:8080/",
          "height": 35
        }
      },
      "source": [
        "from sklearn.metrics import f1_score\n",
        "y_pred = model.predict(X_val_norm)\n",
        "Y_class = y_pred.argmax(axis=-1)\n",
        "f1_score(Y_val, Y_class, average='micro')"
      ],
      "execution_count": 74,
      "outputs": [
        {
          "output_type": "execute_result",
          "data": {
            "text/plain": [
              "0.577023498694517"
            ]
          },
          "metadata": {
            "tags": []
          },
          "execution_count": 74
        }
      ]
    },
    {
      "cell_type": "code",
      "metadata": {
        "id": "J_vjGYToKzXk",
        "colab_type": "code",
        "outputId": "808a2530-8208-4b12-9138-f5590c98425f",
        "colab": {
          "base_uri": "https://localhost:8080/",
          "height": 571
        }
      },
      "source": [
        "from sklearn import metrics \n",
        "import pandas as pd\n",
        "import seaborn as sn\n",
        "\n",
        "import matplotlib.pyplot as plt\n",
        "\n",
        "\n",
        "classes=['Pos' , 'Neu' , 'Neg'] \n",
        "\n",
        "con_mat = tf.math.confusion_matrix(labels=Y_val, predictions=Y_class).numpy()\n",
        "\n",
        "con_mat_norm = np.around(con_mat.astype('float') / con_mat.sum(axis=1)[:, np.newaxis], decimals=2)\n",
        "\n",
        "con_mat_df = pd.DataFrame(con_mat_norm,\n",
        "                  index = classes, \n",
        "                  columns = classes)\n",
        "\n",
        "\n",
        "figure = plt.figure(figsize=(11, 9))\n",
        "plt.title(\"Audio Model Confusion Matrix\")\n",
        "sn.heatmap(con_mat_df, annot=True,cmap=plt.cm.Blues)"
      ],
      "execution_count": 75,
      "outputs": [
        {
          "output_type": "execute_result",
          "data": {
            "text/plain": [
              "<matplotlib.axes._subplots.AxesSubplot at 0x7f639146c128>"
            ]
          },
          "metadata": {
            "tags": []
          },
          "execution_count": 75
        },
        {
          "output_type": "display_data",
          "data": {
            "image/png": "[encoded data removed]",
            "text/plain": [
              "<Figure size 792x648 with 2 Axes>"
            ]
          },
          "metadata": {
            "tags": [],
            "needs_background": "light"
          }
        }
      ]
    },
    {
      "cell_type": "markdown",
      "metadata": {
        "id": "0bNUytC_-jnE",
        "colab_type": "text"
      },
      "source": [
        "## Visualize some of the Embeddings on a per frame basis"
      ]
    },
    {
      "cell_type": "code",
      "metadata": {
        "id": "Wy4xvvgVFMde",
        "colab_type": "code",
        "colab": {}
      },
      "source": [
        "import matplotlib.pyplot as plt\n",
        "import cv2\n",
        "\n",
        "class_names = [\"Positive\" , \"Neutral\" , \"Negative\"]\n",
        "def plot_image(i, time_point, predictions_array, true_label, embeddings):\n",
        "  predictions_array, true_label = predictions_array, true_label[i]\n",
        "  plt.grid(False)\n",
        "  plt.xticks([])\n",
        "  plt.yticks([])\n",
        "\n",
        "\n",
        "  embed_sqr = np.concatenate([embeddings[i][time_point]]*embeddings.shape[2])\n",
        "  embed_sqr = cv2.resize(embed_sqr, (28, 28))\n",
        "\n",
        "  plt.imshow(embed_sqr, cmap=plt.cm.binary)\n",
        "\n",
        "\n",
        "\n",
        "  predicted_label = np.argmax(predictions_array[i])\n",
        "  if predicted_label == true_label:\n",
        "    color = 'blue'\n",
        "  else:\n",
        "    color = 'red'\n",
        "\n",
        "  plt.xlabel(\"{} {:2.0f}% ({})\".format(class_names[predicted_label],\n",
        "                                100*np.max(predictions_array),\n",
        "                                class_names[true_label]),\n",
        "                                color=color)\n",
        "\n",
        "def plot_value_array(i, predictions_array, true_label):\n",
        "  predictions_array, true_label = predictions_array, true_label[i]\n",
        "  plt.grid(False)\n",
        "  plt.xticks(range(3))\n",
        "  plt.yticks([])\n",
        "  thisplot = plt.bar(range(3), predictions_array, color=\"#777777\")\n",
        "  plt.ylim([0, 1])\n",
        "  predicted_label = np.argmax(predictions_array)\n",
        "\n",
        "  thisplot[predicted_label].set_color('red')\n",
        "  thisplot[true_label].set_color('blue')"
      ],
      "execution_count": 0,
      "outputs": []
    },
    {
      "cell_type": "code",
      "metadata": {
        "id": "zxZYlShwHEE_",
        "colab_type": "code",
        "outputId": "4b027e68-39a8-414f-a86f-96b33c927636",
        "colab": {
          "base_uri": "https://localhost:8080/",
          "height": 211
        }
      },
      "source": [
        "i = 0\n",
        "plt.figure(figsize=(6,3))\n",
        "plt.subplot(1,2,1)\n",
        "plot_image(i , 1 , predictions, Y_val , X_val)\n",
        "plt.subplot(1,2,2)\n",
        "plot_value_array(i, predictions[i],  Y_val)\n",
        "plt.show()"
      ],
      "execution_count": 0,
      "outputs": [
        {
          "output_type": "display_data",
          "data": {
            "image/png": "[encoded data removed]",
            "text/plain": [
              "<Figure size 432x216 with 2 Axes>"
            ]
          },
          "metadata": {
            "tags": [],
            "needs_background": "light"
          }
        }
      ]
    },
    {
      "cell_type": "code",
      "metadata": {
        "id": "1bkBewTzImgx",
        "colab_type": "code",
        "outputId": "a45aa5de-1d26-4d91-b51c-2bb3981fa2b5",
        "colab": {
          "base_uri": "https://localhost:8080/",
          "height": 729
        }
      },
      "source": [
        "# Plot the first X test images, their predicted labels, and the true labels.\n",
        "# Color correct predictions in blue and incorrect predictions in red.\n",
        "num_rows = 5\n",
        "num_cols = 3\n",
        "\n",
        "np.random.seed(42)\n",
        "np.random.shuffle(X_val)\n",
        "np.random.shuffle(predictions)\n",
        "np.random.shuffle(Y_val)\n",
        "\n",
        "num_images = num_rows*num_cols\n",
        "plt.figure(figsize=(2*2*num_cols, 2*num_rows))\n",
        "for i in range(num_images):\n",
        "  plt.subplot(num_rows, 2*num_cols, 2*i+1)\n",
        "  plot_image(i , 1 , predictions, Y_val , X_val)\n",
        "  plt.subplot(num_rows, 2*num_cols, 2*i+2)\n",
        "  plot_value_array(i, predictions[i],  Y_val)\n",
        "plt.tight_layout()\n",
        "plt.show()"
      ],
      "execution_count": 0,
      "outputs": [
        {
          "output_type": "display_data",
          "data": {
            "image/png": "[encoded data removed]",
            "text/plain": [
              "<Figure size 864x720 with 30 Axes>"
            ]
          },
          "metadata": {
            "tags": [],
            "needs_background": "light"
          }
        }
      ]
    },
    {
      "cell_type": "markdown",
      "metadata": {
        "id": "tbl6iV_KI-c4",
        "colab_type": "text"
      },
      "source": [
        "## Visualize the input spectrograms and how they affect predictions\n"
      ]
    },
    {
      "cell_type": "code",
      "metadata": {
        "id": "ODHWsk5nI4HZ",
        "colab_type": "code",
        "colab": {}
      },
      "source": [
        "# TO DO\n",
        "def plot_spectrogram(i, audio_file, predictions_array, true_label, embeddings):\n",
        "  predictions_array, true_label = predictions_array, true_label[i]\n",
        "  plt.grid(False)\n",
        "  plt.xticks([])\n",
        "  plt.yticks([])\n",
        "\n",
        "\n",
        "  embed_sqr = np.concatenate([embeddings[i][time_point]]*embeddings.shape[2])\n",
        "  embed_sqr = cv2.resize(embed_sqr, (28, 28))\n",
        "\n",
        "  plt.imshow(embed_sqr, cmap=plt.cm.binary)\n",
        "\n",
        "\n",
        "\n",
        "  predicted_label = np.argmax(predictions_array[i])\n",
        "  if predicted_label == true_label:\n",
        "    color = 'blue'\n",
        "  else:\n",
        "    color = 'red'\n",
        "\n",
        "  plt.xlabel(\"{} {:2.0f}% ({})\".format(class_names[predicted_label],\n",
        "                                100*np.max(predictions_array),\n",
        "                                class_names[true_label]),\n",
        "                                color=color)"
      ],
      "execution_count": 0,
      "outputs": []
    },
    {
      "cell_type": "code",
      "metadata": {
        "id": "iolGTGSz-rDF",
        "colab_type": "code",
        "colab": {}
      },
      "source": [
        "classes = [\"Positive\" , \"Neutral\" , \"Negative\"]\n",
        "\n",
        "def show_batch(all_x, all_y):\n",
        "    plt.figure(figsize=(30,30))\n",
        "    for n in range(0,10):\n",
        "          ax = plt.subplot(5,5,n+1)\n",
        "          plt.imshow(all_x[n].squeeze(), cmap='gray')\n",
        "          plt.title(classes[all_y[n] - 1], fontsize=40)\n",
        "          plt.axis('off')\n"
      ],
      "execution_count": 0,
      "outputs": []
    },
    {
      "cell_type": "code",
      "metadata": {
        "id": "jORiGXlA97yp",
        "colab_type": "code",
        "colab": {}
      },
      "source": [
        "classes = [\"Positive\" , \"Neutral\" , \"Negative\"]\n",
        "\n",
        "def show_batch(all_x, all_y):\n",
        "    plt.figure(figsize=(30,30))\n",
        "    for n in range(0,10):\n",
        "          ax = plt.subplot(5,5,n+1)\n",
        "          plt.imshow(all_x[n].squeeze(), cmap='gray')\n",
        "          plt.title(classes[all_y[n] - 1], fontsize=40)\n",
        "          plt.axis('off')\n",
        "\n",
        "show_batch(X_train_img, y_train)"
      ],
      "execution_count": 0,
      "outputs": []
    }
  ]
}