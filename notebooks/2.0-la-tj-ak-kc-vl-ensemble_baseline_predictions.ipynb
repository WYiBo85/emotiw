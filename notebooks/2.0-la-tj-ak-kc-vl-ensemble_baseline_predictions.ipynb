{
  "nbformat": 4,
  "nbformat_minor": 0,
  "metadata": {
    "colab": {
      "name": "2.0-la-tj-ak-kc-vl-ensemble_baseline_predictions.ipynb",
      "provenance": [],
      "collapsed_sections": []
    },
    "kernelspec": {
      "name": "python3",
      "display_name": "Python 3"
    },
    "accelerator": "GPU"
  },
  "cells": [
    {
      "cell_type": "markdown",
      "metadata": {
        "id": "view-in-github",
        "colab_type": "text"
      },
      "source": [
        "<a href=\"https://colab.research.google.com/github/kevincong95/cs231n-emotiw/blob/master/notebooks/2.0-la-tj-ak-ensemble_baseline_predictions.ipynb\" target=\"_parent\"><img src=\"https://colab.research.google.com/assets/colab-badge.svg\" alt=\"Open In Colab\"/></a>"
      ]
    },
    {
      "cell_type": "markdown",
      "metadata": {
        "id": "0rWTS99OI8l-",
        "colab_type": "text"
      },
      "source": [
        "## Video Sentiment Analysis in the Wild\n",
        "### Ensembling Notebook | CS231n\n",
        "\n",
        "This notebook preprocesses input videos to extract faces, frames, poses, and audio before running pre-trained models for each modality to predict group sentiment (positive, negative, or neutral). "
      ]
    },
    {
      "cell_type": "code",
      "metadata": {
        "id": "58avLN7UlDDA",
        "colab_type": "code",
        "colab": {
          "base_uri": "https://localhost:8080/",
          "height": 1000
        },
        "outputId": "86a44408-ae87-4b76-f724-7842066f45e2"
      },
      "source": [
        "# Clone the code base\n",
        "!git clone 'https://github.com/kevincong95/cs231n-emotiw.git'\n",
        "\n",
        "# Switch to TF 1.x and navigate to the directory\n",
        "%tensorflow_version 1.x\n",
        "!pwd\n",
        "import os\n",
        "os.chdir('cs231n-emotiw')\n",
        "!pwd\n",
        "\n",
        "# Install required packages \n",
        "!pip install -r 'requirements-predictions.txt'\n"
      ],
      "execution_count": 1,
      "outputs": [
        {
          "output_type": "stream",
          "text": [
            "Cloning into 'cs231n-emotiw'...\n",
            "remote: Enumerating objects: 71, done.\u001b[K\n",
            "remote: Counting objects: 100% (71/71), done.\u001b[K\n",
            "remote: Compressing objects: 100% (55/55), done.\u001b[K\n",
            "remote: Total 754 (delta 42), reused 27 (delta 16), pack-reused 683\u001b[K\n",
            "Receiving objects: 100% (754/754), 175.22 MiB | 38.52 MiB/s, done.\n",
            "Resolving deltas: 100% (450/450), done.\n",
            "TensorFlow 1.x selected.\n",
            "/content\n",
            "/content/cs231n-emotiw\n",
            "Requirement already satisfied: tensorflow in /tensorflow-1.15.2/python3.6 (from -r requirements-predictions.txt (line 1)) (1.15.2)\n",
            "Requirement already satisfied: opencv-python>=4.0 in /usr/local/lib/python3.6/dist-packages (from -r requirements-predictions.txt (line 2)) (4.1.2.30)\n",
            "Collecting pydub==0.24.0\n",
            "  Downloading https://files.pythonhosted.org/packages/ba/f9/2cd255898c11179a57415937d601ab1e8a14a7c6a8331ff9c365e97e41f6/pydub-0.24.0-py2.py3-none-any.whl\n",
            "Requirement already satisfied: matplotlib in /usr/local/lib/python3.6/dist-packages (from -r requirements-predictions.txt (line 4)) (3.2.1)\n",
            "Collecting moviepy>=1.0.0\n",
            "\u001b[?25l  Downloading https://files.pythonhosted.org/packages/18/54/01a8c4e35c75ca9724d19a7e4de9dc23f0ceb8769102c7de056113af61c3/moviepy-1.0.3.tar.gz (388kB)\n",
            "\u001b[K     |████████████████████████████████| 389kB 8.6MB/s \n",
            "\u001b[?25hRequirement already satisfied: audioread in /usr/local/lib/python3.6/dist-packages (from -r requirements-predictions.txt (line 6)) (2.1.8)\n",
            "Requirement already satisfied: pandas in /usr/local/lib/python3.6/dist-packages (from -r requirements-predictions.txt (line 7)) (1.0.3)\n",
            "Requirement already satisfied: glob2 in /usr/local/lib/python3.6/dist-packages (from -r requirements-predictions.txt (line 8)) (0.7)\n",
            "Collecting argparse\n",
            "  Downloading https://files.pythonhosted.org/packages/f2/94/3af39d34be01a24a6e65433d19e107099374224905f1e0cc6bbe1fd22a2f/argparse-1.4.0-py2.py3-none-any.whl\n",
            "Requirement already satisfied: numpy in /usr/local/lib/python3.6/dist-packages (from -r requirements-predictions.txt (line 11)) (1.18.4)\n",
            "Collecting openl3\n",
            "  Downloading https://files.pythonhosted.org/packages/e2/88/8536723b81c47ada614d008a75e71923932f22e35ab89d4bf5fe441b58fc/openl3-0.3.1.tar.gz\n",
            "Collecting SoundFile\n",
            "  Downloading https://files.pythonhosted.org/packages/eb/f2/3cbbbf3b96fb9fa91582c438b574cff3f45b29c772f94c400e2c99ef5db9/SoundFile-0.10.3.post1-py2.py3-none-any.whl\n",
            "Collecting imgaug<0.2.7,>=0.2.5\n",
            "\u001b[?25l  Downloading https://files.pythonhosted.org/packages/ad/2e/748dbb7bb52ec8667098bae9b585f448569ae520031932687761165419a2/imgaug-0.2.6.tar.gz (631kB)\n",
            "\u001b[K     |████████████████████████████████| 634kB 15.3MB/s \n",
            "\u001b[?25hCollecting face_recognition\n",
            "  Downloading https://files.pythonhosted.org/packages/1e/95/f6c9330f54ab07bfa032bf3715c12455a381083125d8880c43cbe76bb3d0/face_recognition-1.3.0-py2.py3-none-any.whl\n",
            "Requirement already satisfied: dlib in /usr/local/lib/python3.6/dist-packages (from -r requirements-predictions.txt (line 16)) (19.18.0)\n",
            "Requirement already satisfied: six>=1.10.0 in /usr/local/lib/python3.6/dist-packages (from tensorflow->-r requirements-predictions.txt (line 1)) (1.12.0)\n",
            "Requirement already satisfied: grpcio>=1.8.6 in /usr/local/lib/python3.6/dist-packages (from tensorflow->-r requirements-predictions.txt (line 1)) (1.29.0)\n",
            "Collecting gast==0.2.2\n",
            "  Downloading https://files.pythonhosted.org/packages/4e/35/11749bf99b2d4e3cceb4d55ca22590b0d7c2c62b9de38ac4a4a7f4687421/gast-0.2.2.tar.gz\n",
            "Requirement already satisfied: opt-einsum>=2.3.2 in /usr/local/lib/python3.6/dist-packages (from tensorflow->-r requirements-predictions.txt (line 1)) (3.2.1)\n",
            "Requirement already satisfied: termcolor>=1.1.0 in /usr/local/lib/python3.6/dist-packages (from tensorflow->-r requirements-predictions.txt (line 1)) (1.1.0)\n",
            "Requirement already satisfied: absl-py>=0.7.0 in /usr/local/lib/python3.6/dist-packages (from tensorflow->-r requirements-predictions.txt (line 1)) (0.9.0)\n",
            "Requirement already satisfied: tensorflow-estimator==1.15.1 in /tensorflow-1.15.2/python3.6 (from tensorflow->-r requirements-predictions.txt (line 1)) (1.15.1)\n",
            "Requirement already satisfied: wheel>=0.26; python_version >= \"3\" in /usr/local/lib/python3.6/dist-packages (from tensorflow->-r requirements-predictions.txt (line 1)) (0.34.2)\n",
            "Requirement already satisfied: keras-preprocessing>=1.0.5 in /usr/local/lib/python3.6/dist-packages (from tensorflow->-r requirements-predictions.txt (line 1)) (1.1.2)\n",
            "Requirement already satisfied: protobuf>=3.6.1 in /usr/local/lib/python3.6/dist-packages (from tensorflow->-r requirements-predictions.txt (line 1)) (3.10.0)\n",
            "Requirement already satisfied: astor>=0.6.0 in /usr/local/lib/python3.6/dist-packages (from tensorflow->-r requirements-predictions.txt (line 1)) (0.8.1)\n",
            "Requirement already satisfied: wrapt>=1.11.1 in /usr/local/lib/python3.6/dist-packages (from tensorflow->-r requirements-predictions.txt (line 1)) (1.12.1)\n",
            "Requirement already satisfied: keras-applications>=1.0.8 in /usr/local/lib/python3.6/dist-packages (from tensorflow->-r requirements-predictions.txt (line 1)) (1.0.8)\n",
            "Requirement already satisfied: google-pasta>=0.1.6 in /usr/local/lib/python3.6/dist-packages (from tensorflow->-r requirements-predictions.txt (line 1)) (0.2.0)\n",
            "Requirement already satisfied: tensorboard<1.16.0,>=1.15.0 in /tensorflow-1.15.2/python3.6 (from tensorflow->-r requirements-predictions.txt (line 1)) (1.15.0)\n",
            "Requirement already satisfied: kiwisolver>=1.0.1 in /usr/local/lib/python3.6/dist-packages (from matplotlib->-r requirements-predictions.txt (line 4)) (1.2.0)\n",
            "Requirement already satisfied: pyparsing!=2.0.4,!=2.1.2,!=2.1.6,>=2.0.1 in /usr/local/lib/python3.6/dist-packages (from matplotlib->-r requirements-predictions.txt (line 4)) (2.4.7)\n",
            "Requirement already satisfied: python-dateutil>=2.1 in /usr/local/lib/python3.6/dist-packages (from matplotlib->-r requirements-predictions.txt (line 4)) (2.8.1)\n",
            "Requirement already satisfied: cycler>=0.10 in /usr/local/lib/python3.6/dist-packages (from matplotlib->-r requirements-predictions.txt (line 4)) (0.10.0)\n",
            "Requirement already satisfied: decorator<5.0,>=4.0.2 in /usr/local/lib/python3.6/dist-packages (from moviepy>=1.0.0->-r requirements-predictions.txt (line 5)) (4.4.2)\n",
            "Requirement already satisfied: tqdm<5.0,>=4.11.2 in /usr/local/lib/python3.6/dist-packages (from moviepy>=1.0.0->-r requirements-predictions.txt (line 5)) (4.41.1)\n",
            "Requirement already satisfied: requests<3.0,>=2.8.1 in /usr/local/lib/python3.6/dist-packages (from moviepy>=1.0.0->-r requirements-predictions.txt (line 5)) (2.23.0)\n",
            "Collecting proglog<=1.0.0\n",
            "  Downloading https://files.pythonhosted.org/packages/fe/ab/4cb19b578e1364c0b2d6efd6521a8b4b4e5c4ae6528041d31a2a951dd991/proglog-0.1.9.tar.gz\n",
            "Collecting imageio<3.0,>=2.5\n",
            "\u001b[?25l  Downloading https://files.pythonhosted.org/packages/4c/2b/9dd19644f871b10f7e32eb2dbd6b45149c350b4d5f2893e091b882e03ab7/imageio-2.8.0-py3-none-any.whl (3.3MB)\n",
            "\u001b[K     |████████████████████████████████| 3.3MB 23.9MB/s \n",
            "\u001b[?25hCollecting imageio_ffmpeg>=0.2.0\n",
            "\u001b[?25l  Downloading https://files.pythonhosted.org/packages/df/c8/04c6b4a001b8ae7326fb83d6665af1ee58d6cc1acb421f8ea40d2678fe3c/imageio_ffmpeg-0.4.2-py3-none-manylinux2010_x86_64.whl (26.9MB)\n",
            "\u001b[K     |████████████████████████████████| 26.9MB 115kB/s \n",
            "\u001b[?25hRequirement already satisfied: pytz>=2017.2 in /usr/local/lib/python3.6/dist-packages (from pandas->-r requirements-predictions.txt (line 7)) (2018.9)\n",
            "Collecting keras<2.3.0,>=2.0.9\n",
            "\u001b[?25l  Downloading https://files.pythonhosted.org/packages/f8/ba/2d058dcf1b85b9c212cc58264c98a4a7dd92c989b798823cc5690d062bb2/Keras-2.2.5-py2.py3-none-any.whl (336kB)\n",
            "\u001b[K     |████████████████████████████████| 337kB 60.0MB/s \n",
            "\u001b[?25hRequirement already satisfied: scipy>=0.19.1 in /usr/local/lib/python3.6/dist-packages (from openl3->-r requirements-predictions.txt (line 12)) (1.4.1)\n",
            "Collecting kapre==0.1.4\n",
            "  Downloading https://files.pythonhosted.org/packages/3f/2e/f540d1d1f05c764686163fdb5bb1e5c703f1528076d2829bfc3900683f06/kapre-0.1.4-py3-none-any.whl\n",
            "Collecting PySoundFile>=0.9.0.post1\n",
            "  Downloading https://files.pythonhosted.org/packages/2a/b3/0b871e5fd31b9a8e54b4ee359384e705a1ca1e2870706d2f081dc7cc1693/PySoundFile-0.9.0.post1-py2.py3-none-any.whl\n",
            "Requirement already satisfied: resampy<0.3.0,>=0.2.1 in /usr/local/lib/python3.6/dist-packages (from openl3->-r requirements-predictions.txt (line 12)) (0.2.2)\n",
            "Requirement already satisfied: h5py<3.0.0,>=2.7.0 in /usr/local/lib/python3.6/dist-packages (from openl3->-r requirements-predictions.txt (line 12)) (2.10.0)\n",
            "Collecting scikit-image<0.15.0,>=0.14.3\n",
            "\u001b[?25l  Downloading https://files.pythonhosted.org/packages/27/78/cfb15cdb3f63eea16946a42d0dbf7ef17be79d30858aa8efd5f6757bd106/scikit_image-0.14.5-cp36-cp36m-manylinux1_x86_64.whl (25.4MB)\n",
            "\u001b[K     |████████████████████████████████| 25.4MB 122kB/s \n",
            "\u001b[?25hRequirement already satisfied: cffi>=1.0 in /usr/local/lib/python3.6/dist-packages (from SoundFile->-r requirements-predictions.txt (line 13)) (1.14.0)\n",
            "Collecting face-recognition-models>=0.3.0\n",
            "\u001b[?25l  Downloading https://files.pythonhosted.org/packages/cf/3b/4fd8c534f6c0d1b80ce0973d01331525538045084c73c153ee6df20224cf/face_recognition_models-0.3.0.tar.gz (100.1MB)\n",
            "\u001b[K     |████████████████████████████████| 100.2MB 30kB/s \n",
            "\u001b[?25hRequirement already satisfied: Click>=6.0 in /usr/local/lib/python3.6/dist-packages (from face_recognition->-r requirements-predictions.txt (line 15)) (7.1.2)\n",
            "Requirement already satisfied: Pillow in /usr/local/lib/python3.6/dist-packages (from face_recognition->-r requirements-predictions.txt (line 15)) (7.0.0)\n",
            "Requirement already satisfied: setuptools in /usr/local/lib/python3.6/dist-packages (from protobuf>=3.6.1->tensorflow->-r requirements-predictions.txt (line 1)) (47.1.1)\n",
            "Requirement already satisfied: werkzeug>=0.11.15 in /usr/local/lib/python3.6/dist-packages (from tensorboard<1.16.0,>=1.15.0->tensorflow->-r requirements-predictions.txt (line 1)) (1.0.1)\n",
            "Requirement already satisfied: markdown>=2.6.8 in /usr/local/lib/python3.6/dist-packages (from tensorboard<1.16.0,>=1.15.0->tensorflow->-r requirements-predictions.txt (line 1)) (3.2.2)\n",
            "Requirement already satisfied: idna<3,>=2.5 in /usr/local/lib/python3.6/dist-packages (from requests<3.0,>=2.8.1->moviepy>=1.0.0->-r requirements-predictions.txt (line 5)) (2.9)\n",
            "Requirement already satisfied: urllib3!=1.25.0,!=1.25.1,<1.26,>=1.21.1 in /usr/local/lib/python3.6/dist-packages (from requests<3.0,>=2.8.1->moviepy>=1.0.0->-r requirements-predictions.txt (line 5)) (1.24.3)\n",
            "Requirement already satisfied: chardet<4,>=3.0.2 in /usr/local/lib/python3.6/dist-packages (from requests<3.0,>=2.8.1->moviepy>=1.0.0->-r requirements-predictions.txt (line 5)) (3.0.4)\n",
            "Requirement already satisfied: certifi>=2017.4.17 in /usr/local/lib/python3.6/dist-packages (from requests<3.0,>=2.8.1->moviepy>=1.0.0->-r requirements-predictions.txt (line 5)) (2020.4.5.1)\n",
            "Requirement already satisfied: pyyaml in /usr/local/lib/python3.6/dist-packages (from keras<2.3.0,>=2.0.9->openl3->-r requirements-predictions.txt (line 12)) (3.13)\n",
            "Requirement already satisfied: librosa>=0.5 in /usr/local/lib/python3.6/dist-packages (from kapre==0.1.4->openl3->-r requirements-predictions.txt (line 12)) (0.6.3)\n",
            "Requirement already satisfied: future in /usr/local/lib/python3.6/dist-packages (from kapre==0.1.4->openl3->-r requirements-predictions.txt (line 12)) (0.16.0)\n",
            "Requirement already satisfied: numba>=0.32 in /usr/local/lib/python3.6/dist-packages (from resampy<0.3.0,>=0.2.1->openl3->-r requirements-predictions.txt (line 12)) (0.48.0)\n",
            "Requirement already satisfied: cloudpickle>=0.2.1 in /usr/local/lib/python3.6/dist-packages (from scikit-image<0.15.0,>=0.14.3->openl3->-r requirements-predictions.txt (line 12)) (1.3.0)\n",
            "Requirement already satisfied: PyWavelets>=0.4.0 in /usr/local/lib/python3.6/dist-packages (from scikit-image<0.15.0,>=0.14.3->openl3->-r requirements-predictions.txt (line 12)) (1.1.1)\n",
            "Requirement already satisfied: networkx>=1.8 in /usr/local/lib/python3.6/dist-packages (from scikit-image<0.15.0,>=0.14.3->openl3->-r requirements-predictions.txt (line 12)) (2.4)\n",
            "Requirement already satisfied: pycparser in /usr/local/lib/python3.6/dist-packages (from cffi>=1.0->SoundFile->-r requirements-predictions.txt (line 13)) (2.20)\n",
            "Requirement already satisfied: importlib-metadata; python_version < \"3.8\" in /usr/local/lib/python3.6/dist-packages (from markdown>=2.6.8->tensorboard<1.16.0,>=1.15.0->tensorflow->-r requirements-predictions.txt (line 1)) (1.6.0)\n",
            "Requirement already satisfied: scikit-learn!=0.19.0,>=0.14.0 in /usr/local/lib/python3.6/dist-packages (from librosa>=0.5->kapre==0.1.4->openl3->-r requirements-predictions.txt (line 12)) (0.22.2.post1)\n",
            "Requirement already satisfied: joblib>=0.12 in /usr/local/lib/python3.6/dist-packages (from librosa>=0.5->kapre==0.1.4->openl3->-r requirements-predictions.txt (line 12)) (0.15.1)\n",
            "Requirement already satisfied: llvmlite<0.32.0,>=0.31.0dev0 in /usr/local/lib/python3.6/dist-packages (from numba>=0.32->resampy<0.3.0,>=0.2.1->openl3->-r requirements-predictions.txt (line 12)) (0.31.0)\n",
            "Requirement already satisfied: zipp>=0.5 in /usr/local/lib/python3.6/dist-packages (from importlib-metadata; python_version < \"3.8\"->markdown>=2.6.8->tensorboard<1.16.0,>=1.15.0->tensorflow->-r requirements-predictions.txt (line 1)) (3.1.0)\n",
            "Building wheels for collected packages: moviepy, openl3, imgaug, gast, proglog, face-recognition-models\n",
            "  Building wheel for moviepy (setup.py) ... \u001b[?25l\u001b[?25hdone\n",
            "  Created wheel for moviepy: filename=moviepy-1.0.3-cp36-none-any.whl size=110728 sha256=e033b553a1ab145e85033de0edfc035685703d793ef5a4eb2400d84c2f461fd1\n",
            "  Stored in directory: /root/.cache/pip/wheels/e0/fe/1c/f4e6dca9e828d4b979c04e461d7fcc5b8e7bd35f947e665b65\n",
            "  Building wheel for openl3 (setup.py) ... \u001b[?25l\u001b[?25hdone\n",
            "  Created wheel for openl3: filename=openl3-0.3.1-py2.py3-none-any.whl size=249323247 sha256=cc7d4c9114cb73ebd29b72245d964d27d4c352406c437289a790dd66ac11a442\n",
            "  Stored in directory: /root/.cache/pip/wheels/13/63/c9/35868f3dd3b466909e73178db8566430da2d093cc055b932b1\n",
            "  Building wheel for imgaug (setup.py) ... \u001b[?25l\u001b[?25hdone\n",
            "  Created wheel for imgaug: filename=imgaug-0.2.6-cp36-none-any.whl size=654020 sha256=a3cef3c74c1e3db07edfa23120676734f05806c34388601dcc26c20efb74a08b\n",
            "  Stored in directory: /root/.cache/pip/wheels/97/ec/48/0d25896c417b715af6236dbcef8f0bed136a1a5e52972fc6d0\n",
            "  Building wheel for gast (setup.py) ... \u001b[?25l\u001b[?25hdone\n",
            "  Created wheel for gast: filename=gast-0.2.2-cp36-none-any.whl size=7540 sha256=8ccfad44a984b5cfd296b1105ab92f2921f754cba70e319cdb86028536bc3a71\n",
            "  Stored in directory: /root/.cache/pip/wheels/5c/2e/7e/a1d4d4fcebe6c381f378ce7743a3ced3699feb89bcfbdadadd\n",
            "  Building wheel for proglog (setup.py) ... \u001b[?25l\u001b[?25hdone\n",
            "  Created wheel for proglog: filename=proglog-0.1.9-cp36-none-any.whl size=6149 sha256=f11937d4f478805388d5bce95f8258560865dede59f87956447aed50fd972e17\n",
            "  Stored in directory: /root/.cache/pip/wheels/65/56/60/1d0306a8d90b188af393c1812ddb502a8821b70917f82dcc00\n",
            "  Building wheel for face-recognition-models (setup.py) ... \u001b[?25l\u001b[?25hdone\n",
            "  Created wheel for face-recognition-models: filename=face_recognition_models-0.3.0-py2.py3-none-any.whl size=100566172 sha256=3ba7ae7f986d2e08775358d79a08a4893be2d0823ce8d64a0c758c1b6a95189b\n",
            "  Stored in directory: /root/.cache/pip/wheels/d2/99/18/59c6c8f01e39810415c0e63f5bede7d83dfb0ffc039865465f\n",
            "Successfully built moviepy openl3 imgaug gast proglog face-recognition-models\n",
            "Installing collected packages: pydub, proglog, imageio, imageio-ffmpeg, moviepy, argparse, keras, kapre, PySoundFile, scikit-image, openl3, SoundFile, imgaug, face-recognition-models, face-recognition, gast\n",
            "  Found existing installation: imageio 2.4.1\n",
            "    Uninstalling imageio-2.4.1:\n",
            "      Successfully uninstalled imageio-2.4.1\n",
            "  Found existing installation: moviepy 0.2.3.5\n",
            "    Uninstalling moviepy-0.2.3.5:\n",
            "      Successfully uninstalled moviepy-0.2.3.5\n",
            "  Found existing installation: Keras 2.3.1\n",
            "    Uninstalling Keras-2.3.1:\n",
            "      Successfully uninstalled Keras-2.3.1\n",
            "  Found existing installation: kapre 0.1.3.1\n",
            "    Uninstalling kapre-0.1.3.1:\n",
            "      Successfully uninstalled kapre-0.1.3.1\n",
            "  Found existing installation: scikit-image 0.16.2\n",
            "    Uninstalling scikit-image-0.16.2:\n",
            "      Successfully uninstalled scikit-image-0.16.2\n",
            "  Found existing installation: imgaug 0.2.9\n",
            "    Uninstalling imgaug-0.2.9:\n",
            "      Successfully uninstalled imgaug-0.2.9\n",
            "  Found existing installation: gast 0.3.3\n",
            "    Uninstalling gast-0.3.3:\n",
            "      Successfully uninstalled gast-0.3.3\n",
            "Successfully installed PySoundFile-0.9.0.post1 SoundFile-0.10.3.post1 argparse-1.4.0 face-recognition-1.3.0 face-recognition-models-0.3.0 gast-0.2.2 imageio-2.8.0 imageio-ffmpeg-0.4.2 imgaug-0.2.6 kapre-0.1.4 keras-2.2.5 moviepy-1.0.3 openl3-0.3.1 proglog-0.1.9 pydub-0.24.0 scikit-image-0.14.5\n"
          ],
          "name": "stdout"
        },
        {
          "output_type": "display_data",
          "data": {
            "application/vnd.colab-display-data+json": {
              "pip_warning": {
                "packages": [
                  "argparse"
                ]
              }
            }
          },
          "metadata": {
            "tags": []
          }
        }
      ]
    },
    {
      "cell_type": "markdown",
      "metadata": {
        "id": "14TqM3dYQ2wk",
        "colab_type": "text"
      },
      "source": [
        "#### Pose Pre-Requisites\n",
        "Pose extraction uses the [CMU OpenPose library](https://github.com/CMU-Perceptual-Computing-Lab/openpose) to extract body keypoints. We have pre-compiled this library for use in Colab but some system files still need to be installed. \n",
        "\n",
        "#### Retrieve the files\n",
        "\n",
        "The code block below demonstrates how to retrieve the files from GCS. However, feel free to skip this step if the files are already on the local disk or you have Google Drive mounted."
      ]
    },
    {
      "cell_type": "code",
      "metadata": {
        "id": "vpkaHvUGf9Hi",
        "colab_type": "code",
        "colab": {
          "base_uri": "https://localhost:8080/",
          "height": 68
        },
        "outputId": "65b0f2dc-8d0a-4a8a-e569-4dc95c494678"
      },
      "source": [
        "!ls"
      ],
      "execution_count": 2,
      "outputs": [
        {
          "output_type": "stream",
          "text": [
            " data\t   notebooks   requirements-predictions.txt\t\t   src\n",
            " LICENSE   README.md   requirements.txt\n",
            " models    reports    'Screen Shot 2020-05-26 at 8.53.32 PM.png'\n"
          ],
          "name": "stdout"
        }
      ]
    },
    {
      "cell_type": "code",
      "metadata": {
        "id": "9qsmv0bdQJQp",
        "colab_type": "code",
        "outputId": "e99bc9a9-a5d0-4f39-9a6a-44ca0aa451ec",
        "colab": {
          "base_uri": "https://localhost:8080/",
          "height": 1000
        }
      },
      "source": [
        "!apt-get -qq install -y libatlas-base-dev libprotobuf-dev libleveldb-dev libsnappy-dev libhdf5-serial-dev protobuf-compiler libgflags-dev libgoogle-glog-dev liblmdb-dev opencl-headers ocl-icd-opencl-dev libviennacl-dev\n",
        "!wget https://storage.googleapis.com/cs231n-emotiw/openpose/openpose.tar.gz\n",
        "!tar -xzf openpose.tar.gz\n",
        "\n",
        "# The pre-built OpenPose library contains shared library files that need to be manually linked\n",
        "import os\n",
        "orig_lib_path = os.environ['LD_LIBRARY_PATH']\n",
        "os.environ[\"LD_LIBRARY_PATH\"] = f\"{orig_lib_path}:{os.getcwd()}/openpose/build/src/openpose/:{os.getcwd()}/openpose/build/caffe/lib/\"\n",
        "\n",
        "!wget https://storage.googleapis.com/cs231n-emotiw/data/train-tiny.zip\n",
        "!wget https://storage.googleapis.com/cs231n-emotiw/data/val-tiny.zip\n",
        "!wget https://storage.googleapis.com/cs231n-emotiw/data/test-tiny.zip\n",
        "!wget https://storage.googleapis.com/cs231n-emotiw/data/Train_labels.txt\n",
        "!wget https://storage.googleapis.com/cs231n-emotiw/data/Val_labels.txt\n"
      ],
      "execution_count": 3,
      "outputs": [
        {
          "output_type": "stream",
          "text": [
            "Selecting previously unselected package libgflags2.2.\n",
            "(Reading database ... 144467 files and directories currently installed.)\n",
            "Preparing to unpack .../00-libgflags2.2_2.2.1-1_amd64.deb ...\n",
            "Unpacking libgflags2.2 (2.2.1-1) ...\n",
            "Selecting previously unselected package libgflags-dev.\n",
            "Preparing to unpack .../01-libgflags-dev_2.2.1-1_amd64.deb ...\n",
            "Unpacking libgflags-dev (2.2.1-1) ...\n",
            "Selecting previously unselected package libgoogle-glog0v5.\n",
            "Preparing to unpack .../02-libgoogle-glog0v5_0.3.5-1_amd64.deb ...\n",
            "Unpacking libgoogle-glog0v5 (0.3.5-1) ...\n",
            "Selecting previously unselected package libgoogle-glog-dev.\n",
            "Preparing to unpack .../03-libgoogle-glog-dev_0.3.5-1_amd64.deb ...\n",
            "Unpacking libgoogle-glog-dev (0.3.5-1) ...\n",
            "Selecting previously unselected package libhdf5-serial-dev.\n",
            "Preparing to unpack .../04-libhdf5-serial-dev_1.10.0-patch1+docs-4_all.deb ...\n",
            "Unpacking libhdf5-serial-dev (1.10.0-patch1+docs-4) ...\n",
            "Selecting previously unselected package libleveldb1v5:amd64.\n",
            "Preparing to unpack .../05-libleveldb1v5_1.20-2_amd64.deb ...\n",
            "Unpacking libleveldb1v5:amd64 (1.20-2) ...\n",
            "Selecting previously unselected package libleveldb-dev:amd64.\n",
            "Preparing to unpack .../06-libleveldb-dev_1.20-2_amd64.deb ...\n",
            "Unpacking libleveldb-dev:amd64 (1.20-2) ...\n",
            "Selecting previously unselected package liblmdb0:amd64.\n",
            "Preparing to unpack .../07-liblmdb0_0.9.21-1ubuntu0.1_amd64.deb ...\n",
            "Unpacking liblmdb0:amd64 (0.9.21-1ubuntu0.1) ...\n",
            "Selecting previously unselected package liblmdb-dev:amd64.\n",
            "Preparing to unpack .../08-liblmdb-dev_0.9.21-1ubuntu0.1_amd64.deb ...\n",
            "Unpacking liblmdb-dev:amd64 (0.9.21-1ubuntu0.1) ...\n",
            "Selecting previously unselected package libprotobuf-lite10:amd64.\n",
            "Preparing to unpack .../09-libprotobuf-lite10_3.0.0-9.1ubuntu1_amd64.deb ...\n",
            "Unpacking libprotobuf-lite10:amd64 (3.0.0-9.1ubuntu1) ...\n",
            "Selecting previously unselected package lmdb-doc.\n",
            "Preparing to unpack .../10-lmdb-doc_0.9.21-1ubuntu0.1_all.deb ...\n",
            "Unpacking lmdb-doc (0.9.21-1ubuntu0.1) ...\n",
            "Selecting previously unselected package libprotobuf-dev:amd64.\n",
            "Preparing to unpack .../11-libprotobuf-dev_3.0.0-9.1ubuntu1_amd64.deb ...\n",
            "Unpacking libprotobuf-dev:amd64 (3.0.0-9.1ubuntu1) ...\n",
            "Selecting previously unselected package libsnappy-dev:amd64.\n",
            "Preparing to unpack .../12-libsnappy-dev_1.1.7-1_amd64.deb ...\n",
            "Unpacking libsnappy-dev:amd64 (1.1.7-1) ...\n",
            "Selecting previously unselected package libviennacl-dev.\n",
            "Preparing to unpack .../13-libviennacl-dev_1.7.1+dfsg1-2ubuntu1_all.deb ...\n",
            "Unpacking libviennacl-dev (1.7.1+dfsg1-2ubuntu1) ...\n",
            "Selecting previously unselected package opencl-clhpp-headers.\n",
            "Preparing to unpack .../14-opencl-clhpp-headers_2.0.10+git12-g5dd8bb9-1_all.deb ...\n",
            "Unpacking opencl-clhpp-headers (2.0.10+git12-g5dd8bb9-1) ...\n",
            "Selecting previously unselected package opencl-headers.\n",
            "Preparing to unpack .../15-opencl-headers_2.2~2018.02.21-gb5c3680-1_all.deb ...\n",
            "Unpacking opencl-headers (2.2~2018.02.21-gb5c3680-1) ...\n",
            "Setting up libviennacl-dev (1.7.1+dfsg1-2ubuntu1) ...\n",
            "Setting up libgflags2.2 (2.2.1-1) ...\n",
            "Setting up libgflags-dev (2.2.1-1) ...\n",
            "Setting up liblmdb0:amd64 (0.9.21-1ubuntu0.1) ...\n",
            "Setting up opencl-clhpp-headers (2.0.10+git12-g5dd8bb9-1) ...\n",
            "Setting up libleveldb1v5:amd64 (1.20-2) ...\n",
            "Setting up libhdf5-serial-dev (1.10.0-patch1+docs-4) ...\n",
            "Setting up libsnappy-dev:amd64 (1.1.7-1) ...\n",
            "Setting up libgoogle-glog0v5 (0.3.5-1) ...\n",
            "Setting up liblmdb-dev:amd64 (0.9.21-1ubuntu0.1) ...\n",
            "Setting up lmdb-doc (0.9.21-1ubuntu0.1) ...\n",
            "Setting up libprotobuf-lite10:amd64 (3.0.0-9.1ubuntu1) ...\n",
            "Setting up opencl-headers (2.2~2018.02.21-gb5c3680-1) ...\n",
            "Setting up libprotobuf-dev:amd64 (3.0.0-9.1ubuntu1) ...\n",
            "Setting up libleveldb-dev:amd64 (1.20-2) ...\n",
            "Setting up libgoogle-glog-dev (0.3.5-1) ...\n",
            "Processing triggers for man-db (2.8.3-2ubuntu0.1) ...\n",
            "Processing triggers for libc-bin (2.27-3ubuntu1) ...\n",
            "/sbin/ldconfig.real: /usr/local/lib/python3.6/dist-packages/ideep4py/lib/libmkldnn.so.0 is not a symbolic link\n",
            "\n",
            "--2020-06-02 05:27:56--  https://storage.googleapis.com/cs231n-emotiw/openpose/openpose.tar.gz\n",
            "Resolving storage.googleapis.com (storage.googleapis.com)... 74.125.142.128, 2607:f8b0:400e:c07::80\n",
            "Connecting to storage.googleapis.com (storage.googleapis.com)|74.125.142.128|:443... connected.\n",
            "HTTP request sent, awaiting response... 200 OK\n",
            "Length: 598708936 (571M) [application/x-tar]\n",
            "Saving to: ‘openpose.tar.gz’\n",
            "\n",
            "openpose.tar.gz     100%[===================>] 570.97M   125MB/s    in 4.9s    \n",
            "\n",
            "2020-06-02 05:28:01 (117 MB/s) - ‘openpose.tar.gz’ saved [598708936/598708936]\n",
            "\n",
            "Go to this URL in a browser: https://accounts.google.com/o/oauth2/auth?client_id=947318989803-6bn6qk8qdgf4n4g3pfee6491hc0brc4i.apps.googleusercontent.com&redirect_uri=urn%3aietf%3awg%3aoauth%3a2.0%3aoob&response_type=code&scope=email%20https%3a%2f%2fwww.googleapis.com%2fauth%2fdocs.test%20https%3a%2f%2fwww.googleapis.com%2fauth%2fdrive%20https%3a%2f%2fwww.googleapis.com%2fauth%2fdrive.photos.readonly%20https%3a%2f%2fwww.googleapis.com%2fauth%2fpeopleapi.readonly\n",
            "\n",
            "Enter your authorization code:\n",
            "··········\n",
            "Mounted at /content/drive\n"
          ],
          "name": "stdout"
        }
      ]
    },
    {
      "cell_type": "markdown",
      "metadata": {
        "id": "GmTc8EMiFFzt",
        "colab_type": "text"
      },
      "source": [
        "#### Preprocess Files\n",
        "\n",
        "Here, we will instantiate each of the preprocessors and process all of the input video files.\n",
        "\n",
        "NOTE: Change the input parameters as needed.\n",
        "\n",
        "WARNING: This may take several hours to complete, depending on the number of files.\n",
        "\n",
        "In general, pre-processing will extract the following:\n",
        "- Video frames\n",
        "- Pose keypoints\n",
        "- Faces from each video frame\n",
        "- Audio waveform and audio features"
      ]
    },
    {
      "cell_type": "code",
      "metadata": {
        "id": "36LTqWyJFHGb",
        "colab_type": "code",
        "colab": {}
      },
      "source": [
        "from src.preprocessors.preprocess_all_modes import preprocess\n",
        "from src.preprocessors.pose_preprocessor import PosePreprocessor\n",
        "\n",
        "print(\"Starting to preprocess train data\")\n",
        "preprocess(video_folder=\"train-tiny.zip\", label_file=\"Train_labels.txt\", local_base_path=\"train-tiny\")\n",
        "\n",
        "print(\"Starting to preprocess val data\")\n",
        "preprocess(video_folder=\"val-tiny.zip\", label_file=\"Val_labels.txt\", local_base_path=\"val-tiny\")\n",
        "\n",
        "print(\"Starting to preprocess test data\")\n",
        "preprocess(video_folder=\"test-tiny.zip\", local_base_path=\"test-tiny\")\n"
      ],
      "execution_count": 0,
      "outputs": []
    },
    {
      "cell_type": "code",
      "metadata": {
        "id": "Vc0OOW4vVI7a",
        "colab_type": "code",
        "colab": {}
      },
      "source": [
        "# Remove the openpose folder as it is no longer required\n",
        "!rm -rf openpose/"
      ],
      "execution_count": 0,
      "outputs": []
    },
    {
      "cell_type": "code",
      "metadata": {
        "id": "f141DYtugV0T",
        "colab_type": "code",
        "outputId": "31344153-6c8b-482e-c9bd-e719e0563303",
        "colab": {
          "base_uri": "https://localhost:8080/",
          "height": 442
        }
      },
      "source": [
        "!ls"
      ],
      "execution_count": 5,
      "outputs": [
        {
          "output_type": "stream",
          "text": [
            " data\t\t\t\t\t     train-tiny-audio_tmp\n",
            " LICENSE\t\t\t\t     train-tiny-audio.zip\n",
            " models\t\t\t\t\t     train-tiny-faces\n",
            " notebooks\t\t\t\t     train-tiny-faces_tmp\n",
            " openpose.tar.gz\t\t\t     train-tiny-faces.zip\n",
            " README.md\t\t\t\t     train-tiny-frames\n",
            " reports\t\t\t\t     train-tiny-frames_tmp\n",
            " requirements-predictions.txt\t\t     train-tiny-frames.zip\n",
            " requirements.txt\t\t\t     train-tiny-pose\n",
            "'Screen Shot 2020-05-26 at 8.53.32 PM.png'   train-tiny-pose.zip\n",
            " src\t\t\t\t\t     train-tiny.zip\n",
            " test-tiny-audio\t\t\t     Val_labels.txt\n",
            " test-tiny-audio_tmp\t\t\t     val-tiny-audio\n",
            " test-tiny-audio.zip\t\t\t     val-tiny-audio_tmp\n",
            " test-tiny-faces\t\t\t     val-tiny-audio.zip\n",
            " test-tiny-faces_tmp\t\t\t     val-tiny-faces\n",
            " test-tiny-faces.zip\t\t\t     val-tiny-faces_tmp\n",
            " test-tiny-frames\t\t\t     val-tiny-faces.zip\n",
            " test-tiny-frames_tmp\t\t\t     val-tiny-frames\n",
            " test-tiny-frames.zip\t\t\t     val-tiny-frames_tmp\n",
            " test-tiny-pose\t\t\t\t     val-tiny-frames.zip\n",
            " test-tiny-pose.zip\t\t\t     val-tiny-pose\n",
            " test-tiny.zip\t\t\t\t     val-tiny-pose.zip\n",
            " Train_labels.txt\t\t\t     val-tiny.zip\n",
            " train-tiny-audio\n"
          ],
          "name": "stdout"
        }
      ]
    },
    {
      "cell_type": "code",
      "metadata": {
        "id": "R1SA_BTamwmW",
        "colab_type": "code",
        "outputId": "feacc58e-11b7-4dd2-ab7b-a6a6f1544c94",
        "colab": {
          "base_uri": "https://localhost:8080/",
          "height": 34
        }
      },
      "source": [
        "from google.colab import drive\n",
        "drive.mount('/content/drive')\n",
        "\n",
        "!cp train-tiny-*.zip \"/content/drive/My Drive/cs231n-project/datasets/emotiw\"\n",
        "!cp val-tiny-*.zip \"/content/drive/My Drive/cs231n-project/datasets/emotiw\"\n",
        "!cp test-tiny-*.zip \"/content/drive/My Drive/cs231n-project/datasets/emotiw\""
      ],
      "execution_count": 15,
      "outputs": [
        {
          "output_type": "stream",
          "text": [
            "Drive already mounted at /content/drive; to attempt to forcibly remount, call drive.mount(\"/content/drive\", force_remount=True).\n"
          ],
          "name": "stdout"
        }
      ]
    },
    {
      "cell_type": "markdown",
      "metadata": {
        "id": "0jEaDQAsS8XQ",
        "colab_type": "text"
      },
      "source": [
        "### Run Classifiers\n",
        "\n",
        "**IMPORTANT**: You must restart the runtime at this point to use TF 2.x"
      ]
    },
    {
      "cell_type": "code",
      "metadata": {
        "id": "w0_gfpBjXP6S",
        "colab_type": "code",
        "colab": {}
      },
      "source": [
        "%tensorflow_version 2.x"
      ],
      "execution_count": 0,
      "outputs": []
    },
    {
      "cell_type": "code",
      "metadata": {
        "id": "dPXBx950Xd8z",
        "colab_type": "code",
        "outputId": "980509cf-4edb-475d-dc53-da43e9ca7891",
        "colab": {
          "base_uri": "https://localhost:8080/",
          "height": 34
        }
      },
      "source": [
        "import tensorflow\n",
        "print(tensorflow.__version__)"
      ],
      "execution_count": 2,
      "outputs": [
        {
          "output_type": "stream",
          "text": [
            "2.2.0\n"
          ],
          "name": "stdout"
        }
      ]
    },
    {
      "cell_type": "code",
      "metadata": {
        "id": "QuMdFr8GT8uW",
        "colab_type": "code",
        "outputId": "f4f8a775-0610-4dbc-b0ea-999e4c2d39ec",
        "colab": {
          "base_uri": "https://localhost:8080/",
          "height": 51
        }
      },
      "source": [
        "!pwd\n",
        "import os\n",
        "os.chdir('cs231n-emotiw')\n",
        "!pwd\n"
      ],
      "execution_count": 3,
      "outputs": [
        {
          "output_type": "stream",
          "text": [
            "/content\n",
            "/content/cs231n-emotiw\n"
          ],
          "name": "stdout"
        }
      ]
    },
    {
      "cell_type": "code",
      "metadata": {
        "id": "338bzmlETsvo",
        "colab_type": "code",
        "outputId": "5683dff6-3d99-4b1b-8b75-09ac8b13c59b",
        "colab": {
          "base_uri": "https://localhost:8080/",
          "height": 289
        }
      },
      "source": [
        "!git pull"
      ],
      "execution_count": 4,
      "outputs": [
        {
          "output_type": "stream",
          "text": [
            "remote: Enumerating objects: 60, done.\u001b[K\n",
            "remote: Counting objects: 100% (54/54), done.\u001b[K\n",
            "remote: Compressing objects: 100% (26/26), done.\u001b[K\n",
            "remote: Total 42 (delta 31), reused 22 (delta 16), pack-reused 0\u001b[K\n",
            "Unpacking objects: 100% (42/42), done.\n",
            "From https://github.com/kevincong95/cs231n-emotiw\n",
            "   6256967..8e9c7e4  master     -> origin/master\n",
            " * [new branch]      fer        -> origin/fer\n",
            "Updating 6256967..8e9c7e4\n",
            "Fast-forward\n",
            " notebooks/1.0-la-audio-error-analysis.ipynb |  879 \u001b[32m++++++++++++++++++\u001b[m\n",
            " notebooks/scene/1.0-tj-resnet-lstm.ipynb    | 1271 \u001b[32m++++++++++++++++++++++++++\u001b[m\u001b[31m-\u001b[m\n",
            " src/generators/frame_generator.py           |    8 \u001b[32m+\u001b[m\u001b[31m-\u001b[m\n",
            " src/generators/pose_generator.py            |    8 \u001b[32m+\u001b[m\u001b[31m-\u001b[m\n",
            " 4 files changed, 2154 insertions(+), 12 deletions(-)\n",
            " create mode 100644 notebooks/1.0-la-audio-error-analysis.ipynb\n"
          ],
          "name": "stdout"
        }
      ]
    },
    {
      "cell_type": "code",
      "metadata": {
        "id": "vOIbnIoH_AHV",
        "colab_type": "code",
        "outputId": "ee2ffa1d-2974-4c7d-b11e-a744c50fcd7d",
        "colab": {
          "base_uri": "https://localhost:8080/",
          "height": 187
        }
      },
      "source": [
        "from src.classifiers.audio_classifier import AudioClassifier\n",
        "from src.classifiers.frames_classifier import FramesClassifier\n",
        "from src.classifiers.pose_classifier import PoseClassifier\n",
        "from src.classifiers.utils import get_num_samples\n",
        "import numpy as np\n",
        "\n",
        "audio_classifier = AudioClassifier('train-tiny-audio', model_location='https://storage.googleapis.com/cs231n-emotiw/models/openl3-cnn-lstm-tuned-lr.h5', is_test=False)\n",
        "frames_classifier = FramesClassifier('train-tiny-frames', model_location='https://storage.googleapis.com/cs231n-emotiw/models/scene-classifier-resnet-lstm-x3.h5', is_test=False)\n",
        "pose_classifier = PoseClassifier('train-tiny-pose', model_location='https://storage.googleapis.com/cs231n-emotiw/models/pose-classifier-64lstm-0.01reg.h5', is_test=False)\n",
        "#faces_classifier = \n",
        "\n",
        "classifiers = [audio_classifier, frames_classifier, pose_classifier]\n",
        "\n",
        "sample_to_true_label = {}\n",
        "with open(\"Train_labels.txt\") as f:\n",
        "    l = 0\n",
        "    for line in f:\n",
        "        if l == 0:\n",
        "            # Skip headers\n",
        "            l += 1\n",
        "            continue\n",
        "        line_arr = line.split(\" \")\n",
        "        sample_to_true_label[line_arr[0].strip()] = int(line_arr[1].strip())\n",
        "        l += 1\n",
        "\n"
      ],
      "execution_count": 6,
      "outputs": [
        {
          "output_type": "stream",
          "text": [
            "AudioClassifier created with audio_folder = train-tiny-audio , is_test = False , model_location = https://storage.googleapis.com/cs231n-emotiw/models/openl3-cnn-lstm-tuned-lr.h5\n",
            "WARNING:tensorflow:Layer lstm will not use cuDNN kernel since it doesn't meet the cuDNN kernel criteria. It will use generic GPU kernel as fallback when running on GPU\n",
            "WARNING:tensorflow:Layer lstm will not use cuDNN kernel since it doesn't meet the cuDNN kernel criteria. It will use generic GPU kernel as fallback when running on GPU\n",
            "WARNING:tensorflow:Layer lstm will not use cuDNN kernel since it doesn't meet the cuDNN kernel criteria. It will use generic GPU kernel as fallback when running on GPU\n",
            "FramesClassifier created with frames_folder = train-tiny-frames , is_test = False , model_location = https://storage.googleapis.com/cs231n-emotiw/models/scene-classifier-resnet-lstm-x3.h5\n",
            "Downloading data from https://storage.googleapis.com/cs231n-emotiw/models/scene-classifier-resnet-lstm-x3.h5\n",
            "121389056/121384640 [==============================] - 2s 0us/step\n",
            "PoseClassifier created with pose_folder = train-tiny-pose , is_test = False , model_location = https://storage.googleapis.com/cs231n-emotiw/models/pose-classifier-64lstm-0.01reg.h5\n",
            "Downloading data from https://storage.googleapis.com/cs231n-emotiw/models/pose-classifier-64lstm-0.01reg.h5\n",
            "614400/612904 [==============================] - 0s 0us/step\n"
          ],
          "name": "stdout"
        }
      ]
    },
    {
      "cell_type": "code",
      "metadata": {
        "id": "lkWkBoCgaNWB",
        "colab_type": "code",
        "outputId": "62b8050c-e1be-4da3-c648-9b671948fd38",
        "colab": {
          "base_uri": "https://localhost:8080/",
          "height": 765
        }
      },
      "source": [
        "audio_classifier.summary()"
      ],
      "execution_count": 7,
      "outputs": [
        {
          "output_type": "stream",
          "text": [
            "Model: \"model\"\n",
            "_________________________________________________________________\n",
            "Layer (type)                 Output Shape              Param #   \n",
            "=================================================================\n",
            "input_1 (InputLayer)         [(None, None, 6144)]      0         \n",
            "_________________________________________________________________\n",
            "conv1d (Conv1D)              (None, None, 64)          786496    \n",
            "_________________________________________________________________\n",
            "batch_normalization (BatchNo (None, None, 64)          256       \n",
            "_________________________________________________________________\n",
            "max_pooling1d (MaxPooling1D) (None, None, 64)          0         \n",
            "_________________________________________________________________\n",
            "dropout (Dropout)            (None, None, 64)          0         \n",
            "_________________________________________________________________\n",
            "conv1d_1 (Conv1D)            (None, None, 512)         66048     \n",
            "_________________________________________________________________\n",
            "batch_normalization_1 (Batch (None, None, 512)         2048      \n",
            "_________________________________________________________________\n",
            "max_pooling1d_1 (MaxPooling1 (None, None, 512)         0         \n",
            "_________________________________________________________________\n",
            "dropout_1 (Dropout)          (None, None, 512)         0         \n",
            "_________________________________________________________________\n",
            "conv1d_2 (Conv1D)            (None, None, 512)         524800    \n",
            "_________________________________________________________________\n",
            "batch_normalization_2 (Batch (None, None, 512)         2048      \n",
            "_________________________________________________________________\n",
            "max_pooling1d_2 (MaxPooling1 (None, None, 512)         0         \n",
            "_________________________________________________________________\n",
            "dropout_2 (Dropout)          (None, None, 512)         0         \n",
            "_________________________________________________________________\n",
            "bidirectional (Bidirectional (None, None, 20)          41840     \n",
            "_________________________________________________________________\n",
            "bidirectional_1 (Bidirection (None, 10)                1040      \n",
            "_________________________________________________________________\n",
            "dense (Dense)                (None, 32)                352       \n",
            "_________________________________________________________________\n",
            "dropout_3 (Dropout)          (None, 32)                0         \n",
            "_________________________________________________________________\n",
            "dense_1 (Dense)              (None, 3)                 99        \n",
            "=================================================================\n",
            "Total params: 1,425,027\n",
            "Trainable params: 1,422,851\n",
            "Non-trainable params: 2,176\n",
            "_________________________________________________________________\n"
          ],
          "name": "stdout"
        }
      ]
    },
    {
      "cell_type": "code",
      "metadata": {
        "id": "KWrHkaGyb3w_",
        "colab_type": "code",
        "outputId": "b65d43c7-e267-4fae-a21d-a9c22789672c",
        "colab": {
          "base_uri": "https://localhost:8080/",
          "height": 527
        }
      },
      "source": [
        "frames_classifier.summary()"
      ],
      "execution_count": 8,
      "outputs": [
        {
          "output_type": "stream",
          "text": [
            "Model: \"model_7\"\n",
            "__________________________________________________________________________________________________\n",
            "Layer (type)                    Output Shape         Param #     Connected to                     \n",
            "==================================================================================================\n",
            "input_15 (InputLayer)           [(None, 12, 320, 480 0                                            \n",
            "__________________________________________________________________________________________________\n",
            "time_distributed_7 (TimeDistrib (None, 12, 10, 15, 2 23587712    input_15[0][0]                   \n",
            "__________________________________________________________________________________________________\n",
            "conv_lst_m2d_18 (ConvLSTM2D)    (None, 12, 10, 15, 1 740920      time_distributed_7[0][0]         \n",
            "__________________________________________________________________________________________________\n",
            "conv_lst_m2d_19 (ConvLSTM2D)    (None, 12, 10, 15, 1 740920      time_distributed_7[0][0]         \n",
            "__________________________________________________________________________________________________\n",
            "conv_lst_m2d_20 (ConvLSTM2D)    (None, 12, 10, 15, 1 740920      time_distributed_7[0][0]         \n",
            "__________________________________________________________________________________________________\n",
            "global_average_pooling3d_18 (Gl (None, 10)           0           conv_lst_m2d_18[0][0]            \n",
            "__________________________________________________________________________________________________\n",
            "global_average_pooling3d_19 (Gl (None, 10)           0           conv_lst_m2d_19[0][0]            \n",
            "__________________________________________________________________________________________________\n",
            "global_average_pooling3d_20 (Gl (None, 10)           0           conv_lst_m2d_20[0][0]            \n",
            "__________________________________________________________________________________________________\n",
            "concatenate_5 (Concatenate)     (None, 30)           0           global_average_pooling3d_18[0][0]\n",
            "                                                                 global_average_pooling3d_19[0][0]\n",
            "                                                                 global_average_pooling3d_20[0][0]\n",
            "__________________________________________________________________________________________________\n",
            "dense_7 (Dense)                 (None, 3)            93          concatenate_5[0][0]              \n",
            "==================================================================================================\n",
            "Total params: 25,810,565\n",
            "Trainable params: 2,222,853\n",
            "Non-trainable params: 23,587,712\n",
            "__________________________________________________________________________________________________\n"
          ],
          "name": "stdout"
        }
      ]
    },
    {
      "cell_type": "code",
      "metadata": {
        "id": "yiN69LZob9G0",
        "colab_type": "code",
        "outputId": "c0435eb5-8c3d-47ec-9805-239de7609d0e",
        "colab": {
          "base_uri": "https://localhost:8080/",
          "height": 255
        }
      },
      "source": [
        "pose_classifier.summary()"
      ],
      "execution_count": 9,
      "outputs": [
        {
          "output_type": "stream",
          "text": [
            "Model: \"model_1\"\n",
            "_________________________________________________________________\n",
            "Layer (type)                 Output Shape              Param #   \n",
            "=================================================================\n",
            "input_2 (InputLayer)         [(None, 12, 27)]          0         \n",
            "_________________________________________________________________\n",
            "bidirectional_1 (Bidirection (None, 128)               47104     \n",
            "_________________________________________________________________\n",
            "dense_1 (Dense)              (None, 3)                 387       \n",
            "=================================================================\n",
            "Total params: 47,491\n",
            "Trainable params: 47,491\n",
            "Non-trainable params: 0\n",
            "_________________________________________________________________\n"
          ],
          "name": "stdout"
        }
      ]
    },
    {
      "cell_type": "code",
      "metadata": {
        "id": "9xwIeRF_x40m",
        "colab_type": "code",
        "colab": {}
      },
      "source": [
        "def predict(classifiers, sample_to_true_label=None, mode=\"soft\", complex_fusion=False, weights=[]):\n",
        "    assert mode in [\"soft\" , \"hard\", \"weighted\"]\n",
        "    from collections import Counter\n",
        "\n",
        "    classifier_outputs = []\n",
        "    classifier_samples = []\n",
        "    sample_to_row = {}\n",
        "    num_samples = 0\n",
        "    y_true = []\n",
        "\n",
        "    for c, classifier in enumerate(classifiers):\n",
        "        results, samples = classifier.predict()\n",
        "        classifier_outputs.append(results.tolist())\n",
        "        classifier_samples.append(list(samples))\n",
        "        num_samples = len(list(samples))\n",
        "\n",
        "    print(f\"Number of samples: {num_samples}\")\n",
        "\n",
        "    for i, sample in enumerate(classifier_samples[0]):\n",
        "        sample_to_row[sample] = i\n",
        "        if sample_to_true_label is not None:\n",
        "            y_true.append(sample_to_true_label[sample])\n",
        "\n",
        "    X = np.zeros(shape=(len(classifiers), num_samples, 3))\n",
        "    for c, output in enumerate(classifier_outputs):\n",
        "        samples = classifier_samples[c]\n",
        "        for i, row in enumerate(output):\n",
        "            sample = samples[i]\n",
        "            X[c, sample_to_row[sample], :] += row\n",
        "\n",
        "    print(X[:, 10, :])\n",
        "\n",
        "    if mode == \"weighted\":\n",
        "        for c in range(X.shape[0]):\n",
        "            X[c, :, :] = weights[c] * X[c, :, :]\n",
        "\n",
        "        y_pred = np.sum(X, axis=0)\n",
        "        y_pred = np.argmax(y_pred, axis=1) + 1 # Add 1 because true labels range from 1 to 3\n",
        "        if sample_to_true_label is not None:\n",
        "            y_true = np.array(y_true)\n",
        "\n",
        "        print(\"Predicted y-labels:\")\n",
        "        print(y_pred)\n",
        "\n",
        "        if sample_to_true_label is not None:\n",
        "            print(\"True y-labels:\")\n",
        "            print(y_true)\n",
        "\n",
        "            accuracy = (y_pred == y_true).mean()\n",
        "            print(f\"Accuracy: {accuracy}\")\n",
        "            return y_pred , y_true\n",
        "\n",
        "    if mode == \"soft\":\n",
        "        # Take the average of each \n",
        "        y_pred = np.mean(X, axis=0)\n",
        "        y_pred = np.argmax(y_pred, axis=1) + 1 # Add 1 because true labels range from 1 to 3\n",
        "        if sample_to_true_label is not None:\n",
        "            y_true = np.array(y_true)\n",
        "\n",
        "        print(\"Predicted y-labels:\")\n",
        "        print(y_pred)\n",
        "\n",
        "        if sample_to_true_label is not None:\n",
        "            print(\"True y-labels:\")\n",
        "            print(y_true)\n",
        "\n",
        "            accuracy = (y_pred == y_true).mean()\n",
        "            print(f\"Accuracy: {accuracy}\")\n",
        "            return y_pred , y_true\n",
        "\n",
        "    if mode == \"hard\":\n",
        "        # Take the majority vote of each\n",
        "\n",
        "        y_pred_tmp = np.zeros((len(classifier_outputs) , len(classifier_outputs[0])))\n",
        "\n",
        "        \n",
        "        for i in range(0 , X.shape[0]):\n",
        "          for j in range(0 , X.shape[1]):\n",
        "            y_pred_tmp[i][j] = np.argmax(X[i][j], axis=0) + 1.0\n",
        "            \n",
        "         \n",
        "        y_pred_tmp = y_pred_tmp.T\n",
        "        y_pred_tmp = np.asarray(y_pred_tmp , dtype='int64')\n",
        "        \n",
        "        y_pred = np.zeros((X.shape[1]))\n",
        "\n",
        "        for i in range(0 , len(y_pred_tmp)):\n",
        "          y_pred_tmp[i] = np.asarray(y_pred_tmp[i] , dtype='int64')\n",
        "          counts = np.bincount(y_pred_tmp[i])\n",
        "          y_pred[i] = np.argmax(counts)\n",
        "\n",
        "        \n",
        "      \n",
        "   # Add 1 because true labels range from 1 to 3\n",
        "        if sample_to_true_label is not None:\n",
        "            y_true = np.array(y_true)\n",
        "\n",
        "        print(\"Predicted y-labels:\")\n",
        "        print(y_pred)\n",
        "\n",
        "        if sample_to_true_label is not None:\n",
        "            print(\"True y-labels:\")\n",
        "            print(y_true)\n",
        "\n",
        "            accuracy = (y_pred == y_true).mean()\n",
        "            print(f\"Accuracy: {accuracy}\")\n",
        "            return y_pred , y_true\n",
        "    else:\n",
        "        print(\"Not implemented yet\")\n",
        "\n",
        "    \n"
      ],
      "execution_count": 0,
      "outputs": []
    },
    {
      "cell_type": "code",
      "metadata": {
        "id": "1VGA1fl2pNvE",
        "colab_type": "code",
        "outputId": "1da27c39-cdb7-4bc4-ba30-9c7ab8687f3a",
        "colab": {
          "base_uri": "https://localhost:8080/",
          "height": 156
        }
      },
      "source": [
        "from src.classifiers.audio_classifier import AudioClassifier\n",
        "from src.classifiers.frames_classifier import FramesClassifier\n",
        "from src.classifiers.pose_classifier import PoseClassifier\n",
        "from src.classifiers.utils import get_num_samples\n",
        "import numpy as np\n",
        "\n",
        "audio_classifier = AudioClassifier('val-tiny-audio', model_location='https://storage.googleapis.com/cs231n-emotiw/models/openl3-cnn-lstm-tuned-lr.h5', is_test=False)\n",
        "frames_classifier = FramesClassifier('val-tiny-frames', model_location='https://storage.googleapis.com/cs231n-emotiw/models/scene-classifier-resnet-lstm-x3.h5', is_test=False)\n",
        "pose_classifier = PoseClassifier('val-tiny-pose', model_location='https://storage.googleapis.com/cs231n-emotiw/models/pose-classifier-64lstm-0.01reg.h5', is_test=False)\n",
        "\n",
        "classifiers = [audio_classifier, frames_classifier, pose_classifier] \n",
        "# classifiers = [audio_classifier] \n",
        "\n",
        "# Audio Classifier = 0.5\n",
        "# Frames classifier = 0.56\n",
        "# Pose classifier = 0.48\n",
        "\n",
        "sample_to_true_label = {}\n",
        "with open(\"Val_labels.txt\") as f:\n",
        "    l = 0\n",
        "    for line in f:\n",
        "        if l == 0:\n",
        "            # Skip headers\n",
        "            l += 1\n",
        "            continue\n",
        "        line_arr = line.split(\" \")\n",
        "        sample_to_true_label[line_arr[0].strip()] = int(line_arr[1].strip())\n",
        "        l += 1\n",
        "print(sample_to_true_label)\n"
      ],
      "execution_count": 48,
      "outputs": [
        {
          "output_type": "stream",
          "text": [
            "AudioClassifier created with audio_folder = val-tiny-audio , is_test = False , model_location = https://storage.googleapis.com/cs231n-emotiw/models/openl3-cnn-lstm-tuned-lr.h5\n",
            "WARNING:tensorflow:Layer lstm will not use cuDNN kernel since it doesn't meet the cuDNN kernel criteria. It will use generic GPU kernel as fallback when running on GPU\n",
            "WARNING:tensorflow:Layer lstm will not use cuDNN kernel since it doesn't meet the cuDNN kernel criteria. It will use generic GPU kernel as fallback when running on GPU\n",
            "WARNING:tensorflow:Layer lstm will not use cuDNN kernel since it doesn't meet the cuDNN kernel criteria. It will use generic GPU kernel as fallback when running on GPU\n",
            "FramesClassifier created with frames_folder = val-tiny-frames , is_test = False , model_location = https://storage.googleapis.com/cs231n-emotiw/models/scene-classifier-resnet-lstm-x3.h5\n",
            "PoseClassifier created with pose_folder = val-tiny-pose , is_test = False , model_location = https://storage.googleapis.com/cs231n-emotiw/models/pose-classifier-64lstm-0.01reg.h5\n",
            "{'1_1': 3, '1_2': 3, '5_1': 1, '5_2': 1, '5_3': 1, '5_4': 1, '5_5': 1, '5_6': 1, '5_7': 1, '5_8': 1, '5_9': 1, '5_10': 1, '5_11': 1, '5_12': 1, '5_13': 1, '5_14': 1, '5_15': 1, '5_16': 1, '5_17': 1, '5_18': 1, '5_19': 1, '11_1': 2, '11_2': 1, '11_3': 1, '11_4': 1, '11_5': 1, '11_6': 1, '11_7': 1, '11_8': 1, '11_9': 1, '11_10': 1, '11_11': 1, '11_12': 1, '11_13': 2, '11_14': 1, '11_15': 1, '11_16': 1, '11_17': 1, '15_2': 2, '15_3': 2, '15_4': 2, '15_5': 1, '15_6': 2, '21_1': 2, '27_2': 1, '27_3': 1, '27_4': 1, '27_5': 2, '27_6': 1, '27_8': 2, '27_9': 2, '27_11': 1, '27_13': 2, '27_14': 2, '27_16': 2, '27_17': 2, '27_18': 1, '27_19': 1, '27_20': 2, '27_21': 2, '31_2': 1, '31_3': 1, '31_4': 1, '31_5': 1, '31_6': 1, '31_7': 1, '31_8': 1, '31_9': 2, '44_1': 1, '44_2': 1, '44_4': 1, '44_6': 1, '44_9': 1, '44_11': 2, '44_12': 1, '44_13': 1, '44_14': 1, '44_15': 2, '44_16': 1, '44_17': 1, '44_18': 1, '44_20': 1, '44_22': 1, '44_23': 1, '44_25': 1, '44_26': 1, '44_28': 1, '44_29': 1, '45_1': 1, '45_2': 1, '45_4': 1, '45_5': 1, '45_6': 1, '45_8': 1, '45_9': 1, '45_10': 1, '53_1': 1, '53_2': 1, '53_3': 1, '53_4': 1, '53_5': 2, '53_6': 1, '53_7': 1, '53_8': 1, '53_9': 1, '53_10': 1, '53_11': 1, '53_12': 1, '53_13': 1, '53_14': 2, '53_15': 3, '53_16': 1, '53_17': 1, '53_18': 1, '53_19': 2, '53_20': 2, '53_21': 1, '53_22': 1, '53_23': 1, '53_24': 1, '53_25': 1, '53_26': 1, '53_27': 1, '53_28': 1, '53_29': 1, '53_30': 2, '53_31': 2, '53_32': 1, '53_33': 2, '53_34': 2, '53_35': 2, '53_36': 2, '53_37': 2, '53_38': 2, '53_39': 2, '53_40': 2, '53_41': 1, '53_42': 1, '53_43': 2, '53_44': 2, '53_45': 1, '53_46': 1, '53_47': 1, '53_48': 1, '53_49': 1, '53_50': 1, '54_1': 2, '54_3': 1, '54_4': 2, '54_5': 2, '54_7': 1, '54_8': 1, '54_9': 1, '54_10': 2, '54_11': 1, '54_12': 1, '54_13': 2, '54_14': 2, '54_15': 2, '54_16': 1, '54_17': 2, '54_18': 1, '54_19': 2, '55_2': 2, '55_3': 2, '55_4': 2, '55_5': 2, '55_7': 2, '55_8': 2, '55_9': 2, '55_10': 2, '55_11': 2, '55_13': 2, '55_14': 2, '55_15': 2, '55_16': 2, '55_17': 2, '55_18': 1, '55_19': 2, '55_20': 2, '55_21': 2, '55_22': 2, '55_23': 2, '55_25': 2, '70_3': 1, '70_4': 1, '70_6': 1, '70_7': 1, '70_8': 1, '70_9': 1, '70_10': 2, '70_11': 1, '70_12': 1, '70_14': 1, '70_15': 2, '70_17': 1, '70_19': 2, '70_20': 2, '70_21': 2, '70_22': 2, '70_23': 2, '70_24': 2, '70_25': 2, '70_26': 1, '70_27': 1, '70_29': 1, '70_30': 2, '77_3': 1, '77_4': 2, '81_1': 2, '81_4': 2, '81_6': 1, '81_7': 2, '81_8': 2, '81_9': 2, '81_13': 2, '81_14': 2, '81_17': 2, '81_18': 2, '81_19': 2, '81_21': 2, '81_23': 2, '81_24': 2, '81_25': 2, '83_1': 2, '86_2': 1, '86_3': 1, '86_4': 1, '86_5': 1, '86_6': 1, '86_7': 1, '86_8': 1, '86_10': 1, '86_11': 1, '86_12': 1, '86_13': 1, '86_14': 1, '86_16': 1, '86_17': 3, '86_18': 3, '86_19': 3, '86_20': 3, '86_21': 3, '86_23': 3, '86_24': 3, '86_26': 1, '86_27': 3, '86_28': 3, '86_29': 3, '86_30': 3, '86_31': 1, '86_32': 3, '86_33': 2, '86_34': 3, '86_35': 1, '86_36': 3, '86_37': 3, '86_38': 3, '86_39': 3, '86_40': 1, '86_41': 1, '86_42': 1, '86_43': 1, '86_44': 1, '86_47': 1, '86_48': 3, '86_49': 3, '86_50': 1, '86_54': 1, '86_55': 1, '86_56': 1, '86_58': 1, '98_3': 3, '99_2': 3, '99_3': 3, '99_6': 2, '99_8': 3, '99_9': 3, '99_10': 3, '100_1': 3, '100_3': 3, '100_4': 3, '104_2': 2, '104_3': 2, '104_4': 3, '115_1': 3, '115_2': 3, '115_3': 3, '115_4': 3, '115_5': 3, '115_6': 3, '115_7': 3, '115_8': 3, '115_9': 3, '115_10': 3, '125_1': 2, '125_2': 1, '125_3': 1, '125_5': 2, '125_6': 3, '125_8': 3, '125_9': 1, '125_10': 1, '131_3': 1, '131_5': 2, '131_6': 1, '131_8': 2, '143_1': 1, '143_2': 2, '143_5': 1, '145_1': 1, '145_2': 1, '145_3': 1, '145_4': 1, '150_1': 3, '150_2': 3, '150_3': 3, '150_4': 3, '150_5': 3, '152_1': 2, '152_4': 3, '154_1': 3, '154_2': 2, '154_3': 3, '154_4': 3, '154_5': 3, '154_7': 3, '154_8': 3, '154_9': 3, '154_10': 2, '157_7': 2, '157_9': 3, '157_10': 3, '157_14': 2, '157_16': 2, '159_1': 2, '159_2': 2, '159_3': 2, '159_4': 2, '159_5': 2, '159_6': 2, '159_7': 2, '159_9': 2, '162_1': 3, '162_3': 3, '162_4': 3, '162_6': 3, '165_1': 1, '165_2': 1, '165_3': 1, '179_1': 1, '179_2': 1, '179_4': 1, '179_5': 1, '179_6': 1, '181_1': 2, '181_2': 2, '181_3': 3, '181_4': 2, '181_5': 1, '181_7': 3, '181_8': 3, '181_9': 2, '190_2': 3, '190_6': 2, '190_8': 3, '190_10': 3, '190_12': 3, '190_14': 3, '194_1': 3, '199_1': 3, '199_2': 3, '199_3': 3, '207_1': 3, '207_3': 3, '209_1': 3, '209_2': 3, '209_5': 3, '209_6': 3, '209_7': 3, '209_8': 3, '209_9': 3, '209_12': 3, '209_13': 3, '209_14': 3, '209_15': 3, '209_18': 3, '212_1': 1, '212_2': 1, '212_4': 1, '212_5': 1, '212_6': 1, '212_7': 1, '212_9': 1, '212_10': 1, '212_11': 1, '212_12': 1, '212_13': 1, '212_14': 1, '222_4': 1, '222_5': 1, '222_7': 1, '222_10': 2, '222_11': 1, '222_12': 1, '222_13': 1, '222_15': 1, '222_16': 1, '222_17': 1, '222_18': 2, '237_1': 2, '237_2': 2, '237_3': 2, '237_5': 2, '237_6': 2, '239_1': 1, '239_2': 1, '239_3': 2, '239_4': 1, '239_5': 1, '239_7': 1, '239_8': 1, '251_1': 2, '251_2': 2, '251_3': 2, '251_5': 2, '252_1': 1, '254_1': 1, '254_2': 3, '254_6': 1, '268_1': 2, '268_2': 2, '268_3': 2, '268_4': 2, '268_5': 2, '268_6': 2, '268_7': 2, '274_1': 2, '274_2': 2, '274_3': 2, '274_4': 2, '274_5': 2, '274_6': 2, '274_7': 2, '274_10': 2, '284_1': 2, '284_2': 1, '284_3': 2, '284_4': 1, '284_5': 1, '284_6': 1, '284_7': 1, '284_8': 2, '284_9': 1, '284_10': 2, '284_11': 2, '284_12': 2, '289_1': 2, '289_2': 1, '289_3': 1, '289_4': 1, '289_5': 1, '289_6': 1, '289_7': 1, '289_8': 1, '289_9': 1, '289_10': 1, '289_11': 1, '289_12': 3, '289_13': 1, '289_14': 2, '289_15': 1, '289_16': 1, '289_17': 1, '289_18': 1, '289_19': 1, '289_20': 1, '289_21': 2, '289_22': 2, '289_23': 1, '289_24': 1, '289_25': 1, '289_26': 1, '289_27': 1, '289_28': 1, '289_29': 1, '289_30': 1, '289_31': 1, '289_32': 1, '289_33': 1, '289_34': 1, '289_35': 1, '289_36': 1, '289_37': 1, '289_38': 1, '289_39': 1, '289_40': 1, '289_41': 1, '289_42': 1, '289_43': 1, '289_44': 1, '289_45': 1, '289_46': 1, '289_47': 1, '289_48': 2, '289_49': 1, '289_50': 1, '289_51': 1, '289_52': 1, '289_53': 1, '289_54': 1, '289_55': 2, '289_56': 1, '289_57': 1, '289_58': 1, '289_59': 1, '289_60': 1, '289_61': 1, '289_62': 1, '289_63': 1, '289_64': 2, '289_65': 1, '289_66': 2, '289_67': 2, '289_68': 2, '294_1': 1, '294_2': 1, '294_3': 2, '294_4': 2, '294_5': 1, '294_6': 2, '294_7': 2, '294_8': 2, '294_9': 2, '294_10': 2, '294_11': 2, '294_12': 2, '294_14': 2, '294_15': 2, '294_16': 2, '294_17': 2, '294_18': 2, '294_19': 2, '294_20': 2, '294_21': 2, '294_22': 2, '294_23': 2, '294_24': 2, '294_25': 2, '294_26': 2, '294_27': 2, '294_28': 2, '294_29': 1, '294_30': 1, '294_31': 2, '294_32': 2, '294_33': 2, '294_34': 2, '294_35': 2, '294_36': 1, '294_37': 2, '294_38': 2, '294_39': 2, '294_40': 1, '294_41': 2, '294_42': 2, '294_43': 1, '294_44': 1, '294_45': 1, '294_46': 1, '294_47': 1, '294_48': 2, '298_1': 1, '298_2': 2, '298_3': 2, '298_4': 2, '298_5': 2, '298_6': 2, '298_7': 2, '298_8': 2, '298_9': 2, '298_10': 1, '298_11': 1, '298_12': 1, '298_13': 2, '298_14': 2, '298_15': 2, '298_16': 2, '298_17': 2, '298_18': 2, '298_19': 2, '298_20': 2, '298_21': 2, '298_22': 2, '298_23': 2, '298_24': 2, '298_25': 2, '298_26': 2, '298_27': 2, '298_28': 2, '298_29': 2, '298_30': 2, '298_31': 2, '298_32': 2, '298_33': 2, '298_34': 2, '298_35': 2, '298_36': 2, '298_37': 2, '298_38': 2, '298_39': 2, '298_40': 2, '298_41': 2, '298_42': 2, '298_43': 1, '298_44': 2, '298_45': 2, '298_46': 2, '298_47': 2, '298_48': 2, '298_49': 2, '298_50': 2, '298_51': 2, '298_52': 2, '298_53': 2, '298_54': 2, '298_55': 2, '298_56': 2, '298_57': 2, '298_58': 2, '298_59': 2, '305_1': 1, '305_2': 1, '305_3': 1, '306_1': 3, '306_2': 3, '306_3': 3, '306_4': 3, '306_5': 3, '306_6': 3, '306_7': 3, '306_8': 3, '306_9': 3, '306_10': 3, '306_11': 3, '306_12': 3, '306_13': 3, '306_14': 3, '306_15': 3, '306_16': 3, '306_17': 3, '306_18': 3, '306_19': 3, '306_20': 3, '306_21': 3, '308_1': 2, '308_2': 2, '308_3': 2, '308_4': 2, '308_5': 1, '308_6': 2, '308_7': 2, '308_8': 2, '308_9': 1, '308_10': 1, '314_2': 2, '314_3': 2, '314_4': 2, '314_5': 2, '320_1': 3, '320_2': 3, '320_3': 2, '320_4': 3, '320_5': 3, '320_6': 3, '320_7': 3, '320_8': 1, '320_9': 1, '320_10': 3, '320_11': 2, '320_12': 3, '320_13': 2, '320_14': 3, '320_15': 3, '320_16': 3, '320_17': 3, '323_1': 3, '323_2': 3, '323_3': 3, '323_4': 3, '325_1': 3, '325_2': 3, '325_3': 2, '325_4': 3, '325_5': 3, '325_6': 3, '325_7': 3, '325_8': 3, '325_9': 3, '325_10': 3, '325_11': 3, '325_12': 3, '325_13': 3, '325_14': 3, '325_15': 3, '325_16': 3, '325_17': 3, '325_18': 3, '325_19': 3, '325_20': 3, '325_21': 3, '325_22': 3, '325_23': 3, '325_24': 3, '325_25': 3, '325_26': 3, '325_27': 2, '325_28': 3, '325_29': 3, '325_30': 3, '325_31': 2, '325_32': 2, '325_33': 3, '325_34': 3, '325_35': 3, '325_36': 3, '325_37': 3, '325_38': 3, '325_39': 3, '325_40': 3, '325_41': 3, '325_42': 3, '325_43': 3, '325_44': 3, '325_45': 3, '325_46': 3, '325_47': 3, '325_48': 2, '325_49': 2, '325_50': 3, '325_51': 3, '325_52': 3, '325_53': 3, '325_54': 2, '325_55': 3, '325_56': 3, '325_57': 2, '332_1': 3, '332_2': 3, '332_3': 1, '333_1': 3, '333_2': 2, '333_3': 3, '333_4': 3, '335_1': 2, '335_2': 2, '335_3': 2, '335_4': 2, '335_5': 1, '335_6': 2, '335_7': 1, '335_8': 2, '335_9': 1, '335_10': 2, '342_1': 3, '346_1': 3}\n"
          ],
          "name": "stdout"
        }
      ]
    },
    {
      "cell_type": "markdown",
      "metadata": {
        "id": "xGS2rrUIZ_YX",
        "colab_type": "text"
      },
      "source": [
        "## Weighted Voting Results"
      ]
    },
    {
      "cell_type": "code",
      "metadata": {
        "id": "eZONQbr_aBpo",
        "colab_type": "code",
        "colab": {
          "base_uri": "https://localhost:8080/",
          "height": 816
        },
        "outputId": "b0e5bdc8-fae8-477b-ea42-bf50b0288077"
      },
      "source": [
        "y_pred_soft , y_true = predict(classifiers, sample_to_true_label, mode=\"weighted\", weights=[0.4, 0.5, 0.1])\n"
      ],
      "execution_count": 49,
      "outputs": [
        {
          "output_type": "stream",
          "text": [
            "Skipping unzipping files as input is a folder\n",
            "WARNING:tensorflow:AutoGraph could not transform <function Model.make_predict_function.<locals>.predict_function at 0x7f9eee6c2ae8> and will run it as-is.\n",
            "Please report this to the TensorFlow team. When filing the bug, set the verbosity to 10 (on Linux, `export AUTOGRAPH_VERBOSITY=10`) and attach the full output.\n",
            "Cause: Bad argument number for Name: 4, expecting 3\n",
            "To silence this warning, decorate the function with @tf.autograph.experimental.do_not_convert\n",
            "WARNING: AutoGraph could not transform <function Model.make_predict_function.<locals>.predict_function at 0x7f9eee6c2ae8> and will run it as-is.\n",
            "Please report this to the TensorFlow team. When filing the bug, set the verbosity to 10 (on Linux, `export AUTOGRAPH_VERBOSITY=10`) and attach the full output.\n",
            "Cause: Bad argument number for Name: 4, expecting 3\n",
            "To silence this warning, decorate the function with @tf.autograph.experimental.do_not_convert\n",
            "Skipping unzipping files as input is a folder\n",
            "Found 50 frames belonging to 50 videos belonging to 3 classes.\n",
            "Min frames determined to be 7\n",
            "WARNING:tensorflow:AutoGraph could not transform <function Model.make_predict_function.<locals>.predict_function at 0x7f9eee65b6a8> and will run it as-is.\n",
            "Please report this to the TensorFlow team. When filing the bug, set the verbosity to 10 (on Linux, `export AUTOGRAPH_VERBOSITY=10`) and attach the full output.\n",
            "Cause: Bad argument number for Name: 4, expecting 3\n",
            "To silence this warning, decorate the function with @tf.autograph.experimental.do_not_convert\n",
            "WARNING: AutoGraph could not transform <function Model.make_predict_function.<locals>.predict_function at 0x7f9eee65b6a8> and will run it as-is.\n",
            "Please report this to the TensorFlow team. When filing the bug, set the verbosity to 10 (on Linux, `export AUTOGRAPH_VERBOSITY=10`) and attach the full output.\n",
            "Cause: Bad argument number for Name: 4, expecting 3\n",
            "To silence this warning, decorate the function with @tf.autograph.experimental.do_not_convert\n",
            "Skipping unzipping files as input is a folder\n",
            "['1', '3', '2']\n",
            "Found 50 frames belonging to 50 videos belonging to 3 classes.\n",
            "Min frames determined to be 7\n"
          ],
          "name": "stdout"
        },
        {
          "output_type": "stream",
          "text": [
            "/content/cs231n-emotiw/src/generators/pose_generator.py:135: RuntimeWarning: invalid value encountered in double_scalars\n",
            "  x_new.append((lx[i] - origin_x) / len_x)\n",
            "/content/cs231n-emotiw/src/generators/pose_generator.py:136: RuntimeWarning: invalid value encountered in double_scalars\n",
            "  x_new.append((ly[i] - origin_y) / len_y)\n"
          ],
          "name": "stderr"
        },
        {
          "output_type": "stream",
          "text": [
            "WARNING:tensorflow:AutoGraph could not transform <function Model.make_predict_function.<locals>.predict_function at 0x7f9eee487950> and will run it as-is.\n",
            "Please report this to the TensorFlow team. When filing the bug, set the verbosity to 10 (on Linux, `export AUTOGRAPH_VERBOSITY=10`) and attach the full output.\n",
            "Cause: Bad argument number for Name: 4, expecting 3\n",
            "To silence this warning, decorate the function with @tf.autograph.experimental.do_not_convert\n",
            "WARNING: AutoGraph could not transform <function Model.make_predict_function.<locals>.predict_function at 0x7f9eee487950> and will run it as-is.\n",
            "Please report this to the TensorFlow team. When filing the bug, set the verbosity to 10 (on Linux, `export AUTOGRAPH_VERBOSITY=10`) and attach the full output.\n",
            "Cause: Bad argument number for Name: 4, expecting 3\n",
            "To silence this warning, decorate the function with @tf.autograph.experimental.do_not_convert\n",
            "Number of samples: 50\n",
            "[[0.18311593 0.27824757 0.53863645]\n",
            " [0.52522397 0.39609671 0.07867933]\n",
            " [0.28853178 0.24969785 0.46177036]]\n",
            "Predicted y-labels:\n",
            "[3 3 3 2 2 2 1 2 1 1 1 1 2 2 2 2 2 2 3 2 3 2 1 2 2 2 2 2 2 2 2 3 2 2 3 2 3\n",
            " 1 2 2 2 1 2 2 3 3 1 3 1 3]\n",
            "True y-labels:\n",
            "[3 3 3 1 1 1 1 3 1 2 1 3 2 2 2 2 2 1 1 1 1 1 2 2 1 2 2 2 2 2 2 3 3 3 1 3 1\n",
            " 1 1 2 1 1 1 2 2 1 1 3 1 3]\n",
            "Accuracy: 0.54\n"
          ],
          "name": "stdout"
        }
      ]
    },
    {
      "cell_type": "markdown",
      "metadata": {
        "id": "ltPqItAaNNZK",
        "colab_type": "text"
      },
      "source": [
        "## Soft Voting Results"
      ]
    },
    {
      "cell_type": "code",
      "metadata": {
        "id": "NczcqJnWpbjy",
        "colab_type": "code",
        "outputId": "bf5fb372-984a-45d6-ea24-15010d9d8405",
        "colab": {
          "base_uri": "https://localhost:8080/",
          "height": 816
        }
      },
      "source": [
        "y_pred_soft , y_true = predict(classifiers, sample_to_true_label)"
      ],
      "execution_count": 41,
      "outputs": [
        {
          "output_type": "stream",
          "text": [
            "Skipping unzipping files as input is a folder\n",
            "WARNING:tensorflow:AutoGraph could not transform <function Model.make_predict_function.<locals>.predict_function at 0x7f9ef137e598> and will run it as-is.\n",
            "Please report this to the TensorFlow team. When filing the bug, set the verbosity to 10 (on Linux, `export AUTOGRAPH_VERBOSITY=10`) and attach the full output.\n",
            "Cause: Bad argument number for Name: 4, expecting 3\n",
            "To silence this warning, decorate the function with @tf.autograph.experimental.do_not_convert\n",
            "WARNING: AutoGraph could not transform <function Model.make_predict_function.<locals>.predict_function at 0x7f9ef137e598> and will run it as-is.\n",
            "Please report this to the TensorFlow team. When filing the bug, set the verbosity to 10 (on Linux, `export AUTOGRAPH_VERBOSITY=10`) and attach the full output.\n",
            "Cause: Bad argument number for Name: 4, expecting 3\n",
            "To silence this warning, decorate the function with @tf.autograph.experimental.do_not_convert\n",
            "Skipping unzipping files as input is a folder\n",
            "Found 50 frames belonging to 50 videos belonging to 3 classes.\n",
            "Min frames determined to be 7\n",
            "WARNING:tensorflow:AutoGraph could not transform <function Model.make_predict_function.<locals>.predict_function at 0x7f9ef1327840> and will run it as-is.\n",
            "Please report this to the TensorFlow team. When filing the bug, set the verbosity to 10 (on Linux, `export AUTOGRAPH_VERBOSITY=10`) and attach the full output.\n",
            "Cause: Bad argument number for Name: 4, expecting 3\n",
            "To silence this warning, decorate the function with @tf.autograph.experimental.do_not_convert\n",
            "WARNING: AutoGraph could not transform <function Model.make_predict_function.<locals>.predict_function at 0x7f9ef1327840> and will run it as-is.\n",
            "Please report this to the TensorFlow team. When filing the bug, set the verbosity to 10 (on Linux, `export AUTOGRAPH_VERBOSITY=10`) and attach the full output.\n",
            "Cause: Bad argument number for Name: 4, expecting 3\n",
            "To silence this warning, decorate the function with @tf.autograph.experimental.do_not_convert\n",
            "Skipping unzipping files as input is a folder\n",
            "['1', '3', '2']\n",
            "Found 50 frames belonging to 50 videos belonging to 3 classes.\n",
            "Min frames determined to be 7\n"
          ],
          "name": "stdout"
        },
        {
          "output_type": "stream",
          "text": [
            "/content/cs231n-emotiw/src/generators/pose_generator.py:135: RuntimeWarning: invalid value encountered in double_scalars\n",
            "  x_new.append((lx[i] - origin_x) / len_x)\n",
            "/content/cs231n-emotiw/src/generators/pose_generator.py:136: RuntimeWarning: invalid value encountered in double_scalars\n",
            "  x_new.append((ly[i] - origin_y) / len_y)\n"
          ],
          "name": "stderr"
        },
        {
          "output_type": "stream",
          "text": [
            "WARNING:tensorflow:AutoGraph could not transform <function Model.make_predict_function.<locals>.predict_function at 0x7f9ef00db1e0> and will run it as-is.\n",
            "Please report this to the TensorFlow team. When filing the bug, set the verbosity to 10 (on Linux, `export AUTOGRAPH_VERBOSITY=10`) and attach the full output.\n",
            "Cause: Bad argument number for Name: 4, expecting 3\n",
            "To silence this warning, decorate the function with @tf.autograph.experimental.do_not_convert\n",
            "WARNING: AutoGraph could not transform <function Model.make_predict_function.<locals>.predict_function at 0x7f9ef00db1e0> and will run it as-is.\n",
            "Please report this to the TensorFlow team. When filing the bug, set the verbosity to 10 (on Linux, `export AUTOGRAPH_VERBOSITY=10`) and attach the full output.\n",
            "Cause: Bad argument number for Name: 4, expecting 3\n",
            "To silence this warning, decorate the function with @tf.autograph.experimental.do_not_convert\n",
            "Number of samples: 50\n",
            "[[0.18311593 0.27824757 0.53863645]\n",
            " [0.52522397 0.39609671 0.07867933]\n",
            " [0.28853178 0.24969785 0.46177036]]\n",
            "Predicted y-labels:\n",
            "[3 3 3 2 2 2 1 2 1 1 3 1 2 2 2 2 2 2 3 2 3 2 1 2 2 2 2 2 2 2 2 3 3 2 3 2 3\n",
            " 1 2 2 2 1 2 2 3 3 1 3 1 3]\n",
            "True y-labels:\n",
            "[3 3 3 1 1 1 1 3 1 2 1 3 2 2 2 2 2 1 1 1 1 1 2 2 1 2 2 2 2 2 2 3 3 3 1 3 1\n",
            " 1 1 2 1 1 1 2 2 1 1 3 1 3]\n",
            "Accuracy: 0.54\n"
          ],
          "name": "stdout"
        }
      ]
    },
    {
      "cell_type": "markdown",
      "metadata": {
        "id": "NaB6nRK144XE",
        "colab_type": "text"
      },
      "source": [
        "## F1 Score -- Soft Voting\n"
      ]
    },
    {
      "cell_type": "code",
      "metadata": {
        "id": "beA6fPJl47nB",
        "colab_type": "code",
        "outputId": "f502ad73-20a0-4b6d-b24a-08d831109aa8",
        "colab": {
          "base_uri": "https://localhost:8080/",
          "height": 34
        }
      },
      "source": [
        "from sklearn.metrics import f1_score\n",
        "\n",
        "f1_score(y_true, y_pred_soft, average='micro')"
      ],
      "execution_count": 21,
      "outputs": [
        {
          "output_type": "execute_result",
          "data": {
            "text/plain": [
              "0.54"
            ]
          },
          "metadata": {
            "tags": []
          },
          "execution_count": 21
        }
      ]
    },
    {
      "cell_type": "markdown",
      "metadata": {
        "id": "Fbo_4AnU40U1",
        "colab_type": "text"
      },
      "source": [
        "## Confusion Matrix -- Soft Voting"
      ]
    },
    {
      "cell_type": "code",
      "metadata": {
        "id": "5awF-TCP4zdr",
        "colab_type": "code",
        "outputId": "c182fcb1-cd56-4cb2-ce4b-0d46a93cd921",
        "colab": {
          "base_uri": "https://localhost:8080/",
          "height": 604
        }
      },
      "source": [
        "from sklearn import metrics \n",
        "import pandas as pd\n",
        "import seaborn as sn\n",
        "cm=metrics.confusion_matrix(y_true,y_pred_soft)\n",
        "import matplotlib.pyplot as plt\n",
        "\n",
        "\n",
        "classes=['Pos' , 'Neu' , 'Neg'] \n",
        "\n",
        "y_pred_final , y_true_final = y_pred_soft - 1 , y_true - 1\n",
        "con_mat = tensorflow.math.confusion_matrix(labels=y_true_final, predictions=y_pred_final).numpy()\n",
        "\n",
        "con_mat_norm = np.around(con_mat.astype('float') / con_mat.sum(axis=1)[:, np.newaxis], decimals=2)\n",
        "\n",
        "con_mat_df = pd.DataFrame(con_mat_norm,\n",
        "                  index = classes, \n",
        "                  columns = classes)\n",
        "\n",
        "\n",
        "figure = plt.figure(figsize=(11, 9))\n",
        "plt.title(\"Soft Voting Confusion Matrix with Scene & Audio\")\n",
        "sn.heatmap(con_mat_df, annot=True,cmap=plt.cm.Blues)"
      ],
      "execution_count": 22,
      "outputs": [
        {
          "output_type": "stream",
          "text": [
            "/usr/local/lib/python3.6/dist-packages/statsmodels/tools/_testing.py:19: FutureWarning: pandas.util.testing is deprecated. Use the functions in the public API at pandas.testing instead.\n",
            "  import pandas.util.testing as tm\n"
          ],
          "name": "stderr"
        },
        {
          "output_type": "execute_result",
          "data": {
            "text/plain": [
              "<matplotlib.axes._subplots.AxesSubplot at 0x7f9f0596a940>"
            ]
          },
          "metadata": {
            "tags": []
          },
          "execution_count": 22
        },
        {
          "output_type": "display_data",
          "data": {
            "image/png": "[encoded data removed]",
            "text/plain": [
              "<Figure size 792x648 with 2 Axes>"
            ]
          },
          "metadata": {
            "tags": [],
            "needs_background": "light"
          }
        }
      ]
    },
    {
      "cell_type": "markdown",
      "metadata": {
        "id": "gkXwFCN4NQ1D",
        "colab_type": "text"
      },
      "source": [
        "## Hard Voting Results"
      ]
    },
    {
      "cell_type": "code",
      "metadata": {
        "id": "8YnKQ-StNK6G",
        "colab_type": "code",
        "outputId": "c3dba5be-9c07-4f89-b09d-5d351979bd89",
        "colab": {
          "base_uri": "https://localhost:8080/",
          "height": 374
        }
      },
      "source": [
        "y_pred_hard , y_true = predict(classifiers, sample_to_true_label , mode=\"hard\")"
      ],
      "execution_count": 23,
      "outputs": [
        {
          "output_type": "stream",
          "text": [
            "Skipping unzipping files as input is a folder\n",
            "Skipping unzipping files as input is a folder\n",
            "Found 50 frames belonging to 50 videos belonging to 3 classes.\n",
            "Min frames determined to be 7\n",
            "Skipping unzipping files as input is a folder\n",
            "['1', '3', '2']\n",
            "Found 50 frames belonging to 50 videos belonging to 3 classes.\n",
            "Min frames determined to be 7\n"
          ],
          "name": "stdout"
        },
        {
          "output_type": "stream",
          "text": [
            "/content/cs231n-emotiw/src/generators/pose_generator.py:135: RuntimeWarning: invalid value encountered in double_scalars\n",
            "  x_new.append((lx[i] - origin_x) / len_x)\n",
            "/content/cs231n-emotiw/src/generators/pose_generator.py:136: RuntimeWarning: invalid value encountered in double_scalars\n",
            "  x_new.append((ly[i] - origin_y) / len_y)\n"
          ],
          "name": "stderr"
        },
        {
          "output_type": "stream",
          "text": [
            "Number of samples: 50\n",
            "Predicted y-labels:\n",
            "[3. 3. 3. 2. 2. 2. 1. 2. 1. 1. 3. 1. 1. 2. 1. 1. 2. 1. 3. 2. 3. 1. 1. 2.\n",
            " 2. 2. 2. 2. 2. 2. 2. 3. 3. 1. 3. 1. 1. 1. 2. 2. 2. 1. 2. 2. 3. 1. 1. 1.\n",
            " 1. 1.]\n",
            "True y-labels:\n",
            "[3 3 3 1 1 1 1 3 1 2 1 3 2 2 2 2 2 1 1 1 1 1 2 2 1 2 2 2 2 2 2 3 3 3 1 3 1\n",
            " 1 1 2 1 1 1 2 2 1 1 3 1 3]\n",
            "Accuracy: 0.52\n"
          ],
          "name": "stdout"
        }
      ]
    },
    {
      "cell_type": "code",
      "metadata": {
        "id": "iQwfjMTnmYEQ",
        "colab_type": "code",
        "outputId": "6437f832-262f-4be9-9fff-c1a57183a2ae",
        "colab": {
          "base_uri": "https://localhost:8080/",
          "height": 34
        }
      },
      "source": [
        "f1_score(y_true, y_pred_hard, average='micro')"
      ],
      "execution_count": 24,
      "outputs": [
        {
          "output_type": "execute_result",
          "data": {
            "text/plain": [
              "0.52"
            ]
          },
          "metadata": {
            "tags": []
          },
          "execution_count": 24
        }
      ]
    },
    {
      "cell_type": "code",
      "metadata": {
        "id": "nMc9KbQ6mqp8",
        "colab_type": "code",
        "outputId": "57dcacc7-70b7-47d6-e062-ad1b0a419946",
        "colab": {
          "base_uri": "https://localhost:8080/",
          "height": 570
        }
      },
      "source": [
        "y_pred_final , y_true_final = y_pred_hard - 1 , y_true - 1\n",
        "con_mat = tensorflow.math.confusion_matrix(labels=y_true_final, predictions=y_pred_final).numpy()\n",
        "\n",
        "con_mat_norm = np.around(con_mat.astype('float') / con_mat.sum(axis=1)[:, np.newaxis], decimals=2)\n",
        "\n",
        "con_mat_df = pd.DataFrame(con_mat_norm,\n",
        "                  index = classes, \n",
        "                  columns = classes)\n",
        "\n",
        "\n",
        "figure = plt.figure(figsize=(11, 9))\n",
        "plt.title(\"Hard Voting Confusion Matrix with Scene & Audio\")\n",
        "sn.heatmap(con_mat_df, annot=True,cmap=plt.cm.Blues)"
      ],
      "execution_count": 25,
      "outputs": [
        {
          "output_type": "execute_result",
          "data": {
            "text/plain": [
              "<matplotlib.axes._subplots.AxesSubplot at 0x7f9efd959b70>"
            ]
          },
          "metadata": {
            "tags": []
          },
          "execution_count": 25
        },
        {
          "output_type": "display_data",
          "data": {
            "image/png": "[encoded data removed]",
            "text/plain": [
              "<Figure size 792x648 with 2 Axes>"
            ]
          },
          "metadata": {
            "tags": [],
            "needs_background": "light"
          }
        }
      ]
    },
    {
      "cell_type": "code",
      "metadata": {
        "id": "erlA2xY9WUnx",
        "colab_type": "code",
        "colab": {}
      },
      "source": [
        ""
      ],
      "execution_count": 0,
      "outputs": []
    }
  ]
}