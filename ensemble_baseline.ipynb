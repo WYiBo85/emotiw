{
  "nbformat": 4,
  "nbformat_minor": 0,
  "metadata": {
    "colab": {
      "name": "Ensemble-Baseline.ipynb",
      "provenance": [],
      "collapsed_sections": [],
      "authorship_tag": "ABX9TyOnzR7eK6qM2xEgGnPvf/s7",
      "include_colab_link": true
    },
    "kernelspec": {
      "name": "python3",
      "display_name": "Python 3"
    }
  },
  "cells": [
    {
      "cell_type": "markdown",
      "metadata": {
        "id": "view-in-github",
        "colab_type": "text"
      },
      "source": [
        "<a href=\"https://colab.research.google.com/github/kevincong95/cs231n-emotiw/blob/master/ensemble_baseline.ipynb\" target=\"_parent\"><img src=\"https://colab.research.google.com/assets/colab-badge.svg\" alt=\"Open In Colab\"/></a>"
      ]
    },
    {
      "cell_type": "code",
      "metadata": {
        "id": "58avLN7UlDDA",
        "colab_type": "code",
        "colab": {
          "base_uri": "https://localhost:8080/",
          "height": 1000
        },
        "outputId": "7acd5916-6504-4f23-d759-520df81a3e13"
      },
      "source": [
        "# Clone the code base\n",
        "!git clone 'https://github.com/kevincong95/cs231n-emotiw.git'\n",
        "\n",
        "\n",
        "# Install required packages \n",
        "\n",
        "!pip install -r  '/content/cs231n-emotiw/requirements.txt'\n"
      ],
      "execution_count": 1,
      "outputs": [
        {
          "output_type": "stream",
          "text": [
            "Cloning into 'cs231n-emotiw'...\n",
            "remote: Enumerating objects: 23, done.\u001b[K\n",
            "remote: Counting objects: 100% (23/23), done.\u001b[K\n",
            "remote: Compressing objects: 100% (19/19), done.\u001b[K\n",
            "remote: Total 157 (delta 12), reused 9 (delta 4), pack-reused 134\u001b[K\n",
            "Receiving objects: 100% (157/157), 106.98 MiB | 11.11 MiB/s, done.\n",
            "Resolving deltas: 100% (80/80), done.\n",
            "Requirement already satisfied: tensorflow>=2.0 in /usr/local/lib/python3.6/dist-packages (from -r /content/cs231n-emotiw/requirements.txt (line 1)) (2.2.0)\n",
            "Requirement already satisfied: opencv-python>=4.0 in /usr/local/lib/python3.6/dist-packages (from -r /content/cs231n-emotiw/requirements.txt (line 2)) (4.1.2.30)\n",
            "Collecting pydub==0.24.0\n",
            "  Downloading https://files.pythonhosted.org/packages/ba/f9/2cd255898c11179a57415937d601ab1e8a14a7c6a8331ff9c365e97e41f6/pydub-0.24.0-py2.py3-none-any.whl\n",
            "Requirement already satisfied: matplotlib in /usr/local/lib/python3.6/dist-packages (from -r /content/cs231n-emotiw/requirements.txt (line 4)) (3.2.1)\n",
            "Collecting moviepy>=1.0.0\n",
            "\u001b[?25l  Downloading https://files.pythonhosted.org/packages/18/54/01a8c4e35c75ca9724d19a7e4de9dc23f0ceb8769102c7de056113af61c3/moviepy-1.0.3.tar.gz (388kB)\n",
            "\u001b[K     |████████████████████████████████| 389kB 4.6MB/s \n",
            "\u001b[?25hRequirement already satisfied: audioread in /usr/local/lib/python3.6/dist-packages (from -r /content/cs231n-emotiw/requirements.txt (line 6)) (2.1.8)\n",
            "Requirement already satisfied: pandas in /usr/local/lib/python3.6/dist-packages (from -r /content/cs231n-emotiw/requirements.txt (line 7)) (1.0.3)\n",
            "Requirement already satisfied: glob2 in /usr/local/lib/python3.6/dist-packages (from -r /content/cs231n-emotiw/requirements.txt (line 8)) (0.7)\n",
            "Collecting argparse\n",
            "  Downloading https://files.pythonhosted.org/packages/f2/94/3af39d34be01a24a6e65433d19e107099374224905f1e0cc6bbe1fd22a2f/argparse-1.4.0-py2.py3-none-any.whl\n",
            "Requirement already satisfied: numpy in /usr/local/lib/python3.6/dist-packages (from -r /content/cs231n-emotiw/requirements.txt (line 11)) (1.18.4)\n",
            "Collecting openl3\n",
            "  Downloading https://files.pythonhosted.org/packages/e2/88/8536723b81c47ada614d008a75e71923932f22e35ab89d4bf5fe441b58fc/openl3-0.3.1.tar.gz\n",
            "Collecting SoundFile\n",
            "  Downloading https://files.pythonhosted.org/packages/eb/f2/3cbbbf3b96fb9fa91582c438b574cff3f45b29c772f94c400e2c99ef5db9/SoundFile-0.10.3.post1-py2.py3-none-any.whl\n",
            "Collecting imgaug<0.2.7,>=0.2.5\n",
            "\u001b[?25l  Downloading https://files.pythonhosted.org/packages/ad/2e/748dbb7bb52ec8667098bae9b585f448569ae520031932687761165419a2/imgaug-0.2.6.tar.gz (631kB)\n",
            "\u001b[K     |████████████████████████████████| 634kB 8.3MB/s \n",
            "\u001b[?25hRequirement already satisfied: h5py<2.11.0,>=2.10.0 in /usr/local/lib/python3.6/dist-packages (from tensorflow>=2.0->-r /content/cs231n-emotiw/requirements.txt (line 1)) (2.10.0)\n",
            "Requirement already satisfied: keras-preprocessing>=1.1.0 in /usr/local/lib/python3.6/dist-packages (from tensorflow>=2.0->-r /content/cs231n-emotiw/requirements.txt (line 1)) (1.1.2)\n",
            "Requirement already satisfied: opt-einsum>=2.3.2 in /usr/local/lib/python3.6/dist-packages (from tensorflow>=2.0->-r /content/cs231n-emotiw/requirements.txt (line 1)) (3.2.1)\n",
            "Requirement already satisfied: absl-py>=0.7.0 in /usr/local/lib/python3.6/dist-packages (from tensorflow>=2.0->-r /content/cs231n-emotiw/requirements.txt (line 1)) (0.9.0)\n",
            "Requirement already satisfied: termcolor>=1.1.0 in /usr/local/lib/python3.6/dist-packages (from tensorflow>=2.0->-r /content/cs231n-emotiw/requirements.txt (line 1)) (1.1.0)\n",
            "Requirement already satisfied: astunparse==1.6.3 in /usr/local/lib/python3.6/dist-packages (from tensorflow>=2.0->-r /content/cs231n-emotiw/requirements.txt (line 1)) (1.6.3)\n",
            "Requirement already satisfied: protobuf>=3.8.0 in /usr/local/lib/python3.6/dist-packages (from tensorflow>=2.0->-r /content/cs231n-emotiw/requirements.txt (line 1)) (3.10.0)\n",
            "Requirement already satisfied: tensorflow-estimator<2.3.0,>=2.2.0 in /usr/local/lib/python3.6/dist-packages (from tensorflow>=2.0->-r /content/cs231n-emotiw/requirements.txt (line 1)) (2.2.0)\n",
            "Requirement already satisfied: wrapt>=1.11.1 in /usr/local/lib/python3.6/dist-packages (from tensorflow>=2.0->-r /content/cs231n-emotiw/requirements.txt (line 1)) (1.12.1)\n",
            "Requirement already satisfied: wheel>=0.26; python_version >= \"3\" in /usr/local/lib/python3.6/dist-packages (from tensorflow>=2.0->-r /content/cs231n-emotiw/requirements.txt (line 1)) (0.34.2)\n",
            "Requirement already satisfied: grpcio>=1.8.6 in /usr/local/lib/python3.6/dist-packages (from tensorflow>=2.0->-r /content/cs231n-emotiw/requirements.txt (line 1)) (1.29.0)\n",
            "Requirement already satisfied: scipy==1.4.1; python_version >= \"3\" in /usr/local/lib/python3.6/dist-packages (from tensorflow>=2.0->-r /content/cs231n-emotiw/requirements.txt (line 1)) (1.4.1)\n",
            "Requirement already satisfied: tensorboard<2.3.0,>=2.2.0 in /usr/local/lib/python3.6/dist-packages (from tensorflow>=2.0->-r /content/cs231n-emotiw/requirements.txt (line 1)) (2.2.1)\n",
            "Requirement already satisfied: gast==0.3.3 in /usr/local/lib/python3.6/dist-packages (from tensorflow>=2.0->-r /content/cs231n-emotiw/requirements.txt (line 1)) (0.3.3)\n",
            "Requirement already satisfied: google-pasta>=0.1.8 in /usr/local/lib/python3.6/dist-packages (from tensorflow>=2.0->-r /content/cs231n-emotiw/requirements.txt (line 1)) (0.2.0)\n",
            "Requirement already satisfied: six>=1.12.0 in /usr/local/lib/python3.6/dist-packages (from tensorflow>=2.0->-r /content/cs231n-emotiw/requirements.txt (line 1)) (1.12.0)\n",
            "Requirement already satisfied: python-dateutil>=2.1 in /usr/local/lib/python3.6/dist-packages (from matplotlib->-r /content/cs231n-emotiw/requirements.txt (line 4)) (2.8.1)\n",
            "Requirement already satisfied: cycler>=0.10 in /usr/local/lib/python3.6/dist-packages (from matplotlib->-r /content/cs231n-emotiw/requirements.txt (line 4)) (0.10.0)\n",
            "Requirement already satisfied: kiwisolver>=1.0.1 in /usr/local/lib/python3.6/dist-packages (from matplotlib->-r /content/cs231n-emotiw/requirements.txt (line 4)) (1.2.0)\n",
            "Requirement already satisfied: pyparsing!=2.0.4,!=2.1.2,!=2.1.6,>=2.0.1 in /usr/local/lib/python3.6/dist-packages (from matplotlib->-r /content/cs231n-emotiw/requirements.txt (line 4)) (2.4.7)\n",
            "Requirement already satisfied: decorator<5.0,>=4.0.2 in /usr/local/lib/python3.6/dist-packages (from moviepy>=1.0.0->-r /content/cs231n-emotiw/requirements.txt (line 5)) (4.4.2)\n",
            "Requirement already satisfied: tqdm<5.0,>=4.11.2 in /usr/local/lib/python3.6/dist-packages (from moviepy>=1.0.0->-r /content/cs231n-emotiw/requirements.txt (line 5)) (4.41.1)\n",
            "Requirement already satisfied: requests<3.0,>=2.8.1 in /usr/local/lib/python3.6/dist-packages (from moviepy>=1.0.0->-r /content/cs231n-emotiw/requirements.txt (line 5)) (2.23.0)\n",
            "Collecting proglog<=1.0.0\n",
            "  Downloading https://files.pythonhosted.org/packages/fe/ab/4cb19b578e1364c0b2d6efd6521a8b4b4e5c4ae6528041d31a2a951dd991/proglog-0.1.9.tar.gz\n",
            "Collecting imageio<3.0,>=2.5\n",
            "\u001b[?25l  Downloading https://files.pythonhosted.org/packages/4c/2b/9dd19644f871b10f7e32eb2dbd6b45149c350b4d5f2893e091b882e03ab7/imageio-2.8.0-py3-none-any.whl (3.3MB)\n",
            "\u001b[K     |████████████████████████████████| 3.3MB 13.5MB/s \n",
            "\u001b[?25hCollecting imageio_ffmpeg>=0.2.0\n",
            "\u001b[?25l  Downloading https://files.pythonhosted.org/packages/df/c8/04c6b4a001b8ae7326fb83d6665af1ee58d6cc1acb421f8ea40d2678fe3c/imageio_ffmpeg-0.4.2-py3-none-manylinux2010_x86_64.whl (26.9MB)\n",
            "\u001b[K     |████████████████████████████████| 26.9MB 168kB/s \n",
            "\u001b[?25hRequirement already satisfied: pytz>=2017.2 in /usr/local/lib/python3.6/dist-packages (from pandas->-r /content/cs231n-emotiw/requirements.txt (line 7)) (2018.9)\n",
            "Collecting keras<2.3.0,>=2.0.9\n",
            "\u001b[?25l  Downloading https://files.pythonhosted.org/packages/f8/ba/2d058dcf1b85b9c212cc58264c98a4a7dd92c989b798823cc5690d062bb2/Keras-2.2.5-py2.py3-none-any.whl (336kB)\n",
            "\u001b[K     |████████████████████████████████| 337kB 47.3MB/s \n",
            "\u001b[?25hCollecting kapre==0.1.4\n",
            "  Downloading https://files.pythonhosted.org/packages/3f/2e/f540d1d1f05c764686163fdb5bb1e5c703f1528076d2829bfc3900683f06/kapre-0.1.4-py3-none-any.whl\n",
            "Collecting PySoundFile>=0.9.0.post1\n",
            "  Downloading https://files.pythonhosted.org/packages/2a/b3/0b871e5fd31b9a8e54b4ee359384e705a1ca1e2870706d2f081dc7cc1693/PySoundFile-0.9.0.post1-py2.py3-none-any.whl\n",
            "Requirement already satisfied: resampy<0.3.0,>=0.2.1 in /usr/local/lib/python3.6/dist-packages (from openl3->-r /content/cs231n-emotiw/requirements.txt (line 12)) (0.2.2)\n",
            "Collecting scikit-image<0.15.0,>=0.14.3\n",
            "\u001b[?25l  Downloading https://files.pythonhosted.org/packages/27/78/cfb15cdb3f63eea16946a42d0dbf7ef17be79d30858aa8efd5f6757bd106/scikit_image-0.14.5-cp36-cp36m-manylinux1_x86_64.whl (25.4MB)\n",
            "\u001b[K     |████████████████████████████████| 25.4MB 69.9MB/s \n",
            "\u001b[?25hRequirement already satisfied: cffi>=1.0 in /usr/local/lib/python3.6/dist-packages (from SoundFile->-r /content/cs231n-emotiw/requirements.txt (line 13)) (1.14.0)\n",
            "Requirement already satisfied: setuptools in /usr/local/lib/python3.6/dist-packages (from protobuf>=3.8.0->tensorflow>=2.0->-r /content/cs231n-emotiw/requirements.txt (line 1)) (46.3.0)\n",
            "Requirement already satisfied: google-auth-oauthlib<0.5,>=0.4.1 in /usr/local/lib/python3.6/dist-packages (from tensorboard<2.3.0,>=2.2.0->tensorflow>=2.0->-r /content/cs231n-emotiw/requirements.txt (line 1)) (0.4.1)\n",
            "Requirement already satisfied: werkzeug>=0.11.15 in /usr/local/lib/python3.6/dist-packages (from tensorboard<2.3.0,>=2.2.0->tensorflow>=2.0->-r /content/cs231n-emotiw/requirements.txt (line 1)) (1.0.1)\n",
            "Requirement already satisfied: google-auth<2,>=1.6.3 in /usr/local/lib/python3.6/dist-packages (from tensorboard<2.3.0,>=2.2.0->tensorflow>=2.0->-r /content/cs231n-emotiw/requirements.txt (line 1)) (1.7.2)\n",
            "Requirement already satisfied: tensorboard-plugin-wit>=1.6.0 in /usr/local/lib/python3.6/dist-packages (from tensorboard<2.3.0,>=2.2.0->tensorflow>=2.0->-r /content/cs231n-emotiw/requirements.txt (line 1)) (1.6.0.post3)\n",
            "Requirement already satisfied: markdown>=2.6.8 in /usr/local/lib/python3.6/dist-packages (from tensorboard<2.3.0,>=2.2.0->tensorflow>=2.0->-r /content/cs231n-emotiw/requirements.txt (line 1)) (3.2.2)\n",
            "Requirement already satisfied: chardet<4,>=3.0.2 in /usr/local/lib/python3.6/dist-packages (from requests<3.0,>=2.8.1->moviepy>=1.0.0->-r /content/cs231n-emotiw/requirements.txt (line 5)) (3.0.4)\n",
            "Requirement already satisfied: urllib3!=1.25.0,!=1.25.1,<1.26,>=1.21.1 in /usr/local/lib/python3.6/dist-packages (from requests<3.0,>=2.8.1->moviepy>=1.0.0->-r /content/cs231n-emotiw/requirements.txt (line 5)) (1.24.3)\n",
            "Requirement already satisfied: certifi>=2017.4.17 in /usr/local/lib/python3.6/dist-packages (from requests<3.0,>=2.8.1->moviepy>=1.0.0->-r /content/cs231n-emotiw/requirements.txt (line 5)) (2020.4.5.1)\n",
            "Requirement already satisfied: idna<3,>=2.5 in /usr/local/lib/python3.6/dist-packages (from requests<3.0,>=2.8.1->moviepy>=1.0.0->-r /content/cs231n-emotiw/requirements.txt (line 5)) (2.9)\n",
            "Requirement already satisfied: pillow in /usr/local/lib/python3.6/dist-packages (from imageio<3.0,>=2.5->moviepy>=1.0.0->-r /content/cs231n-emotiw/requirements.txt (line 5)) (7.0.0)\n",
            "Requirement already satisfied: keras-applications>=1.0.8 in /usr/local/lib/python3.6/dist-packages (from keras<2.3.0,>=2.0.9->openl3->-r /content/cs231n-emotiw/requirements.txt (line 12)) (1.0.8)\n",
            "Requirement already satisfied: pyyaml in /usr/local/lib/python3.6/dist-packages (from keras<2.3.0,>=2.0.9->openl3->-r /content/cs231n-emotiw/requirements.txt (line 12)) (3.13)\n",
            "Requirement already satisfied: librosa>=0.5 in /usr/local/lib/python3.6/dist-packages (from kapre==0.1.4->openl3->-r /content/cs231n-emotiw/requirements.txt (line 12)) (0.6.3)\n",
            "Requirement already satisfied: future in /usr/local/lib/python3.6/dist-packages (from kapre==0.1.4->openl3->-r /content/cs231n-emotiw/requirements.txt (line 12)) (0.16.0)\n",
            "Requirement already satisfied: numba>=0.32 in /usr/local/lib/python3.6/dist-packages (from resampy<0.3.0,>=0.2.1->openl3->-r /content/cs231n-emotiw/requirements.txt (line 12)) (0.48.0)\n",
            "Requirement already satisfied: networkx>=1.8 in /usr/local/lib/python3.6/dist-packages (from scikit-image<0.15.0,>=0.14.3->openl3->-r /content/cs231n-emotiw/requirements.txt (line 12)) (2.4)\n",
            "Requirement already satisfied: cloudpickle>=0.2.1 in /usr/local/lib/python3.6/dist-packages (from scikit-image<0.15.0,>=0.14.3->openl3->-r /content/cs231n-emotiw/requirements.txt (line 12)) (1.3.0)\n",
            "Requirement already satisfied: PyWavelets>=0.4.0 in /usr/local/lib/python3.6/dist-packages (from scikit-image<0.15.0,>=0.14.3->openl3->-r /content/cs231n-emotiw/requirements.txt (line 12)) (1.1.1)\n",
            "Requirement already satisfied: pycparser in /usr/local/lib/python3.6/dist-packages (from cffi>=1.0->SoundFile->-r /content/cs231n-emotiw/requirements.txt (line 13)) (2.20)\n",
            "Requirement already satisfied: requests-oauthlib>=0.7.0 in /usr/local/lib/python3.6/dist-packages (from google-auth-oauthlib<0.5,>=0.4.1->tensorboard<2.3.0,>=2.2.0->tensorflow>=2.0->-r /content/cs231n-emotiw/requirements.txt (line 1)) (1.3.0)\n",
            "Requirement already satisfied: pyasn1-modules>=0.2.1 in /usr/local/lib/python3.6/dist-packages (from google-auth<2,>=1.6.3->tensorboard<2.3.0,>=2.2.0->tensorflow>=2.0->-r /content/cs231n-emotiw/requirements.txt (line 1)) (0.2.8)\n",
            "Requirement already satisfied: cachetools<3.2,>=2.0.0 in /usr/local/lib/python3.6/dist-packages (from google-auth<2,>=1.6.3->tensorboard<2.3.0,>=2.2.0->tensorflow>=2.0->-r /content/cs231n-emotiw/requirements.txt (line 1)) (3.1.1)\n",
            "Requirement already satisfied: rsa<4.1,>=3.1.4 in /usr/local/lib/python3.6/dist-packages (from google-auth<2,>=1.6.3->tensorboard<2.3.0,>=2.2.0->tensorflow>=2.0->-r /content/cs231n-emotiw/requirements.txt (line 1)) (4.0)\n",
            "Requirement already satisfied: importlib-metadata; python_version < \"3.8\" in /usr/local/lib/python3.6/dist-packages (from markdown>=2.6.8->tensorboard<2.3.0,>=2.2.0->tensorflow>=2.0->-r /content/cs231n-emotiw/requirements.txt (line 1)) (1.6.0)\n",
            "Requirement already satisfied: scikit-learn!=0.19.0,>=0.14.0 in /usr/local/lib/python3.6/dist-packages (from librosa>=0.5->kapre==0.1.4->openl3->-r /content/cs231n-emotiw/requirements.txt (line 12)) (0.22.2.post1)\n",
            "Requirement already satisfied: joblib>=0.12 in /usr/local/lib/python3.6/dist-packages (from librosa>=0.5->kapre==0.1.4->openl3->-r /content/cs231n-emotiw/requirements.txt (line 12)) (0.15.1)\n",
            "Requirement already satisfied: llvmlite<0.32.0,>=0.31.0dev0 in /usr/local/lib/python3.6/dist-packages (from numba>=0.32->resampy<0.3.0,>=0.2.1->openl3->-r /content/cs231n-emotiw/requirements.txt (line 12)) (0.31.0)\n",
            "Requirement already satisfied: oauthlib>=3.0.0 in /usr/local/lib/python3.6/dist-packages (from requests-oauthlib>=0.7.0->google-auth-oauthlib<0.5,>=0.4.1->tensorboard<2.3.0,>=2.2.0->tensorflow>=2.0->-r /content/cs231n-emotiw/requirements.txt (line 1)) (3.1.0)\n",
            "Requirement already satisfied: pyasn1<0.5.0,>=0.4.6 in /usr/local/lib/python3.6/dist-packages (from pyasn1-modules>=0.2.1->google-auth<2,>=1.6.3->tensorboard<2.3.0,>=2.2.0->tensorflow>=2.0->-r /content/cs231n-emotiw/requirements.txt (line 1)) (0.4.8)\n",
            "Requirement already satisfied: zipp>=0.5 in /usr/local/lib/python3.6/dist-packages (from importlib-metadata; python_version < \"3.8\"->markdown>=2.6.8->tensorboard<2.3.0,>=2.2.0->tensorflow>=2.0->-r /content/cs231n-emotiw/requirements.txt (line 1)) (3.1.0)\n",
            "Building wheels for collected packages: moviepy, openl3, imgaug, proglog\n",
            "  Building wheel for moviepy (setup.py) ... \u001b[?25l\u001b[?25hdone\n",
            "  Created wheel for moviepy: filename=moviepy-1.0.3-cp36-none-any.whl size=110728 sha256=45f6b137a5c384d42b4e6d92dfd74f3a17c3680e64dd81e40dae76dffad51ee0\n",
            "  Stored in directory: /root/.cache/pip/wheels/e0/fe/1c/f4e6dca9e828d4b979c04e461d7fcc5b8e7bd35f947e665b65\n",
            "  Building wheel for openl3 (setup.py) ... \u001b[?25l\u001b[?25hdone\n",
            "  Created wheel for openl3: filename=openl3-0.3.1-py2.py3-none-any.whl size=249323247 sha256=49e9afc0d7ed74dfe050c2a689413ab6cfb3b53bff5c31647d51bffcba5549b7\n",
            "  Stored in directory: /root/.cache/pip/wheels/13/63/c9/35868f3dd3b466909e73178db8566430da2d093cc055b932b1\n",
            "  Building wheel for imgaug (setup.py) ... \u001b[?25l\u001b[?25hdone\n",
            "  Created wheel for imgaug: filename=imgaug-0.2.6-cp36-none-any.whl size=654020 sha256=b2cb7c9e138dfddf441039bec119a93bbd0a167a17cd68179e2c8c1df8247774\n",
            "  Stored in directory: /root/.cache/pip/wheels/97/ec/48/0d25896c417b715af6236dbcef8f0bed136a1a5e52972fc6d0\n",
            "  Building wheel for proglog (setup.py) ... \u001b[?25l\u001b[?25hdone\n",
            "  Created wheel for proglog: filename=proglog-0.1.9-cp36-none-any.whl size=6149 sha256=d30e227d335fae83cdbd56b229951c861263a74fe4168d40285883ee4bd651d6\n",
            "  Stored in directory: /root/.cache/pip/wheels/65/56/60/1d0306a8d90b188af393c1812ddb502a8821b70917f82dcc00\n",
            "Successfully built moviepy openl3 imgaug proglog\n",
            "Installing collected packages: pydub, proglog, imageio, imageio-ffmpeg, moviepy, argparse, keras, kapre, PySoundFile, scikit-image, openl3, SoundFile, imgaug\n",
            "  Found existing installation: imageio 2.4.1\n",
            "    Uninstalling imageio-2.4.1:\n",
            "      Successfully uninstalled imageio-2.4.1\n",
            "  Found existing installation: moviepy 0.2.3.5\n",
            "    Uninstalling moviepy-0.2.3.5:\n",
            "      Successfully uninstalled moviepy-0.2.3.5\n",
            "  Found existing installation: Keras 2.3.1\n",
            "    Uninstalling Keras-2.3.1:\n",
            "      Successfully uninstalled Keras-2.3.1\n",
            "  Found existing installation: kapre 0.1.3.1\n",
            "    Uninstalling kapre-0.1.3.1:\n",
            "      Successfully uninstalled kapre-0.1.3.1\n",
            "  Found existing installation: scikit-image 0.16.2\n",
            "    Uninstalling scikit-image-0.16.2:\n",
            "      Successfully uninstalled scikit-image-0.16.2\n",
            "  Found existing installation: imgaug 0.2.9\n",
            "    Uninstalling imgaug-0.2.9:\n",
            "      Successfully uninstalled imgaug-0.2.9\n",
            "Successfully installed PySoundFile-0.9.0.post1 SoundFile-0.10.3.post1 argparse-1.4.0 imageio-2.8.0 imageio-ffmpeg-0.4.2 imgaug-0.2.6 kapre-0.1.4 keras-2.2.5 moviepy-1.0.3 openl3-0.3.1 proglog-0.1.9 pydub-0.24.0 scikit-image-0.14.5\n"
          ],
          "name": "stdout"
        },
        {
          "output_type": "display_data",
          "data": {
            "application/vnd.colab-display-data+json": {
              "pip_warning": {
                "packages": [
                  "argparse"
                ]
              }
            }
          },
          "metadata": {
            "tags": []
          }
        }
      ]
    },
    {
      "cell_type": "code",
      "metadata": {
        "id": "AVP4etYysz0m",
        "colab_type": "code",
        "colab": {
          "base_uri": "https://localhost:8080/",
          "height": 67
        },
        "outputId": "582697d3-96ff-4e0e-ed27-1777b556dcd4"
      },
      "source": [
        "# Convert .ipynbs to .py\n",
        "!jupyter nbconvert '/content/cs231n-emotiw/audio/openl3_audio_api.ipynb' --to python\n",
        "\"\"\n",
        "\"\"\n",
        "\"\"\n"
      ],
      "execution_count": 2,
      "outputs": [
        {
          "output_type": "stream",
          "text": [
            "[NbConvertApp] Converting notebook /content/cs231n-emotiw/audio/openl3_audio_api.ipynb to python\n",
            "[NbConvertApp] Writing 12417 bytes to /content/cs231n-emotiw/audio/openl3_audio_api.py\n"
          ],
          "name": "stdout"
        },
        {
          "output_type": "execute_result",
          "data": {
            "text/plain": [
              "''"
            ]
          },
          "metadata": {
            "tags": []
          },
          "execution_count": 2
        }
      ]
    },
    {
      "cell_type": "code",
      "metadata": {
        "id": "EpXq8P8aqYrK",
        "colab_type": "code",
        "colab": {
          "base_uri": "https://localhost:8080/",
          "height": 34
        },
        "outputId": "f617201f-e9b4-4231-ed35-ddd227baad56"
      },
      "source": [
        "# Import and instantiate all input models\n",
        "!cp '/content/cs231n-emotiw/audio/openl3_audio_api.py' '/content/'\n",
        "\"\"\n",
        "\"\"\n",
        "\"\""
      ],
      "execution_count": 3,
      "outputs": [
        {
          "output_type": "execute_result",
          "data": {
            "text/plain": [
              "''"
            ]
          },
          "metadata": {
            "tags": []
          },
          "execution_count": 3
        }
      ]
    },
    {
      "cell_type": "code",
      "metadata": {
        "id": "MNXOwZ9ct5dm",
        "colab_type": "code",
        "colab": {
          "base_uri": "https://localhost:8080/",
          "height": 34
        },
        "outputId": "59cabdf8-1bf1-437d-afda-bb6857dec16a"
      },
      "source": [
        "from openl3_audio_api import audio_model\n",
        "\"\"\n",
        "\"\"\n",
        "\"\""
      ],
      "execution_count": 4,
      "outputs": [
        {
          "output_type": "execute_result",
          "data": {
            "text/plain": [
              "''"
            ]
          },
          "metadata": {
            "tags": []
          },
          "execution_count": 4
        }
      ]
    },
    {
      "cell_type": "code",
      "metadata": {
        "id": "S_n68gpZ2Zoz",
        "colab_type": "code",
        "colab": {}
      },
      "source": [
        "# Instantiate your models\n",
        "\n",
        "audio_model_test = audio_model()\n",
        "\n",
        "model_list = [audio_model_test] #TODO: Add your models here \n"
      ],
      "execution_count": 0,
      "outputs": []
    },
    {
      "cell_type": "code",
      "metadata": {
        "id": "9xwIeRF_x40m",
        "colab_type": "code",
        "colab": {}
      },
      "source": [
        "def predict(mp4_train_dir , train_target_path , model_list= [model,] , model_paths=[\"\",] , num_models = 1 , mode=\"soft\"):\n",
        "\n",
        "  \"\"\"\n",
        "\n",
        "  Notes: \n",
        "\n",
        "  All file preprocessing will occur in this function.\n",
        "\n",
        "\n",
        "  Inputs\n",
        "  \n",
        "  * mp4_train_dir - The directory of .mp4 file paths that the model will make predictions from.\n",
        "  * train_target_path - The target path. Should be in .txt format.\n",
        "  * A list of pretrained models that will be used in the ensemble during prediction \n",
        "\n",
        "\n",
        "  Outputs \n",
        "\n",
        "  * An array of size (M) where M is the number of samples\n",
        "\n",
        "  \"\"\"\n",
        "\n",
        "  assert len(model_list) == num_models\n",
        "  assert len(model_paths) == num_models\n",
        "\n",
        "  file_list = sorted(glob.glob(mp4_train_dir))\n",
        "\n",
        "\n",
        "  all_model_predictions = []\n",
        "  \n",
        "  for model in models:\n",
        "    j = 0\n",
        "    one_model_predictions = []\n",
        "    model.load_model(model_paths[counter]) \n",
        "\n",
        "    for f in file_list:\n",
        "      one_model_pred = model.predict(f) # tuple of (positive, neutral, negative) int (0 , 1 , 2)\n",
        "\n",
        "      one_model_predictions.append(model.predict(f))\n",
        "\n",
        "    all_model_predictions.append(one_model_predictions)\n",
        "\n",
        "\n",
        "\n",
        "  assert mode in [\"soft\" , \"hard\"]\n",
        "\n",
        "  \n",
        "  if mode == \"soft\":\n",
        "\n",
        "    # TO DO: Add the decision function for soft pred here \n",
        "    \n",
        "    # Take the average of each \n",
        "\n",
        "    return predictions\n",
        "\n",
        "  # TO DO: Add the decision function for hard pred here \n",
        "\n",
        "  # Majority vote \n",
        "\n",
        "  return predictions "
      ],
      "execution_count": 0,
      "outputs": []
    },
    {
      "cell_type": "code",
      "metadata": {
        "id": "5TJCeo420Zx8",
        "colab_type": "code",
        "colab": {}
      },
      "source": [
        "def evaluate(predictions, targets):\n",
        "\n",
        "  # TO DO: Add evaluate code here\n",
        "\n",
        "  \"\"\"\n",
        "  Inputs\n",
        "  \n",
        "  * predictions np array of shape M where M is the number of samples\n",
        "  * target array of shape M where M is the number of samples\n",
        "\n",
        "\n",
        "  Outputs \n",
        "\n",
        "  * Model accuracy scalar \n",
        "\n",
        "  \"\"\"\n",
        "\n",
        "  assert len(targets) == len(predictions)\n",
        "\n",
        "  incorrect = np.count_nonzero(predictions - targets)\n",
        "\n",
        "  acc = (targets.shape[0] - incorrect) / targets.shape[0]\n",
        "\n",
        "  return acc\n",
        "\n",
        "\n"
      ],
      "execution_count": 0,
      "outputs": []
    }
  ]
}
